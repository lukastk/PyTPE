{
 "cells": [
  {
   "cell_type": "code",
   "execution_count": 1,
   "id": "6445f826",
   "metadata": {},
   "outputs": [],
   "source": [
    "import pyfftw\n",
    "import modemc\n",
    "import numpy as np\n",
    "import matplotlib.pyplot as plt\n",
    "import datetime, pickle, tempfile, time, sys, os\n",
    "from helpers.sim_helper import *\n",
    "from helpers import plotting\n",
    "from IPython.display import clear_output"
   ]
  },
  {
   "cell_type": "markdown",
   "id": "2b5ce026",
   "metadata": {
    "tags": []
   },
   "source": [
    "## 1. Parameters"
   ]
  },
  {
   "cell_type": "code",
   "execution_count": 2,
   "id": "7063f028",
   "metadata": {},
   "outputs": [],
   "source": [
    "simulation_name = 'inst_switch_noneq'\n",
    "use_temp_folder = False\n",
    "run_name = 'notebook'\n",
    "run_info = run_name\n",
    "ssh_comp = 'notebook'"
   ]
  },
  {
   "cell_type": "code",
   "execution_count": 3,
   "id": "c1b5a633",
   "metadata": {},
   "outputs": [],
   "source": [
    "use_default_params = True"
   ]
  },
  {
   "cell_type": "code",
   "execution_count": 4,
   "id": "1b32d47a",
   "metadata": {},
   "outputs": [],
   "source": [
    "# Load arguments if running as a script\n",
    "if sys.argv[1] == \"args\":\n",
    "    use_default_params = False\n",
    "    \n",
    "    use_temp_folder = False\n",
    "    params_pkl_path = sys.argv[2]\n",
    "    args_params = pickle.load(open(params_pkl_path, 'rb'))\n",
    "\n",
    "    for param_k, param_v in args_params.items():\n",
    "        globals()[param_k] = param_v"
   ]
  },
  {
   "cell_type": "markdown",
   "id": "628683c7",
   "metadata": {},
   "source": [
    "### System"
   ]
  },
  {
   "cell_type": "code",
   "execution_count": 5,
   "id": "10c89706",
   "metadata": {},
   "outputs": [],
   "source": [
    "if use_default_params:\n",
    "    system_params = {\n",
    "        'beta' : 100,\n",
    "        'gamma' : 5,\n",
    "        'Tf' : 5,\n",
    "\n",
    "        'dim' : 2,\n",
    "\n",
    "        'x0' : np.array([-1, 0]),\n",
    "        'x1' : np.array([1, 0]),\n",
    "\n",
    "        'U0' : 3,\n",
    "        'xi1' : 0,\n",
    "        'xi2' : 2,\n",
    "        \n",
    "        'eta' : -0.0001,\n",
    "        'theta' : 0,\n",
    "    }\n",
    "\n",
    "dict_to_global(system_params, globals())\n",
    "system = modemc.systems.SwitchNoneq(system_params)"
   ]
  },
  {
   "cell_type": "code",
   "execution_count": 6,
   "id": "2d5814ff",
   "metadata": {},
   "outputs": [],
   "source": [
    "if use_default_params:\n",
    "    Q_params = {\n",
    "        'Q_Nm_Tf_factor' : 2,\n",
    "        'Q_band_size_Nm_Tf_factor' : 10,\n",
    "        'Q_Nq_factor' : 12,\n",
    "        'Q_quad_scheme' : modemc.quad.clenshaw_curtis,\n",
    "        'N_instanton_loops' : 1,\n",
    "    }\n",
    "\n",
    "Q_params['Q_band_size'] = int(np.round(system_params['Tf'] * Q_params['Q_band_size_Nm_Tf_factor']))\n",
    "    \n",
    "dict_to_global(Q_params, globals())"
   ]
  },
  {
   "cell_type": "markdown",
   "id": "8389664b",
   "metadata": {},
   "source": [
    "### Calibration"
   ]
  },
  {
   "cell_type": "code",
   "execution_count": 7,
   "id": "160f418f",
   "metadata": {},
   "outputs": [],
   "source": [
    "if use_default_params:\n",
    "    instanton_finder_params = {\n",
    "        'instanton_finder_Nm_Tf_factor' : 30,\n",
    "        'instanton_finder_Nq_factor' : 12,\n",
    "        'max_steps' : int(1e2),\n",
    "        'ag_c' : 1e-6,\n",
    "        'S_tol' : 1e-20,\n",
    "        'gradS_tol' : 1e-6,\n",
    "        'step_size0' : 0.1,\n",
    "        'step_size_rate' : 0.99,\n",
    "        'min_step_size' : 1e-60,\n",
    "        'quad_scheme' : modemc.quad.clenshaw_curtis,\n",
    "        'verbose' : True,\n",
    "    }\n",
    "\n",
    "instanton_finder_params['system'] = system\n",
    "instanton_finder_params['Nm'] = int(np.round(instanton_finder_params['instanton_finder_Nm_Tf_factor'] * system_params['Tf']))\n",
    "instanton_finder_params['Nq'] = int(np.round(instanton_finder_params['instanton_finder_Nq_factor'] * instanton_finder_params['Nm']))\n",
    "    \n",
    "dict_to_global(instanton_finder_params, globals(), prefix='instanton_finder')"
   ]
  },
  {
   "cell_type": "markdown",
   "id": "2c2566a8",
   "metadata": {},
   "source": [
    "### Plotting"
   ]
  },
  {
   "cell_type": "code",
   "execution_count": 8,
   "id": "cd7b3467",
   "metadata": {},
   "outputs": [],
   "source": [
    "if use_default_params:\n",
    "    plotting_params = {\n",
    "        'xlims' : [-1.3, 1.3],\n",
    "        'ylims' : [-1.3, 1.3],\n",
    "        'tlims_offset' : [-0.1, 0.1],\n",
    "\n",
    "        'upper_OM_inst_color' : \"red\",\n",
    "        'upper_OM_inst_shape' : \"-\",\n",
    "        'lower_OM_inst_color' : \"orangered\",\n",
    "        'lower_OM_inst_shape' : \"--\",\n",
    "        'middle_OM_inst_color' : \"yellow\",\n",
    "        'middle_OM_inst_shape' : \":\",\n",
    "        'upper_FW_inst_color' : \"blue\",\n",
    "        'upper_FW_inst_shape' : \"-\",\n",
    "        'lower_FW_inst_color' : \"teal\",\n",
    "        'lower_FW_inst_shape' : \"--\",\n",
    "        'middle_FW_inst_color' : \"green\",\n",
    "        'middle_FW_inst_shape' : \":\",\n",
    "    }\n",
    "\n",
    "plotting_params['tlims'] = [0 + plotting_params['tlims_offset'][0], Tf + plotting_params['tlims_offset'][1]]\n",
    "    \n",
    "dict_to_global(plotting_params, globals(), deal_with_overwrites=True)"
   ]
  },
  {
   "cell_type": "markdown",
   "id": "48b0bd72",
   "metadata": {},
   "source": [
    "### Setup"
   ]
  },
  {
   "cell_type": "code",
   "execution_count": 9,
   "id": "cca78f35",
   "metadata": {},
   "outputs": [],
   "source": [
    "results = {} # For storing any intermediate calibration results or larger results, like instantons\n",
    "calcs = {} # For observables and other calculations\n",
    "sim_states = {} # For storing things like simulation time, teleportation success rates etc"
   ]
  },
  {
   "cell_type": "code",
   "execution_count": 10,
   "id": "d876b9f0",
   "metadata": {},
   "outputs": [
    {
     "name": "stdout",
     "output_type": "stream",
     "text": [
      "Result name: [notebook] inst_switch_noneq, beta=1.00e+02, gamma=5, Tf=5, U0=3, xi1=0, xi2=2, eta=-1.00e-04, theta=0, Nm_Tf_factor=30 (21-11-18, 13:36:01)\n",
      "\n",
      "In progress folder:\n",
      "output/in_progress/inst_switch_noneq/notebook/[notebook] inst_switch_noneq, beta=1.00e+02, gamma=5, Tf=5, U0=3, xi1=0, xi2=2, eta=-1.00e-04, theta=0, Nm_Tf_factor=30 (21-11-18, 13:36:01)\n",
      "\n",
      "Output folder:\n",
      "output/inst_switch_noneq/notebook/[notebook] inst_switch_noneq, beta=1.00e+02, gamma=5, Tf=5, U0=3, xi1=0, xi2=2, eta=-1.00e-04, theta=0, Nm_Tf_factor=30 (21-11-18, 13:36:01)\n",
      "\n"
     ]
    }
   ],
   "source": [
    "params_to_not_include = ['dim', 'x0', 'x1']\n",
    "parameters_to_include_in_name = { k:v for (k,v) in system_params.items() if not k in params_to_not_include }\n",
    "parameters_to_include_in_name['beta'] = '{:.2e}'.format(beta)\n",
    "parameters_to_include_in_name['Nm_Tf_factor'] = instanton_finder_instanton_finder_Nm_Tf_factor\n",
    "\n",
    "sim_result = SimResult(simulation_name, run_name, run_info, parameters_to_include_in_name, use_temp_folder, ssh_comp)\n",
    "sim_result.save_note('UNFINISHED', str(datetime.datetime.now()))\n",
    "sys.excepthook = sim_result.crash_log\n",
    "\n",
    "if sys.argv[1] == \"args\":\n",
    "    sim_result.save_pkl('args_params', args_params)"
   ]
  },
  {
   "cell_type": "code",
   "execution_count": 11,
   "id": "41e07e1b",
   "metadata": {},
   "outputs": [],
   "source": [
    "results = {} # For storing any intermediate calibration results or larger results, like instantons\n",
    "calcs = {} # For observables and other calculations\n",
    "sim_states = {} # For storing things like simulation time, teleportation success rates etc"
   ]
  },
  {
   "cell_type": "code",
   "execution_count": 12,
   "id": "de2f10ab",
   "metadata": {},
   "outputs": [
    {
     "name": "stdout",
     "output_type": "stream",
     "text": [
      "SSH comp: notebook\n"
     ]
    }
   ],
   "source": [
    "sim_result.log('SSH comp: %s' % ssh_comp, print_time=False)"
   ]
  },
  {
   "cell_type": "code",
   "execution_count": 13,
   "id": "3252179e",
   "metadata": {},
   "outputs": [
    {
     "name": "stdout",
     "output_type": "stream",
     "text": [
      "Params:\n",
      " beta = 1.00e+02\n",
      " gamma = 5\n",
      " Tf = 5\n",
      " U0 = 3\n",
      " xi1 = 0\n",
      " xi2 = 2\n",
      " eta = -0.0001\n",
      " theta = 0\n",
      " Nm_Tf_factor = 30\n",
      "\n"
     ]
    }
   ],
   "source": [
    "sim_result.log('Params:')\n",
    "for k,v in parameters_to_include_in_name.items():\n",
    "    sim_result.log(' %s = %s' % (k,v), print_time=False)\n",
    "sim_result.log('', print_time=False)"
   ]
  },
  {
   "cell_type": "code",
   "execution_count": 14,
   "id": "dbd08664",
   "metadata": {},
   "outputs": [],
   "source": [
    "if False:\n",
    "    os.environ['OPENBLAS_NUM_THREADS'] = '1'\n",
    "    os.environ['MKL_NUM_THREADS'] = '1'\n",
    "    os.environ[\"NUMEXPR_NUM_THREADS\"] = '1'\n",
    "    os.environ[\"OMP_NUM_THREADS\"] = '1'\n",
    "    pyfftw.config.NUM_THREADS = 1"
   ]
  },
  {
   "cell_type": "markdown",
   "id": "4f307bd5",
   "metadata": {
    "tags": []
   },
   "source": [
    "## 2. Calibration"
   ]
  },
  {
   "cell_type": "markdown",
   "id": "256473fc",
   "metadata": {
    "tags": []
   },
   "source": [
    "### Find instanton"
   ]
  },
  {
   "cell_type": "code",
   "execution_count": 15,
   "id": "121deb18",
   "metadata": {},
   "outputs": [],
   "source": [
    "def filter_valid_paths(found_instantons, test_upper, clockwise_loops, Qf, use_OM):\n",
    "    if type(found_instantons) != list:\n",
    "        found_instantons = [found_instantons]\n",
    "    \n",
    "    valid_instantons = []\n",
    "    invalid_instantons = []\n",
    "    for inst in found_instantons:\n",
    "        eigs = np.linalg.eigvalsh(Qf)\n",
    "        Qf_det_sign, Qf_det = np.linalg.slogdet(Qf)\n",
    "        \n",
    "        is_valid = np.count_nonzero(eigs[eigs<0]) == 0\n",
    "        is_valid = is_valid and (Qf_det_sign == 1)\n",
    "        \n",
    "        winding_number = compute_path_winding_number(inst['path'], inst['d_path'], inst['ts'])\n",
    "        \n",
    "        if test_upper:\n",
    "            is_valid = is_valid and (winding_number == -(0.5+clockwise_loops))\n",
    "        else:\n",
    "            is_valid = is_valid and (winding_number == -(-0.5+clockwise_loops))\n",
    "        \n",
    "        #if test_upper:\n",
    "        #    # Reaches the upper channel boundary\n",
    "        #    is_valid = is_valid and np.count_nonzero(inst['path'][1,:] > analysis_params['valid_path_channel_boundary']) > 0\n",
    "        #    # Never reaches the lower channel boundary\n",
    "        #    is_valid = is_valid and np.count_nonzero(inst['path'][1,:] < -analysis_params['valid_path_channel_boundary']) == 0\n",
    "        #else:\n",
    "        #    # Reaches the lower channel boundary\n",
    "        #    is_valid = is_valid and np.count_nonzero(inst['path'][1,:] > -analysis_params['valid_path_channel_boundary']) > 0\n",
    "        #    # Never reaches the upper channel boundary\n",
    "        #    is_valid = is_valid and np.count_nonzero(inst['path'][1,:] > analysis_params['valid_path_channel_boundary']) == 0\n",
    "        \n",
    "        inst['is_valid'] = is_valid\n",
    "            \n",
    "        if is_valid:\n",
    "            valid_instantons.append( inst )\n",
    "        else:\n",
    "            invalid_instantons.append( inst )\n",
    "            \n",
    "    if len(valid_instantons) > 0:\n",
    "        return valid_instantons\n",
    "    else:\n",
    "        return invalid_instantons # If no valid path is found, just return the invalid ones"
   ]
  },
  {
   "cell_type": "code",
   "execution_count": 16,
   "id": "a1b197de-3f03-4e4d-a3d3-7954842b910f",
   "metadata": {
    "tags": []
   },
   "outputs": [],
   "source": [
    "def compute_path_winding_number(path, d_path, ts):\n",
    "    path_r2s = path[0,:]**2 + path[1,:]**2\n",
    "    dthetas = (path[0,:]*d_path[1,:] - path[1,:]*d_path[0,:]) / path_r2s # (x dy - y dx)/r^2\n",
    "    dthetas /= (2 * np.pi)\n",
    "    winding_number = np.round(2*np.trapz(dthetas, x=ts))/2\n",
    "    return winding_number\n",
    "\n",
    "def find_instanton(find_upper, clockwise_loops, use_OM):\n",
    "    basis_us = np.linspace(-1, 1, 50000)\n",
    "    basis_ts = Tf*(basis_us+1)/2\n",
    "    basis = modemc.utils.get_brownian_bridge_KL_basis(instanton_finder_params['Nm'], dim, basis_ts)\n",
    "    \n",
    "    if find_upper:\n",
    "        inst_path0 = np.array([-np.cos(np.pi*(1 + 2*clockwise_loops)*basis_ts/Tf), np.sin(np.pi*(1 + 2*clockwise_loops)*basis_ts/Tf)])\n",
    "    else:\n",
    "        inst_path0 = np.array([-np.cos(np.pi*(1 + 2*clockwise_loops)*basis_ts/Tf), -np.sin(np.pi*(1 + 2*clockwise_loops)*basis_ts/Tf)])\n",
    "    inst_state0 = modemc.utils.project_onto_basis(inst_path0, basis, basis_ts)\n",
    "    \n",
    "    params = dict.copy(instanton_finder_params)\n",
    "    del params['Nm']\n",
    "    del params['instanton_finder_Nm_Tf_factor']\n",
    "    del params['instanton_finder_Nq_factor']\n",
    "    params['state0'] = inst_state0\n",
    "    params['use_OM'] = use_OM\n",
    "    inst = modemc.instantons.gradient_descent(**params)\n",
    "    \n",
    "    Q_Nm = int(np.round(Q_Nm_Tf_factor * Tf))\n",
    "    inst['Q_OM'], inst['Qf_OM'], _, _, _ = modemc.variations.compute_banded_Q_matrix(system, inst['state'],\n",
    "                        Q_band_size, Nm=Q_Nm, Nq_factor=Q_Nq_factor, quad_scheme=Q_quad_scheme, return_partial_Qs=True, use_OM=True)\n",
    "    \n",
    "    inst['Q_FW'], inst['Qf_FW'], _, _, _ = modemc.variations.compute_banded_Q_matrix(system, inst['state'],\n",
    "                        Q_band_size, Nm=Q_Nm, Nq_factor=Q_Nq_factor, quad_scheme=Q_quad_scheme, return_partial_Qs=True, use_OM=False)\n",
    "    \n",
    "    if use_OM:\n",
    "        test_Qf = inst['Qf_OM']\n",
    "    else:\n",
    "        test_Qf = inst['Qf_FW']\n",
    "        \n",
    "    filtered_paths = filter_valid_paths(inst, find_upper, clockwise_loops, test_Qf, use_OM)\n",
    "    inst = filtered_paths[0]\n",
    "    \n",
    "    tele_inst = inst['state'][:, :min(inst['state'].shape[1], Q_Nm)]\n",
    "    \n",
    "    t = modemc.protocols.GaussianTeleporter(tele_inst, inst['Qf_OM'], match_precision_Nm=True)\n",
    "    inst['Z_sign_OM'], inst['log_Z_OM'] = t.Z_sign, t.log_Z\n",
    "    t = modemc.protocols.GaussianTeleporter(tele_inst, inst['Qf_FW'], match_precision_Nm=True)\n",
    "    inst['Z_sign_FW'], inst['log_Z_FW'] = t.Z_sign, t.log_Z\n",
    "    del t\n",
    "    \n",
    "    return inst"
   ]
  },
  {
   "cell_type": "code",
   "execution_count": 17,
   "id": "3fe0f4e6-f40a-48c2-80bc-92c45526f553",
   "metadata": {},
   "outputs": [
    {
     "name": "stdout",
     "output_type": "stream",
     "text": [
      "Loop 0:\n",
      "\tFinding upper OM instanton\n",
      "Instanton finder ended (reason: max_calcs): i=9.9000e+01\tstep_size=3.67e-05\t|gradS|=4.34e+00\tdS=0.00e+00\tS=2.224098e+02\n"
     ]
    },
    {
     "ename": "Exception",
     "evalue": "Precision matrix is not symmeric.",
     "output_type": "error",
     "traceback": [
      "\u001b[0;31m---------------------------------------------------------------------------\u001b[0m",
      "\u001b[0;31mException\u001b[0m                                 Traceback (most recent call last)",
      "\u001b[0;32m/tmp/ipykernel_341913/2566866856.py\u001b[0m in \u001b[0;36m<module>\u001b[0;34m\u001b[0m\n\u001b[1;32m      8\u001b[0m \u001b[0;34m\u001b[0m\u001b[0m\n\u001b[1;32m      9\u001b[0m     \u001b[0msim_result\u001b[0m\u001b[0;34m.\u001b[0m\u001b[0mlog\u001b[0m\u001b[0;34m(\u001b[0m\u001b[0;34m'\\tFinding upper OM instanton'\u001b[0m\u001b[0;34m)\u001b[0m\u001b[0;34m\u001b[0m\u001b[0;34m\u001b[0m\u001b[0m\n\u001b[0;32m---> 10\u001b[0;31m     \u001b[0mupper_OMs\u001b[0m\u001b[0;34m.\u001b[0m\u001b[0mappend\u001b[0m\u001b[0;34m(\u001b[0m\u001b[0mfind_instanton\u001b[0m\u001b[0;34m(\u001b[0m\u001b[0mfind_upper\u001b[0m\u001b[0;34m=\u001b[0m\u001b[0;32mTrue\u001b[0m\u001b[0;34m,\u001b[0m \u001b[0mclockwise_loops\u001b[0m\u001b[0;34m=\u001b[0m\u001b[0ml\u001b[0m\u001b[0;34m,\u001b[0m \u001b[0muse_OM\u001b[0m\u001b[0;34m=\u001b[0m\u001b[0;32mTrue\u001b[0m\u001b[0;34m)\u001b[0m\u001b[0;34m)\u001b[0m\u001b[0;34m\u001b[0m\u001b[0;34m\u001b[0m\u001b[0m\n\u001b[0m\u001b[1;32m     11\u001b[0m \u001b[0;34m\u001b[0m\u001b[0m\n\u001b[1;32m     12\u001b[0m     \u001b[0msim_result\u001b[0m\u001b[0;34m.\u001b[0m\u001b[0mlog\u001b[0m\u001b[0;34m(\u001b[0m\u001b[0;34m'\\tFinding lower OM instanton'\u001b[0m\u001b[0;34m)\u001b[0m\u001b[0;34m\u001b[0m\u001b[0;34m\u001b[0m\u001b[0m\n",
      "\u001b[0;32m/tmp/ipykernel_341913/1937887182.py\u001b[0m in \u001b[0;36mfind_instanton\u001b[0;34m(find_upper, clockwise_loops, use_OM)\u001b[0m\n\u001b[1;32m     42\u001b[0m     \u001b[0mtele_inst\u001b[0m \u001b[0;34m=\u001b[0m \u001b[0minst\u001b[0m\u001b[0;34m[\u001b[0m\u001b[0;34m'state'\u001b[0m\u001b[0;34m]\u001b[0m\u001b[0;34m[\u001b[0m\u001b[0;34m:\u001b[0m\u001b[0;34m,\u001b[0m \u001b[0;34m:\u001b[0m\u001b[0mmin\u001b[0m\u001b[0;34m(\u001b[0m\u001b[0minst\u001b[0m\u001b[0;34m[\u001b[0m\u001b[0;34m'state'\u001b[0m\u001b[0;34m]\u001b[0m\u001b[0;34m.\u001b[0m\u001b[0mshape\u001b[0m\u001b[0;34m[\u001b[0m\u001b[0;36m1\u001b[0m\u001b[0;34m]\u001b[0m\u001b[0;34m,\u001b[0m \u001b[0mQ_Nm\u001b[0m\u001b[0;34m)\u001b[0m\u001b[0;34m]\u001b[0m\u001b[0;34m\u001b[0m\u001b[0;34m\u001b[0m\u001b[0m\n\u001b[1;32m     43\u001b[0m \u001b[0;34m\u001b[0m\u001b[0m\n\u001b[0;32m---> 44\u001b[0;31m     \u001b[0mt\u001b[0m \u001b[0;34m=\u001b[0m \u001b[0mmodemc\u001b[0m\u001b[0;34m.\u001b[0m\u001b[0mprotocols\u001b[0m\u001b[0;34m.\u001b[0m\u001b[0mGaussianTeleporter\u001b[0m\u001b[0;34m(\u001b[0m\u001b[0mtele_inst\u001b[0m\u001b[0;34m,\u001b[0m \u001b[0minst\u001b[0m\u001b[0;34m[\u001b[0m\u001b[0;34m'Qf_OM'\u001b[0m\u001b[0;34m]\u001b[0m\u001b[0;34m,\u001b[0m \u001b[0mmatch_precision_Nm\u001b[0m\u001b[0;34m=\u001b[0m\u001b[0;32mTrue\u001b[0m\u001b[0;34m)\u001b[0m\u001b[0;34m\u001b[0m\u001b[0;34m\u001b[0m\u001b[0m\n\u001b[0m\u001b[1;32m     45\u001b[0m     \u001b[0minst\u001b[0m\u001b[0;34m[\u001b[0m\u001b[0;34m'Z_sign_OM'\u001b[0m\u001b[0;34m]\u001b[0m\u001b[0;34m,\u001b[0m \u001b[0minst\u001b[0m\u001b[0;34m[\u001b[0m\u001b[0;34m'log_Z_OM'\u001b[0m\u001b[0;34m]\u001b[0m \u001b[0;34m=\u001b[0m \u001b[0mt\u001b[0m\u001b[0;34m.\u001b[0m\u001b[0mZ_sign\u001b[0m\u001b[0;34m,\u001b[0m \u001b[0mt\u001b[0m\u001b[0;34m.\u001b[0m\u001b[0mlog_Z\u001b[0m\u001b[0;34m\u001b[0m\u001b[0;34m\u001b[0m\u001b[0m\n\u001b[1;32m     46\u001b[0m     \u001b[0mt\u001b[0m \u001b[0;34m=\u001b[0m \u001b[0mmodemc\u001b[0m\u001b[0;34m.\u001b[0m\u001b[0mprotocols\u001b[0m\u001b[0;34m.\u001b[0m\u001b[0mGaussianTeleporter\u001b[0m\u001b[0;34m(\u001b[0m\u001b[0mtele_inst\u001b[0m\u001b[0;34m,\u001b[0m \u001b[0minst\u001b[0m\u001b[0;34m[\u001b[0m\u001b[0;34m'Qf_FW'\u001b[0m\u001b[0;34m]\u001b[0m\u001b[0;34m,\u001b[0m \u001b[0mmatch_precision_Nm\u001b[0m\u001b[0;34m=\u001b[0m\u001b[0;32mTrue\u001b[0m\u001b[0;34m)\u001b[0m\u001b[0;34m\u001b[0m\u001b[0;34m\u001b[0m\u001b[0m\n",
      "\u001b[0;32mmodemc/protocols/pCN.pyx\u001b[0m in \u001b[0;36mmodemc.protocols.pCN.GaussianTeleporter.__init__\u001b[0;34m()\u001b[0m\n",
      "\u001b[0;31mException\u001b[0m: Precision matrix is not symmeric."
     ]
    }
   ],
   "source": [
    "upper_OMs = []\n",
    "lower_OMs = []\n",
    "upper_FWs = []\n",
    "lower_FWs = []\n",
    "\n",
    "for l in range(N_instanton_loops+1):\n",
    "    sim_result.log('Loop %s:' % l)\n",
    "    \n",
    "    sim_result.log('\\tFinding upper OM instanton')\n",
    "    upper_OMs.append(find_instanton(find_upper=True, clockwise_loops=l, use_OM=True))\n",
    "\n",
    "    sim_result.log('\\tFinding lower OM instanton')\n",
    "    lower_OMs.append(find_instanton(find_upper=False, clockwise_loops=l, use_OM=True))\n",
    "    \n",
    "    sim_result.log('', print_time=False)\n",
    "\n",
    "sim_result.log('Finding upper FW instanton')\n",
    "upper_FWs.append(find_instanton(find_upper=True, clockwise_loops=0, use_OM=False))\n",
    "\n",
    "sim_result.log('Finding lower FW instanton')\n",
    "lower_FWs.append(find_instanton(find_upper=False, clockwise_loops=0, use_OM=False))"
   ]
  },
  {
   "cell_type": "code",
   "execution_count": null,
   "id": "cbcba607",
   "metadata": {},
   "outputs": [],
   "source": [
    "upper_OM = upper_OMs[0]\n",
    "lower_OM = lower_OMs[0]\n",
    "upper_FW = upper_FWs[0]\n",
    "lower_FW = lower_FWs[0]\n",
    "\n",
    "results['upper_OM_instanton'] = upper_OM\n",
    "results['lower_OM_instanton'] = lower_OM\n",
    "results['upper_FW_instanton'] = upper_FW\n",
    "results['lower_FW_instanton'] = lower_FW\n",
    "\n",
    "results['upper_OM_loop_instantons'] = upper_OMs\n",
    "results['lower_OM_loop_instantons'] = lower_OMs\n",
    "results['upper_FW_loop_instantons'] = upper_FWs\n",
    "results['lower_FW_loop_instantons'] = lower_FWs"
   ]
  },
  {
   "cell_type": "code",
   "execution_count": null,
   "id": "9c377831-85ae-44cf-bbb7-325dee8650e8",
   "metadata": {},
   "outputs": [],
   "source": [
    "for l in range(N_instanton_loops+1):\n",
    "    sim_result.log('Upper OM loop %s valid = %s' % (l, upper_OMs[l]['is_valid']), print_time=False)\n",
    "    sim_result.log('Lower OM loop %s valid = %s' % (l, lower_OMs[l]['is_valid']), print_time=False)"
   ]
  },
  {
   "cell_type": "code",
   "execution_count": 22,
   "id": "27d1b2a4-e349-4f1e-a384-32c3a0cc67bb",
   "metadata": {},
   "outputs": [
    {
     "name": "stdout",
     "output_type": "stream",
     "text": [
      "Instanton finder ended (reason: max_calcs): i=9.9000e+01\tstep_size=3.67e-05\t|gradS|=4.34e+00\tdS=0.00e+00\tS=2.224098e+02\n"
     ]
    }
   ],
   "source": [
    "def find_instanton(find_upper, clockwise_loops, use_OM):\n",
    "    basis_us = np.linspace(-1, 1, 50000)\n",
    "    basis_ts = Tf*(basis_us+1)/2\n",
    "    basis = modemc.utils.get_brownian_bridge_KL_basis(instanton_finder_params['Nm'], dim, basis_ts)\n",
    "    \n",
    "    if find_upper:\n",
    "        inst_path0 = np.array([-np.cos(np.pi*(1 + 2*clockwise_loops)*basis_ts/Tf), np.sin(np.pi*(1 + 2*clockwise_loops)*basis_ts/Tf)])\n",
    "    else:\n",
    "        inst_path0 = np.array([-np.cos(np.pi*(1 + 2*clockwise_loops)*basis_ts/Tf), -np.sin(np.pi*(1 + 2*clockwise_loops)*basis_ts/Tf)])\n",
    "    inst_state0 = modemc.utils.project_onto_basis(inst_path0, basis, basis_ts)\n",
    "    \n",
    "    params = dict.copy(instanton_finder_params)\n",
    "    del params['Nm']\n",
    "    del params['instanton_finder_Nm_Tf_factor']\n",
    "    del params['instanton_finder_Nq_factor']\n",
    "    params['state0'] = inst_state0\n",
    "    params['use_OM'] = use_OM\n",
    "    inst = modemc.instantons.gradient_descent(**params)\n",
    "    return inst\n",
    "    \n",
    "    Q_Nm = int(np.round(Q_Nm_Tf_factor * Tf))\n",
    "    inst['Q_OM'], inst['Qf_OM'], _, _, _ = modemc.variations.compute_banded_Q_matrix(system, inst['state'],\n",
    "                        Q_band_size, Nm=Q_Nm, Nq_factor=Q_Nq_factor, quad_scheme=Q_quad_scheme, return_partial_Qs=True, use_OM=True)\n",
    "    \n",
    "    inst['Q_FW'], inst['Qf_FW'], _, _, _ = modemc.variations.compute_banded_Q_matrix(system, inst['state'],\n",
    "                        Q_band_size, Nm=Q_Nm, Nq_factor=Q_Nq_factor, quad_scheme=Q_quad_scheme, return_partial_Qs=True, use_OM=False)\n",
    "    \n",
    "    if use_OM:\n",
    "        test_Qf = inst['Qf_OM']\n",
    "    else:\n",
    "        test_Qf = inst['Qf_FW']\n",
    "        \n",
    "    filtered_paths = filter_valid_paths(inst, find_upper, clockwise_loops, test_Qf, use_OM)\n",
    "    inst = filtered_paths[0]\n",
    "    \n",
    "    tele_inst = inst['state'][:, :min(inst['state'].shape[1], Q_Nm)]\n",
    "    \n",
    "    t = modemc.protocols.GaussianTeleporter(tele_inst, inst['Qf_OM'], match_precision_Nm=True)\n",
    "    inst['Z_sign_OM'], inst['log_Z_OM'] = t.Z_sign, t.log_Z\n",
    "    t = modemc.protocols.GaussianTeleporter(tele_inst, inst['Qf_FW'], match_precision_Nm=True)\n",
    "    inst['Z_sign_FW'], inst['log_Z_FW'] = t.Z_sign, t.log_Z\n",
    "    del t\n",
    "    \n",
    "    return inst\n",
    "\n",
    "upper_OM = find_instanton(find_upper=True, clockwise_loops=0, use_OM=True)"
   ]
  },
  {
   "cell_type": "code",
   "execution_count": 36,
   "id": "3135fdc4-55d9-43c0-a47b-61a3d57b4560",
   "metadata": {},
   "outputs": [],
   "source": [
    "cdef int _flatten_Q(np.ndarray Q_arr, np.ndarray Qf_out, dim_mode_order=True) except -1:\n",
    "    cdef int dim = Q_arr.shape[0]\n",
    "    cdef int Nm = Q_arr.shape[2]\n",
    "    cdef int i,j,k,l\n",
    "    #Qf_arr = np.zeros( ( dim*Nm, dim*Nm ) )\n",
    "\n",
    "    cdef DTYPE_t[:,:,:,:] Q = Q_arr\n",
    "    cdef DTYPE_t[:,:] Qf = Qf_out\n",
    "\n",
    "    if dim_mode_order:\n",
    "        for i in range(dim):\n",
    "            for j in range(dim):\n",
    "                for k in range(Nm):\n",
    "                    for l in range(Nm):\n",
    "                        Qf[i*Nm + k, j*Nm + l] = Q[i,j,k,l]\n",
    "    else:\n",
    "        for i in range(dim):\n",
    "            for j in range(dim):\n",
    "                for k in range(Nm):\n",
    "                    for l in range(Nm):\n",
    "                        Qf[k*dim + i, l*dim + j] = Q[i,j,k,l]\n",
    "\n",
    "def compute_Q_matrix(system, instanton_coeffs, Nm=None, Nq_factor=30, quad_scheme=None, return_partial_Qs=False):\n",
    "    x0, x1, Tf = system.x0, system.x1, system.Tf\n",
    "    dim = system.dim\n",
    "\n",
    "    if Nm is None:\n",
    "        Nm = instanton_coeffs.shape[1]\n",
    "\n",
    "    if quad_scheme is None:\n",
    "        quad_scheme = modemc.quad.clenshaw_curtis\n",
    "\n",
    "    Nq = Nm*Nq_factor\n",
    "    ts, qts, quad_weights = quad_scheme(Nq, Tf)\n",
    "    ts = 0.5*(qts+1)*Tf\n",
    "    \n",
    "    L_x_x, L_xd_x, L_xd_xd = modemc.utils.compute_hessL(system, ts, instanton_coeffs, use_OM=True)\n",
    "    \n",
    "    phis = []\n",
    "    dphis = []\n",
    "    for k in range(1, Nm+1):\n",
    "        sqr_lambdak = (Tf / (np.pi*k))\n",
    "        phi = np.sqrt(2/Tf) * np.sin(ts/sqr_lambdak) * sqr_lambdak\n",
    "        dphi = np.sqrt(2/Tf) * np.cos(ts/sqr_lambdak)\n",
    "        phis.append(phi)\n",
    "        dphis.append(dphi)\n",
    "    \n",
    "    phis = np.array(phis) * np.sqrt(Tf/2) # The Tf/2 factor is for scaling the to physical time from the quadrature\n",
    "    dphis = np.array(dphis) * np.sqrt(Tf/2)\n",
    "\n",
    "    Qxx = np.zeros( (dim, dim, Nm, Nm) )\n",
    "    Qxdx = np.zeros( (dim, dim, Nm, Nm) )\n",
    "    Qxdxd = np.zeros( (dim, dim, Nm, Nm) )\n",
    "       \n",
    "    Qxx =   np.einsum('ijn,kn,ln,n->ijkl', L_x_x, phis, phis, quad_weights)\n",
    "    Qxdx =  np.einsum('ijn,kn,ln,n->ijkl', L_xd_x, dphis, phis, quad_weights)\n",
    "    #Qxdx += np.einsum('ijn,kn,ln,n->ijkl', L_xd_x, dphis, phis, quad_weights)\n",
    "    for i in range(dim):    \n",
    "        np.fill_diagonal(Qxdxd[i,i,:,:], system.beta*system.gamma*0.5)\n",
    "    \n",
    "    Q = Qxx + Qxdx + Qxdxd\n",
    "\n",
    "    if return_partial_Qs:\n",
    "        Qfxx = flatten_Q(Qxx)\n",
    "        Qfxdx = flatten_Q(Qxdx)\n",
    "        Qfxdxd = flatten_Q(Qxdxd)\n",
    "\n",
    "    Qf = modemc.variations.flatten_Q(Q)\n",
    "\n",
    "    if return_partial_Qs:\n",
    "        return Q, Qf, Qfxx, Qfxdx, Qfxdxd\n",
    "    else:\n",
    "        return Q, Qf\n",
    "    \n",
    "Q, Qf = compute_Q_matrix(system, upper_OM['state'])"
   ]
  },
  {
   "cell_type": "code",
   "execution_count": 37,
   "id": "44853c35-f42b-4daf-a939-e36f77ec1b49",
   "metadata": {},
   "outputs": [
    {
     "data": {
      "text/plain": [
       "array([[ 0.00000000e+00, -1.61754337e+03,  6.18217317e-03, ...,\n",
       "         2.34944287e-06, -1.62273041e-04, -2.84356625e-06],\n",
       "       [ 1.61754337e+03,  0.00000000e+00, -1.43847949e+03, ...,\n",
       "        -1.60728778e-04, -2.29609482e-07,  3.33687118e-04],\n",
       "       [-6.18217317e-03,  1.43847949e+03,  0.00000000e+00, ...,\n",
       "         2.65496618e-07,  1.67143755e-04, -1.16343983e-06],\n",
       "       ...,\n",
       "       [-2.34944287e-06,  1.60728778e-04, -2.65496618e-07, ...,\n",
       "         0.00000000e+00, -5.83377259e+01, -5.99157326e-05],\n",
       "       [ 1.62273041e-04,  2.29609482e-07, -1.67143755e-04, ...,\n",
       "         5.83377259e+01,  0.00000000e+00, -5.79474983e+01],\n",
       "       [ 2.84356625e-06, -3.33687118e-04,  1.16343983e-06, ...,\n",
       "         5.99157326e-05,  5.79474983e+01,  0.00000000e+00]])"
      ]
     },
     "execution_count": 37,
     "metadata": {},
     "output_type": "execute_result"
    }
   ],
   "source": [
    "Qf.T - Qf"
   ]
  },
  {
   "cell_type": "markdown",
   "id": "643b3fb4",
   "metadata": {},
   "source": [
    "## 5. Analysis"
   ]
  },
  {
   "cell_type": "code",
   "execution_count": null,
   "id": "4a80535c",
   "metadata": {},
   "outputs": [],
   "source": [
    "def compute_semi_analytical_channel_rate(upper_inst, lower_inst, use_OM):\n",
    "    if use_OM:\n",
    "        postfix = 'OM'\n",
    "    else:\n",
    "        postfix = 'FW'\n",
    "    \n",
    "    if upper_inst['is_valid'] and lower_inst['is_valid']:\n",
    "        dS = upper_inst['S'] - lower_inst['S']\n",
    "        dQ = lower_inst['log_Z_%s' % postfix] - upper_inst['log_Z_%s' % postfix]\n",
    "        Q_channel_rate = 1 / (1 + np.exp(dQ+dS))\n",
    "        inst_channel_rate = 1 / (1 + np.exp(dS))\n",
    "    elif not upper_inst['is_valid'] or not lower_inst['is_valid']:\n",
    "        Q_channel_rate = np.nan\n",
    "        inst_channel_rate = np.nan\n",
    "        \n",
    "    return Q_channel_rate, inst_channel_rate\n",
    "\n",
    "calcs['IOM_QOM_channel_rate'], calcs['IOM_channel_rate'] = compute_semi_analytical_channel_rate(upper_OM, lower_OM, True)\n",
    "calcs['IOM_QFW_channel_rate'], calcs['IOM_channel_rate'] = compute_semi_analytical_channel_rate(upper_OM, lower_OM, False)\n",
    "calcs['IFW_QFW_channel_rate'], calcs['IFW_channel_rate'] = compute_semi_analytical_channel_rate(upper_FW, lower_FW, False)"
   ]
  },
  {
   "cell_type": "code",
   "execution_count": null,
   "id": "1f39f244",
   "metadata": {},
   "outputs": [],
   "source": [
    "for k, v in calcs.items():\n",
    "    sim_result.log('%s: %s' % (k, v), log_name='calcs', print_time=False)"
   ]
  },
  {
   "cell_type": "markdown",
   "id": "6964ecaf",
   "metadata": {},
   "source": [
    "## 6. Plots"
   ]
  },
  {
   "cell_type": "code",
   "execution_count": null,
   "id": "41d476e7",
   "metadata": {},
   "outputs": [],
   "source": [
    "states, paths, actions, accepts = sim_result.load_random_sample(1.0, ['states', 'paths', 'actions', 'accepts'])"
   ]
  },
  {
   "cell_type": "code",
   "execution_count": null,
   "id": "fd49727a",
   "metadata": {},
   "outputs": [],
   "source": [
    "try:\n",
    "    fig, ax = plt.subplots(figsize=(7,7))\n",
    "    plotting.trajectories_2D(fig, system, np.zeros((0, dim, 0)), xlims, ylims, plot_num=0, plot_potential=True, plot_force=True,\n",
    "                        contour_levels=50, force_density=[2,2], traj_lw=0, traj_alpha=0, overlay_paths=[\n",
    "        (\"FW upper S=%s, valid=%s\" % (np.round(upper_FW['S'],2), upper_FW['is_valid']), upper_FW_inst_shape, upper_FW_inst_color, upper_FW['state']),\n",
    "        (\"FW lower S=%s, valid=%s\" % (np.round(lower_FW['S'],2), lower_FW['is_valid']), lower_FW_inst_shape, lower_FW_inst_color, lower_FW['state']),       \n",
    "        (\"OM upper S=%s, valid=%s\" % (np.round(upper_OM['S'],2), upper_OM['is_valid']), upper_OM_inst_shape, upper_OM_inst_color, upper_OM['state']),\n",
    "        (\"OM lower S=%s, valid=%s\" % (np.round(lower_OM['S'],2), lower_OM['is_valid']), lower_OM_inst_shape, lower_OM_inst_color, lower_OM['state']),\n",
    "    ])\n",
    "    #fig.suptitle(sim_result.result_name)\n",
    "    plt.legend(loc='center')\n",
    "    plt.tight_layout()\n",
    "    sim_result.save_figure(fig, 'instplot', dpi=200)\n",
    "    plt.show()\n",
    "except Exception as e:\n",
    "    sim_result.log_error('instplot', e)"
   ]
  },
  {
   "cell_type": "code",
   "execution_count": null,
   "id": "7a96de88-2a5b-4c4f-b9d5-83cbb3699cf6",
   "metadata": {},
   "outputs": [],
   "source": [
    "for l in range(N_instanton_loops + 1):\n",
    "\n",
    "    try:\n",
    "        inst = upper_OMs[l]\n",
    "        \n",
    "        fig, ax = plt.subplots(figsize=(7,7))\n",
    "        plotting.trajectories_2D(fig, system, np.zeros((0, dim, 0)), xlims, ylims, plot_num=0, plot_potential=True, plot_force=True,\n",
    "                            contour_levels=50, force_density=[2,2], traj_lw=0, traj_alpha=0, overlay_paths=[\n",
    "            (\"OM upper S=%s, valid=%s\" % (np.round(inst['S'],2), inst['is_valid']), upper_OM_inst_shape, upper_OM_inst_color, inst['state']),\n",
    "        ])\n",
    "        #fig.suptitle(sim_result.result_name)\n",
    "        plt.legend(loc='center')\n",
    "        plt.tight_layout()\n",
    "        sim_result.save_figure(fig, 'upper_OM_loop_%s' % l, dpi=200)\n",
    "        plt.show()\n",
    "    except Exception as e:\n",
    "        sim_result.log_error('upper_OM_loop_%s' % l, e)\n",
    "        \n",
    "        \n",
    "    try:\n",
    "        inst = lower_OMs[l]\n",
    "        \n",
    "        fig, ax = plt.subplots(figsize=(7,7))\n",
    "        plotting.trajectories_2D(fig, system, np.zeros((0, dim, 0)), xlims, ylims, plot_num=0, plot_potential=True, plot_force=True,\n",
    "                            contour_levels=50, force_density=[2,2], traj_lw=0, traj_alpha=0, overlay_paths=[\n",
    "            (\"OM upper S=%s, valid=%s\" % (np.round(inst['S'],2), inst['is_valid']), lower_OM_inst_shape, lower_OM_inst_color, inst['state']),\n",
    "        ])\n",
    "        #fig.suptitle(sim_result.result_name)\n",
    "        plt.legend(loc='center')\n",
    "        plt.tight_layout()\n",
    "        sim_result.save_figure(fig, 'lower_OM_loop_%s' % l, dpi=200)\n",
    "        plt.show()\n",
    "    except Exception as e:\n",
    "        sim_result.log_error('lower_OM_loop_%s' % l, e)"
   ]
  },
  {
   "cell_type": "code",
   "execution_count": null,
   "id": "93546554",
   "metadata": {},
   "outputs": [],
   "source": [
    "#try:\n",
    "#    fig, axes = plotting.plot_time_series_rms(intermediate_expected_observables)\n",
    "#    plt.tight_layout()\n",
    "#    sim_result.save_figure(fig, 'intermediate_expected_observables_rms')\n",
    "#    fig.show()\n",
    "#except Exception as e:\n",
    "#    sim_result.log_error('intermediate_expected_observables_rms', e)"
   ]
  },
  {
   "cell_type": "code",
   "execution_count": null,
   "id": "6bdb5b69",
   "metadata": {},
   "outputs": [],
   "source": [
    "#try:\n",
    "#    fig, axes = plotting.plot_time_series_rms_window(intermediate_expected_observables, intermediate_observables_rms_window)\n",
    "#    plt.tight_layout()\n",
    "#    sim_result.save_figure(fig, 'intermediate_expected_observables_rms_window')\n",
    "#    fig.show()\n",
    "#except Exception as e:\n",
    "#    sim_result.log_error('intermediate_expected_observables_rms_window', e)"
   ]
  },
  {
   "cell_type": "code",
   "execution_count": null,
   "id": "aa99f2d1",
   "metadata": {},
   "outputs": [],
   "source": [
    "sim_result.remove_note('UNFINISHED')\n",
    "sim_result.save_note('DONE', str(datetime.datetime.now()))"
   ]
  },
  {
   "cell_type": "code",
   "execution_count": null,
   "id": "003e973c",
   "metadata": {},
   "outputs": [],
   "source": [
    "param_dicts = {}\n",
    "for k, v in globals().items():\n",
    "    if k.endswith('_params') and type(v) == dict:\n",
    "        param_dicts[k] = v\n",
    "sim_result.save_pkl('params', param_dicts)"
   ]
  },
  {
   "cell_type": "code",
   "execution_count": null,
   "id": "f27d80c7",
   "metadata": {},
   "outputs": [],
   "source": [
    "sim_result.save_calculations(calcs)"
   ]
  },
  {
   "cell_type": "code",
   "execution_count": null,
   "id": "68241839",
   "metadata": {},
   "outputs": [],
   "source": [
    "sim_result.move_from_progress_to_output()\n",
    "sim_result.remove_status_file()"
   ]
  }
 ],
 "metadata": {
  "kernelspec": {
   "display_name": "Python 3 (ipykernel)",
   "language": "python",
   "name": "python3"
  },
  "language_info": {
   "codemirror_mode": {
    "name": "ipython",
    "version": 3
   },
   "file_extension": ".py",
   "mimetype": "text/x-python",
   "name": "python",
   "nbconvert_exporter": "python",
   "pygments_lexer": "ipython3",
   "version": "3.9.6"
  }
 },
 "nbformat": 4,
 "nbformat_minor": 5
}
