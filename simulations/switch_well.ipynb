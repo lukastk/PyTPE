{
 "cells": [
  {
   "cell_type": "code",
   "execution_count": 1,
   "id": "2825c599",
   "metadata": {},
   "outputs": [],
   "source": [
    "import pyfftw\n",
    "import modemc\n",
    "import numpy as np\n",
    "import matplotlib.pyplot as plt\n",
    "import datetime, pickle, tempfile, time, sys, os\n",
    "from helpers.sim_helper import *\n",
    "from helpers import plotting\n",
    "from IPython.display import clear_output"
   ]
  },
  {
   "cell_type": "markdown",
   "id": "62be9865",
   "metadata": {
    "tags": []
   },
   "source": [
    "## 1. Parameters"
   ]
  },
  {
   "cell_type": "code",
   "execution_count": 2,
   "id": "467c5fd7",
   "metadata": {},
   "outputs": [],
   "source": [
    "simulation_name = 'switch_well'\n",
    "use_temp_folder = True\n",
    "run_name = 'test'\n",
    "ssh_comp = 'notebook'"
   ]
  },
  {
   "cell_type": "code",
   "execution_count": 3,
   "id": "4b831b6b",
   "metadata": {},
   "outputs": [],
   "source": [
    "use_default_params = True"
   ]
  },
  {
   "cell_type": "code",
   "execution_count": 4,
   "id": "0b8f38d9",
   "metadata": {},
   "outputs": [],
   "source": [
    "# Load arguments if running as a script\n",
    "if sys.argv[1] == \"args\":\n",
    "    use_default_params = False\n",
    "    \n",
    "    use_temp_folder = False\n",
    "    params_pkl_path = sys.argv[2]\n",
    "    args_params = pickle.load(open(params_pkl_path, 'rb'))\n",
    "\n",
    "    for param_k, param_v in args_params.items():\n",
    "        globals()[param_k] = param_v"
   ]
  },
  {
   "cell_type": "markdown",
   "id": "30578df4",
   "metadata": {},
   "source": [
    "### System"
   ]
  },
  {
   "cell_type": "code",
   "execution_count": 5,
   "id": "e3ea9339",
   "metadata": {},
   "outputs": [],
   "source": [
    "if use_default_params:\n",
    "    system_params = {\n",
    "        'beta' : 1000,\n",
    "        'gamma' : 5,\n",
    "        'Tf' : 10,\n",
    "\n",
    "        'dim' : 2,\n",
    "\n",
    "        'x0' : np.array([-1, 0]),\n",
    "        'x1' : np.array([1, 0]),\n",
    "\n",
    "        'U0' : 3,\n",
    "        'xi1' : 0,\n",
    "        'xi2' : 2,\n",
    "        \n",
    "        'Ux0' : 0.5,\n",
    "        'dUx' : 0,\n",
    "    }\n",
    "\n",
    "dict_to_global(system_params, globals())"
   ]
  },
  {
   "cell_type": "markdown",
   "id": "d28dc1d7",
   "metadata": {},
   "source": [
    "### MCMC"
   ]
  },
  {
   "cell_type": "code",
   "execution_count": 6,
   "id": "bf3b7f69",
   "metadata": {},
   "outputs": [],
   "source": [
    "if use_default_params:\n",
    "    MCMC_params = {    \n",
    "        'MCMC_protocol' : modemc.protocols.pCN_FFT_Flip,\n",
    "        'use_OM' : True,\n",
    "\n",
    "        'N_steps' : int(1e6),\n",
    "\n",
    "        'batch_size' : 1,\n",
    "        'N_save' : int(1e6),\n",
    "        'N_paths_save' : int(1e3),\n",
    "        'N_sim_verbose' : int(1e4),\n",
    "\n",
    "        'Nm_save' : 20,\n",
    "        'Nm_Tf_factor' : 200,\n",
    "\n",
    "        'Nq_factor' : 1,\n",
    "        'quad_scheme' : modemc.quad.uniform,\n",
    "\n",
    "        'state0_choice' : 'upper_OM',\n",
    "\n",
    "        'use_teleport' : True,\n",
    "        'p_teleport' : 1e-3,\n",
    "        'teleporter_probs' : [0.5, 0.5],\n",
    "        'teleporter_choice' : 'OM',\n",
    "        \n",
    "        'p_flip' : 1e-2,\n",
    "        'flip_beta_threshold' : 50,\n",
    "        \n",
    "        'enable_parallelisation': False,\n",
    "    }\n",
    "\n",
    "MCMC_params['Nm'] = int(np.round(system_params['Tf'] * MCMC_params['Nm_Tf_factor']))\n",
    "MCMC_params['system'] = modemc.systems.SwitchWell(system_params)\n",
    "\n",
    "dict_to_global(MCMC_params, globals(), deal_with_overwrites=True)"
   ]
  },
  {
   "cell_type": "code",
   "execution_count": 7,
   "id": "3a086e37",
   "metadata": {},
   "outputs": [],
   "source": [
    "if use_default_params:\n",
    "    analysis_params = {\n",
    "        'N_intermediate_observable' : 100,\n",
    "        'intermediate_observables_rms_window' : 10,\n",
    "        'valid_path_channel_boundary' : 0.1,\n",
    "    }\n",
    "\n",
    "dict_to_global(analysis_params, globals())"
   ]
  },
  {
   "cell_type": "code",
   "execution_count": 8,
   "id": "db3b27e4",
   "metadata": {},
   "outputs": [],
   "source": [
    "if use_default_params:\n",
    "    teleporter_params = {\n",
    "        'teleporter_Nm_Tf_factor' : 10,\n",
    "        'Q_Nm_Tf_factor' : 50,\n",
    "        'Q_band_size_Nm_Tf_factor' : 20,\n",
    "        'Q_Nq_factor' : 12,\n",
    "        'Q_quad_scheme' : modemc.quad.clenshaw_curtis,\n",
    "    }\n",
    "\n",
    "teleporter_params['teleporter_Nm'] = int(np.round(system_params['Tf'] * teleporter_params['teleporter_Nm_Tf_factor']))\n",
    "teleporter_params['Q_band_size'] = int(np.round(system_params['Tf'] * teleporter_params['Q_band_size_Nm_Tf_factor']))\n",
    "    \n",
    "dict_to_global(teleporter_params, globals())"
   ]
  },
  {
   "cell_type": "markdown",
   "id": "9ae9871e",
   "metadata": {},
   "source": [
    "### Calibration"
   ]
  },
  {
   "cell_type": "code",
   "execution_count": 9,
   "id": "8c459e9e",
   "metadata": {},
   "outputs": [],
   "source": [
    "if use_default_params:\n",
    "    instanton_finder_params = {\n",
    "        'instanton_finder_Nm_Tf_factor' : 30,\n",
    "        'instanton_finder_Nq_factor' : 12,\n",
    "        'max_steps' : int(1e6),\n",
    "        'ag_c' : 1e-6,\n",
    "        'S_tol' : 1e-20,\n",
    "        'gradS_tol' : 1e-6,\n",
    "        'step_size0' : 0.1,\n",
    "        'step_size_rate' : 0.99,\n",
    "        'min_step_size' : 1e-60,\n",
    "        'quad_scheme' : modemc.quad.clenshaw_curtis,\n",
    "        'verbose' : True,\n",
    "    }\n",
    "\n",
    "instanton_finder_params['system'] = system\n",
    "instanton_finder_params['Nm'] = int(np.round(instanton_finder_params['instanton_finder_Nm_Tf_factor'] * system_params['Tf']))\n",
    "instanton_finder_params['Nq'] = int(np.round(instanton_finder_params['instanton_finder_Nq_factor'] * instanton_finder_params['Nm']))\n",
    "    \n",
    "dict_to_global(instanton_finder_params, globals(), prefix='instanton_finder')"
   ]
  },
  {
   "cell_type": "code",
   "execution_count": 10,
   "id": "62114b29",
   "metadata": {},
   "outputs": [],
   "source": [
    "if use_default_params:\n",
    "    kappa_finder_params = {\n",
    "        'targ_acc' : 0.3,\n",
    "        'trial_N_sim' : int(1e4),\n",
    "        'maxiter' : 20,\n",
    "        'MCMC_params' : MCMC_params,\n",
    "        'p_teleport' : 0.01, # Use a more frequent p_teleport in the kappa finder to properly probe it\n",
    "    }\n",
    "\n",
    "kappa_finder_params['MCMC_protocol'] = MCMC_protocol\n",
    "    \n",
    "dict_to_global(kappa_finder_params, globals(), prefix='kappa_finder')"
   ]
  },
  {
   "cell_type": "code",
   "execution_count": 11,
   "id": "c0c9dac2",
   "metadata": {},
   "outputs": [],
   "source": [
    "if use_default_params:\n",
    "    gaussian_mode_finder_params = {\n",
    "        'N_step_Nm_factor' : 100,\n",
    "        'gaussian_mode_acc_threshold' : 1 - 1e-5,\n",
    "        'kappa' : 0.99,\n",
    "        'kappas_sig' : 0.1,\n",
    "        'gaussian_mode_multiplier' : 2,\n",
    "        'use_teleport' : True,\n",
    "        'p_teleport' : 0.01,\n",
    "    }\n",
    "\n",
    "dict_to_global(gaussian_mode_finder_params, globals(), prefix='gaussian_mode_finder')"
   ]
  },
  {
   "cell_type": "markdown",
   "id": "113e79c1",
   "metadata": {},
   "source": [
    "### Plotting"
   ]
  },
  {
   "cell_type": "code",
   "execution_count": 12,
   "id": "6eae110b",
   "metadata": {},
   "outputs": [],
   "source": [
    "if use_default_params:\n",
    "    plotting_params = {\n",
    "        'xlims' : [-1.3, 1.3],\n",
    "        'ylims' : [-1.3, 1.3],\n",
    "        'tlims_offset' : [-0.1, 0.1],\n",
    "        \n",
    "        'traj_plot_num' : 200,\n",
    "        'traj_lw' : 0.1,\n",
    "        'traj_alpha' : 0.5,\n",
    "\n",
    "        'upper_OM_inst_color' : \"red\",\n",
    "        'upper_OM_inst_shape' : \"-\",\n",
    "        'lower_OM_inst_color' : \"orangered\",\n",
    "        'lower_OM_inst_shape' : \"--\",\n",
    "        'middle_OM_inst_color' : \"yellow\",\n",
    "        'middle_OM_inst_shape' : \":\",\n",
    "        'upper_FW_inst_color' : \"blue\",\n",
    "        'upper_FW_inst_shape' : \"-\",\n",
    "        'lower_FW_inst_color' : \"teal\",\n",
    "        'lower_FW_inst_shape' : \"--\",\n",
    "        'middle_FW_inst_color' : \"green\",\n",
    "        'middle_FW_inst_shape' : \":\",\n",
    "    }\n",
    "\n",
    "plotting_params['tlims'] = [0 + plotting_params['tlims_offset'][0], Tf + plotting_params['tlims_offset'][1]]\n",
    "    \n",
    "dict_to_global(plotting_params, globals(), deal_with_overwrites=True)"
   ]
  },
  {
   "cell_type": "markdown",
   "id": "d651101d",
   "metadata": {},
   "source": [
    "### Setup"
   ]
  },
  {
   "cell_type": "code",
   "execution_count": 13,
   "id": "00938bff",
   "metadata": {},
   "outputs": [],
   "source": [
    "results = {} # For storing any intermediate calibration results or larger results, like instantons\n",
    "calcs = {} # For observables and other calculations\n",
    "sim_states = {} # For storing things like simulation time, teleportation success rates etc"
   ]
  },
  {
   "cell_type": "code",
   "execution_count": 14,
   "id": "620284e7",
   "metadata": {},
   "outputs": [
    {
     "name": "stdout",
     "output_type": "stream",
     "text": [
      "Result name: [test] switch_well, beta=1.00e+03, gamma=5, Tf=10, U0=3, xi1=0, xi2=2, Ux0=5.00e-01, dUx=0, N_steps=1.00e+06, Nm_Tf_factor=200 (21-10-26, 15:17:29)\n",
      "\n",
      "In progress folder:\n",
      "/tmp/tmpvazhsg03/switch_well/[test] switch_well, beta=1.00e+03, gamma=5, Tf=10, U0=3, xi1=0, xi2=2, Ux0=5.00e-01, dUx=0, N_steps=1.00e+06, Nm_Tf_factor=200 (21-10-26, 15:17:29)\n",
      "\n",
      "Output folder:\n",
      "/tmp/tmpvazhsg03/switch_well/[test] switch_well, beta=1.00e+03, gamma=5, Tf=10, U0=3, xi1=0, xi2=2, Ux0=5.00e-01, dUx=0, N_steps=1.00e+06, Nm_Tf_factor=200 (21-10-26, 15:17:29)\n",
      "\n"
     ]
    }
   ],
   "source": [
    "params_to_not_include = ['dim', 'x0', 'x1']\n",
    "parameters_to_include_in_name = { k:v for (k,v) in system_params.items() if not k in params_to_not_include }\n",
    "parameters_to_include_in_name['N_steps'] = '{:.2e}'.format(N_steps)\n",
    "parameters_to_include_in_name['beta'] = '{:.2e}'.format(beta)\n",
    "parameters_to_include_in_name['Nm_Tf_factor'] = Nm_Tf_factor\n",
    "\n",
    "sim_result = SimResult(simulation_name, run_name, parameters_to_include_in_name, use_temp_folder, ssh_comp)\n",
    "sim_result.save_note('UNFINISHED', str(datetime.datetime.now()))\n",
    "sys.excepthook = sim_result.crash_log\n",
    "\n",
    "if sys.argv[1] == \"args\":\n",
    "    sim_result.save_pkl('args_params', args_params)"
   ]
  },
  {
   "cell_type": "code",
   "execution_count": null,
   "id": "3e6e497e",
   "metadata": {},
   "outputs": [],
   "source": [
    "results = {} # For storing any intermediate calibration results or larger results, like instantons\n",
    "calcs = {} # For observables and other calculations\n",
    "sim_states = {} # For storing things like simulation time, teleportation success rates etc"
   ]
  },
  {
   "cell_type": "code",
   "execution_count": null,
   "id": "1113fdc2",
   "metadata": {},
   "outputs": [],
   "source": [
    "sim_result.log('SSH comp: %s' % ssh_comp, print_time=False)"
   ]
  },
  {
   "cell_type": "code",
   "execution_count": null,
   "id": "4d1a494c",
   "metadata": {},
   "outputs": [],
   "source": [
    "sim_result.log('Params:')\n",
    "for k,v in parameters_to_include_in_name.items():\n",
    "    sim_result.log(' %s = %s' % (k,v), print_time=False)\n",
    "sim_result.log('', print_time=False)"
   ]
  },
  {
   "cell_type": "code",
   "execution_count": null,
   "id": "635dad04",
   "metadata": {},
   "outputs": [],
   "source": [
    "if not MCMC_params['enable_parallelisation']:\n",
    "    os.environ['OPENBLAS_NUM_THREADS'] = '1'\n",
    "    os.environ['MKL_NUM_THREADS'] = '1'\n",
    "    os.environ[\"NUMEXPR_NUM_THREADS\"] = '1'\n",
    "    os.environ[\"OMP_NUM_THREADS\"] = '1'\n",
    "    pyfftw.config.NUM_THREADS = 1"
   ]
  },
  {
   "cell_type": "markdown",
   "id": "97c5e032",
   "metadata": {
    "tags": []
   },
   "source": [
    "## 2. Calibration"
   ]
  },
  {
   "cell_type": "markdown",
   "id": "d7488329",
   "metadata": {
    "tags": []
   },
   "source": [
    "### Find instanton"
   ]
  },
  {
   "cell_type": "code",
   "execution_count": null,
   "id": "efb532b9",
   "metadata": {},
   "outputs": [],
   "source": [
    "def filter_valid_paths(found_instantons, test_upper, use_OM):\n",
    "    if type(found_instantons) != list:\n",
    "        found_instantons = [found_instantons]\n",
    "    \n",
    "    valid_instantons = []\n",
    "    invalid_instantons = []\n",
    "    for inst in found_instantons:\n",
    "        Q_Nm = int(np.round(min(Q_Nm_Tf_factor * Tf, Nm)))\n",
    "        inst['Q'], inst['Qf'], inst['Qfxx'], inst['Qfxdx'], inst['Qfxdxd'] = modemc.variations.compute_banded_Q_matrix(system, inst['state'],\n",
    "                            Q_band_size, Nm=Q_Nm, Nq_factor=Q_Nq_factor, quad_scheme=Q_quad_scheme, return_partial_Qs=True, use_OM=use_OM)\n",
    "        \n",
    "        Qf_det_sign, Qf_det = np.linalg.slogdet(inst['Qf'])\n",
    "        eigs = np.linalg.eigvalsh(inst['Qf'])\n",
    "        is_valid = np.count_nonzero(eigs[eigs<0]) == 0\n",
    "        is_valid = is_valid and (Qf_det_sign == 1)\n",
    "        \n",
    "        if test_upper:\n",
    "            # Reaches the upper channel boundary\n",
    "            is_valid = is_valid and np.count_nonzero(inst['path'][1,:] > analysis_params['valid_path_channel_boundary']) > 0\n",
    "            # Never reaches the lower channel boundary\n",
    "            is_valid = is_valid and np.count_nonzero(inst['path'][1,:] < -analysis_params['valid_path_channel_boundary']) == 0\n",
    "        else:\n",
    "            # Reaches the lower channel boundary\n",
    "            is_valid = is_valid and np.count_nonzero(inst['path'][1,:] > -analysis_params['valid_path_channel_boundary']) > 0\n",
    "            # Never reaches the upper channel boundary\n",
    "            is_valid = is_valid and np.count_nonzero(inst['path'][1,:] > analysis_params['valid_path_channel_boundary']) == 0\n",
    "        \n",
    "        inst['is_valid'] = is_valid\n",
    "            \n",
    "        if is_valid:\n",
    "            valid_instantons.append( inst )\n",
    "        else:\n",
    "            invalid_instantons.append( inst )\n",
    "            \n",
    "    if len(valid_instantons) > 0:\n",
    "        return valid_instantons\n",
    "    else:\n",
    "        return invalid_instantons # If no valid path is found, just return the invalid ones"
   ]
  },
  {
   "cell_type": "code",
   "execution_count": null,
   "id": "df0b9610",
   "metadata": {},
   "outputs": [],
   "source": [
    "def find_instanton(find_upper, use_OM):\n",
    "    basis_us = np.linspace(-1, 1, 50000)\n",
    "    basis_ts = Tf*(basis_us+1)/2\n",
    "    basis = modemc.utils.get_brownian_bridge_KL_basis(instanton_finder_params['Nm'], dim, basis_ts)\n",
    "    \n",
    "    if find_upper:\n",
    "        inst_path0 = np.array([-np.cos(np.pi*basis_ts/Tf), np.sin(np.pi*basis_ts/Tf)])\n",
    "    else:\n",
    "        inst_path0 = np.array([-np.cos(np.pi*basis_ts/Tf), -np.sin(np.pi*basis_ts/Tf)])\n",
    "    inst_state0 = modemc.utils.project_onto_basis(inst_path0, basis, basis_ts)\n",
    "    \n",
    "    params = dict.copy(instanton_finder_params)\n",
    "    del params['Nm']\n",
    "    del params['instanton_finder_Nm_Tf_factor']\n",
    "    del params['instanton_finder_Nq_factor']\n",
    "    params['state0'] = inst_state0\n",
    "    params['use_OM'] = use_OM\n",
    "    instanton_finder_res = modemc.instantons.gradient_descent(**params)\n",
    "    \n",
    "    filtered_paths = filter_valid_paths(instanton_finder_res, find_upper, use_OM)\n",
    "    inst = filtered_paths[0]\n",
    "    \n",
    "    inst['teleporter'] = modemc.protocols.GaussianTeleporter(inst['state'], inst['Qf'], match_precision_Nm=True)\n",
    "    \n",
    "    inst['Z_sign'], inst['log_Z'] = inst['teleporter'].Z_sign, inst['teleporter'].log_Z\n",
    "    if not inst['is_valid']:\n",
    "        inst['log_Z'] = np.nan\n",
    "    \n",
    "    return inst"
   ]
  },
  {
   "cell_type": "code",
   "execution_count": null,
   "id": "c78ac661",
   "metadata": {},
   "outputs": [],
   "source": [
    "sim_result.log('Finding upper OM instanton:')\n",
    "upper_OM = find_instanton(find_upper=True, use_OM=True)\n",
    "\n",
    "sim_result.log('Finding lower OM instanton:')\n",
    "lower_OM = find_instanton(find_upper=False, use_OM=True)\n",
    "\n",
    "sim_result.log('Finding upper FW instanton:')\n",
    "upper_FW = find_instanton(find_upper=True, use_OM=False)\n",
    "\n",
    "sim_result.log('Finding lower FW instanton:')\n",
    "lower_FW = find_instanton(find_upper=False, use_OM=False)"
   ]
  },
  {
   "cell_type": "code",
   "execution_count": null,
   "id": "4e34a8ee",
   "metadata": {},
   "outputs": [],
   "source": [
    "results['upper_OM_instanton'] = upper_OM\n",
    "results['lower_OM_instanton'] = lower_OM\n",
    "results['upper_FW_instanton'] = upper_FW\n",
    "results['lower_FW_instanton'] = lower_FW"
   ]
  },
  {
   "cell_type": "markdown",
   "id": "a9a8c8ed",
   "metadata": {},
   "source": [
    "Set the initial conditions of the MCMC to one of the instantons"
   ]
  },
  {
   "cell_type": "code",
   "execution_count": null,
   "id": "1f9ad6ae",
   "metadata": {},
   "outputs": [],
   "source": [
    "def inst_Nm_to_Nm(inst_state):\n",
    "    inst_Nm = inst_state.shape[1]\n",
    "    full_state = np.zeros((dim, Nm))\n",
    "    full_state[:,:inst_Nm] = inst_state\n",
    "    return full_state\n",
    "\n",
    "if MCMC_params['state0_choice'] == 'upper_OM' and upper_OM['is_valid']:\n",
    "    MCMC_params['state0'] = upper_OM['state']\n",
    "else:\n",
    "    MCMC_params['state0'] = lower_OM['state']\n",
    "\n",
    "if MCMC_params['state0_choice'] == 'lower_OM' and lower_OM['is_valid']:\n",
    "    MCMC_params['state0'] = lower_OM['state']\n",
    "else:\n",
    "    MCMC_params['state0'] = upper_OM['state']\n",
    "    \n",
    "if MCMC_params['state0_choice'] == 'upper_OM' and upper_FW['is_valid']:\n",
    "    MCMC_params['state0'] = upper_FW['state']\n",
    "else:\n",
    "    MCMC_params['state0'] = lower_FW['state']\n",
    "\n",
    "if MCMC_params['state0_choice'] == 'lower_OM' and lower_FW['is_valid']:\n",
    "    MCMC_params['state0'] = lower_FW['state']\n",
    "else:\n",
    "    MCMC_params['state0'] = upper_FW['state']\n",
    "    \n",
    "MCMC_params['state0'] = inst_Nm_to_Nm(MCMC_params['state0'])"
   ]
  },
  {
   "cell_type": "code",
   "execution_count": null,
   "id": "52d41315",
   "metadata": {},
   "outputs": [],
   "source": [
    "fig, ax = plt.subplots(figsize=(5,5))\n",
    "X, Y = np.meshgrid(np.linspace(xlims[0], xlims[1], 400),  np.linspace(ylims[0], ylims[1], 400))\n",
    "Z = system.compute_potential(X, Y)\n",
    "#U, V = force_vec(X, Y)\n",
    "#speed = np.sqrt(U**2 + V**2)\n",
    "#lw = 6*speed / speed.max() + 0.4\n",
    "#ax.streamplot(X, Y, U, V, density=[2, 2], linewidth=lw)\n",
    "ax.contour(X, Y, Z, levels=100)\n",
    "ax.plot(upper_OM['path'][0,:], upper_OM['path'][1,:], upper_OM_inst_shape, color=upper_OM_inst_color, label='Upper OM')\n",
    "ax.plot(lower_OM['path'][0,:], lower_OM['path'][1,:], lower_OM_inst_shape, color=lower_OM_inst_color, label='Lower OM')\n",
    "ax.plot(upper_FW['path'][0,:], upper_FW['path'][1,:], upper_FW_inst_shape, color=upper_FW_inst_color, label='Upper FW')\n",
    "ax.plot(lower_FW['path'][0,:], lower_FW['path'][1,:], lower_FW_inst_shape, color=lower_FW_inst_color, label='Lower FW')\n",
    "ax.set_xlabel('x'); ax.set_ylabel('y')\n",
    "plt.legend()\n",
    "plt.tight_layout()\n",
    "plt.show()"
   ]
  },
  {
   "cell_type": "markdown",
   "id": "e74050ca",
   "metadata": {},
   "source": [
    "### Teleporters"
   ]
  },
  {
   "cell_type": "code",
   "execution_count": null,
   "id": "c43d38e8",
   "metadata": {},
   "outputs": [],
   "source": [
    "def get_shrunken_teleporter(inst, teleporter_Nm):\n",
    "    teleporter_Qf = modemc.variations.flatten_Q(inst['Q'][:,:,:teleporter_Nm,:teleporter_Nm])\n",
    "    teleporter_mean_state = inst['state'][:, :min(inst['state'].shape[1], teleporter_Nm)]\n",
    "    return modemc.protocols.GaussianTeleporter(teleporter_mean_state, teleporter_Qf, match_precision_Nm=True)\n",
    "\n",
    "upper_OM['teleporter'] = get_shrunken_teleporter(upper_OM, teleporter_Nm)\n",
    "lower_OM['teleporter'] = get_shrunken_teleporter(lower_OM, teleporter_Nm)\n",
    "upper_FW['teleporter'] = get_shrunken_teleporter(upper_FW, teleporter_Nm)\n",
    "lower_FW['teleporter'] = get_shrunken_teleporter(lower_FW, teleporter_Nm)"
   ]
  },
  {
   "cell_type": "code",
   "execution_count": null,
   "id": "f524fa41",
   "metadata": {},
   "outputs": [],
   "source": [
    "if teleporter_choice == 'OM':\n",
    "    upper_teleporter_inst = upper_OM\n",
    "    lower_teleporter_inst = lower_OM\n",
    "    \n",
    "    if not upper_teleporter_inst['is_valid']:\n",
    "        upper_teleporter_inst = upper_FW\n",
    "    if not lower_teleporter_inst['is_valid']:\n",
    "        lower_teleporter_inst = lower_FW\n",
    "elif teleporter_choice == 'FW':\n",
    "    upper_teleporter_inst = upper_FW\n",
    "    lower_teleporter_inst = lower_FW\n",
    "else:\n",
    "    raise Exception('Poor teleporter choice')\n",
    "    \n",
    "#if not upper_teleporter_inst['is_valid'] and lower_teleporter_inst['is_valid']:\n",
    "#    use_teleport = False\n",
    "#    MCMC_params['use_teleport'] = use_teleport\n",
    "#else:\n",
    "#    MCMC_params['teleporters'] = [upper_teleporter_inst['teleporter'], lower_teleporter_inst['teleporter']]\n",
    "\n",
    "MCMC_params['teleporters'] = [upper_teleporter_inst['teleporter'], lower_teleporter_inst['teleporter']]"
   ]
  },
  {
   "cell_type": "markdown",
   "id": "3700af11",
   "metadata": {},
   "source": [
    "If the instantons are not valid, use flips instead"
   ]
  },
  {
   "cell_type": "code",
   "execution_count": 27,
   "id": "e1fb8c7a",
   "metadata": {},
   "outputs": [
    {
     "name": "stdout",
     "output_type": "stream",
     "text": [
      "Using teleport\n"
     ]
    }
   ],
   "source": [
    "#if not upper_teleporter_inst['is_valid'] or not lower_teleporter_inst['is_valid']:\n",
    "#    MCMC_params['p_teleport'] = 0\n",
    "#    sim_result.log('Using flip')\n",
    "#elif system_params['beta'] > MCMC_params['flip_beta_threshold']:\n",
    "#    MCMC_params['p_flip'] = 0\n",
    "#    sim_result.log('Using teleport')\n",
    "#else:\n",
    "#    sim_result.log('Using teleport and flip')\n",
    "\n",
    "if system_params['beta'] <= MCMC_params['flip_beta_threshold']:\n",
    "    sim_result.log('Using teleport and flip')\n",
    "else:\n",
    "    MCMC_params['p_flip'] = 0\n",
    "    sim_result.log('Using teleport')"
   ]
  },
  {
   "cell_type": "markdown",
   "id": "52aa1098",
   "metadata": {
    "tags": []
   },
   "source": [
    "### Find kappa"
   ]
  },
  {
   "cell_type": "markdown",
   "id": "5a208215",
   "metadata": {},
   "source": [
    "Find the baseline kappa"
   ]
  },
  {
   "cell_type": "code",
   "execution_count": null,
   "id": "0504ae58",
   "metadata": {},
   "outputs": [
    {
     "name": "stdout",
     "output_type": "stream",
     "text": [
      "Finding baseline kappa\n"
     ]
    }
   ],
   "source": [
    "sim_result.log('Finding baseline kappa')\n",
    "\n",
    "kappa_finder_params['MCMC_params'] = dict.copy(MCMC_params) # Important that we copy MCMC_params here after state0 has been set\n",
    "kappa_finder_params['MCMC_params']['p_teleport'] = kappa_finder_params['p_teleport']\n",
    "_kappa_finder_params = dict.copy(kappa_finder_params)\n",
    "del _kappa_finder_params['p_teleport']\n",
    "kappa_finder_res = modemc.utils.find_kappa(**_kappa_finder_params)\n",
    "baseline_kappa = kappa_finder_res[0]\n",
    "\n",
    "sim_result.log('kappa_finder acceptance rate:', kappa_finder_res[1])\n",
    "sim_result.log('Baseline kappa:', baseline_kappa)"
   ]
  },
  {
   "cell_type": "markdown",
   "id": "3966764e",
   "metadata": {},
   "source": [
    "Find the Gaussian cutoff point"
   ]
  },
  {
   "cell_type": "code",
   "execution_count": null,
   "id": "85af4c01",
   "metadata": {},
   "outputs": [],
   "source": [
    "sim_result.log('Finding Gaussian cut-off')\n",
    "\n",
    "window_MCMC_params = dict.copy(MCMC_params)\n",
    "window_MCMC_params['use_teleport'] = gaussian_mode_finder_use_teleport\n",
    "window_MCMC_params['p_teleport'] = gaussian_mode_finder_p_teleport\n",
    "window_MCMC_params['use_windows'] = True\n",
    "\n",
    "find_gaussian_N_sim = Nm*gaussian_mode_finder_N_step_Nm_factor\n",
    "window_MCMC_params['Nm_save'] = 0\n",
    "window_MCMC_params['window_probs'] = np.full(Nm, 1)\n",
    "window_MCMC_params['window_indices'] = np.arange(0, Nm)\n",
    "window_MCMC_params['kappa'] = gaussian_mode_finder_params['kappa']\n",
    "\n",
    "window_sim = modemc.protocols.pCN(window_MCMC_params)\n",
    "window_sim.simulate(N_steps=find_gaussian_N_sim, batch_size=batch_size, N_save=0, N_paths_save=0, use_GB=True, verbose=True);"
   ]
  },
  {
   "cell_type": "code",
   "execution_count": null,
   "id": "56b4adc4",
   "metadata": {},
   "outputs": [],
   "source": [
    "window_sim.window_attempt_counts[window_sim.window_attempt_counts == 0] = 1\n",
    "window_acc_rates = window_sim.window_acceptance_counts / window_sim.window_attempt_counts\n",
    "\n",
    "w = np.where(window_acc_rates > gaussian_mode_finder_params['gaussian_mode_acc_threshold'])[0]\n",
    "if len(w) != 0:\n",
    "    gaussian_mode_k = w[0]\n",
    "else:\n",
    "    gaussian_mode_k = Nm\n",
    "     \n",
    "gaussian_mode_k = int(np.round(gaussian_mode_k * gaussian_mode_finder_params['gaussian_mode_multiplier']))\n",
    "    \n",
    "sim_result.log('gaussian_mode_k:', gaussian_mode_k)"
   ]
  },
  {
   "cell_type": "code",
   "execution_count": null,
   "id": "b537c791-cbd0-433f-8bec-024be5a7a5fc",
   "metadata": {},
   "outputs": [],
   "source": [
    "del window_sim"
   ]
  },
  {
   "cell_type": "markdown",
   "id": "96d717da",
   "metadata": {},
   "source": [
    "Construct the kappa vector"
   ]
  },
  {
   "cell_type": "code",
   "execution_count": null,
   "id": "621762b4",
   "metadata": {},
   "outputs": [],
   "source": [
    "def sigmoid(x, xmin, xmax, mu, sig):\n",
    "    return xmin + (xmax - xmin) / (1 + np.exp(-sig*(x-mu)))\n",
    "\n",
    "ms = np.arange(0, Nm)\n",
    "kappas = sigmoid(ms, baseline_kappa, 1, gaussian_mode_k, gaussian_mode_finder_params['kappas_sig'])\n",
    "MCMC_params['kappa'] = kappas"
   ]
  },
  {
   "cell_type": "code",
   "execution_count": null,
   "id": "ad17c655",
   "metadata": {},
   "outputs": [],
   "source": [
    "fig,ax = plt.subplots()\n",
    "\n",
    "ax.plot(ms, window_acc_rates, color=\"blue\")\n",
    "ax.set_ylabel(\"Acceptance rate\", color=\"blue\")\n",
    "\n",
    "ax2 = ax.twinx()\n",
    "ax2.plot(ms, kappas, color='red')\n",
    "ax2.set_xlabel(\"Mode\")\n",
    "ax2.set_ylabel(r'$\\kappa$', color=\"red\")\n",
    "\n",
    "plt.xscale('log')\n",
    "plt.show()"
   ]
  },
  {
   "cell_type": "code",
   "execution_count": null,
   "id": "858e1c16",
   "metadata": {},
   "outputs": [],
   "source": [
    "results['baseline_kappa'] = baseline_kappa\n",
    "results['kappas'] = kappas\n",
    "results['gaussian_mode_k'] = gaussian_mode_k\n",
    "results['window_acc_rates'] = window_acc_rates"
   ]
  },
  {
   "cell_type": "markdown",
   "id": "7e3bc6b5-f91d-488c-8ac6-cc9d68b6d2aa",
   "metadata": {},
   "source": [
    "### Free up memory\n",
    "\n",
    "We save the calibration results to free them from memory."
   ]
  },
  {
   "cell_type": "code",
   "execution_count": null,
   "id": "e9b6b221-2730-4124-bfc9-8077516253ef",
   "metadata": {},
   "outputs": [],
   "source": [
    "keys_to_store = ['S', 'Z_sign', 'log_Z', 'is_valid']\n",
    "for inst_k in ['upper_OM', 'lower_OM', 'upper_FW', 'lower_FW']:\n",
    "    for ks in keys_to_store:\n",
    "        calcs['%s_%s' % (inst_k, ks)] = results['%s_instanton' % inst_k][ks]\n",
    "        \n",
    "for inst_k in ['upper_OM_instanton', 'lower_OM_instanton', 'upper_FW_instanton', 'lower_FW_instanton']:\n",
    "    inst = results[inst_k]\n",
    "    \n",
    "    sim_result.log('%s:' % inst_k, log_name='results', print_time=False)\n",
    "\n",
    "    det_Q_sign, log_det_Q = np.linalg.slogdet(inst['Qf'])\n",
    "\n",
    "    sim_result.log('  %s: %s' % ('S0', inst['S0']), log_name='results', print_time=False)\n",
    "    sim_result.log('  %s: %s' % ('S', inst['S']), log_name='results', print_time=False)\n",
    "\n",
    "    sim_result.log('  %s: %s' % ('end_status', inst['end_status']), log_name='results', print_time=False)\n",
    "    sim_result.log('  %s: %s' % ('end_step', inst['end_step']), log_name='results', print_time=False)\n",
    "    sim_result.log('  %s: %s' % ('dS', inst['dS']), log_name='results', print_time=False)\n",
    "    sim_result.log('  %s: %s' % ('|gradS|', inst['|gradS|']), log_name='results', print_time=False)\n",
    "    sim_result.log('  %s: %s' % ('step_size', inst['step_size']), log_name='results', print_time=False)\n",
    "    sim_result.log('  %s: %s' % ('is_valid', inst['is_valid']), log_name='results', print_time=False)\n",
    "\n",
    "    sim_result.log('  %s: %s' % ('Z_sign', inst['Z_sign']), log_name='results', print_time=False)\n",
    "    sim_result.log('  %s: %s' % ('log_Z', inst['Z_sign']), log_name='results', print_time=False)\n",
    "    sim_result.log('  %s: %s' % ('det_Q_sign', det_Q_sign), log_name='results', print_time=False)\n",
    "    sim_result.log('  %s: %s' % ('log_det_Q', log_det_Q), log_name='results', print_time=False)\n",
    "    \n",
    "    sim_result.log('', log_name='results', print_time=False)"
   ]
  },
  {
   "cell_type": "code",
   "execution_count": null,
   "id": "dc78ce05-d5bb-46fe-8127-73b508e7c7b6",
   "metadata": {},
   "outputs": [],
   "source": [
    "del_keys = ['Q', 'Qf', 'Qfxx', 'Qfxdx', 'Qfxdxd', 'teleporter']\n",
    "\n",
    "for inst in [upper_OM, lower_OM, upper_FW, lower_FW]:\n",
    "    for k in del_keys:\n",
    "        del inst[k]\n",
    "        \n",
    "sim_result.save_pkl('results', results)\n",
    "del results"
   ]
  },
  {
   "cell_type": "markdown",
   "id": "d354ac42",
   "metadata": {},
   "source": [
    "## 3. Define observables"
   ]
  },
  {
   "cell_type": "code",
   "execution_count": null,
   "id": "d768e1ca",
   "metadata": {},
   "outputs": [],
   "source": [
    "intermediate_observables = {\n",
    "    'accept_rate' : [],\n",
    "    'avg_upper_channel_residency' : [],\n",
    "    'upper_channel_path_rate' : [],\n",
    "    'pos_coeffy0' : [],\n",
    "    'steps' : [],\n",
    "}"
   ]
  },
  {
   "cell_type": "markdown",
   "id": "1d7b714e",
   "metadata": {},
   "source": [
    "Accept rate"
   ]
  },
  {
   "cell_type": "code",
   "execution_count": null,
   "id": "c01bdbb0",
   "metadata": {},
   "outputs": [],
   "source": [
    "accept_count = 0\n",
    "accept_N = 0\n",
    "\n",
    "def compute_accept_rate(batch_states, batch_accepts, batch_actions, batch_paths, batch_d_paths):\n",
    "    global accept_count, accept_N\n",
    "    \n",
    "    M = int(np.ceil(batch_states.shape[0] / N_intermediate_observable))\n",
    "    for i in range(M):\n",
    "        _batch_accepts = batch_accepts[i*N_intermediate_observable:(i+1)*N_intermediate_observable]\n",
    "        accept_count += np.count_nonzero(_batch_accepts)\n",
    "        accept_N += len(_batch_accepts)\n",
    "        \n",
    "        intermediate_observables['accept_rate'].append(accept_count/accept_N)\n",
    "        intermediate_observables['steps'].append(accept_N)"
   ]
  },
  {
   "cell_type": "markdown",
   "id": "a3516540",
   "metadata": {},
   "source": [
    "Measure the channel rates"
   ]
  },
  {
   "cell_type": "code",
   "execution_count": null,
   "id": "1328fc1a",
   "metadata": {},
   "outputs": [],
   "source": [
    "upper_channel_time = 0\n",
    "upper_channel_total = 0\n",
    "upper_channel_paths_count = 0\n",
    "pos_coeffy0_count = 0\n",
    "\n",
    "def compute_channel_rates(batch_states, batch_accepts, batch_actions, batch_paths, batch_d_paths):\n",
    "    global upper_channel_time, upper_channel_total\n",
    "    global upper_channel_paths_count\n",
    "    global pos_coeffy0_count\n",
    "    \n",
    "    M = int(np.ceil(batch_states.shape[0] / N_intermediate_observable))\n",
    "    for i in range(M):\n",
    "        _batch_paths = batch_paths[i*N_intermediate_observable:(i+1)*N_intermediate_observable]\n",
    "        _batch_states = batch_states[i*N_intermediate_observable:(i+1)*N_intermediate_observable]\n",
    "        \n",
    "        theta = np.einsum('in,n->i', _batch_paths[:,1,:] > 0, sim.quad_weights) / Tf\n",
    "        upper_channel_time += np.sum(theta)\n",
    "        upper_channel_paths_count += np.count_nonzero(theta > 0.5)\n",
    "        upper_channel_total += len(_batch_paths)\n",
    "    \n",
    "        pos_coeffy0_count += np.count_nonzero(_batch_states[:,1,0] > 0)\n",
    "        \n",
    "        intermediate_observables['avg_upper_channel_residency'].append(upper_channel_time/upper_channel_total)\n",
    "        intermediate_observables['upper_channel_path_rate'].append(upper_channel_paths_count/upper_channel_total)\n",
    "        intermediate_observables['pos_coeffy0'].append(pos_coeffy0_count/upper_channel_total)"
   ]
  },
  {
   "cell_type": "markdown",
   "id": "deca10ca",
   "metadata": {},
   "source": [
    "Register the observables"
   ]
  },
  {
   "cell_type": "code",
   "execution_count": null,
   "id": "f3b949e9",
   "metadata": {},
   "outputs": [],
   "source": [
    "observables_funcs = {\n",
    "    'accept_rate' : compute_accept_rate,\n",
    "    'channel_rates' : compute_channel_rates,\n",
    "}"
   ]
  },
  {
   "cell_type": "markdown",
   "id": "5ac946a6",
   "metadata": {},
   "source": [
    "## 4. Run simulation"
   ]
  },
  {
   "cell_type": "code",
   "execution_count": null,
   "id": "573f695c",
   "metadata": {},
   "outputs": [],
   "source": [
    "def print_time_left(step_i, time_per_step, time_elapsed):\n",
    "    global accept_count, accept_N\n",
    "    clear_output(wait=True)\n",
    "    steps_left = N_steps - sim.steps\n",
    "\n",
    "    time_left = steps_left * time_per_step\n",
    "    if time_left < 60:\n",
    "        time_left_str = '%s secs' % int(np.round(time_left))\n",
    "    if time_left > 60:\n",
    "        time_left_str = '%s mins' % np.round(time_left/60, 2)\n",
    "    if time_left > 60*60:\n",
    "        time_left_str = '%s hrs' % np.round(time_left/(60*60),2)\n",
    "    if time_left > 60*60*24:\n",
    "        time_left_str = '%s days' % np.round(time_left/(60*60*24),2)\n",
    "\n",
    "    if sim.steps != 0:\n",
    "        total = 0\n",
    "        current_accept_count = accept_count + np.count_nonzero(sim.accepts_arr[:step_i])\n",
    "        current_accept_N = accept_N + step_i + 1\n",
    "        accept_rate = np.round(current_accept_count / current_accept_N, 4)\n",
    "    else:\n",
    "        accept_rate = np.nan\n",
    "\n",
    "    print('Time Left: %s. Steps %s/%s' % (time_left_str, \"{:.2e}\".format(sim.steps), \"{:.2e}\".format(N_steps)))\n",
    "    \n",
    "    for k, v in intermediate_observables.items():\n",
    "        if k == 'steps':\n",
    "            continue\n",
    "        if len(v) > 0:\n",
    "            print(' %s=%s' % (k, v[-1]))\n",
    "        \n",
    "    if sim.steps != 0:\n",
    "        teleportation_rate = sim.teleportation_count / sim.steps\n",
    "    else:\n",
    "        teleportation_rate = np.nan\n",
    "    if sim.teleportation_attempts != 0:\n",
    "        teleporation_success_rate = sim.teleportation_count / sim.teleportation_attempts\n",
    "    else:\n",
    "        teleporation_success_rate = np.nan\n",
    "       \n",
    "    print(' %s=%s' % ('t_count', sim.teleportation_count))\n",
    "    print(' %s=%s' % ('t_rate', teleportation_rate))\n",
    "    print(' %s=%s' % ('t_succ_rate', teleporation_success_rate))\n",
    "    print(flush=True)"
   ]
  },
  {
   "cell_type": "code",
   "execution_count": null,
   "id": "06d2c213",
   "metadata": {},
   "outputs": [],
   "source": [
    "sim = MCMC_protocol(MCMC_params)"
   ]
  },
  {
   "cell_type": "code",
   "execution_count": null,
   "id": "485f1c18-6a01-4ee8-bdb8-2ab9958ffcd1",
   "metadata": {},
   "outputs": [],
   "source": [
    "# There is a bug somewhere in pyfftw that causes the dct to malfunction seemingly by random. We re-initialise \n",
    "\n",
    "state = np.zeros((system_params['dim'], MCMC_params['Nm']))\n",
    "state[:, :] = np.random.normal(0, size=state.shape[0]*state.shape[1]).reshape(state.shape)\n",
    "\n",
    "real_path, real_d_path = modemc.utils.eval_path(system_params['x0'], system_params['x1'], sim.ts, system_params['Tf'], state)\n",
    "fft_path, fft_d_path = sim.FFT_compute_path_and_dpath(state)\n",
    "\n",
    "attempts = 0\n",
    "max_attempts = int(1e4)\n",
    "\n",
    "while not (np.allclose(fft_path, real_path) and np.allclose(fft_d_path, real_d_path)):\n",
    "    sim = MCMC_protocol(MCMC_params)\n",
    "    fft_path, fft_d_path = sim.FFT_compute_path_and_dpath(state)\n",
    "\n",
    "    attempts += 1\n",
    "    \n",
    "    if attempts > max_attemps:\n",
    "        raise Exception('Getting the correct DCT failed.')\n",
    "        \n",
    "print('FFTW re-initialisations required:', attempts)"
   ]
  },
  {
   "cell_type": "code",
   "execution_count": null,
   "id": "992e3589",
   "metadata": {},
   "outputs": [],
   "source": [
    "N_batch = min(modemc.utils.get_N_steps_to_match_batch_size(sim.Nm_save, sim.Nq, sim.dim, batch_size), N_steps)\n",
    "batches = int(np.ceil(float(N_steps) / N_batch))\n",
    "state_save_ratio = min(N_save/float(N_steps), 1.0)\n",
    "path_save_ratio = min(N_paths_save/float(N_steps), 1.0)\n",
    "real_batch_size = np.round(modemc.utils.get_batch_size(sim.Nm_save, sim.Nq, sim.dim, N_batch),2)\n",
    "steps_per_batch = int(np.round(N_steps/batches))\n",
    "\n",
    "N_steps_left = N_steps\n",
    "\n",
    "sim_result.log('Batches:', batches)\n",
    "sim_result.log('Batch size: %s gb' % real_batch_size)\n",
    "sim_result.log('Steps per batch:', steps_per_batch)"
   ]
  },
  {
   "cell_type": "code",
   "execution_count": null,
   "id": "6daed5a8",
   "metadata": {},
   "outputs": [],
   "source": [
    "#full_states = []\n",
    "#prev_full_states = []\n",
    "#current_states = []"
   ]
  },
  {
   "cell_type": "code",
   "execution_count": null,
   "id": "1ee4a9e8",
   "metadata": {},
   "outputs": [],
   "source": [
    "sim_result.log('Starting simulation')\n",
    "\n",
    "sim_time_start = time.time()\n",
    "\n",
    "accept_count = 0\n",
    "\n",
    "N_steps_left = N_steps\n",
    "_N_batch = N_batch\n",
    "\n",
    "for i in range(batches):\n",
    "    if _N_batch > N_steps_left:\n",
    "        _N_batch = N_steps_left\n",
    "    \n",
    "    batch_states, batch_accepts, batch_actions, batch_paths, batch_d_paths = sim.simulate_batch(_N_batch, event_func=print_time_left, N_event=N_sim_verbose)\n",
    "\n",
    "    #full_states.append(np.copy(sim.full_state_arr))\n",
    "    #prev_full_states.append(np.copy(sim.prev_full_state_arr))\n",
    "    #current_states.append(np.copy(sim.current_state))\n",
    "    \n",
    "    for compute_observable_func in observables_funcs.values():\n",
    "        compute_observable_func(batch_states, batch_accepts, batch_actions, batch_paths, batch_d_paths)\n",
    "    \n",
    "    sim_result.save_data({\n",
    "        'states' : sim.states_arr,\n",
    "        'accepts' : sim.accepts_arr,\n",
    "        'actions' : sim.actions_arr,\n",
    "    }, sample_ratio=state_save_ratio)\n",
    "    \n",
    "    sim_result.save_data({\n",
    "        'paths' : sim.paths_arr,\n",
    "        'd_paths' : sim.d_paths_arr,\n",
    "    }, sample_ratio=path_save_ratio)\n",
    "    \n",
    "    N_steps_left -= _N_batch\n",
    "    \n",
    "sim_time_end = time.time()\n",
    "sim_time = sim_time_end - sim_time_start"
   ]
  },
  {
   "cell_type": "code",
   "execution_count": null,
   "id": "9c3bf4db",
   "metadata": {},
   "outputs": [],
   "source": [
    "#sim_result.save_data({\n",
    "#    'full_states' : np.array(full_states),\n",
    "#    'prev_full_states' : np.array(prev_full_states),\n",
    "#    'current_states' : np.array(current_states),\n",
    "#}, sample_ratio=1.0)"
   ]
  },
  {
   "cell_type": "code",
   "execution_count": null,
   "id": "f0ef112e",
   "metadata": {},
   "outputs": [],
   "source": [
    "sim_states['sim_time'] = sim_time/(60*60)\n",
    "\n",
    "if not sim.window_acceptance_counts is None:\n",
    "    sim_states['window_acceptance_counts'] = sim.window_acceptance_counts\n",
    "    sim_states['window_attempt_counts'] = sim.window_attempt_counts\n",
    "    _window_attempt_counts = np.copy(sim.window_attempt_counts); _window_attempt_counts[_window_attempt_counts==0] = 1\n",
    "    sim_states['window_acceptance_rates'] = sim.window_acceptance_counts / _window_attempt_counts\n",
    "\n",
    "if not sim.teleportation_attempts is None:\n",
    "    sim_states['teleportation_attempts'] = sim.teleportation_attempts\n",
    "    sim_states['teleportation_count'] = sim.teleportation_count\n",
    "    sim_states['teleportation_rate'] = sim.teleportation_count / N_steps\n",
    "    \n",
    "for k, v in sim_states.items():\n",
    "    sim_result.log('%s: %s' % (k, v), log_name='sim_states')"
   ]
  },
  {
   "cell_type": "markdown",
   "id": "6eece87c",
   "metadata": {},
   "source": [
    "## 5. Analysis"
   ]
  },
  {
   "cell_type": "code",
   "execution_count": null,
   "id": "db29736d",
   "metadata": {},
   "outputs": [],
   "source": [
    "for k, v in intermediate_observables.items():\n",
    "    if len(v) > 0:\n",
    "        calcs[k] = v[-1]"
   ]
  },
  {
   "cell_type": "code",
   "execution_count": null,
   "id": "c7f72e13",
   "metadata": {},
   "outputs": [],
   "source": [
    "def compute_semi_analytical_channel_rate(upper_inst, lower_inst):\n",
    "    if upper_inst['is_valid'] and lower_inst['is_valid']:\n",
    "        dS = upper_inst['S'] - lower_inst['S']\n",
    "        dQ = lower_inst['log_Z'] - upper_inst['log_Z']\n",
    "        Q_channel_rate = 1 / (1 + np.exp(dQ+dS))\n",
    "        inst_channel_rate = 1 / (1 + np.exp(dS))\n",
    "    elif not upper_inst['is_valid'] or not lower_inst['is_valid']:\n",
    "        Q_channel_rate = np.nan\n",
    "        inst_channel_rate = np.nan\n",
    "        \n",
    "    return Q_channel_rate, inst_channel_rate\n",
    "\n",
    "calcs['Q_OM_channel_rate'], calcs['inst_OM_channel_rate'] = compute_semi_analytical_channel_rate(upper_OM, lower_OM)\n",
    "calcs['Q_FW_channel_rate'], calcs['inst_FW_channel_rate'] = compute_semi_analytical_channel_rate(upper_FW, lower_FW)"
   ]
  },
  {
   "cell_type": "code",
   "execution_count": null,
   "id": "3faf1a32",
   "metadata": {},
   "outputs": [],
   "source": [
    "sim_states['sim_time'] = sim_time/(60*60)\n",
    "\n",
    "if not sim.window_acceptance_counts is None:\n",
    "    sim_states['window_acceptance_counts'] = sim.window_acceptance_counts\n",
    "    sim_states['window_attempt_counts'] = sim.window_attempt_counts\n",
    "    _window_attempt_counts = np.copy(sim.window_attempt_counts); _window_attempt_counts[_window_attempt_counts==0] = 1\n",
    "    sim_states['window_acceptance_rates'] = sim.window_acceptance_counts / _window_attempt_counts\n",
    "\n",
    "if not sim.teleportation_attempts is None:\n",
    "    sim_states['use_teleport'] = MCMC_params['use_teleport']\n",
    "    \n",
    "    sim_states['teleportation_attempts'] = sim.teleportation_attempts\n",
    "    sim_states['teleportation_count'] = sim.teleportation_count\n",
    "    sim_states['teleportation_rate'] = sim.teleportation_count / N_steps\n",
    "    sim_states['teleporter_attempts'] = sim.teleporter_attempts\n",
    "    sim_states['teleporter_count'] = sim.teleporter_count\n",
    "    \n",
    "    _teleporter_attempts = np.copy(sim.teleporter_attempts)\n",
    "    _teleporter_attempts[_teleporter_attempts==0] = 1\n",
    "    sim_states['teleporter_success_rate'] = sim.teleporter_count / _teleporter_attempts\n",
    "    sim_states['teleporter_rate'] = sim.teleporter_count / N_steps\n",
    "    \n",
    "    sim_states['flip_attempts'] = sim.flip_attempts\n",
    "    sim_states['flip_count'] = sim.flip_count\n",
    "    _flip_attempts = sim.flip_attempts\n",
    "    if _flip_attempts == 0:\n",
    "        _flip_attempts = 1\n",
    "    sim_states['flip_success_rate'] = sim.flip_count / _flip_attempts\n",
    "    sim_states['flip_rate'] = sim.flip_count / N_steps\n",
    "    \n",
    "sim_states['N_batch'] = N_batch\n",
    "sim_states['batches'] = batches\n",
    "sim_states['batch_size'] = batch_size\n",
    "\n",
    "for k, v in sim_states.items():\n",
    "    sim_result.log('%s: %s' % (k, v), log_name='sim_states', print_time=False)"
   ]
  },
  {
   "cell_type": "code",
   "execution_count": null,
   "id": "a588c199",
   "metadata": {},
   "outputs": [],
   "source": [
    "for k, v in calcs.items():\n",
    "    sim_result.log('%s: %s' % (k, v), log_name='calcs', print_time=False)"
   ]
  },
  {
   "cell_type": "markdown",
   "id": "63092404",
   "metadata": {},
   "source": [
    "## 6. Plots"
   ]
  },
  {
   "cell_type": "code",
   "execution_count": null,
   "id": "1e03d8e7",
   "metadata": {},
   "outputs": [],
   "source": [
    "states, paths, actions, accepts = sim_result.load_random_sample(1.0, ['states', 'paths', 'actions', 'accepts'])"
   ]
  },
  {
   "cell_type": "code",
   "execution_count": null,
   "id": "f835584c",
   "metadata": {},
   "outputs": [],
   "source": [
    "try:\n",
    "    fig, ax = plt.subplots(figsize=(7,7))\n",
    "    plotting.trajectories_2D(fig, system, states, xlims, ylims, plot_num=traj_plot_num, plot_potential=True, plot_force=True,\n",
    "                        contour_levels=50, force_density=[2,2], traj_lw=traj_lw, traj_alpha=traj_alpha, overlay_paths=[\n",
    "        (\"FW upper S=%s, valid=%s\" % (np.round(upper_FW['S'],2), upper_FW['is_valid']), upper_FW_inst_shape, upper_FW_inst_color, upper_FW['state']),\n",
    "        (\"FW lower S=%s, valid=%s\" % (np.round(lower_FW['S'],2), lower_FW['is_valid']), lower_FW_inst_shape, lower_FW_inst_color, lower_FW['state']),       \n",
    "        (\"OM upper S=%s, valid=%s\" % (np.round(upper_OM['S'],2), upper_OM['is_valid']), upper_OM_inst_shape, upper_OM_inst_color, upper_OM['state']),\n",
    "        (\"OM lower S=%s, valid=%s\" % (np.round(lower_OM['S'],2), lower_OM['is_valid']), lower_OM_inst_shape, lower_OM_inst_color, lower_OM['state']),\n",
    "    ])\n",
    "    #fig.suptitle(sim_result.result_name)\n",
    "    plt.legend(loc='center')\n",
    "    plt.tight_layout()\n",
    "    sim_result.save_figure(fig, 'trajectories', dpi=400)\n",
    "    plt.show()\n",
    "except Exception as e:\n",
    "    sim_result.log_error('trajectories', e)"
   ]
  },
  {
   "cell_type": "code",
   "execution_count": null,
   "id": "8d029813",
   "metadata": {},
   "outputs": [],
   "source": [
    "try:\n",
    "    fig, ax = plt.subplots(figsize=(7,7))\n",
    "    plotting.trajectories_2D_path(fig, system, sim.ts, paths, xlims, ylims, plot_num=traj_plot_num, plot_potential=True, plot_force=True,\n",
    "                        contour_levels=50, force_density=[2,2], traj_lw=traj_lw, traj_alpha=traj_alpha, overlay_paths=[\n",
    "        (\"FW upper S=%s, valid=%s\" % (np.round(upper_FW['S'],2), upper_FW['is_valid']), upper_FW_inst_shape, upper_FW_inst_color, upper_FW['state']),\n",
    "        (\"FW lower S=%s, valid=%s\" % (np.round(lower_FW['S'],2), lower_FW['is_valid']), lower_FW_inst_shape, lower_FW_inst_color, lower_FW['state']),       \n",
    "        (\"OM upper S=%s, valid=%s\" % (np.round(upper_OM['S'],2), upper_OM['is_valid']), upper_OM_inst_shape, upper_OM_inst_color, upper_OM['state']),\n",
    "        (\"OM lower S=%s, valid=%s\" % (np.round(lower_OM['S'],2), lower_OM['is_valid']), lower_OM_inst_shape, lower_OM_inst_color, lower_OM['state']),\n",
    "    ])\n",
    "    #fig.suptitle(sim_result.result_name)\n",
    "    plt.legend(loc='center')\n",
    "    plt.tight_layout()\n",
    "    sim_result.save_figure(fig, 'trajectories_rough', dpi=400)\n",
    "    plt.show()\n",
    "except Exception as e:\n",
    "    sim_result.log_error('trajectories_rough', e)"
   ]
  },
  {
   "cell_type": "code",
   "execution_count": null,
   "id": "73da8845",
   "metadata": {},
   "outputs": [],
   "source": [
    "try:\n",
    "    fig, ax = plt.subplots(figsize=(10,6))\n",
    "    plotting.trajectories_1D(fig, system, states, tlims, xlims, plot_num=traj_plot_num, plot_dimension=0,\n",
    "                        extrema=[], traj_lw=traj_lw, traj_alpha=traj_alpha, axes_labels=['t', 'x'], overlay_paths=[\n",
    "        (\"FW upper S=%s, valid=%s\" % (np.round(upper_FW['S'],2), upper_FW['is_valid']), upper_FW_inst_shape, upper_FW_inst_color, upper_FW['state']),\n",
    "        (\"FW lower S=%s, valid=%s\" % (np.round(lower_FW['S'],2), lower_FW['is_valid']), lower_FW_inst_shape, lower_FW_inst_color, lower_FW['state']),       \n",
    "        (\"OM upper S=%s, valid=%s\" % (np.round(upper_OM['S'],2), upper_OM['is_valid']), upper_OM_inst_shape, upper_OM_inst_color, upper_OM['state']),\n",
    "        (\"OM lower S=%s, valid=%s\" % (np.round(lower_OM['S'],2), lower_OM['is_valid']), lower_OM_inst_shape, lower_OM_inst_color, lower_OM['state']),\n",
    "    ])\n",
    "    #fig.suptitle(sim_result.result_name)\n",
    "    plt.legend(loc='lower right')\n",
    "    plt.tight_layout()\n",
    "    sim_result.save_figure(fig, 'trajectories_x', dpi=400)\n",
    "    plt.show()\n",
    "except Exception as e:\n",
    "    x = e\n",
    "    sim_result.log_error('trajectories_x', e)\n",
    "    sim_result.log(traceback.format_exc(), log_name='error')\n",
    "    #traceback.print_tb(e.__traceback__)"
   ]
  },
  {
   "cell_type": "code",
   "execution_count": null,
   "id": "f5dae662",
   "metadata": {},
   "outputs": [],
   "source": [
    "try:\n",
    "    fig, ax = plt.subplots(figsize=(10,6))\n",
    "    plotting.trajectories_1D(fig, system, states, tlims, xlims, plot_num=traj_plot_num, plot_dimension=1,\n",
    "                        extrema=[], traj_lw=traj_lw, traj_alpha=traj_alpha, axes_labels=['t', 'x'], overlay_paths=[\n",
    "        (\"FW upper S=%s, valid=%s\" % (np.round(upper_FW['S'],2), upper_FW['is_valid']), upper_FW_inst_shape, upper_FW_inst_color, upper_FW['state']),\n",
    "        (\"FW lower S=%s, valid=%s\" % (np.round(lower_FW['S'],2), lower_FW['is_valid']), lower_FW_inst_shape, lower_FW_inst_color, lower_FW['state']),       \n",
    "        (\"OM upper S=%s, valid=%s\" % (np.round(upper_OM['S'],2), upper_OM['is_valid']), upper_OM_inst_shape, upper_OM_inst_color, upper_OM['state']),\n",
    "        (\"OM lower S=%s, valid=%s\" % (np.round(lower_OM['S'],2), lower_OM['is_valid']), lower_OM_inst_shape, lower_OM_inst_color, lower_OM['state']),\n",
    "    ])\n",
    "    #fig.suptitle(sim_result.result_name)\n",
    "    plt.legend(loc='lower right')\n",
    "    plt.tight_layout()\n",
    "    sim_result.save_figure(fig, 'trajectories_y', dpi=400)\n",
    "    plt.show()\n",
    "except Exception as e:\n",
    "    x = e\n",
    "    sim_result.log_error('trajectories_y', e)\n",
    "    sim_result.log(traceback.format_exc(), log_name='error')\n",
    "    #traceback.print_tb(e.__traceback__)"
   ]
  },
  {
   "cell_type": "code",
   "execution_count": null,
   "id": "d526775b",
   "metadata": {},
   "outputs": [],
   "source": [
    "try:\n",
    "    fig, ax = plt.subplots(figsize=(5, 5))\n",
    "    covs = plotting.plot_abs_cov_matrix(fig, states, covariance_samples_sum=-1, plot_diagonal=False)\n",
    "    #fig.suptitle(sim_result.result_name)\n",
    "    plt.tight_layout()\n",
    "    plt.show()\n",
    "    sim_result.save_calculations({\n",
    "        'covariance' : covs\n",
    "    })\n",
    "    sim_result.save_figure(fig, 'abs_covariance', dpi=400)\n",
    "except Exception as e:\n",
    "    sim_result.log_error('abs_covs', e)"
   ]
  },
  {
   "cell_type": "code",
   "execution_count": null,
   "id": "52af2ae2",
   "metadata": {},
   "outputs": [],
   "source": [
    "try:\n",
    "    fig, ax = plt.subplots(figsize=(5, 5))\n",
    "    corr_coeff = plotting.plot_abs_corr_coeff_matrix(fig, states, covariance_samples_sum=-1, plot_diagonal=False)\n",
    "    #fig.suptitle(sim_result.result_name)\n",
    "    plt.tight_layout()\n",
    "    plt.show()\n",
    "    sim_result.save_calculations({\n",
    "        'corr_coeff' : corr_coeff\n",
    "    })\n",
    "    sim_result.save_figure(fig, 'corr_coeff', dpi=400)\n",
    "except Exception as e:\n",
    "    sim_result.log_error('corr_coeff', e)"
   ]
  },
  {
   "cell_type": "code",
   "execution_count": null,
   "id": "a88845d4",
   "metadata": {},
   "outputs": [],
   "source": [
    "try:\n",
    "    fig, axes = plotting.mode_distribution(system, states, w_per_dim=3, overlay_paths=[\n",
    "        (\"FW upper S=%s, valid=%s\" % (np.round(upper_FW['S'],2), upper_FW['is_valid']), upper_FW_inst_shape, upper_FW_inst_color, upper_FW['state']),\n",
    "        (\"FW lower S=%s, valid=%s\" % (np.round(lower_FW['S'],2), lower_FW['is_valid']), lower_FW_inst_shape, lower_FW_inst_color, lower_FW['state']),       \n",
    "        (\"OM upper S=%s, valid=%s\" % (np.round(upper_OM['S'],2), upper_OM['is_valid']), upper_OM_inst_shape, upper_OM_inst_color, upper_OM['state']),\n",
    "        (\"OM lower S=%s, valid=%s\" % (np.round(lower_OM['S'],2), lower_OM['is_valid']), lower_OM_inst_shape, lower_OM_inst_color, lower_OM['state']),\n",
    "    ])\n",
    "    plt.tight_layout()\n",
    "    sim_result.save_figure(fig, 'coeffs')\n",
    "    fig.show()\n",
    "except Exception as e:\n",
    "    sim_result.log_error('coeffs', e)"
   ]
  },
  {
   "cell_type": "code",
   "execution_count": null,
   "id": "9b309a7d",
   "metadata": {},
   "outputs": [],
   "source": [
    "try:\n",
    "    upper_states_mask = states[:, 1, 0] > 0\n",
    "    fig, axes = plotting.mode_distribution2(system, states[upper_states_mask], states[~upper_states_mask], w_per_dim=3, overlay_paths=[\n",
    "        (\"FW upper S=%s, valid=%s\" % (np.round(upper_FW['S'],2), upper_FW['is_valid']), upper_FW_inst_shape, upper_FW_inst_color, upper_FW['state']),\n",
    "        (\"FW lower S=%s, valid=%s\" % (np.round(lower_FW['S'],2), lower_FW['is_valid']), lower_FW_inst_shape, lower_FW_inst_color, lower_FW['state']),       \n",
    "        (\"OM upper S=%s, valid=%s\" % (np.round(upper_OM['S'],2), upper_OM['is_valid']), upper_OM_inst_shape, upper_OM_inst_color, upper_OM['state']),\n",
    "        (\"OM lower S=%s, valid=%s\" % (np.round(lower_OM['S'],2), lower_OM['is_valid']), lower_OM_inst_shape, lower_OM_inst_color, lower_OM['state']),\n",
    "    ])\n",
    "    plt.tight_layout()\n",
    "    sim_result.save_figure(fig, 'split_coeffs')\n",
    "    fig.show()\n",
    "except Exception as e:\n",
    "    sim_result.log_error('split_coeffs', e)"
   ]
  },
  {
   "cell_type": "code",
   "execution_count": null,
   "id": "29c42526",
   "metadata": {},
   "outputs": [],
   "source": [
    "try:\n",
    "    fig, axes = plotting.plot_intermediate_observables(intermediate_observables)\n",
    "    plt.tight_layout()\n",
    "    sim_result.save_figure(fig, 'intermediate_observables')\n",
    "    fig.show()\n",
    "except Exception as e:\n",
    "    sim_result.log_error('intermediate_observables', e)"
   ]
  },
  {
   "cell_type": "code",
   "execution_count": null,
   "id": "3ccfab5b",
   "metadata": {},
   "outputs": [],
   "source": [
    "try:\n",
    "    second_half_intermediate_observables = {}\n",
    "    for k, v in intermediate_observables.items():\n",
    "        l = len(intermediate_observables[k])\n",
    "        second_half_intermediate_observables[k] = intermediate_observables[k][int(np.round(l/2)):]\n",
    "    \n",
    "    fig, axes = plotting.plot_intermediate_observables(second_half_intermediate_observables)\n",
    "    plt.tight_layout()\n",
    "    sim_result.save_figure(fig, 'second_half_intermediate_observables')\n",
    "    fig.show()\n",
    "except Exception as e:\n",
    "    sim_result.log_error('second_half_intermediate_observables', e)"
   ]
  },
  {
   "cell_type": "code",
   "execution_count": null,
   "id": "5f453e71",
   "metadata": {},
   "outputs": [],
   "source": [
    "try:\n",
    "    fig, axes = plotting.plot_intermediate_observables_rms(intermediate_observables)\n",
    "    plt.tight_layout()\n",
    "    sim_result.save_figure(fig, 'intermediate_observables_rms')\n",
    "    fig.show()\n",
    "except Exception as e:\n",
    "    sim_result.log_error('intermediate_observables_rms', e)"
   ]
  },
  {
   "cell_type": "code",
   "execution_count": null,
   "id": "031c3a6e",
   "metadata": {},
   "outputs": [],
   "source": [
    "try:\n",
    "    fig, axes = plotting.plot_intermediate_observables_rms_window(intermediate_observables, intermediate_observables_rms_window)\n",
    "    plt.tight_layout()\n",
    "    sim_result.save_figure(fig, 'intermediate_observables_rms_window')\n",
    "    fig.show()\n",
    "except Exception as e:\n",
    "    sim_result.log_error('intermediate_observables_rms_window', e)"
   ]
  },
  {
   "cell_type": "code",
   "execution_count": null,
   "id": "48157c1d",
   "metadata": {},
   "outputs": [],
   "source": [
    "sim_result.remove_note('UNFINISHED')\n",
    "sim_result.save_note('DONE', str(datetime.datetime.now()))"
   ]
  },
  {
   "cell_type": "code",
   "execution_count": null,
   "id": "50b822de",
   "metadata": {},
   "outputs": [],
   "source": [
    "param_dicts = {}\n",
    "for k, v in globals().items():\n",
    "    if k.endswith('_params') and type(v) == dict:\n",
    "        param_dicts[k] = v\n",
    "sim_result.save_pkl('params', param_dicts)"
   ]
  },
  {
   "cell_type": "code",
   "execution_count": null,
   "id": "988165b9",
   "metadata": {},
   "outputs": [],
   "source": [
    "sim_result.save_calculations(calcs)\n",
    "sim_result.save_pkl('sim_states', sim_states)\n",
    "sim_result.save_pkl('intermediate_observables', intermediate_observables)"
   ]
  },
  {
   "cell_type": "code",
   "execution_count": null,
   "id": "62ffe8e7",
   "metadata": {},
   "outputs": [],
   "source": [
    "sim_result.move_from_progress_to_output()\n",
    "sim_result.remove_status_file()"
   ]
  }
 ],
 "metadata": {
  "kernelspec": {
   "display_name": "Python 3 (ipykernel)",
   "language": "python",
   "name": "python3"
  },
  "language_info": {
   "codemirror_mode": {
    "name": "ipython",
    "version": 3
   },
   "file_extension": ".py",
   "mimetype": "text/x-python",
   "name": "python",
   "nbconvert_exporter": "python",
   "pygments_lexer": "ipython3",
   "version": "3.9.6"
  }
 },
 "nbformat": 4,
 "nbformat_minor": 5
}
