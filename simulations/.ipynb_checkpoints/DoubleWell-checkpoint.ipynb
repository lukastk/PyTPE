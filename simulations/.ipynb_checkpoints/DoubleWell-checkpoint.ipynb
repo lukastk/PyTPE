{
 "cells": [
  {
   "cell_type": "code",
   "execution_count": 3,
   "id": "f3365196-7530-4fb2-bbeb-8436a4db74d1",
   "metadata": {},
   "outputs": [],
   "source": [
    "import kklmc\n",
    "import numpy as np\n",
    "import matplotlib.pyplot as plt"
   ]
  },
  {
   "cell_type": "markdown",
   "id": "b044ab39-4eaa-4baa-a51b-aef00cc21cd5",
   "metadata": {},
   "source": [
    "- Find appropriate Nq\n",
    "- Find good kappas (have to think about this)\n",
    "- Find window probs\n",
    "- Batch computing observables\n",
    "- Visualisations"
   ]
  },
  {
   "cell_type": "markdown",
   "id": "2032ad8b-0dc1-4004-9e4a-b6db5ee3819a",
   "metadata": {},
   "source": [
    "## 1. Parameters"
   ]
  },
  {
   "cell_type": "code",
   "execution_count": null,
   "id": "f6e5717d-0ee5-4778-aa78-7cc4c33ff427",
   "metadata": {},
   "outputs": [],
   "source": [
    "use_temp_folder = False\n",
    "run_name = \"covariance\"\n",
    "ssh_comp = \"notebook\""
   ]
  },
  {
   "cell_type": "markdown",
   "id": "a5e9c1fe-d414-4564-8639-aeb51d16e6de",
   "metadata": {},
   "source": [
    "MCMC parameters"
   ]
  },
  {
   "cell_type": "code",
   "execution_count": null,
   "id": "e663bd31-a85b-4ed5-a03f-d9d96e57fa38",
   "metadata": {},
   "outputs": [],
   "source": [
    "N_sim_OM = 1e6\n",
    "N_save = 1e4\n",
    "batch_size = 2\n",
    "\n",
    "kappa = 0.24\n",
    "\n",
    "window_size = 10\n",
    "\n",
    "Nq_factor_min = 2\n",
    "Nq_factor_max = 10\n",
    "Nm = 50"
   ]
  },
  {
   "cell_type": "code",
   "execution_count": null,
   "id": "3a68ca55-c174-4e56-9b07-faa2601ba574",
   "metadata": {},
   "outputs": [],
   "source": []
  },
  {
   "cell_type": "markdown",
   "id": "17ea008f-a417-482a-a20c-e35c6cfe5b6b",
   "metadata": {},
   "source": [
    "Langevin parameters"
   ]
  },
  {
   "cell_type": "code",
   "execution_count": null,
   "id": "2780c306-af51-4cff-bfe5-06ce42e243e4",
   "metadata": {},
   "outputs": [],
   "source": [
    "beta = 0.5\n",
    "gamma = 1\n",
    "Tf = 2"
   ]
  },
  {
   "cell_type": "markdown",
   "id": "5b06d38a-5cab-4632-a516-0818514fc6cb",
   "metadata": {},
   "source": [
    "System parameters"
   ]
  },
  {
   "cell_type": "code",
   "execution_count": null,
   "id": "a0f0718e-9016-4e9d-8a7a-442783840e6f",
   "metadata": {},
   "outputs": [],
   "source": [
    "x0 = 'min1'\n",
    "x1 = 'max'\n",
    "\n",
    "U0 = 1\n",
    "dU = 0.5"
   ]
  },
  {
   "cell_type": "markdown",
   "id": "94119412-572b-45cb-8e54-e055f547f651",
   "metadata": {},
   "source": [
    "## 2. Initialise simulation"
   ]
  },
  {
   "cell_type": "code",
   "execution_count": null,
   "id": "4ad57629-99ff-4e83-9c1b-fd855216dc11",
   "metadata": {},
   "outputs": [],
   "source": []
  },
  {
   "cell_type": "markdown",
   "id": "01deecbe-e31e-42a7-943d-e72358bdb73d",
   "metadata": {},
   "source": [
    "## 3. Run simulation"
   ]
  }
 ],
 "metadata": {
  "kernelspec": {
   "display_name": "Python 3",
   "language": "python",
   "name": "python3"
  },
  "language_info": {
   "codemirror_mode": {
    "name": "ipython",
    "version": 3
   },
   "file_extension": ".py",
   "mimetype": "text/x-python",
   "name": "python",
   "nbconvert_exporter": "python",
   "pygments_lexer": "ipython3",
   "version": "3.9.6"
  }
 },
 "nbformat": 4,
 "nbformat_minor": 5
}
