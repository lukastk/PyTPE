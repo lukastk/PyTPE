{
 "cells": [
  {
   "cell_type": "code",
   "execution_count": 2,
   "metadata": {
    "tags": []
   },
   "outputs": [
    {
     "ename": "ValueError",
     "evalue": "Does not understand character buffer dtype format string ('?')",
     "output_type": "error",
     "traceback": [
      "\u001b[0;31m---------------------------------------------------------------------------\u001b[0m",
      "\u001b[0;31mValueError\u001b[0m                                Traceback (most recent call last)",
      "\u001b[0;31mValueError\u001b[0m: Does not understand character buffer dtype format string ('?')"
     ]
    },
    {
     "name": "stderr",
     "output_type": "stream",
     "text": [
      "Exception ignored in: 'kklmc.protocols.pCN_window.pCN_Window._run_step'\n",
      "Traceback (most recent call last):\n",
      "  File \"<ipython-input-2-e6ff4bcfff90>\", line 57, in <module>\n",
      "ValueError: Does not understand character buffer dtype format string ('?')\n"
     ]
    },
    {
     "ename": "ValueError",
     "evalue": "Does not understand character buffer dtype format string ('?')",
     "output_type": "error",
     "traceback": [
      "\u001b[0;31m---------------------------------------------------------------------------\u001b[0m",
      "\u001b[0;31mValueError\u001b[0m                                Traceback (most recent call last)",
      "\u001b[0;31mValueError\u001b[0m: Does not understand character buffer dtype format string ('?')"
     ]
    },
    {
     "name": "stderr",
     "output_type": "stream",
     "text": [
      "Exception ignored in: 'kklmc.protocols.pCN_window.pCN_Window._run_step'\n",
      "Traceback (most recent call last):\n",
      "  File \"<ipython-input-2-e6ff4bcfff90>\", line 57, in <module>\n",
      "ValueError: Does not understand character buffer dtype format string ('?')\n"
     ]
    },
    {
     "ename": "ValueError",
     "evalue": "Does not understand character buffer dtype format string ('?')",
     "output_type": "error",
     "traceback": [
      "\u001b[0;31m---------------------------------------------------------------------------\u001b[0m",
      "\u001b[0;31mValueError\u001b[0m                                Traceback (most recent call last)",
      "\u001b[0;31mValueError\u001b[0m: Does not understand character buffer dtype format string ('?')"
     ]
    },
    {
     "name": "stderr",
     "output_type": "stream",
     "text": [
      "Exception ignored in: 'kklmc.protocols.pCN_window.pCN_Window._run_step'\n",
      "Traceback (most recent call last):\n",
      "  File \"<ipython-input-2-e6ff4bcfff90>\", line 57, in <module>\n",
      "ValueError: Does not understand character buffer dtype format string ('?')\n"
     ]
    },
    {
     "ename": "ValueError",
     "evalue": "Does not understand character buffer dtype format string ('?')",
     "output_type": "error",
     "traceback": [
      "\u001b[0;31m---------------------------------------------------------------------------\u001b[0m",
      "\u001b[0;31mValueError\u001b[0m                                Traceback (most recent call last)",
      "\u001b[0;31mValueError\u001b[0m: Does not understand character buffer dtype format string ('?')"
     ]
    },
    {
     "name": "stderr",
     "output_type": "stream",
     "text": [
      "Exception ignored in: 'kklmc.protocols.pCN_window.pCN_Window._run_step'\n",
      "Traceback (most recent call last):\n",
      "  File \"<ipython-input-2-e6ff4bcfff90>\", line 57, in <module>\n",
      "ValueError: Does not understand character buffer dtype format string ('?')\n"
     ]
    },
    {
     "ename": "ValueError",
     "evalue": "Does not understand character buffer dtype format string ('?')",
     "output_type": "error",
     "traceback": [
      "\u001b[0;31m---------------------------------------------------------------------------\u001b[0m",
      "\u001b[0;31mValueError\u001b[0m                                Traceback (most recent call last)",
      "\u001b[0;31mValueError\u001b[0m: Does not understand character buffer dtype format string ('?')"
     ]
    },
    {
     "name": "stderr",
     "output_type": "stream",
     "text": [
      "Exception ignored in: 'kklmc.protocols.pCN_window.pCN_Window._run_step'\n",
      "Traceback (most recent call last):\n",
      "  File \"<ipython-input-2-e6ff4bcfff90>\", line 57, in <module>\n",
      "ValueError: Does not understand character buffer dtype format string ('?')\n"
     ]
    },
    {
     "ename": "ValueError",
     "evalue": "Does not understand character buffer dtype format string ('?')",
     "output_type": "error",
     "traceback": [
      "\u001b[0;31m---------------------------------------------------------------------------\u001b[0m",
      "\u001b[0;31mValueError\u001b[0m                                Traceback (most recent call last)",
      "\u001b[0;31mValueError\u001b[0m: Does not understand character buffer dtype format string ('?')"
     ]
    },
    {
     "name": "stderr",
     "output_type": "stream",
     "text": [
      "Exception ignored in: 'kklmc.protocols.pCN_window.pCN_Window._run_step'\n",
      "Traceback (most recent call last):\n",
      "  File \"<ipython-input-2-e6ff4bcfff90>\", line 57, in <module>\n",
      "ValueError: Does not understand character buffer dtype format string ('?')\n"
     ]
    },
    {
     "ename": "ValueError",
     "evalue": "Does not understand character buffer dtype format string ('?')",
     "output_type": "error",
     "traceback": [
      "\u001b[0;31m---------------------------------------------------------------------------\u001b[0m",
      "\u001b[0;31mValueError\u001b[0m                                Traceback (most recent call last)",
      "\u001b[0;31mValueError\u001b[0m: Does not understand character buffer dtype format string ('?')"
     ]
    },
    {
     "name": "stderr",
     "output_type": "stream",
     "text": [
      "Exception ignored in: 'kklmc.protocols.pCN_window.pCN_Window._run_step'\n",
      "Traceback (most recent call last):\n",
      "  File \"<ipython-input-2-e6ff4bcfff90>\", line 57, in <module>\n",
      "ValueError: Does not understand character buffer dtype format string ('?')\n"
     ]
    },
    {
     "ename": "ValueError",
     "evalue": "Does not understand character buffer dtype format string ('?')",
     "output_type": "error",
     "traceback": [
      "\u001b[0;31m---------------------------------------------------------------------------\u001b[0m",
      "\u001b[0;31mValueError\u001b[0m                                Traceback (most recent call last)",
      "\u001b[0;31mValueError\u001b[0m: Does not understand character buffer dtype format string ('?')"
     ]
    },
    {
     "name": "stderr",
     "output_type": "stream",
     "text": [
      "Exception ignored in: 'kklmc.protocols.pCN_window.pCN_Window._run_step'\n",
      "Traceback (most recent call last):\n",
      "  File \"<ipython-input-2-e6ff4bcfff90>\", line 57, in <module>\n",
      "ValueError: Does not understand character buffer dtype format string ('?')\n"
     ]
    },
    {
     "ename": "ValueError",
     "evalue": "Does not understand character buffer dtype format string ('?')",
     "output_type": "error",
     "traceback": [
      "\u001b[0;31m---------------------------------------------------------------------------\u001b[0m",
      "\u001b[0;31mValueError\u001b[0m                                Traceback (most recent call last)",
      "\u001b[0;31mValueError\u001b[0m: Does not understand character buffer dtype format string ('?')"
     ]
    },
    {
     "name": "stderr",
     "output_type": "stream",
     "text": [
      "Exception ignored in: 'kklmc.protocols.pCN_window.pCN_Window._run_step'\n",
      "Traceback (most recent call last):\n",
      "  File \"<ipython-input-2-e6ff4bcfff90>\", line 57, in <module>\n",
      "ValueError: Does not understand character buffer dtype format string ('?')\n"
     ]
    },
    {
     "ename": "ValueError",
     "evalue": "Does not understand character buffer dtype format string ('?')",
     "output_type": "error",
     "traceback": [
      "\u001b[0;31m---------------------------------------------------------------------------\u001b[0m",
      "\u001b[0;31mValueError\u001b[0m                                Traceback (most recent call last)",
      "\u001b[0;31mValueError\u001b[0m: Does not understand character buffer dtype format string ('?')"
     ]
    },
    {
     "name": "stderr",
     "output_type": "stream",
     "text": [
      "Exception ignored in: 'kklmc.protocols.pCN_window.pCN_Window._run_step'\n",
      "Traceback (most recent call last):\n",
      "  File \"<ipython-input-2-e6ff4bcfff90>\", line 57, in <module>\n",
      "ValueError: Does not understand character buffer dtype format string ('?')\n"
     ]
    }
   ],
   "source": [
    "import kklmc\n",
    "import numpy as np\n",
    "import matplotlib.pyplot as plt\n",
    "\n",
    "N_sim = int(1e1)\n",
    "Nq_factor = 5\n",
    "Nm = 50\n",
    "\n",
    "beta = 0.5\n",
    "gamma = 1\n",
    "Tf = 2\n",
    "\n",
    "U0 = 1\n",
    "dU = 0.5\n",
    "\n",
    "x0, x1 = -1, 0\n",
    "kappa = 0.24\n",
    "\n",
    "window_size = 1\n",
    "window_probs = np.full(Nm-window_size+1, 1)\n",
    "\n",
    "batch_size = 1\n",
    "N_save = int(4e6)\n",
    "Nm_save = 20\n",
    "N_paths_save = int(1e3)\n",
    "\n",
    "#window_probs = np.arange(len(window_probs), 0, -1)\n",
    "\n",
    "params = {\n",
    "    'use_OM' : True,\n",
    "    \n",
    "    'beta' : beta,\n",
    "    'gamma' : gamma,\n",
    "    'Tf' : Tf,\n",
    "    \n",
    "    'U0' : U0,\n",
    "    'dU' : dU,\n",
    "    \n",
    "    'dim' : 1,\n",
    "    'Nq_factor' : Nq_factor,\n",
    "    'Nm' : Nm,\n",
    "    \n",
    "    'x0' : x0,\n",
    "    'x1' : x1,\n",
    "    \n",
    "    'kappa' : kappa,#*(1 + np.random.random(Nm)),\n",
    "    \n",
    "    'window_probs' : window_probs\n",
    "}\n",
    "\n",
    "params['state0'] = np.zeros((params['Nm'], params['dim']))\n",
    "params['system'] = kklmc.systems.DoubleWell(params)\n",
    "system = params['system']\n",
    "\n",
    "sim = kklmc.protocols.pCN_Window(params)\n",
    "\n",
    "w_states, kklmc_accepts, kklmc_actions, kklmc_paths, kklmc_d_paths = sim.simulate(N_sim, batch_size, N_save, Nm_save, N_paths_save, True)"
   ]
  },
  {
   "cell_type": "code",
   "execution_count": null,
   "metadata": {},
   "outputs": [],
   "source": [
    "window_acceptance_probs = sim.window_acceptance_counts / sim.window_attempt_counts\n",
    "plt.plot(1-window_acceptance_probs)\n",
    "plt.yscale('log')"
   ]
  },
  {
   "cell_type": "code",
   "execution_count": null,
   "metadata": {
    "tags": []
   },
   "outputs": [],
   "source": [
    "from matplotlib.colors import LogNorm\n",
    "\n",
    "fig, ax = plt.subplots(figsize=(12,10))\n",
    "\n",
    "cov = np.corrcoef(w_states[:,:20,0].T)\n",
    "cov = np.abs(cov)\n",
    "\n",
    "cutoff = 1e-3\n",
    "#cov[cov < cutoff] = cutoff\n",
    "\n",
    "X, Y = np.meshgrid( np.arange(cov.shape[0]), np.arange(cov.shape[0]) )\n",
    "\n",
    "vmin, vmax = np.min(cov), np.max(cov)\n",
    "\n",
    "for i in range(cov.shape[0]):\n",
    "    cov[i,i] = np.nan\n",
    "\n",
    "cf = ax.imshow(cov)#, norm=LogNorm(vmin=vmin, vmax=vmax))\n",
    "fig.colorbar(cf, ax=ax)"
   ]
  },
  {
   "cell_type": "code",
   "execution_count": 5,
   "metadata": {},
   "outputs": [
    {
     "ename": "NameError",
     "evalue": "name 'data' is not defined",
     "output_type": "error",
     "traceback": [
      "\u001b[0;31m---------------------------------------------------------------------------\u001b[0m",
      "\u001b[0;31mNameError\u001b[0m                                 Traceback (most recent call last)",
      "\u001b[0;32m<ipython-input-5-36bf486f6fc0>\u001b[0m in \u001b[0;36m<module>\u001b[0;34m\u001b[0m\n\u001b[1;32m      1\u001b[0m \u001b[0;31m#found_Nq, data = kklmc.utils.find_suitable_Nq(system, w_states, Nm*2, Nm*100, 10, 1000, True, True, rel_tol=1e-5, abs_tol=None)\u001b[0m\u001b[0;34m\u001b[0m\u001b[0;34m\u001b[0m\u001b[0;34m\u001b[0m\u001b[0m\n\u001b[1;32m      2\u001b[0m \u001b[0;34m\u001b[0m\u001b[0m\n\u001b[0;32m----> 3\u001b[0;31m \u001b[0mplt\u001b[0m\u001b[0;34m.\u001b[0m\u001b[0mplot\u001b[0m\u001b[0;34m(\u001b[0m\u001b[0mdata\u001b[0m\u001b[0;34m[\u001b[0m\u001b[0;34m'Nqs'\u001b[0m\u001b[0;34m]\u001b[0m\u001b[0;34m,\u001b[0m \u001b[0mdata\u001b[0m\u001b[0;34m[\u001b[0m\u001b[0;34m'abs_err'\u001b[0m\u001b[0;34m]\u001b[0m\u001b[0;34m)\u001b[0m\u001b[0;34m\u001b[0m\u001b[0;34m\u001b[0m\u001b[0m\n\u001b[0m\u001b[1;32m      4\u001b[0m \u001b[0mplt\u001b[0m\u001b[0;34m.\u001b[0m\u001b[0myscale\u001b[0m\u001b[0;34m(\u001b[0m\u001b[0;34m'log'\u001b[0m\u001b[0;34m)\u001b[0m\u001b[0;34m\u001b[0m\u001b[0;34m\u001b[0m\u001b[0m\n\u001b[1;32m      5\u001b[0m \u001b[0;34m\u001b[0m\u001b[0m\n",
      "\u001b[0;31mNameError\u001b[0m: name 'data' is not defined"
     ]
    }
   ],
   "source": [
    "#found_Nq, data = kklmc.utils.find_suitable_Nq(system, w_states, Nm*2, Nm*100, 10, 1000, True, True, rel_tol=1e-5, abs_tol=None)\n",
    "\n",
    "plt.plot(data['Nqs'], data['abs_err'])\n",
    "plt.yscale('log')\n",
    "\n",
    "plt.plot(data['Nqs'], data['rel_err'])\n",
    "\n",
    "\n",
    "\n"
   ]
  },
  {
   "cell_type": "code",
   "execution_count": 22,
   "metadata": {},
   "outputs": [
    {
     "ename": "NameError",
     "evalue": "name 'window_acceptance_probs' is not defined",
     "output_type": "error",
     "traceback": [
      "\u001b[0;31m---------------------------------------------------------------------------\u001b[0m",
      "\u001b[0;31mNameError\u001b[0m                                 Traceback (most recent call last)",
      "\u001b[0;32m<ipython-input-22-349e2a0880a9>\u001b[0m in \u001b[0;36m<module>\u001b[0;34m\u001b[0m\n\u001b[0;32m----> 1\u001b[0;31m \u001b[0mplt\u001b[0m\u001b[0;34m.\u001b[0m\u001b[0mplot\u001b[0m\u001b[0;34m(\u001b[0m\u001b[0mwindow_acceptance_probs\u001b[0m\u001b[0;34m)\u001b[0m\u001b[0;34m\u001b[0m\u001b[0;34m\u001b[0m\u001b[0m\n\u001b[0m",
      "\u001b[0;31mNameError\u001b[0m: name 'window_acceptance_probs' is not defined"
     ]
    }
   ],
   "source": []
  },
  {
   "cell_type": "code",
   "execution_count": null,
   "metadata": {},
   "outputs": [],
   "source": [
    "1 - window_acceptance_probs"
   ]
  },
  {
   "cell_type": "code",
   "execution_count": null,
   "metadata": {},
   "outputs": [],
   "source": [
    "plt.plot(1 - window_acceptance_probs)"
   ]
  },
  {
   "cell_type": "code",
   "execution_count": null,
   "metadata": {},
   "outputs": [],
   "source": [
    "choices = np.random.choice(len(kklmc_paths), 1000)\n",
    "\n",
    "for i in choices:\n",
    "    plt.plot(sim.ts, kklmc_paths[i,:,0], lw=0.1)"
   ]
  },
  {
   "cell_type": "code",
   "execution_count": 3,
   "metadata": {},
   "outputs": [],
   "source": [
    "import kklmc\n",
    "import numpy as np\n",
    "import matplotlib.pyplot as plt\n",
    "\n",
    "\n",
    "beta = 0.5\n",
    "gamma = 1\n",
    "Tf = 2\n",
    "\n",
    "U0 = 1\n",
    "dU = 0.5\n",
    "\n",
    "x0, x1 = -1, 0\n",
    "\n",
    "params = {\n",
    "    'use_OM' : True,\n",
    "    \n",
    "    'beta' : beta,\n",
    "    'gamma' : gamma,\n",
    "    'Tf' : Tf,\n",
    "    \n",
    "    'U0' : U0,\n",
    "    'dU' : dU,\n",
    "    \n",
    "    'dim' : 1,\n",
    "    'Nq_factor' : Nq_factor,\n",
    "    'Nm' : Nm,\n",
    "    \n",
    "    'x0' : x0,\n",
    "    'x1' : x1,\n",
    "    \n",
    "    'kappa' : kappa,\n",
    "    \n",
    "    'window_probs' : window_probs\n",
    "}\n",
    "\n",
    "params['state0'] = np.zeros((params['Nm'], params['dim']))\n",
    "params['system'] = kklmc.systems.DoubleWell(params)\n",
    "system = params['system']\n",
    "\n",
    "sim = kklmc.protocols.pCN(params)\n",
    "\n",
    "states, kklmc_accepts, kklmc_actions, kklmc_paths, kklmc_d_paths = sim.simulate(N_sim)"
   ]
  },
  {
   "cell_type": "code",
   "execution_count": null,
   "metadata": {},
   "outputs": [],
   "source": [
    "import kklmc\n",
    "import numpy as np\n",
    "import matplotlib.pyplot as plt\n",
    "\n",
    "Nm = 25\n",
    "N_sim = int(1e7)\n",
    "Nq_factor = 10\n",
    "\n",
    "beta = 0.5\n",
    "gamma = 1\n",
    "Tf = 2\n",
    "\n",
    "U0 = 1\n",
    "dU = 0.5\n",
    "\n",
    "x0, x1 = -1, 0\n",
    "\n",
    "window_size = 5\n",
    "window_probs = np.full(Nm-window_size, 1)\n",
    "\n",
    "params = {\n",
    "    'use_OM' : True,\n",
    "    \n",
    "    'beta' : beta,\n",
    "    'gamma' : gamma,\n",
    "    'Tf' : Tf,\n",
    "    \n",
    "    'U0' : U0,\n",
    "    'dU' : dU,\n",
    "    \n",
    "    'dim' : 1,\n",
    "    'Nq_factor' : Nq_factor,\n",
    "    'Nm' : Nm,\n",
    "    \n",
    "    'x0' : x0,\n",
    "    'x1' : x1,\n",
    "    \n",
    "    'kappa' : kappa,\n",
    "    \n",
    "    'window_probs' : window_probs\n",
    "}\n",
    "\n",
    "params['state0'] = np.zeros((params['Nm'], params['dim']))\n",
    "params['system'] = kklmc.systems.DoubleWell(params)\n",
    "system = params['system']\n",
    "\n",
    "sim = kklmc.protocols.pCN(params)\n",
    "\n",
    "states2, kklmc_accepts, kklmc_actions, kklmc_paths, kklmc_d_paths = sim.simulate(N_sim)"
   ]
  },
  {
   "cell_type": "code",
   "execution_count": null,
   "metadata": {},
   "outputs": [],
   "source": [
    "choices = np.random.choice(len(kklmc_paths), 1000)\n",
    "\n",
    "for i in choices:\n",
    "    plt.plot(sim.ts, kklmc_paths[i,:,0], lw=0.1)"
   ]
  },
  {
   "cell_type": "code",
   "execution_count": null,
   "metadata": {},
   "outputs": [],
   "source": [
    "fig, ax = plt.subplots(figsize=(20,10))\n",
    "\n",
    "i = 9\n",
    "\n",
    "hist, bin_edges = np.histogram(states[:,i, 0], bins=100, density=True)\n",
    "bin_centers = (bin_edges[1:] + bin_edges[:-1])/2\n",
    "plt.plot(bin_centers,hist,color='red', lw=1.5, label='pCN')\n",
    "\n",
    "hist, bin_edges = np.histogram(states2[:,i, 0], bins=100, density=True)\n",
    "bin_centers = (bin_edges[1:] + bin_edges[:-1])/2\n",
    "plt.plot(bin_centers,hist,color='green', lw=1.5, label='pCN2')\n",
    "\n",
    "hist, bin_edges = np.histogram(w_states[:,i, 0], bins=100, density=True)\n",
    "bin_centers = (bin_edges[1:] + bin_edges[:-1])/2\n",
    "plt.plot(bin_centers,hist,color='blue', lw=1.5, label='pCN_Window')\n",
    "\n",
    "plt.legend()"
   ]
  },
  {
   "cell_type": "code",
   "execution_count": 21,
   "metadata": {},
   "outputs": [
    {
     "data": {
      "image/png": "[encoded data removed]",
      "text/plain": [
       "<Figure size 720x360 with 2 Axes>"
      ]
     },
     "metadata": {
      "needs_background": "light"
     },
     "output_type": "display_data"
    }
   ],
   "source": [
    "i = 0\n",
    "j = -1\n",
    "\n",
    "bins = 100\n",
    "\n",
    "fig, axes = plt.subplots(1, 2, figsize=(10, 5))\n",
    "\n",
    "H1, xedges, yedges, _ = axes[0].hist2d(w_states[:,i, 0], w_states[:,j, 0], bins=bins)\n",
    "\n",
    "H2, _, _, _ = axes[1].hist2d(states[:,i, 0], states[:,j, 0], bins=(xedges, yedges))\n",
    "\n",
    "plt.show()"
   ]
  },
  {
   "cell_type": "code",
   "execution_count": null,
   "metadata": {},
   "outputs": [],
   "source": [
    "np.corrcoef(states[:,i, 0].flatten(), states[:,j, 0].flatten())"
   ]
  },
  {
   "cell_type": "code",
   "execution_count": null,
   "metadata": {},
   "outputs": [],
   "source": []
  },
  {
   "cell_type": "code",
   "execution_count": null,
   "metadata": {},
   "outputs": [],
   "source": [
    "cov"
   ]
  },
  {
   "cell_type": "code",
   "execution_count": null,
   "metadata": {},
   "outputs": [],
   "source": [
    "cov = np.corrcoef(states[:,:,0].T)\n",
    "cov = np.abs(cov)\n",
    "cov = np.log(cov)\n",
    "\n",
    "for i in range(cov.shape[0]):\n",
    "    cov[i,i] = np.nan\n",
    "\n",
    "plt.matshow(cov)"
   ]
  },
  {
   "cell_type": "code",
   "execution_count": null,
   "metadata": {},
   "outputs": [],
   "source": [
    "from matplotlib.colors import LogNorm\n",
    "\n",
    "fig, ax = plt.subplots(figsize=(12,10))\n",
    "\n",
    "cov = np.corrcoef(states[:,:,0].T)\n",
    "cov = np.abs(cov)\n",
    "\n",
    "\n",
    "X, Y = np.meshgrid( np.arange(cov.shape[0]), np.arange(cov.shape[0]) )\n",
    "\n",
    "vmin, vmax = np.min(cov), np.max(cov)\n",
    "\n",
    "for i in range(cov.shape[0]):\n",
    "    cov[i,i] = np.nan\n",
    "\n",
    "cf = ax.contourf(X, Y, cov, levels=200)\n",
    "fig.colorbar(cf, ax=ax)"
   ]
  },
  {
   "cell_type": "code",
   "execution_count": null,
   "metadata": {},
   "outputs": [],
   "source": [
    "from matplotlib.colors import LogNorm\n",
    "\n",
    "fig, ax = plt.subplots(figsize=(12,10))\n",
    "\n",
    "cov = np.corrcoef(states[:,:,0].T)\n",
    "cov = np.abs(cov)\n",
    "\n",
    "\n",
    "X, Y = np.meshgrid( np.arange(cov.shape[0]), np.arange(cov.shape[0]) )\n",
    "\n",
    "cutoff = 1e-3\n",
    "cov[cov < cutoff] = cutoff\n",
    "\n",
    "vmin, vmax = np.min(cov), np.max(cov)\n",
    "\n",
    "for i in range(cov.shape[0]):\n",
    "    cov[i,i] = np.nan\n",
    "\n",
    "cf = ax.contourf(X, Y, cov, norm=LogNorm(vmin=vmin, vmax=vmax))\n",
    "fig.colorbar(cf, ax=ax)"
   ]
  },
  {
   "cell_type": "code",
   "execution_count": null,
   "metadata": {},
   "outputs": [],
   "source": [
    "from matplotlib.colors import LogNorm\n",
    "\n",
    "fig, ax = plt.subplots(figsize=(12,10))\n",
    "\n",
    "cov = np.corrcoef(states[:,:,0].T)\n",
    "cov = np.abs(cov)\n",
    "\n",
    "cutoff = 1e-3\n",
    "cov[cov < cutoff] = cutoff\n",
    "\n",
    "cov = np.log10(cov)\n",
    "\n",
    "X, Y = np.meshgrid( np.arange(cov.shape[0]), np.arange(cov.shape[0]) )\n",
    "\n",
    "for i in range(cov.shape[0]):\n",
    "    cov[i,i] = np.nan\n",
    "\n",
    "cf = ax.contourf(X, Y, cov, levels=100)\n",
    "fig.colorbar(cf, ax=ax)"
   ]
  },
  {
   "cell_type": "code",
   "execution_count": null,
   "metadata": {},
   "outputs": [],
   "source": [
    "from matplotlib.colors import LogNorm\n",
    "\n",
    "fig, ax = plt.subplots(figsize=(12,10))\n",
    "\n",
    "cov = np.corrcoef(states[:,:,0].T)\n",
    "cov = np.abs(cov)\n",
    "\n",
    "\n",
    "X, Y = np.meshgrid( np.arange(cov.shape[0]), np.arange(cov.shape[0]) )\n",
    "\n",
    "vmin, vmax = np.min(cov), np.max(cov)\n",
    "\n",
    "for i in range(cov.shape[0]):\n",
    "    cov[i,i] = np.nan\n",
    "\n",
    "cf = ax.imshow(cov)\n",
    "fig.colorbar(cf, ax=ax)"
   ]
  },
  {
   "cell_type": "code",
   "execution_count": null,
   "metadata": {},
   "outputs": [],
   "source": [
    "from matplotlib.colors import LogNorm\n",
    "\n",
    "fig, ax = plt.subplots(figsize=(12,10))\n",
    "\n",
    "cov = np.corrcoef(states[:,:,0].T)\n",
    "cov = np.abs(cov)\n",
    "\n",
    "cutoff = 1e-6\n",
    "cov[cov < cutoff] = cutoff\n",
    "\n",
    "X, Y = np.meshgrid( np.arange(cov.shape[0]), np.arange(cov.shape[0]) )\n",
    "\n",
    "vmin, vmax = np.min(cov), np.max(cov)\n",
    "\n",
    "for i in range(cov.shape[0]):\n",
    "    cov[i,i] = np.nan\n",
    "\n",
    "cf = ax.imshow(cov, norm=LogNorm(vmin=vmin, vmax=vmax))\n",
    "fig.colorbar(cf, ax=ax)"
   ]
  },
  {
   "cell_type": "code",
   "execution_count": null,
   "metadata": {},
   "outputs": [],
   "source": []
  }
 ],
 "metadata": {
  "kernelspec": {
   "display_name": "Python 3",
   "language": "python",
   "name": "python3"
  },
  "language_info": {
   "codemirror_mode": {
    "name": "ipython",
    "version": 3
   },
   "file_extension": ".py",
   "mimetype": "text/x-python",
   "name": "python",
   "nbconvert_exporter": "python",
   "pygments_lexer": "ipython3",
   "version": "3.9.6"
  }
 },
 "nbformat": 4,
 "nbformat_minor": 4
}
