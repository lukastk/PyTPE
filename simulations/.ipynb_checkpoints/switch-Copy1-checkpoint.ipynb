{
 "cells": [
  {
   "cell_type": "code",
   "execution_count": 1,
   "id": "bcd41679",
   "metadata": {},
   "outputs": [],
   "source": [
    "import pyfftw\n",
    "import modemc\n",
    "import numpy as np\n",
    "import matplotlib.pyplot as plt\n",
    "import datetime, pickle, tempfile, time, sys, os\n",
    "from helpers.sim_helper import *\n",
    "from helpers import plotting\n",
    "from IPython.display import clear_output"
   ]
  },
  {
   "cell_type": "markdown",
   "id": "a0e7d191",
   "metadata": {},
   "source": [
    "## 0. Todo\n",
    "\n",
    "- Test the number of modes needed as a function of temperature (fixed T), and for T (fixed small beta and large beta). I think high temperatures require more modes as we need to be able to do loops back and forth.\n",
    "- Test how many modes needed for both FW and OM. I suspect that for OM, we really should consider the action an action for paths in $C^1$, and so we should be able to use fewer modes but evaluate the integral with more quadrature nodes. FW should require more modes, but the integral should be considered a stochastic ito integral, so Nq=Nm.\n",
    "- Autocorrelation tests\n",
    "- ~Loop observable~\n",
    "- Generate video of how state changes as a function of algorithmic time.\n",
    "- ~Compute instantons of loops~, and compute a better approximate r2\n",
    "- ~Burn-in~\n",
    "- ~Investigate performance of FFT wrt Nm and whether to just use FFT isntead of DCT and DST.~\n",
    "- ~Make sure pyfftw does preprocessing~\n",
    "- Profiling\n",
    "- Q matrix calculation is probably wrong."
   ]
  },
  {
   "cell_type": "markdown",
   "id": "72679096",
   "metadata": {
    "tags": []
   },
   "source": [
    "## 1. Parameters"
   ]
  },
  {
   "cell_type": "code",
   "execution_count": 2,
   "id": "992267a9",
   "metadata": {},
   "outputs": [],
   "source": [
    "simulation_name = 'switch'\n",
    "use_temp_folder = False\n",
    "run_name = 'notebook'\n",
    "run_info = run_name\n",
    "ssh_comp = 'notebook'"
   ]
  },
  {
   "cell_type": "code",
   "execution_count": 3,
   "id": "d2c46f7a",
   "metadata": {},
   "outputs": [],
   "source": [
    "use_default_params = True"
   ]
  },
  {
   "cell_type": "code",
   "execution_count": 4,
   "id": "c9b4ac82",
   "metadata": {},
   "outputs": [],
   "source": [
    "# Load arguments if running as a script\n",
    "if sys.argv[1] == \"args\":\n",
    "    use_default_params = False\n",
    "    \n",
    "    use_temp_folder = False\n",
    "    params_pkl_path = sys.argv[2]\n",
    "    args_params = pickle.load(open(params_pkl_path, 'rb'))\n",
    "\n",
    "    for param_k, param_v in args_params.items():\n",
    "        globals()[param_k] = param_v"
   ]
  },
  {
   "cell_type": "markdown",
   "id": "4c7b846e",
   "metadata": {},
   "source": [
    "### System"
   ]
  },
  {
   "cell_type": "code",
   "execution_count": 5,
   "id": "e920b533",
   "metadata": {},
   "outputs": [],
   "source": [
    "if use_default_params:\n",
    "    system_params = {\n",
    "        'beta' : 10,\n",
    "        'gamma' : 5,\n",
    "        'Tf' : 10,\n",
    "\n",
    "        'dim' : 2,\n",
    "\n",
    "        'x0' : np.array([-1, 0]),\n",
    "        'x1' : np.array([1, 0]),\n",
    "\n",
    "        'U0' : 3,\n",
    "        'xi1' : 0,\n",
    "        'xi2' : 2,\n",
    "    }\n",
    "\n",
    "dict_to_global(system_params, globals())"
   ]
  },
  {
   "cell_type": "markdown",
   "id": "b5617c52",
   "metadata": {},
   "source": [
    "### MCMC"
   ]
  },
  {
   "cell_type": "code",
   "execution_count": 6,
   "id": "5e42f84d",
   "metadata": {},
   "outputs": [],
   "source": [
    "if use_default_params:\n",
    "    MCMC_params = {    \n",
    "        'MCMC_protocol' : modemc.protocols.pCN_FFT_Flip,\n",
    "        'use_OM' : True,\n",
    "    \n",
    "        'N_steps' : int(1e6),\n",
    "        'N_burnin_ratio' : 0.3,\n",
    "\n",
    "        'batch_size' : 1,\n",
    "        'N_save' : int(1e6),\n",
    "        'N_paths_save' : int(1e3),\n",
    "        'N_obs_save' : int(3e6),\n",
    "        'N_sim_verbose' : int(1e4),\n",
    "\n",
    "        'Nm_save' : 20,\n",
    "        'Nm_Tf_factor' : 200,\n",
    "\n",
    "        'Nq_factor' : 1,\n",
    "        'quad_scheme' : modemc.quad.uniform,\n",
    "\n",
    "        'state0_choice' : 'upper_OM',\n",
    "\n",
    "        'use_teleport' : True,\n",
    "        'p_teleport' : 0, #1e-3,\n",
    "        'teleporter_probs' : 'uniform',\n",
    "        'teleporter_choice' : 'OM',\n",
    "        \n",
    "        'p_flip' : 1e-2,\n",
    "        'flip_beta_threshold' : 50,\n",
    "        \n",
    "        'FFTW_planner_flag' : 'FFTW_EXHAUSTIVE', # FFTW_MEASURE, FFTW_PATIENT\n",
    "        \n",
    "        'enable_parallelisation': False,\n",
    "    }\n",
    "\n",
    "MCMC_params['Nm'] = int(np.round(system_params['Tf'] * MCMC_params['Nm_Tf_factor']))\n",
    "MCMC_params['system'] = modemc.systems.Switch(system_params)\n",
    "MCMC_params['N_burn_in'] = int(np.round(MCMC_params['N_steps'] * MCMC_params['N_burnin_ratio']))\n",
    "\n",
    "dict_to_global(MCMC_params, globals(), deal_with_overwrites=True)"
   ]
  },
  {
   "cell_type": "code",
   "execution_count": 7,
   "id": "740183b8",
   "metadata": {},
   "outputs": [],
   "source": [
    "if use_default_params:\n",
    "    analysis_params = {\n",
    "        #'N_trace_observable' : 1,\n",
    "        #'trace_observable_rms_window' : 10,\n",
    "        'valid_path_channel_boundary' : 0.1,\n",
    "    }\n",
    "\n",
    "dict_to_global(analysis_params, globals())"
   ]
  },
  {
   "cell_type": "code",
   "execution_count": 8,
   "id": "a0cd4d07",
   "metadata": {},
   "outputs": [],
   "source": [
    "if use_default_params:\n",
    "    teleporter_params = {\n",
    "        'teleporter_Nm_Tf_factor' : 10,\n",
    "        'Q_Nm_Tf_factor' : 5,\n",
    "        'Q_band_size_Nm_Tf_factor' : 10,\n",
    "        'Q_Nq_factor' : 12,\n",
    "        'Q_quad_scheme' : modemc.quad.clenshaw_curtis,\n",
    "        'teleporter_Q_use_OM' : False,\n",
    "        'N_instanton_loops' : 1,\n",
    "    }\n",
    "\n",
    "teleporter_params['teleporter_Nm'] = int(np.round(system_params['Tf'] * teleporter_params['teleporter_Nm_Tf_factor']))\n",
    "teleporter_params['Q_band_size'] = int(np.round(system_params['Tf'] * teleporter_params['Q_band_size_Nm_Tf_factor']))\n",
    "    \n",
    "dict_to_global(teleporter_params, globals())"
   ]
  },
  {
   "cell_type": "markdown",
   "id": "990faaae",
   "metadata": {},
   "source": [
    "### Calibration"
   ]
  },
  {
   "cell_type": "code",
   "execution_count": 9,
   "id": "a704d37a",
   "metadata": {},
   "outputs": [],
   "source": [
    "if use_default_params:\n",
    "    instanton_finder_params = {\n",
    "        'instanton_finder_Nm_Tf_factor' : 5,\n",
    "        'instanton_finder_Nq_factor' : 12,\n",
    "        'max_steps' : int(1e4),\n",
    "        'ag_c' : 1e-6,\n",
    "        'S_tol' : 1e-20,\n",
    "        'gradS_tol' : 1e-6,\n",
    "        'step_size0' : 0.1,\n",
    "        'step_size_rate' : 0.99,\n",
    "        'min_step_size' : 1e-60,\n",
    "        'quad_scheme' : modemc.quad.clenshaw_curtis,\n",
    "        'verbose' : True,\n",
    "    }\n",
    "\n",
    "instanton_finder_params['system'] = system\n",
    "instanton_finder_params['Nm'] = int(np.round(instanton_finder_params['instanton_finder_Nm_Tf_factor'] * system_params['Tf']))\n",
    "instanton_finder_params['Nq'] = int(np.round(instanton_finder_params['instanton_finder_Nq_factor'] * instanton_finder_params['Nm']))\n",
    "    \n",
    "dict_to_global(instanton_finder_params, globals(), prefix='instanton_finder')"
   ]
  },
  {
   "cell_type": "code",
   "execution_count": 10,
   "id": "501a9556",
   "metadata": {},
   "outputs": [],
   "source": [
    "if use_default_params:\n",
    "    kappa_finder_params = {\n",
    "        'targ_acc' : 0.3,\n",
    "        'trial_N_sim' : int(1e4),\n",
    "        'maxiter' : 20,\n",
    "        'MCMC_params' : MCMC_params,\n",
    "        'p_teleport' : 0.01, # Use a more frequent p_teleport in the kappa finder to properly probe it\n",
    "    }\n",
    "\n",
    "kappa_finder_params['MCMC_protocol'] = MCMC_protocol\n",
    "    \n",
    "dict_to_global(kappa_finder_params, globals(), prefix='kappa_finder')"
   ]
  },
  {
   "cell_type": "code",
   "execution_count": 11,
   "id": "c7c2d606",
   "metadata": {},
   "outputs": [],
   "source": [
    "if use_default_params:\n",
    "    gaussian_mode_finder_params = {\n",
    "        'N_step_Nm_factor' : 100,\n",
    "        'gaussian_mode_acc_threshold' : 1 - 1e-5,\n",
    "        'kappa' : 0.99,\n",
    "        'kappas_sig' : 0.1,\n",
    "        'gaussian_mode_multiplier' : 2,\n",
    "        'use_teleport' : True,\n",
    "        'p_teleport' : 0.01,\n",
    "    }\n",
    "\n",
    "dict_to_global(gaussian_mode_finder_params, globals(), prefix='gaussian_mode_finder')"
   ]
  },
  {
   "cell_type": "markdown",
   "id": "e8741bc5",
   "metadata": {},
   "source": [
    "### Plotting"
   ]
  },
  {
   "cell_type": "code",
   "execution_count": 12,
   "id": "70fb5a42",
   "metadata": {},
   "outputs": [],
   "source": [
    "if use_default_params:\n",
    "    plotting_params = {\n",
    "        'xlims' : [-1.3, 1.3],\n",
    "        'ylims' : [-1.3, 1.3],\n",
    "        'tlims_offset' : [-0.1, 0.1],\n",
    "        \n",
    "        'traj_plot_num' : 200,\n",
    "        'traj_lw' : 0.1,\n",
    "        'traj_alpha' : 0.5,\n",
    "\n",
    "        'upper_OM_inst_color' : \"red\",\n",
    "        'upper_OM_inst_shape' : \"-\",\n",
    "        'lower_OM_inst_color' : \"orangered\",\n",
    "        'lower_OM_inst_shape' : \"--\",\n",
    "        'middle_OM_inst_color' : \"yellow\",\n",
    "        'middle_OM_inst_shape' : \":\",\n",
    "        'upper_FW_inst_color' : \"blue\",\n",
    "        'upper_FW_inst_shape' : \"-\",\n",
    "        'lower_FW_inst_color' : \"teal\",\n",
    "        'lower_FW_inst_shape' : \"--\",\n",
    "        'middle_FW_inst_color' : \"green\",\n",
    "        'middle_FW_inst_shape' : \":\",\n",
    "    }\n",
    "\n",
    "plotting_params['tlims'] = [0 + plotting_params['tlims_offset'][0], Tf + plotting_params['tlims_offset'][1]]\n",
    "    \n",
    "dict_to_global(plotting_params, globals(), deal_with_overwrites=True)"
   ]
  },
  {
   "cell_type": "markdown",
   "id": "084baa6c",
   "metadata": {},
   "source": [
    "### Setup"
   ]
  },
  {
   "cell_type": "code",
   "execution_count": 13,
   "id": "dac1e035",
   "metadata": {},
   "outputs": [],
   "source": [
    "results = {} # For storing any intermediate calibration results or larger results, like instantons\n",
    "calcs = {} # For observables and other calculations\n",
    "sim_states = {} # For storing things like simulation time, teleportation success rates etc"
   ]
  },
  {
   "cell_type": "code",
   "execution_count": 14,
   "id": "e27d5f7c",
   "metadata": {},
   "outputs": [
    {
     "name": "stdout",
     "output_type": "stream",
     "text": [
      "Result name: [notebook] switch, beta=1.00e+01, gamma=5, Tf=10, U0=3, xi1=0, xi2=2, N_steps=1.00e+06, Nm_Tf_factor=200 (22-11-20, 12:02:30)\n",
      "\n",
      "In progress folder:\n",
      "output/in_progress/switch/notebook/[notebook] switch, beta=1.00e+01, gamma=5, Tf=10, U0=3, xi1=0, xi2=2, N_steps=1.00e+06, Nm_Tf_factor=200 (22-11-20, 12:02:30)\n",
      "\n",
      "Output folder:\n",
      "output/switch/notebook/[notebook] switch, beta=1.00e+01, gamma=5, Tf=10, U0=3, xi1=0, xi2=2, N_steps=1.00e+06, Nm_Tf_factor=200 (22-11-20, 12:02:30)\n",
      "\n"
     ]
    }
   ],
   "source": [
    "params_to_not_include = ['dim', 'x0', 'x1']\n",
    "parameters_to_include_in_name = { k:v for (k,v) in system_params.items() if not k in params_to_not_include }\n",
    "parameters_to_include_in_name['N_steps'] = '{:.2e}'.format(N_steps)\n",
    "parameters_to_include_in_name['beta'] = '{:.2e}'.format(beta)\n",
    "parameters_to_include_in_name['Nm_Tf_factor'] = Nm_Tf_factor\n",
    "\n",
    "sim_result = SimResult(simulation_name, run_name, run_info, parameters_to_include_in_name, use_temp_folder, ssh_comp)\n",
    "sim_result.save_note('UNFINISHED', str(datetime.datetime.now()))\n",
    "sys.excepthook = sim_result.crash_log\n",
    "\n",
    "if sys.argv[1] == \"args\":\n",
    "    sim_result.save_pkl('args_params', args_params)"
   ]
  },
  {
   "cell_type": "code",
   "execution_count": 15,
   "id": "aa4200fa",
   "metadata": {},
   "outputs": [],
   "source": [
    "results = {} # For storing any intermediate calibration results or larger results, like instantons\n",
    "calcs = {} # For observables and other calculations\n",
    "sim_states = {} # For storing things like simulation time, teleportation success rates etc"
   ]
  },
  {
   "cell_type": "code",
   "execution_count": 16,
   "id": "9755ac2c",
   "metadata": {},
   "outputs": [
    {
     "name": "stdout",
     "output_type": "stream",
     "text": [
      "SSH comp: notebook\n"
     ]
    }
   ],
   "source": [
    "sim_result.log('SSH comp: %s' % ssh_comp, print_time=False)"
   ]
  },
  {
   "cell_type": "code",
   "execution_count": 17,
   "id": "b65acb65",
   "metadata": {},
   "outputs": [
    {
     "name": "stdout",
     "output_type": "stream",
     "text": [
      "Params:\n",
      " beta = 1.00e+01\n",
      " gamma = 5\n",
      " Tf = 10\n",
      " U0 = 3\n",
      " xi1 = 0\n",
      " xi2 = 2\n",
      " N_steps = 1.00e+06\n",
      " Nm_Tf_factor = 200\n",
      "\n"
     ]
    }
   ],
   "source": [
    "sim_result.log('Params:')\n",
    "for k,v in parameters_to_include_in_name.items():\n",
    "    sim_result.log(' %s = %s' % (k,v), print_time=False)\n",
    "sim_result.log('', print_time=False)"
   ]
  },
  {
   "cell_type": "code",
   "execution_count": 18,
   "id": "d8f609f1",
   "metadata": {},
   "outputs": [],
   "source": [
    "if not MCMC_params['enable_parallelisation']:\n",
    "    os.environ['OPENBLAS_NUM_THREADS'] = '1'\n",
    "    os.environ['MKL_NUM_THREADS'] = '1'\n",
    "    os.environ[\"NUMEXPR_NUM_THREADS\"] = '1'\n",
    "    os.environ[\"OMP_NUM_THREADS\"] = '1'\n",
    "    pyfftw.config.NUM_THREADS = 1"
   ]
  },
  {
   "cell_type": "markdown",
   "id": "05b044a9",
   "metadata": {
    "tags": []
   },
   "source": [
    "## 2. Calibration"
   ]
  },
  {
   "cell_type": "markdown",
   "id": "e55e189c",
   "metadata": {
    "tags": []
   },
   "source": [
    "### Find instanton"
   ]
  },
  {
   "cell_type": "code",
   "execution_count": 19,
   "id": "9c0806d1",
   "metadata": {},
   "outputs": [],
   "source": [
    "def filter_valid_paths(found_instantons, test_upper, clockwise_loops, Qf, use_OM):\n",
    "    if type(found_instantons) != list:\n",
    "        found_instantons = [found_instantons]\n",
    "    \n",
    "    valid_instantons = []\n",
    "    invalid_instantons = []\n",
    "    for inst in found_instantons:\n",
    "        eigs = np.linalg.eigvalsh(Qf)\n",
    "        Qf_det_sign, Qf_det = np.linalg.slogdet(Qf)\n",
    "        \n",
    "        is_valid = np.count_nonzero(eigs[eigs<0]) == 0\n",
    "        is_valid = is_valid and (Qf_det_sign == 1)\n",
    "        \n",
    "        winding_number = compute_path_winding_number(inst['path'], inst['d_path'], inst['ts'])\n",
    "        \n",
    "        if test_upper:\n",
    "            is_valid = is_valid and (winding_number == -(0.5+clockwise_loops))\n",
    "        else:\n",
    "            is_valid = is_valid and (winding_number == -(-0.5+clockwise_loops))\n",
    "        \n",
    "        #if test_upper:\n",
    "        #    # Reaches the upper channel boundary\n",
    "        #    is_valid = is_valid and np.count_nonzero(inst['path'][1,:] > analysis_params['valid_path_channel_boundary']) > 0\n",
    "        #    # Never reaches the lower channel boundary\n",
    "        #    is_valid = is_valid and np.count_nonzero(inst['path'][1,:] < -analysis_params['valid_path_channel_boundary']) == 0\n",
    "        #else:\n",
    "        #    # Reaches the lower channel boundary\n",
    "        #    is_valid = is_valid and np.count_nonzero(inst['path'][1,:] > -analysis_params['valid_path_channel_boundary']) > 0\n",
    "        #    # Never reaches the upper channel boundary\n",
    "        #    is_valid = is_valid and np.count_nonzero(inst['path'][1,:] > analysis_params['valid_path_channel_boundary']) == 0\n",
    "        \n",
    "        inst['is_valid'] = is_valid\n",
    "            \n",
    "        if is_valid:\n",
    "            valid_instantons.append( inst )\n",
    "        else:\n",
    "            invalid_instantons.append( inst )\n",
    "            \n",
    "    if len(valid_instantons) > 0:\n",
    "        return valid_instantons\n",
    "    else:\n",
    "        return invalid_instantons # If no valid path is found, just return the invalid ones"
   ]
  },
  {
   "cell_type": "code",
   "execution_count": 20,
   "id": "3ddd0d2a",
   "metadata": {
    "tags": []
   },
   "outputs": [],
   "source": [
    "def get_shrunken_teleporter(Q, inst_state, teleporter_Nm):\n",
    "    teleporter_Qf = modemc.variations.flatten_Q(Q[:,:,:teleporter_Nm,:teleporter_Nm])\n",
    "    teleporter_mean_state = inst_state[:, :min(min(inst_state.shape[1], teleporter_Nm),Nm)]\n",
    "    return modemc.protocols.GaussianTeleporter(teleporter_mean_state, teleporter_Qf, match_precision_Nm=True)\n",
    "\n",
    "def compute_path_winding_number(path, d_path, ts):\n",
    "    path_r2s = path[0,:]**2 + path[1,:]**2\n",
    "    dthetas = (path[0,:]*d_path[1,:] - path[1,:]*d_path[0,:]) / path_r2s # (x dy - y dx)/r^2\n",
    "    dthetas /= (2 * np.pi)\n",
    "    winding_number = np.round(2*np.trapz(dthetas, x=ts))/2\n",
    "    return winding_number\n",
    "\n",
    "def find_instanton(find_upper, clockwise_loops, use_OM):\n",
    "    basis_us = np.linspace(-1, 1, 50000)\n",
    "    basis_ts = Tf*(basis_us+1)/2\n",
    "    basis = modemc.utils.get_brownian_bridge_KL_basis(instanton_finder_params['Nm'], dim, basis_ts)\n",
    "    \n",
    "    if find_upper:\n",
    "        inst_path0 = np.array([-np.cos(np.pi*(1 + 2*clockwise_loops)*basis_ts/Tf), np.sin(np.pi*(1 + 2*clockwise_loops)*basis_ts/Tf)])\n",
    "    else:\n",
    "        inst_path0 = np.array([-np.cos(np.pi*(1 + 2*clockwise_loops)*basis_ts/Tf), -np.sin(np.pi*(1 + 2*clockwise_loops)*basis_ts/Tf)])\n",
    "    inst_state0 = modemc.utils.project_onto_basis(inst_path0, basis, basis_ts)\n",
    "    \n",
    "    params = dict.copy(instanton_finder_params)\n",
    "    del params['Nm']\n",
    "    del params['instanton_finder_Nm_Tf_factor']\n",
    "    del params['instanton_finder_Nq_factor']\n",
    "    params['state0'] = inst_state0\n",
    "    params['use_OM'] = use_OM\n",
    "    inst = modemc.instantons.gradient_descent(**params)\n",
    "    \n",
    "    Q_Nm = int(np.round(min(Q_Nm_Tf_factor * Tf, Nm)))\n",
    "    inst['Q_OM'], inst['Qf_OM'], _, _, _ = modemc.variations.compute_banded_Q_matrix(system, inst['state'],\n",
    "                        Q_band_size, Nm=Q_Nm, Nq_factor=Q_Nq_factor, quad_scheme=Q_quad_scheme, return_partial_Qs=True, use_OM=True)\n",
    "    \n",
    "    inst['Q_FW'], inst['Qf_FW'], _, _, _ = modemc.variations.compute_banded_Q_matrix(system, inst['state'],\n",
    "                        Q_band_size, Nm=Q_Nm, Nq_factor=Q_Nq_factor, quad_scheme=Q_quad_scheme, return_partial_Qs=True, use_OM=False)\n",
    "    \n",
    "    if teleporter_Q_use_OM:\n",
    "        teleport_Q = inst['Q_OM']\n",
    "        teleport_Qf = inst['Qf_OM']\n",
    "    else:\n",
    "        teleport_Q = inst['Q_FW']\n",
    "        teleport_Qf = inst['Qf_FW']\n",
    "    \n",
    "    filtered_paths = filter_valid_paths(inst, find_upper, clockwise_loops, teleport_Qf, use_OM)\n",
    "    inst = filtered_paths[0]\n",
    "    \n",
    "    tele_inst = inst['state'][:, :min(inst['state'].shape[1], Q_Nm)]\n",
    "    \n",
    "    t = modemc.protocols.GaussianTeleporter(tele_inst, inst['Qf_OM'], match_precision_Nm=True)\n",
    "    inst['Z_sign_OM'], inst['log_Z_OM'] = t.Z_sign, t.log_Z\n",
    "    t = modemc.protocols.GaussianTeleporter(tele_inst, inst['Qf_FW'], match_precision_Nm=True)\n",
    "    inst['Z_sign_FW'], inst['log_Z_FW'] = t.Z_sign, t.log_Z\n",
    "    del t\n",
    "        \n",
    "    inst['teleporter'] = get_shrunken_teleporter(teleport_Q, tele_inst, teleporter_Nm)\n",
    "    \n",
    "    return inst"
   ]
  },
  {
   "cell_type": "code",
   "execution_count": 21,
   "id": "9ad54bdb",
   "metadata": {},
   "outputs": [
    {
     "data": {
      "text/plain": [
       "{'instanton_finder_Nm_Tf_factor': 5,\n",
       " 'instanton_finder_Nq_factor': 12,\n",
       " 'max_steps': 10000,\n",
       " 'ag_c': 1e-06,\n",
       " 'S_tol': 1e-20,\n",
       " 'gradS_tol': 1e-06,\n",
       " 'step_size0': 0.1,\n",
       " 'step_size_rate': 0.99,\n",
       " 'min_step_size': 1e-60,\n",
       " 'quad_scheme': <function modemc.quad.clenshaw_curtis>,\n",
       " 'verbose': True,\n",
       " 'system': <modemc.systems.switch.Switch at 0x7fdd9d8449c0>,\n",
       " 'Nm': 50,\n",
       " 'Nq': 600}"
      ]
     },
     "execution_count": 21,
     "metadata": {},
     "output_type": "execute_result"
    }
   ],
   "source": [
    "instanton_finder_params"
   ]
  },
  {
   "cell_type": "code",
   "execution_count": 22,
   "id": "2e5401a5",
   "metadata": {},
   "outputs": [
    {
     "name": "stdout",
     "output_type": "stream",
     "text": [
      "Loop 0:\n",
      "\tFinding upper OM instanton\n",
      "Instanton finder ended (reason: S_tol): i=7.0670e+03\tstep_size=7.35e-05\t|gradS|=3.44e-05\tdS=0.00e+00\tS=-3.685927e+01\n",
      "\tFinding lower OM instanton\n",
      "Instanton finder ended (reason: gradS_tol): i=1.3550e+03\tstep_size=5.54e-04\t|gradS|=9.92e-06\tdS=0.00e+00\tS=-1.337793e+01\n",
      "\n",
      "Loop 1:\n",
      "\tFinding upper OM instanton\n",
      "Instanton finder ended (reason: S_tol): i=5.8250e+03\tstep_size=2.45e-04\t|gradS|=4.44e-04\tdS=0.00e+00\tS=6.970499e+01\n",
      "\tFinding lower OM instanton\n",
      "Instanton finder ended (reason: max_calcs): i=9.9990e+03\tstep_size=1.67e-04\t|gradS|=7.11e-05\tdS=0.00e+00\tS=7.665221e+01\n",
      "\n",
      "Finding upper FW instanton\n",
      "Instanton finder ended (reason: S_tol): i=2.7240e+03\tstep_size=3.64e-05\t|gradS|=1.37e-05\tdS=0.00e+00\tS=1.232341e+01\n",
      "WARNING: Precision matrix is not positive definite. Projecting to closest positive semi-definite matrix.\n",
      "Finding lower FW instanton\n",
      "Instanton finder ended (reason: gradS_tol): i=4.9300e+02\tstep_size=6.12e-04\t|gradS|=9.98e-06\tdS=0.00e+00\tS=1.227911e+01\n",
      "WARNING: Precision matrix is not positive definite. Projecting to closest positive semi-definite matrix.\n"
     ]
    }
   ],
   "source": [
    "upper_OMs = []\n",
    "lower_OMs = []\n",
    "upper_FWs = []\n",
    "lower_FWs = []\n",
    "\n",
    "for l in range(N_instanton_loops+1):\n",
    "    sim_result.log('Loop %s:' % l)\n",
    "    \n",
    "    sim_result.log('\\tFinding upper OM instanton')\n",
    "    upper_OMs.append(find_instanton(find_upper=True, clockwise_loops=l, use_OM=True))\n",
    "\n",
    "    sim_result.log('\\tFinding lower OM instanton')\n",
    "    lower_OMs.append(find_instanton(find_upper=False, clockwise_loops=l, use_OM=True))\n",
    "    \n",
    "    sim_result.log('', print_time=False)\n",
    "\n",
    "sim_result.log('Finding upper FW instanton')\n",
    "upper_FWs.append(find_instanton(find_upper=True, clockwise_loops=0, use_OM=False))\n",
    "\n",
    "sim_result.log('Finding lower FW instanton')\n",
    "lower_FWs.append(find_instanton(find_upper=False, clockwise_loops=0, use_OM=False))"
   ]
  },
  {
   "cell_type": "code",
   "execution_count": 23,
   "id": "4f391964",
   "metadata": {},
   "outputs": [],
   "source": [
    "upper_OM = upper_OMs[0]\n",
    "lower_OM = lower_OMs[0]\n",
    "upper_FW = upper_FWs[0]\n",
    "lower_FW = lower_FWs[0]\n",
    "\n",
    "results['upper_OM_instanton'] = upper_OM\n",
    "results['lower_OM_instanton'] = lower_OM\n",
    "results['upper_FW_instanton'] = upper_FW\n",
    "results['lower_FW_instanton'] = lower_FW\n",
    "\n",
    "results['upper_OM_loop_instantons'] = upper_OMs\n",
    "results['lower_OM_loop_instantons'] = lower_OMs\n",
    "results['upper_FW_loop_instantons'] = upper_FWs\n",
    "results['lower_FW_loop_instantons'] = lower_FWs"
   ]
  },
  {
   "cell_type": "code",
   "execution_count": 24,
   "id": "7a65c5d0",
   "metadata": {},
   "outputs": [
    {
     "name": "stdout",
     "output_type": "stream",
     "text": [
      "Upper OM loop 0 valid = True\n",
      "Lower OM loop 0 valid = True\n",
      "Upper OM loop 1 valid = True\n",
      "Lower OM loop 1 valid = False\n"
     ]
    }
   ],
   "source": [
    "for l in range(N_instanton_loops+1):\n",
    "    sim_result.log('Upper OM loop %s valid = %s' % (l, upper_OMs[l]['is_valid']), print_time=False)\n",
    "    sim_result.log('Lower OM loop %s valid = %s' % (l, lower_OMs[l]['is_valid']), print_time=False)"
   ]
  },
  {
   "cell_type": "markdown",
   "id": "f5cca4f9",
   "metadata": {},
   "source": [
    "Set the initial conditions of the MCMC to one of the instantons"
   ]
  },
  {
   "cell_type": "code",
   "execution_count": 25,
   "id": "91a685c6",
   "metadata": {},
   "outputs": [],
   "source": [
    "def inst_Nm_to_Nm(inst_state):\n",
    "    inst_Nm = inst_state.shape[1]\n",
    "    full_state = np.zeros((dim, Nm))\n",
    "    \n",
    "    if inst_Nm <= Nm:\n",
    "        full_state[:,:inst_Nm] = inst_state\n",
    "    else:\n",
    "        full_state[:,:] = inst_state[:,:Nm]\n",
    "        \n",
    "    return full_state\n",
    "\n",
    "if MCMC_params['state0_choice'] == 'upper_OM' and upper_OM['is_valid']:\n",
    "    MCMC_params['state0'] = upper_OM['state']\n",
    "else:\n",
    "    MCMC_params['state0'] = lower_OM['state']\n",
    "\n",
    "if MCMC_params['state0_choice'] == 'lower_OM' and lower_OM['is_valid']:\n",
    "    MCMC_params['state0'] = lower_OM['state']\n",
    "else:\n",
    "    MCMC_params['state0'] = upper_OM['state']\n",
    "    \n",
    "if MCMC_params['state0_choice'] == 'upper_OM' and upper_FW['is_valid']:\n",
    "    MCMC_params['state0'] = upper_FW['state']\n",
    "else:\n",
    "    MCMC_params['state0'] = lower_FW['state']\n",
    "\n",
    "if MCMC_params['state0_choice'] == 'lower_OM' and lower_FW['is_valid']:\n",
    "    MCMC_params['state0'] = lower_FW['state']\n",
    "else:\n",
    "    MCMC_params['state0'] = upper_FW['state']\n",
    "    \n",
    "MCMC_params['state0'] = inst_Nm_to_Nm(MCMC_params['state0'])"
   ]
  },
  {
   "cell_type": "code",
   "execution_count": 26,
   "id": "ec7745d4",
   "metadata": {},
   "outputs": [
    {
     "data": {
      "image/png": "[encoded data removed]",
      "text/plain": [
       "<Figure size 360x360 with 1 Axes>"
      ]
     },
     "metadata": {
      "needs_background": "light"
     },
     "output_type": "display_data"
    }
   ],
   "source": [
    "fig, ax = plt.subplots(figsize=(5,5))\n",
    "X, Y = np.meshgrid(np.linspace(xlims[0], xlims[1], 400),  np.linspace(ylims[0], ylims[1], 400))\n",
    "Z = system.compute_potential(X, Y)\n",
    "#U, V = force_vec(X, Y)\n",
    "#speed = np.sqrt(U**2 + V**2)\n",
    "#lw = 6*speed / speed.max() + 0.4\n",
    "#ax.streamplot(X, Y, U, V, density=[2, 2], linewidth=lw)\n",
    "ax.contour(X, Y, Z, levels=100)\n",
    "ax.plot(upper_OM['path'][0,:], upper_OM['path'][1,:], upper_OM_inst_shape, color=upper_OM_inst_color, label='Upper OM')\n",
    "ax.plot(lower_OM['path'][0,:], lower_OM['path'][1,:], lower_OM_inst_shape, color=lower_OM_inst_color, label='Lower OM')\n",
    "ax.plot(upper_FW['path'][0,:], upper_FW['path'][1,:], upper_FW_inst_shape, color=upper_FW_inst_color, label='Upper FW')\n",
    "ax.plot(lower_FW['path'][0,:], lower_FW['path'][1,:], lower_FW_inst_shape, color=lower_FW_inst_color, label='Lower FW')\n",
    "ax.set_xlabel('x'); ax.set_ylabel('y')\n",
    "plt.legend()\n",
    "plt.tight_layout()\n",
    "plt.show()"
   ]
  },
  {
   "cell_type": "markdown",
   "id": "de772f15",
   "metadata": {},
   "source": [
    "### Teleporters"
   ]
  },
  {
   "cell_type": "code",
   "execution_count": 27,
   "id": "f4193ec3",
   "metadata": {},
   "outputs": [],
   "source": [
    "teleporters = []\n",
    "teleporters_valid_mask = []\n",
    "teleporters_labels = []\n",
    "\n",
    "if teleporter_choice == 'OM':\n",
    "    for l in range(len(upper_OMs)):\n",
    "        teleporters_labels.append('upper_OM_%s' % l)\n",
    "    for l in range(len(lower_OMs)):\n",
    "        teleporters_labels.append('lower_OM_%s' % l)\n",
    "    \n",
    "    for inst in upper_OMs + lower_OMs:\n",
    "        teleporters_valid_mask.append(inst['is_valid'])\n",
    "        if inst['is_valid']:\n",
    "            teleporters.append(inst['teleporter'])\n",
    "elif teleporter_choice == 'FW':\n",
    "    for l in range(len(upper_OMs)):\n",
    "        teleporters_labels.append('upper_FW_%s' % l)\n",
    "    for l in range(len(lower_OMs)):\n",
    "        teleporters_labels.append('lower_FW_%s' % l)\n",
    "    \n",
    "    for inst in upper_FWs + lower_FWs:\n",
    "        teleporters_valid_mask.append(inst['is_valid'])\n",
    "        if inst['is_valid']:\n",
    "            teleporters.append(inst['teleporter'])\n",
    "else:\n",
    "    raise Exception('Poor teleporter choice')\n",
    "    \n",
    "#if not upper_teleporter_inst['is_valid'] and lower_teleporter_inst['is_valid']:\n",
    "#    use_teleport = False\n",
    "#    MCMC_params['use_teleport'] = use_teleport\n",
    "#else:\n",
    "#    MCMC_params['teleporters'] = [upper_teleporter_inst['teleporter'], lower_teleporter_inst['teleporter']]\n",
    "\n",
    "MCMC_params['teleporters'] = teleporters\n",
    "\n",
    "if MCMC_params['teleporter_probs'] == 'uniform':\n",
    "    MCMC_params['teleporter_probs'] = [1]*len(teleporters)\n",
    "else:\n",
    "    MCMC_params['teleporter_probs'] = np.array(MCMC_params['teleporter_probs'])[teleporters_valid_mask]\n",
    "    \n",
    "teleporters_labels = np.array(teleporters_labels)[teleporters_valid_mask]"
   ]
  },
  {
   "cell_type": "markdown",
   "id": "deb95ddb",
   "metadata": {},
   "source": [
    "If the instantons are not valid, use flips instead"
   ]
  },
  {
   "cell_type": "code",
   "execution_count": 28,
   "id": "add0901f",
   "metadata": {},
   "outputs": [
    {
     "name": "stdout",
     "output_type": "stream",
     "text": [
      "Using teleport and flip\n"
     ]
    }
   ],
   "source": [
    "#if not upper_teleporter_inst['is_valid'] or not lower_teleporter_inst['is_valid']:\n",
    "#    MCMC_params['p_teleport'] = 0\n",
    "#    sim_result.log('Using flip')\n",
    "#elif system_params['beta'] > MCMC_params['flip_beta_threshold']:\n",
    "#    MCMC_params['p_flip'] = 0\n",
    "#    sim_result.log('Using teleport')\n",
    "#else:\n",
    "#    sim_result.log('Using teleport and flip')\n",
    "\n",
    "if system_params['beta'] <= MCMC_params['flip_beta_threshold']:\n",
    "    sim_result.log('Using teleport and flip')\n",
    "else:\n",
    "    MCMC_params['p_flip'] = 0\n",
    "    sim_result.log('Using teleport')"
   ]
  },
  {
   "cell_type": "markdown",
   "id": "fd12aa60",
   "metadata": {
    "tags": []
   },
   "source": [
    "### Find kappa"
   ]
  },
  {
   "cell_type": "markdown",
   "id": "decb8ec8",
   "metadata": {},
   "source": [
    "Find the baseline kappa"
   ]
  },
  {
   "cell_type": "code",
   "execution_count": null,
   "id": "d78d4055",
   "metadata": {},
   "outputs": [
    {
     "name": "stdout",
     "output_type": "stream",
     "text": [
      "Finding baseline kappa\n"
     ]
    }
   ],
   "source": [
    "sim_result.log('Finding baseline kappa')\n",
    "\n",
    "kappa_finder_params['MCMC_params'] = dict.copy(MCMC_params) # Important that we copy MCMC_params here after state0 has been set\n",
    "kappa_finder_params['MCMC_params']['FFTW_planner_flag'] = 'FFTW_MEASURE'\n",
    "kappa_finder_params['MCMC_params']['p_teleport'] = kappa_finder_params['p_teleport']\n",
    "_kappa_finder_params = dict.copy(kappa_finder_params)\n",
    "del _kappa_finder_params['p_teleport']\n",
    "kappa_finder_res = modemc.utils.find_kappa(**_kappa_finder_params)\n",
    "baseline_kappa = kappa_finder_res[0]\n",
    "\n",
    "sim_result.log('Baseline kappa:', baseline_kappa)"
   ]
  },
  {
   "cell_type": "markdown",
   "id": "1debfce3",
   "metadata": {},
   "source": [
    "Find the Gaussian cutoff point"
   ]
  },
  {
   "cell_type": "code",
   "execution_count": null,
   "id": "86ed2119",
   "metadata": {},
   "outputs": [],
   "source": [
    "sim_result.log('Finding Gaussian cut-off')\n",
    "\n",
    "window_MCMC_params = dict.copy(MCMC_params)\n",
    "window_MCMC_params['use_teleport'] = gaussian_mode_finder_use_teleport\n",
    "window_MCMC_params['p_teleport'] = gaussian_mode_finder_p_teleport\n",
    "window_MCMC_params['use_windows'] = True\n",
    "\n",
    "find_gaussian_N_sim = Nm*gaussian_mode_finder_N_step_Nm_factor\n",
    "window_MCMC_params['Nm_save'] = 0\n",
    "window_MCMC_params['window_probs'] = np.full(Nm, 1)\n",
    "window_MCMC_params['window_indices'] = np.arange(0, Nm)\n",
    "window_MCMC_params['kappa'] = gaussian_mode_finder_params['kappa']\n",
    "\n",
    "window_sim = modemc.protocols.pCN(window_MCMC_params)\n",
    "window_sim.simulate(N_steps=find_gaussian_N_sim, batch_size=batch_size, N_save=0, N_paths_save=0, use_GB=True, verbose=True);"
   ]
  },
  {
   "cell_type": "code",
   "execution_count": null,
   "id": "81137362",
   "metadata": {},
   "outputs": [],
   "source": [
    "window_sim.window_attempt_counts[window_sim.window_attempt_counts == 0] = 1\n",
    "window_acc_rates = window_sim.window_acceptance_counts / window_sim.window_attempt_counts\n",
    "\n",
    "w = np.where(window_acc_rates > gaussian_mode_finder_params['gaussian_mode_acc_threshold'])[0]\n",
    "if len(w) != 0:\n",
    "    gaussian_mode_k = w[0]\n",
    "else:\n",
    "    gaussian_mode_k = 10*Nm\n",
    "    \n",
    "gaussian_mode_k = int(np.round(gaussian_mode_k * gaussian_mode_finder_params['gaussian_mode_multiplier']))\n",
    "    \n",
    "sim_result.log('gaussian_mode_k:', gaussian_mode_k)"
   ]
  },
  {
   "cell_type": "code",
   "execution_count": null,
   "id": "d0c0b94e",
   "metadata": {},
   "outputs": [],
   "source": [
    "del window_sim"
   ]
  },
  {
   "cell_type": "markdown",
   "id": "17cc7aaf",
   "metadata": {},
   "source": [
    "Construct the kappa vector"
   ]
  },
  {
   "cell_type": "code",
   "execution_count": null,
   "id": "8445c6f8",
   "metadata": {},
   "outputs": [],
   "source": [
    "def sigmoid(x, xmin, xmax, mu, sig):\n",
    "    return xmin + (xmax - xmin) / (1 + np.exp(-sig*(x-mu)))\n",
    "\n",
    "ms = np.arange(0, Nm)\n",
    "kappas = sigmoid(ms, baseline_kappa, 1, gaussian_mode_k, gaussian_mode_finder_params['kappas_sig'])\n",
    "MCMC_params['kappa'] = kappas"
   ]
  },
  {
   "cell_type": "code",
   "execution_count": null,
   "id": "9ac30284",
   "metadata": {},
   "outputs": [],
   "source": [
    "fig,ax = plt.subplots()\n",
    "\n",
    "ax.plot(ms, window_acc_rates, color=\"blue\")\n",
    "ax.set_ylabel(\"Acceptance rate\", color=\"blue\")\n",
    "\n",
    "ax2 = ax.twinx()\n",
    "ax2.plot(ms, kappas, color='red')\n",
    "ax2.set_xlabel(\"Mode\")\n",
    "ax2.set_ylabel(r'$\\kappa$', color=\"red\")\n",
    "\n",
    "plt.xscale('log')\n",
    "plt.show()"
   ]
  },
  {
   "cell_type": "code",
   "execution_count": null,
   "id": "cd4edf1b",
   "metadata": {},
   "outputs": [],
   "source": [
    "kappas[:] = baseline_kappa"
   ]
  },
  {
   "cell_type": "code",
   "execution_count": null,
   "id": "07e16279",
   "metadata": {},
   "outputs": [],
   "source": [
    "results['baseline_kappa'] = baseline_kappa\n",
    "results['kappas'] = kappas\n",
    "results['gaussian_mode_k'] = gaussian_mode_k\n",
    "results['window_acc_rates'] = window_acc_rates"
   ]
  },
  {
   "cell_type": "markdown",
   "id": "6a141c50",
   "metadata": {},
   "source": [
    "### Free up memory\n",
    "\n",
    "We save the calibration results to free them from memory."
   ]
  },
  {
   "cell_type": "code",
   "execution_count": null,
   "id": "69880f0c",
   "metadata": {
    "scrolled": false
   },
   "outputs": [],
   "source": [
    "keys_to_store = ['S', 'Z_sign_OM', 'log_Z_OM', 'Z_sign_FW', 'log_Z_FW', 'is_valid']\n",
    "for inst_k in ['upper_OM', 'lower_OM', 'upper_FW', 'lower_FW']:\n",
    "    for ks in keys_to_store:\n",
    "        for l, inst in enumerate(results['%s_loop_instantons' % inst_k]):\n",
    "            calcs['%s_loop%s_%s' % (inst_k, l, ks)] = inst[ks]\n",
    "        \n",
    "for inst_k in ['upper_OM', 'lower_OM', 'upper_FW', 'lower_FW']:\n",
    "    for l, inst in enumerate(results['%s_loop_instantons' % inst_k]):\n",
    "        sim_result.log('%s loop %s:' % (inst_k, l), log_name='results', print_time=False)\n",
    "\n",
    "        det_Q_sign_OM, log_det_Q_OM = np.linalg.slogdet(inst['Qf_OM'])\n",
    "        det_Q_sign_FW, log_det_Q_FW = np.linalg.slogdet(inst['Qf_FW'])\n",
    "\n",
    "        sim_result.log('  %s: %s' % ('S0', inst['S0']), log_name='results', print_time=False)\n",
    "        sim_result.log('  %s: %s' % ('S', inst['S']), log_name='results', print_time=False)\n",
    "\n",
    "        sim_result.log('  %s: %s' % ('end_status', inst['end_status']), log_name='results', print_time=False)\n",
    "        sim_result.log('  %s: %s' % ('end_step', inst['end_step']), log_name='results', print_time=False)\n",
    "        sim_result.log('  %s: %s' % ('dS', inst['dS']), log_name='results', print_time=False)\n",
    "        sim_result.log('  %s: %s' % ('|gradS|', inst['|gradS|']), log_name='results', print_time=False)\n",
    "        sim_result.log('  %s: %s' % ('step_size', inst['step_size']), log_name='results', print_time=False)\n",
    "        sim_result.log('  %s: %s' % ('is_valid', inst['is_valid']), log_name='results', print_time=False)\n",
    "\n",
    "        sim_result.log('  %s: %s' % ('Z_sign_OM', inst['Z_sign_OM']), log_name='results', print_time=False)\n",
    "        sim_result.log('  %s: %s' % ('log_Z_OM', inst['log_Z_OM']), log_name='results', print_time=False)\n",
    "        sim_result.log('  %s: %s' % ('Z_sign_FW', inst['Z_sign_FW']), log_name='results', print_time=False)\n",
    "        sim_result.log('  %s: %s' % ('log_Z_FW', inst['log_Z_FW']), log_name='results', print_time=False)\n",
    "\n",
    "        sim_result.log('  %s: %s' % ('det_Q_sign_OM', det_Q_sign_OM), log_name='results', print_time=False)\n",
    "        sim_result.log('  %s: %s' % ('log_det_Q_OM', log_det_Q_OM), log_name='results', print_time=False)\n",
    "        sim_result.log('  %s: %s' % ('det_Q_sign_FW', det_Q_sign_FW), log_name='results', print_time=False)\n",
    "        sim_result.log('  %s: %s' % ('log_det_Q_FW', log_det_Q_FW), log_name='results', print_time=False)\n",
    "\n",
    "        sim_result.log('', log_name='results', print_time=False)"
   ]
  },
  {
   "cell_type": "code",
   "execution_count": null,
   "id": "ffe009cf",
   "metadata": {},
   "outputs": [],
   "source": [
    "del_keys = ['Q_OM', 'Qf_OM', 'Q_FW', 'Qf_FW', 'teleporter']\n",
    "\n",
    "for inst in upper_OMs + lower_OMs + upper_FWs + lower_FWs:\n",
    "    for k in del_keys:\n",
    "        del inst[k]\n",
    "        \n",
    "sim_result.save_pkl('results', results)\n",
    "del results"
   ]
  },
  {
   "cell_type": "markdown",
   "id": "c2097499",
   "metadata": {},
   "source": [
    "## 3. Define observables"
   ]
  },
  {
   "cell_type": "code",
   "execution_count": null,
   "id": "b9fb13e8",
   "metadata": {},
   "outputs": [],
   "source": [
    "observables = {\n",
    "    'accept_rate' : [],\n",
    "    'avg_upper_channel_residency' : [],\n",
    "    'upper_channel_path_rate' : [],\n",
    "    'coeffy0' : [],\n",
    "    'pos_coeffy0' : [],\n",
    "    'winding_number' : [],\n",
    "    'clock_winding_number' : [],\n",
    "    'aclock_winding_number' : []\n",
    "}\n",
    "\n",
    "trace_observables = { k : [] for k in observables }"
   ]
  },
  {
   "cell_type": "markdown",
   "id": "36d61432",
   "metadata": {},
   "source": [
    "Accept rate"
   ]
  },
  {
   "cell_type": "code",
   "execution_count": null,
   "id": "6d3b011f",
   "metadata": {},
   "outputs": [],
   "source": [
    "accept_count = 0\n",
    "accept_N = 0\n",
    "\n",
    "def compute_accept_rate(batch_states, batch_accepts, batch_actions, batch_paths, batch_d_paths):\n",
    "    global accept_count, accept_N\n",
    "    \n",
    "    M = batch_states.shape[0] # int(np.ceil(batch_states.shape[0] / N_trace_observable))\n",
    "    N_trace_observable = 1\n",
    "    for i in range(M):\n",
    "        _batch_accepts = batch_accepts[i*N_trace_observable:(i+1)*N_trace_observable]\n",
    "        accept_count += np.count_nonzero(_batch_accepts)\n",
    "        accept_N += len(_batch_accepts)\n",
    "        \n",
    "        trace_observables['accept_rate'].append(accept_count/accept_N)\n",
    "        #trace_observables['steps'].append(accept_N)\n",
    "        \n",
    "    for i in range(batch_states.shape[0]):\n",
    "        observables['accept_rate'].append(batch_accepts[i])"
   ]
  },
  {
   "cell_type": "markdown",
   "id": "9d931436",
   "metadata": {},
   "source": [
    "Measure the channel rates"
   ]
  },
  {
   "cell_type": "code",
   "execution_count": null,
   "id": "c721c7b9",
   "metadata": {},
   "outputs": [],
   "source": [
    "upper_channel_time = 0\n",
    "upper_channel_total = 0\n",
    "upper_channel_paths_count = 0\n",
    "mean_coeffy0 = 0\n",
    "pos_coeffy0_count = 0\n",
    "\n",
    "def compute_channel_rates(batch_states, batch_accepts, batch_actions, batch_paths, batch_d_paths):\n",
    "    global upper_channel_time, upper_channel_total\n",
    "    global upper_channel_paths_count\n",
    "    global pos_coeffy0_count, mean_coeffy0\n",
    "    \n",
    "    M = batch_states.shape[0] # int(np.ceil(batch_states.shape[0] / N_trace_observable))\n",
    "    N_trace_observable = 1\n",
    "    for i in range(M):\n",
    "        _batch_paths = batch_paths[i*N_trace_observable:(i+1)*N_trace_observable]\n",
    "        _batch_states = batch_states[i*N_trace_observable:(i+1)*N_trace_observable]\n",
    "        \n",
    "        theta = np.einsum('in,n->i', _batch_paths[:,1,:] > 0, sim.quad_weights) / Tf\n",
    "        upper_channel_time += np.sum(theta)\n",
    "        upper_channel_paths_count += np.count_nonzero(theta > 0.5)\n",
    "        upper_channel_total += len(_batch_paths)\n",
    "    \n",
    "        pos_coeffy0_count += np.count_nonzero(_batch_states[:,1,0] > 0)\n",
    "        mean_coeffy0 = ((upper_channel_total - len(_batch_paths))*mean_coeffy0 + np.sum(_batch_states[:,1,0]))/upper_channel_total\n",
    "        \n",
    "        trace_observables['avg_upper_channel_residency'].append(upper_channel_time/upper_channel_total)\n",
    "        trace_observables['upper_channel_path_rate'].append(upper_channel_paths_count/upper_channel_total)\n",
    "        trace_observables['coeffy0'].append(mean_coeffy0)\n",
    "        trace_observables['pos_coeffy0'].append(pos_coeffy0_count/upper_channel_total)\n",
    "        \n",
    "    for i in range(batch_states.shape[0]):\n",
    "        theta = sim.quad_weights.dot(batch_paths[i,1,:] > 0) / Tf\n",
    "        observables['avg_upper_channel_residency'].append(theta)\n",
    "        observables['upper_channel_path_rate'].append(theta > 0.5)\n",
    "        observables['coeffy0'].append(batch_states[i,1,0])\n",
    "        observables['pos_coeffy0'].append(batch_states[i,1,0] > 0)"
   ]
  },
  {
   "cell_type": "markdown",
   "id": "5c123121",
   "metadata": {},
   "source": [
    "Winding number"
   ]
  },
  {
   "cell_type": "code",
   "execution_count": null,
   "id": "03b7d9ab",
   "metadata": {},
   "outputs": [],
   "source": [
    "wn_Nm = Nm_save\n",
    "wn_Nq = 5*wn_Nm\n",
    "\n",
    "wn_ts, wn_qts, wn_ws = modemc.quad.clenshaw_curtis(wn_Nq, Tf)\n",
    "\n",
    "def compute_winding_number(batch_states, batch_accepts, batch_actions, batch_paths, batch_d_paths):\n",
    "    \n",
    "    #fd_d_paths = np.gradient(batch_paths, sim.ts, axis=2) # Finite difference usually works better\n",
    "    \n",
    "    #path_r2s = batch_paths[:,0,:]**2 + batch_paths[:,1,:]**2\n",
    "    #dthetas = (batch_paths[:,0,:]*fd_d_paths[:,1,:] - batch_paths[:,1,:]*fd_d_paths[:,0,:]) / path_r2s # (x dy - y dx)/r^2\n",
    "    #dthetas /= (2 * np.pi)\n",
    "    #pos_dtheta = dthetas > 0\n",
    "    \n",
    "    #winding_numbers = np.einsum('in,n->i', dthetas, sim.quad_weights)\n",
    "    #clock_winding_numbers = np.einsum('in,n->i', (~pos_dtheta)*dthetas, sim.quad_weights)\n",
    "    #aclock_winding_numbers = np.einsum('in,n->i', pos_dtheta*dthetas, sim.quad_weights) \n",
    "    \n",
    "    wn_bb_mean, wn_dbb_mean, wn_phis, wn_dphis = modemc.utils.get_fast_eval_path_basis(x0, x1, wn_ts, Tf, wn_Nm)\n",
    "    wn_paths = np.einsum('lik,kn->lin', batch_states[:,:,:wn_Nm], wn_phis) + wn_bb_mean\n",
    "    wn_d_paths = np.einsum('lik,kn->lin', batch_states[:,:,:wn_Nm], wn_dphis) + wn_dbb_mean\n",
    "    \n",
    "    path_r2s = wn_paths[:,0,:]**2 + wn_paths[:,1,:]**2\n",
    "    dthetas = (wn_paths[:,0,:]*wn_d_paths[:,1,:] - wn_paths[:,1,:]*wn_d_paths[:,0,:]) / path_r2s # (x dy - y dx)/r^2\n",
    "    dthetas /= (2 * np.pi)\n",
    "    pos_dtheta = dthetas > 0\n",
    "    \n",
    "    winding_numbers = np.einsum('in,n->i', dthetas, wn_ws)\n",
    "    clock_winding_numbers = np.einsum('in,n->i', (~pos_dtheta)*dthetas, wn_ws)\n",
    "    aclock_winding_numbers = np.einsum('in,n->i', pos_dtheta*dthetas, wn_ws) \n",
    "    \n",
    "    for i in range(batch_states.shape[0]):\n",
    "        observables['winding_number'].append(winding_numbers[i])\n",
    "        observables['clock_winding_number'].append(clock_winding_numbers[i])\n",
    "        observables['aclock_winding_number'].append(aclock_winding_numbers[i])"
   ]
  },
  {
   "cell_type": "markdown",
   "id": "4f7c6687",
   "metadata": {},
   "source": [
    "Store observables in harddisk to save RAM"
   ]
  },
  {
   "cell_type": "code",
   "execution_count": null,
   "id": "373bc6d7",
   "metadata": {},
   "outputs": [],
   "source": [
    "def save_observables():\n",
    "    for k in observables:\n",
    "        observables[k] = np.array(observables[k])\n",
    "    _trace_observables = { 'trace_%s' % k : np.array(trace_observables[k]) for k in trace_observables if len(trace_observables[k]) != 0 }\n",
    "    \n",
    "    sim_result.save_data(observables, sample_ratio=1.0)\n",
    "    sim_result.save_data(_trace_observables, sample_ratio=1.0)\n",
    "    \n",
    "    for k in observables:\n",
    "        observables[k] = []\n",
    "        trace_observables[k] = []"
   ]
  },
  {
   "cell_type": "markdown",
   "id": "df265e0a",
   "metadata": {},
   "source": [
    "Register the observables"
   ]
  },
  {
   "cell_type": "code",
   "execution_count": null,
   "id": "ac4461f4",
   "metadata": {},
   "outputs": [],
   "source": [
    "observables_funcs = {\n",
    "    'accept_rate' : compute_accept_rate,\n",
    "    'channel_rates' : compute_channel_rates,\n",
    "    'winding_number' : compute_winding_number,\n",
    "}"
   ]
  },
  {
   "cell_type": "markdown",
   "id": "abc2130a",
   "metadata": {},
   "source": [
    "## 4. Run simulation"
   ]
  },
  {
   "cell_type": "code",
   "execution_count": null,
   "id": "b1a3f013",
   "metadata": {},
   "outputs": [],
   "source": [
    "def print_time_left(step_i, time_per_step, time_elapsed):\n",
    "    global accept_count, accept_N\n",
    "    clear_output(wait=True)\n",
    "    steps_left = N_steps - sim.steps\n",
    "\n",
    "    time_left = steps_left * time_per_step\n",
    "    if time_left < 60:\n",
    "        time_left_str = '%s secs' % int(np.round(time_left))\n",
    "    if time_left > 60:\n",
    "        time_left_str = '%s mins' % np.round(time_left/60, 2)\n",
    "    if time_left > 60*60:\n",
    "        time_left_str = '%s hrs' % np.round(time_left/(60*60),2)\n",
    "    if time_left > 60*60*24:\n",
    "        time_left_str = '%s days' % np.round(time_left/(60*60*24),2)\n",
    "\n",
    "    if sim.steps != 0:\n",
    "        total = 0\n",
    "        current_accept_count = accept_count + np.count_nonzero(sim.accepts_arr[:step_i])\n",
    "        current_accept_N = accept_N + step_i + 1\n",
    "        accept_rate = np.round(current_accept_count / current_accept_N, 4)\n",
    "    else:\n",
    "        accept_rate = np.nan\n",
    "\n",
    "    print('Time Left: %s. Steps %s/%s' % (time_left_str, \"{:.2e}\".format(sim.steps), \"{:.2e}\".format(N_steps)))\n",
    "    \n",
    "    for k, v in trace_observables.items():\n",
    "        if k == 'steps':\n",
    "            continue\n",
    "        if len(v) > 0:\n",
    "            print(' %s=%s' % (k, v[-1]))\n",
    "        \n",
    "    if sim.steps != 0:\n",
    "        teleportation_rate = sim.teleportation_count / sim.steps\n",
    "    else:\n",
    "        teleportation_rate = np.nan\n",
    "    if sim.teleportation_attempts != 0:\n",
    "        teleporation_success_rate = sim.teleportation_count / sim.teleportation_attempts\n",
    "    else:\n",
    "        teleporation_success_rate = np.nan\n",
    "        \n",
    "    print(' %s=%s' % ('t_rate', teleportation_rate))\n",
    "    print(' %s=%s' % ('t_succ_rate', teleporation_success_rate))\n",
    "    print(flush=True)"
   ]
  },
  {
   "cell_type": "code",
   "execution_count": null,
   "id": "61a7a736",
   "metadata": {},
   "outputs": [],
   "source": [
    "sim = MCMC_protocol(MCMC_params)"
   ]
  },
  {
   "cell_type": "code",
   "execution_count": null,
   "id": "ae033962",
   "metadata": {
    "tags": []
   },
   "outputs": [],
   "source": [
    "# There is a bug somewhere in pyfftw that causes the dct to malfunction seemingly by random. We re-initialise it until it works\n",
    "\n",
    "state = np.zeros((system_params['dim'], MCMC_params['Nm']))\n",
    "state[:, :] = np.random.normal(0, size=state.shape[0]*state.shape[1]).reshape(state.shape)\n",
    "\n",
    "real_path, real_d_path = modemc.utils.eval_path(system_params['x0'], system_params['x1'], sim.ts, system_params['Tf'], state)\n",
    "fft_path, fft_d_path = sim.FFT_compute_path_and_dpath(state)\n",
    "\n",
    "attempts = 0\n",
    "max_attempts = int(1e4)\n",
    "\n",
    "while not (np.allclose(fft_path, real_path) and np.allclose(fft_d_path, real_d_path)):\n",
    "    pyfftw.forget_wisdom()\n",
    "    sim = MCMC_protocol(MCMC_params)\n",
    "\n",
    "    fft_path, fft_d_path = sim.FFT_compute_path_and_dpath(state)\n",
    "\n",
    "    attempts += 1\n",
    "    \n",
    "    if attempts > max_attempts:\n",
    "        raise Exception('Getting the correct DCT failed.')\n",
    "        \n",
    "    if attempts % 100 == 0:\n",
    "        print('FFTW attempt:', attempts)\n",
    "        \n",
    "print('FFTW re-initialisations required:', attempts)"
   ]
  },
  {
   "cell_type": "code",
   "execution_count": null,
   "id": "15b58fe2",
   "metadata": {},
   "outputs": [],
   "source": [
    "N_batch = min(modemc.utils.get_N_steps_to_match_batch_size(sim.Nm_save, sim.Nq, sim.dim, batch_size), N_steps)\n",
    "batches = int(np.ceil(float(N_steps) / N_batch))\n",
    "state_save_ratio = min(N_save/float(N_steps), 1.0)\n",
    "path_save_ratio = min(N_paths_save/float(N_steps), 1.0)\n",
    "real_batch_size = np.round(modemc.utils.get_batch_size(sim.Nm_save, sim.Nq, sim.dim, N_batch),2)\n",
    "steps_per_batch = int(np.round(N_steps/batches))\n",
    "\n",
    "N_steps_left = N_steps\n",
    "\n",
    "sim_result.log('Batches:', batches)\n",
    "sim_result.log('Batch size: %s gb' % real_batch_size)\n",
    "sim_result.log('Steps per batch:', steps_per_batch)"
   ]
  },
  {
   "cell_type": "code",
   "execution_count": null,
   "id": "aa667da3",
   "metadata": {},
   "outputs": [],
   "source": [
    "#full_states = []\n",
    "#prev_full_states = []\n",
    "#current_states = []"
   ]
  },
  {
   "cell_type": "code",
   "execution_count": null,
   "id": "680aa2b3",
   "metadata": {},
   "outputs": [],
   "source": [
    "observables_computing_time = 0\n",
    "saving_time = 0"
   ]
  },
  {
   "cell_type": "markdown",
   "id": "7bc9f302",
   "metadata": {},
   "source": [
    "import pstats, cProfile\n",
    "\n",
    "def foo():\n",
    "    sim.simulate_batch(1000, event_func=print_time_left, N_event=N_sim_verbose)\n",
    "\n",
    "import pyximport\n",
    "pyximport.install()\n",
    "\n",
    "cProfile.runctx(\"foo()\", globals(), locals(), \"Profile.prof\")\n",
    "\n",
    "s = pstats.Stats(\"Profile.prof\")\n",
    "s.strip_dirs().sort_stats(\"time\").print_stats()"
   ]
  },
  {
   "cell_type": "code",
   "execution_count": null,
   "id": "57f8d0b0",
   "metadata": {
    "tags": []
   },
   "outputs": [],
   "source": [
    "sim_result.log('Starting simulation')\n",
    "\n",
    "sim_time_start = time.time()\n",
    "\n",
    "accept_count = 0\n",
    "\n",
    "N_steps_left = N_steps\n",
    "_N_batch = N_batch\n",
    "\n",
    "for i in range(batches):\n",
    "    if _N_batch > N_steps_left:\n",
    "        _N_batch = N_steps_left\n",
    "    \n",
    "    batch_states, batch_accepts, batch_actions, batch_paths, batch_d_paths = sim.simulate_batch(_N_batch, event_func=print_time_left, N_event=N_sim_verbose)\n",
    "\n",
    "    #full_states.append(np.copy(sim.full_state_arr))\n",
    "    #prev_full_states.append(np.copy(sim.prev_full_state_arr))\n",
    "    #current_states.append(np.copy(sim.current_state))\n",
    "    \n",
    "    obs_t_start = time.time()\n",
    "    for compute_observable_func in observables_funcs.values():\n",
    "        compute_observable_func(batch_states, batch_accepts, batch_actions, batch_paths, batch_d_paths)\n",
    "    observables_computing_time += time.time() - obs_t_start\n",
    "    \n",
    "    save_observables()\n",
    "    \n",
    "    saving_time_start = time.time()\n",
    "    sim_result.save_data({\n",
    "        'states' : sim.states_arr,\n",
    "        'accepts' : sim.accepts_arr,\n",
    "        'actions' : sim.actions_arr,\n",
    "    }, sample_ratio=state_save_ratio)\n",
    "    \n",
    "    sim_result.save_data({\n",
    "        'paths' : sim.paths_arr,\n",
    "        'd_paths' : sim.d_paths_arr,\n",
    "    }, sample_ratio=path_save_ratio)\n",
    "    saving_time += time.time() - saving_time_start\n",
    "    \n",
    "    N_steps_left -= _N_batch\n",
    "    \n",
    "sim_time_end = time.time()\n",
    "sim_time = sim_time_end - sim_time_start"
   ]
  },
  {
   "cell_type": "code",
   "execution_count": null,
   "id": "7febab85",
   "metadata": {},
   "outputs": [],
   "source": [
    "#sim_result.save_data({\n",
    "#    'full_states' : np.array(full_states),\n",
    "#    'prev_full_states' : np.array(prev_full_states),\n",
    "#    'current_states' : np.array(current_states),\n",
    "#}, sample_ratio=1.0)"
   ]
  },
  {
   "cell_type": "code",
   "execution_count": null,
   "id": "22f85d54",
   "metadata": {},
   "outputs": [],
   "source": [
    "sim_states['sim_time'] = sim_time/(60*60)\n",
    "sim_states['observables_computation_time'] = observables_computing_time/(60*60)\n",
    "sim_states['observables_computation_time_ratio'] = observables_computing_time/sim_time\n",
    "\n",
    "if not sim.window_acceptance_counts is None:\n",
    "    sim_states['window_acceptance_counts'] = sim.window_acceptance_counts\n",
    "    sim_states['window_attempt_counts'] = sim.window_attempt_counts\n",
    "    _window_attempt_counts = np.copy(sim.window_attempt_counts); _window_attempt_counts[_window_attempt_counts==0] = 1\n",
    "    sim_states['window_acceptance_rates'] = sim.window_acceptance_counts / _window_attempt_counts\n",
    "\n",
    "if not sim.teleportation_attempts is None:\n",
    "    sim_states['teleportation_attempts'] = sim.teleportation_attempts\n",
    "    sim_states['teleportation_count'] = sim.teleportation_count\n",
    "    sim_states['teleportation_rate'] = sim.teleportation_count / N_steps\n",
    "    \n",
    "for k, v in sim_states.items():\n",
    "    sim_result.log('%s: %s' % (k, v), log_name='sim_states')"
   ]
  },
  {
   "cell_type": "markdown",
   "id": "1729b4cd",
   "metadata": {},
   "source": [
    "## 5. Analysis"
   ]
  },
  {
   "cell_type": "markdown",
   "id": "d084fbf2",
   "metadata": {},
   "source": [
    "### Compute autocorrelation"
   ]
  },
  {
   "cell_type": "code",
   "execution_count": null,
   "id": "8e1aab8b",
   "metadata": {},
   "outputs": [],
   "source": [
    "def next_pow_two(n):\n",
    "    i = 1\n",
    "    while i < n:\n",
    "        i = i << 1\n",
    "    return i\n",
    "\n",
    "def autocorr_func_1d(x, norm=True):\n",
    "    x = np.atleast_1d(x)\n",
    "    if len(x.shape) != 1:\n",
    "        raise ValueError(\"invalid dimensions for 1D autocorrelation function\")\n",
    "    n = next_pow_two(len(x))\n",
    "\n",
    "    # Compute the FFT and then (from that) the auto-correlation function\n",
    "    f = np.fft.fft(x - np.mean(x), n=2 * n)\n",
    "    acf = np.fft.ifft(f * np.conjugate(f))[: len(x)].real\n",
    "    acf /= 4 * n\n",
    "\n",
    "    # Optionally normalize\n",
    "    if norm:\n",
    "        acf /= acf[0]\n",
    "\n",
    "    return acf\n",
    "\n",
    "# Automated windowing procedure following Sokal (1989)\n",
    "def auto_window(taus, c):\n",
    "    m = np.arange(len(taus)) < c * taus\n",
    "    if np.any(m):\n",
    "        return np.argmin(m)\n",
    "    return len(taus) - 1\n",
    "\n",
    "def autocorr_new(y, c=5.0):\n",
    "    f = autocorr_func_1d(y)\n",
    "    taus = 2.0 * np.cumsum(f) - 1.0\n",
    "    window = auto_window(taus, c)\n",
    "    return taus[window]"
   ]
  },
  {
   "cell_type": "code",
   "execution_count": null,
   "id": "3098cd63",
   "metadata": {},
   "outputs": [],
   "source": [
    "sim_steps = np.arange(0, N_steps)\n",
    "N_steps_wo_burnin = N_steps - N_burn_in\n",
    "sim_steps_wo_burnin = np.arange(N_burn_in, N_steps)"
   ]
  },
  {
   "cell_type": "code",
   "execution_count": null,
   "id": "b98fafd8",
   "metadata": {},
   "outputs": [],
   "source": [
    "for obs_k in observables:\n",
    "    if obs_k == 'steps':\n",
    "        continue\n",
    "    obs = sim_result.load_random_sample(1.0, [obs_k])\n",
    "    \n",
    "    observables_autocorrelation_func = autocorr_func_1d(obs[N_burn_in:])\n",
    "    sim_result.save_data({'acf_%s' % obs_k : observables_autocorrelation_func}, sample_ratio=1.0)\n",
    "\n",
    "    tau = autocorr_new(obs[N_burn_in:])\n",
    "    calcs['tau_' + obs_k] = tau\n",
    "    calcs['var_' + obs_k] = (tau / N_steps_wo_burnin) * np.var(obs[N_burn_in:])\n",
    "    \n",
    "    calcs[obs_k + '_with_burn_in'] = np.mean(obs)\n",
    "    calcs[obs_k] = np.mean(obs[N_burn_in:])\n",
    "    \n",
    "    del obs, observables_autocorrelation_func"
   ]
  },
  {
   "cell_type": "markdown",
   "id": "c7392162",
   "metadata": {
    "tags": []
   },
   "source": [
    "### Misc"
   ]
  },
  {
   "cell_type": "code",
   "execution_count": null,
   "id": "7a6bbaa4",
   "metadata": {},
   "outputs": [],
   "source": [
    "def compute_semi_analytical_channel_rate(upper_inst, lower_inst, use_OM):\n",
    "    if use_OM:\n",
    "        postfix = 'OM'\n",
    "    else:\n",
    "        postfix = 'FW'\n",
    "    \n",
    "    if upper_inst['is_valid'] and lower_inst['is_valid']:\n",
    "        dS = upper_inst['S'] - lower_inst['S']\n",
    "        dQ = lower_inst['log_Z_%s' % postfix] - upper_inst['log_Z_%s' % postfix]\n",
    "        Q_channel_rate = 1 / (1 + np.exp(dQ+dS))\n",
    "        inst_channel_rate = 1 / (1 + np.exp(dS))\n",
    "    elif not upper_inst['is_valid'] or not lower_inst['is_valid']:\n",
    "        Q_channel_rate = np.nan\n",
    "        inst_channel_rate = np.nan\n",
    "        \n",
    "    return Q_channel_rate, inst_channel_rate\n",
    "\n",
    "calcs['Q_OM_channel_rate'], calcs['inst_OM_channel_rate'] = compute_semi_analytical_channel_rate(upper_OM, lower_OM, True)\n",
    "calcs['Q_FW_channel_rate'], calcs['inst_FW_channel_rate'] = compute_semi_analytical_channel_rate(upper_OM, lower_OM, False)"
   ]
  },
  {
   "cell_type": "code",
   "execution_count": null,
   "id": "af28055b",
   "metadata": {},
   "outputs": [],
   "source": [
    "sim_states['sim_time'] = sim_time/(60*60)\n",
    "\n",
    "if not sim.window_acceptance_counts is None:\n",
    "    sim_states['window_acceptance_counts'] = sim.window_acceptance_counts\n",
    "    sim_states['window_attempt_counts'] = sim.window_attempt_counts\n",
    "    _window_attempt_counts = np.copy(sim.window_attempt_counts); _window_attempt_counts[_window_attempt_counts==0] = 1\n",
    "    sim_states['window_acceptance_rates'] = sim.window_acceptance_counts / _window_attempt_counts\n",
    "\n",
    "if not sim.teleportation_attempts is None:\n",
    "    sim_states['use_teleport'] = MCMC_params['use_teleport']\n",
    "    \n",
    "    sim_states['teleporters_labels'] = teleporters_labels\n",
    "    sim_states['teleportation_attempts'] = sim.teleportation_attempts\n",
    "    sim_states['teleportation_count'] = sim.teleportation_count\n",
    "    sim_states['teleportation_rate'] = sim.teleportation_count / N_steps\n",
    "    sim_states['teleporter_attempts'] = sim.teleporter_attempts\n",
    "    sim_states['teleporter_count'] = sim.teleporter_count\n",
    "    \n",
    "    _teleporter_attempts = np.copy(sim.teleporter_attempts)\n",
    "    _teleporter_attempts[_teleporter_attempts==0] = 1\n",
    "    sim_states['teleporter_success_rate'] = sim.teleporter_count / _teleporter_attempts\n",
    "    sim_states['teleporter_rate'] = sim.teleporter_count / N_steps\n",
    "    \n",
    "    sim_states['flip_attempts'] = sim.flip_attempts\n",
    "    sim_states['flip_count'] = sim.flip_count\n",
    "    _flip_attempts = sim.flip_attempts\n",
    "    if _flip_attempts == 0:\n",
    "        _flip_attempts = 1\n",
    "    sim_states['flip_success_rate'] = sim.flip_count / _flip_attempts\n",
    "    sim_states['flip_rate'] = sim.flip_count / N_steps\n",
    "    \n",
    "sim_states['N_batch'] = N_batch\n",
    "sim_states['batches'] = batches\n",
    "sim_states['batch_size'] = batch_size\n",
    "\n",
    "for k, v in sim_states.items():\n",
    "    sim_result.log('%s: %s' % (k, v), log_name='sim_states', print_time=False)"
   ]
  },
  {
   "cell_type": "code",
   "execution_count": null,
   "id": "263790fe",
   "metadata": {},
   "outputs": [],
   "source": [
    "for k, v in calcs.items():\n",
    "    sim_result.log('%s: %s' % (k, v), log_name='calcs', print_time=False)"
   ]
  },
  {
   "cell_type": "markdown",
   "id": "5a3f539c",
   "metadata": {},
   "source": [
    "Check RAM usage"
   ]
  },
  {
   "cell_type": "code",
   "execution_count": null,
   "id": "c3a5971d",
   "metadata": {},
   "outputs": [],
   "source": [
    "def get_size_of_object(obj, max_depth=4):\n",
    "    return _get_size_of_object(obj, 0, max_depth)\n",
    "def _get_size_of_object(obj, depth, max_depth):\n",
    "    if depth > max_depth:\n",
    "        return 0\n",
    "    \n",
    "    size = sys.getsizeof(obj)\n",
    "    \n",
    "    if type(obj) == dict:\n",
    "        for k, v in obj.items():\n",
    "            size += _get_size_of_object(v, depth+1, max_depth)\n",
    "            \n",
    "    return size\n",
    "\n",
    "mem_cutoff = 1e6\n",
    "sim_result.log('RAM usage (cutoff at %sgb):' % (mem_cutoff/1e9))\n",
    "glbs = dict(globals())\n",
    "total_usage = 0\n",
    "\n",
    "for k,v in glbs.items():\n",
    "    if k[0] == '__' or k in ['__name__', '__doc__', '__package__', '__loader__', '__spec__', '__builtin__', '__builtins__', '_ih', '_oh', '_dh', 'In', 'Out', 'get_ipython', 'exit', 'quit', '_', '__', '___', '_i', '_ii', '_iii', '_i1']:\n",
    "        continue\n",
    "    if k.startswith('_i'):\n",
    "        continue\n",
    "    if k[0] == '_' and k[1] in '0123456789':\n",
    "        continue\n",
    "    \n",
    "    size = get_size_of_object(v)\n",
    "    \n",
    "    if size > mem_cutoff:\n",
    "        sim_result.log('  %s:' % k, np.round(size/1e9, 4), print_time=False)\n",
    "        \n",
    "    total_usage += size\n",
    "    \n",
    "sim_result.log('  Total:', np.round(total_usage/1e9, 4), print_time=False)"
   ]
  },
  {
   "cell_type": "markdown",
   "id": "96f93d3d",
   "metadata": {},
   "source": [
    "## 6. Plots"
   ]
  },
  {
   "cell_type": "code",
   "execution_count": null,
   "id": "96e854ff",
   "metadata": {},
   "outputs": [],
   "source": [
    "states, paths, actions, accepts = sim_result.load_random_sample(1.0, ['states', 'paths', 'actions', 'accepts'])"
   ]
  },
  {
   "cell_type": "code",
   "execution_count": null,
   "id": "a3d54121",
   "metadata": {},
   "outputs": [],
   "source": [
    "N_obs_data_skip = int(np.floor(max(1.0, N_steps / N_obs_save)))\n",
    "obs_data_steps = sim_steps[::N_obs_data_skip]\n",
    "obs_data_steps_wo_burnin = sim_steps_wo_burnin[::N_obs_data_skip]\n",
    "\n",
    "obs_keys = list(observables.keys())\n",
    "obs_data = sim_result.load_random_sample(1.0, obs_keys)\n",
    "_obs_data = [np.copy(obs[::N_obs_data_skip]) for obs in obs_data]\n",
    "_observables = dict(zip(obs_keys, _obs_data))\n",
    "_observables['steps'] = obs_data_steps\n",
    "del obs_data\n",
    "\n",
    "trace_obs_keys = [ 'trace_%s' % obs_k for obs_k in obs_keys ]\n",
    "trace_obs_data = sim_result.load_random_sample(1.0, trace_obs_keys)\n",
    "_trace_obs_data = [np.copy(obs[::N_obs_data_skip]) for obs in trace_obs_data if not obs is None]\n",
    "_trace_observables = dict(zip(trace_obs_keys, _trace_obs_data))\n",
    "_trace_observables['steps'] = obs_data_steps\n",
    "del trace_obs_data\n",
    "\n",
    "acf_obs_keys = [ 'acf_%s' % obs_k for obs_k in obs_keys ]\n",
    "acf_obs_data = sim_result.load_random_sample(1.0, acf_obs_keys)\n",
    "_acf_obs_data = [np.copy(obs[::N_obs_data_skip]) for obs in acf_obs_data]\n",
    "_acf_observables = dict(zip(acf_obs_keys, _acf_obs_data))\n",
    "_acf_observables['steps'] = obs_data_steps_wo_burnin\n",
    "del acf_obs_data"
   ]
  },
  {
   "cell_type": "code",
   "execution_count": null,
   "id": "dfd29ac8",
   "metadata": {},
   "outputs": [],
   "source": [
    "try:\n",
    "    fig, ax = plt.subplots(figsize=(7,7))\n",
    "    plotting.trajectories_2D(fig, system, states, xlims, ylims, plot_num=traj_plot_num, plot_potential=True, plot_force=True,\n",
    "                        contour_levels=50, force_density=[2,2], traj_lw=traj_lw, traj_alpha=traj_alpha, overlay_paths=[\n",
    "        (\"FW upper S=%s, valid=%s\" % (np.round(upper_FW['S'],2), upper_FW['is_valid']), upper_FW_inst_shape, upper_FW_inst_color, upper_FW['state']),\n",
    "        (\"FW lower S=%s, valid=%s\" % (np.round(lower_FW['S'],2), lower_FW['is_valid']), lower_FW_inst_shape, lower_FW_inst_color, lower_FW['state']),       \n",
    "        (\"OM upper S=%s, valid=%s\" % (np.round(upper_OM['S'],2), upper_OM['is_valid']), upper_OM_inst_shape, upper_OM_inst_color, upper_OM['state']),\n",
    "        (\"OM lower S=%s, valid=%s\" % (np.round(lower_OM['S'],2), lower_OM['is_valid']), lower_OM_inst_shape, lower_OM_inst_color, lower_OM['state']),\n",
    "    ])\n",
    "    #fig.suptitle(sim_result.result_name)\n",
    "    plt.legend(loc='center')\n",
    "    plt.tight_layout()\n",
    "    sim_result.save_figure(fig, 'trajectories', dpi=400)\n",
    "    plt.show()\n",
    "except Exception as e:\n",
    "    sim_result.log_error('trajectories', e)"
   ]
  },
  {
   "cell_type": "code",
   "execution_count": null,
   "id": "f55d0205",
   "metadata": {},
   "outputs": [],
   "source": [
    "try:\n",
    "    fig, ax = plt.subplots(figsize=(7,7))\n",
    "    plotting.trajectories_2D_path(fig, system, sim.ts, paths, xlims, ylims, plot_num=traj_plot_num, plot_potential=True, plot_force=True,\n",
    "                        contour_levels=50, force_density=[2,2], traj_lw=traj_lw, traj_alpha=traj_alpha, overlay_paths=[\n",
    "        (\"FW upper S=%s, valid=%s\" % (np.round(upper_FW['S'],2), upper_FW['is_valid']), upper_FW_inst_shape, upper_FW_inst_color, upper_FW['state']),\n",
    "        (\"FW lower S=%s, valid=%s\" % (np.round(lower_FW['S'],2), lower_FW['is_valid']), lower_FW_inst_shape, lower_FW_inst_color, lower_FW['state']),       \n",
    "        (\"OM upper S=%s, valid=%s\" % (np.round(upper_OM['S'],2), upper_OM['is_valid']), upper_OM_inst_shape, upper_OM_inst_color, upper_OM['state']),\n",
    "        (\"OM lower S=%s, valid=%s\" % (np.round(lower_OM['S'],2), lower_OM['is_valid']), lower_OM_inst_shape, lower_OM_inst_color, lower_OM['state']),\n",
    "    ])\n",
    "    #fig.suptitle(sim_result.result_name)\n",
    "    plt.legend(loc='center')\n",
    "    plt.tight_layout()\n",
    "    sim_result.save_figure(fig, 'trajectories_rough', dpi=400)\n",
    "    plt.show()\n",
    "except Exception as e:\n",
    "    sim_result.log_error('trajectories_rough', e)"
   ]
  },
  {
   "cell_type": "code",
   "execution_count": null,
   "id": "7a13057f",
   "metadata": {},
   "outputs": [],
   "source": [
    "try:\n",
    "    fig, ax = plt.subplots(figsize=(10,6))\n",
    "    plotting.trajectories_1D(fig, system, states, tlims, xlims, plot_num=traj_plot_num, plot_dimension=0,\n",
    "                        extrema=[], traj_lw=traj_lw, traj_alpha=traj_alpha, axes_labels=['t', 'x'], overlay_paths=[\n",
    "        (\"FW upper S=%s, valid=%s\" % (np.round(upper_FW['S'],2), upper_FW['is_valid']), upper_FW_inst_shape, upper_FW_inst_color, upper_FW['state']),\n",
    "        (\"FW lower S=%s, valid=%s\" % (np.round(lower_FW['S'],2), lower_FW['is_valid']), lower_FW_inst_shape, lower_FW_inst_color, lower_FW['state']),       \n",
    "        (\"OM upper S=%s, valid=%s\" % (np.round(upper_OM['S'],2), upper_OM['is_valid']), upper_OM_inst_shape, upper_OM_inst_color, upper_OM['state']),\n",
    "        (\"OM lower S=%s, valid=%s\" % (np.round(lower_OM['S'],2), lower_OM['is_valid']), lower_OM_inst_shape, lower_OM_inst_color, lower_OM['state']),\n",
    "    ])\n",
    "    #fig.suptitle(sim_result.result_name)\n",
    "    plt.legend(loc='lower right')\n",
    "    plt.tight_layout()\n",
    "    sim_result.save_figure(fig, 'trajectories_x', dpi=400)\n",
    "    plt.show()\n",
    "except Exception as e:\n",
    "    x = e\n",
    "    sim_result.log_error('trajectories_x', e)\n",
    "    sim_result.log(traceback.format_exc(), log_name='error')\n",
    "    #traceback.print_tb(e.__traceback__)"
   ]
  },
  {
   "cell_type": "code",
   "execution_count": null,
   "id": "e25b5033",
   "metadata": {},
   "outputs": [],
   "source": [
    "try:\n",
    "    fig, ax = plt.subplots(figsize=(10,6))\n",
    "    plotting.trajectories_1D(fig, system, states, tlims, xlims, plot_num=traj_plot_num, plot_dimension=1,\n",
    "                        extrema=[], traj_lw=traj_lw, traj_alpha=traj_alpha, axes_labels=['t', 'x'], overlay_paths=[\n",
    "        (\"FW upper S=%s, valid=%s\" % (np.round(upper_FW['S'],2), upper_FW['is_valid']), upper_FW_inst_shape, upper_FW_inst_color, upper_FW['state']),\n",
    "        (\"FW lower S=%s, valid=%s\" % (np.round(lower_FW['S'],2), lower_FW['is_valid']), lower_FW_inst_shape, lower_FW_inst_color, lower_FW['state']),       \n",
    "        (\"OM upper S=%s, valid=%s\" % (np.round(upper_OM['S'],2), upper_OM['is_valid']), upper_OM_inst_shape, upper_OM_inst_color, upper_OM['state']),\n",
    "        (\"OM lower S=%s, valid=%s\" % (np.round(lower_OM['S'],2), lower_OM['is_valid']), lower_OM_inst_shape, lower_OM_inst_color, lower_OM['state']),\n",
    "    ])\n",
    "    #fig.suptitle(sim_result.result_name)\n",
    "    plt.legend(loc='lower right')\n",
    "    plt.tight_layout()\n",
    "    sim_result.save_figure(fig, 'trajectories_y', dpi=400)\n",
    "    plt.show()\n",
    "except Exception as e:\n",
    "    x = e\n",
    "    sim_result.log_error('trajectories_y', e)\n",
    "    sim_result.log(traceback.format_exc(), log_name='error')\n",
    "    #traceback.print_tb(e.__traceback__)"
   ]
  },
  {
   "cell_type": "code",
   "execution_count": null,
   "id": "f2c83242",
   "metadata": {},
   "outputs": [],
   "source": [
    "try:\n",
    "    fig, ax = plt.subplots(figsize=(5, 5))\n",
    "    covs = plotting.plot_abs_cov_matrix(fig, states, covariance_samples_sum=-1, plot_diagonal=False)\n",
    "    #fig.suptitle(sim_result.result_name)\n",
    "    plt.tight_layout()\n",
    "    plt.show()\n",
    "    sim_result.save_calculations({\n",
    "        'covariance' : covs\n",
    "    })\n",
    "    sim_result.save_figure(fig, 'abs_covariance', dpi=400)\n",
    "except Exception as e:\n",
    "    sim_result.log_error('abs_covs', e)"
   ]
  },
  {
   "cell_type": "code",
   "execution_count": null,
   "id": "32f2d0d8",
   "metadata": {},
   "outputs": [],
   "source": [
    "try:\n",
    "    fig, ax = plt.subplots(figsize=(5, 5))\n",
    "    corr_coeff = plotting.plot_abs_corr_coeff_matrix(fig, states, covariance_samples_sum=-1, plot_diagonal=False)\n",
    "    #fig.suptitle(sim_result.result_name)\n",
    "    plt.tight_layout()\n",
    "    plt.show()\n",
    "    sim_result.save_calculations({\n",
    "        'corr_coeff' : corr_coeff\n",
    "    })\n",
    "    sim_result.save_figure(fig, 'corr_coeff', dpi=400)\n",
    "except Exception as e:\n",
    "    sim_result.log_error('corr_coeff', e)"
   ]
  },
  {
   "cell_type": "code",
   "execution_count": null,
   "id": "a90366c0",
   "metadata": {},
   "outputs": [],
   "source": [
    "try:\n",
    "    fig, axes = plotting.mode_distribution(system, states, w_per_dim=3, overlay_paths=[\n",
    "        (\"FW upper S=%s, valid=%s\" % (np.round(upper_FW['S'],2), upper_FW['is_valid']), upper_FW_inst_shape, upper_FW_inst_color, upper_FW['state']),\n",
    "        (\"FW lower S=%s, valid=%s\" % (np.round(lower_FW['S'],2), lower_FW['is_valid']), lower_FW_inst_shape, lower_FW_inst_color, lower_FW['state']),       \n",
    "        (\"OM upper S=%s, valid=%s\" % (np.round(upper_OM['S'],2), upper_OM['is_valid']), upper_OM_inst_shape, upper_OM_inst_color, upper_OM['state']),\n",
    "        (\"OM lower S=%s, valid=%s\" % (np.round(lower_OM['S'],2), lower_OM['is_valid']), lower_OM_inst_shape, lower_OM_inst_color, lower_OM['state']),\n",
    "    ])\n",
    "    plt.tight_layout()\n",
    "    sim_result.save_figure(fig, 'coeffs')\n",
    "    fig.show()\n",
    "except Exception as e:\n",
    "    sim_result.log_error('coeffs', e)"
   ]
  },
  {
   "cell_type": "code",
   "execution_count": null,
   "id": "aa9452f1",
   "metadata": {},
   "outputs": [],
   "source": [
    "try:\n",
    "    upper_states_mask = states[:, 1, 0] > 0\n",
    "    fig, axes = plotting.mode_distribution2(system, states[upper_states_mask], states[~upper_states_mask], w_per_dim=3, overlay_paths=[\n",
    "        (\"FW upper S=%s, valid=%s\" % (np.round(upper_FW['S'],2), upper_FW['is_valid']), upper_FW_inst_shape, upper_FW_inst_color, upper_FW['state']),\n",
    "        (\"FW lower S=%s, valid=%s\" % (np.round(lower_FW['S'],2), lower_FW['is_valid']), lower_FW_inst_shape, lower_FW_inst_color, lower_FW['state']),       \n",
    "        (\"OM upper S=%s, valid=%s\" % (np.round(upper_OM['S'],2), upper_OM['is_valid']), upper_OM_inst_shape, upper_OM_inst_color, upper_OM['state']),\n",
    "        (\"OM lower S=%s, valid=%s\" % (np.round(lower_OM['S'],2), lower_OM['is_valid']), lower_OM_inst_shape, lower_OM_inst_color, lower_OM['state']),\n",
    "    ])\n",
    "    plt.tight_layout()\n",
    "    sim_result.save_figure(fig, 'split_coeffs')\n",
    "    fig.show()\n",
    "except Exception as e:\n",
    "    sim_result.log_error('split_coeffs', e)"
   ]
  },
  {
   "cell_type": "code",
   "execution_count": null,
   "id": "044c3ba9",
   "metadata": {},
   "outputs": [],
   "source": [
    "try:\n",
    "    fig, axes = plotting.plot_time_series(_observables, fmt='.')\n",
    "    plt.tight_layout()\n",
    "    sim_result.save_figure(fig, 'observables')\n",
    "    fig.show()\n",
    "except Exception as e:\n",
    "    sim_result.log_error('observables', e)"
   ]
  },
  {
   "cell_type": "code",
   "execution_count": null,
   "id": "9e8aa4f9",
   "metadata": {},
   "outputs": [],
   "source": [
    "try:\n",
    "    import matplotlib.ticker as mtick\n",
    "\n",
    "    obs_winding_numbers = sim_result.load_random_sample(1.0, ['winding_number'])\n",
    "    \n",
    "    rounded_wn = np.round(obs_winding_numbers*2)/2\n",
    "    unique_wn = np.unique(rounded_wn)\n",
    "    unique_wn.sort()\n",
    "\n",
    "    wn_count = np.zeros(unique_wn.shape, dtype=int)\n",
    "    for i in range(len(unique_wn)):\n",
    "        wn_count[i] = np.count_nonzero(rounded_wn==unique_wn[i])\n",
    "\n",
    "    wn_perc = wn_count / np.sum(wn_count)\n",
    "    insignificant_mask = wn_perc > 1e-4\n",
    "\n",
    "    wn_perc = wn_perc[insignificant_mask]\n",
    "    unique_wn = unique_wn[insignificant_mask]\n",
    "    wn_count = wn_count[insignificant_mask]\n",
    "\n",
    "    fig, ax = plt.subplots(figsize=(15, 7))\n",
    "\n",
    "    ax.bar([str(l) for l in unique_wn], 100*wn_perc)\n",
    "    ax.yaxis.set_major_formatter(mtick.PercentFormatter())\n",
    "\n",
    "    plt.tight_layout()\n",
    "    sim_result.save_figure(fig, 'winding_numbers_dist')\n",
    "    fig.show()\n",
    "    \n",
    "    del obs_winding_numbers\n",
    "    \n",
    "except Exception as e:\n",
    "    sim_result.log_error('winding_numbers_dist', e)"
   ]
  },
  {
   "cell_type": "code",
   "execution_count": null,
   "id": "7e9b853c",
   "metadata": {},
   "outputs": [],
   "source": [
    "try:\n",
    "    fig, axes = plotting.plot_time_series(_acf_observables)\n",
    "    plt.tight_layout()\n",
    "    sim_result.save_figure(fig, 'acf_observables')\n",
    "    fig.show()\n",
    "except Exception as e:\n",
    "    sim_result.log_error('acf_observables', e)"
   ]
  },
  {
   "cell_type": "code",
   "execution_count": null,
   "id": "cbf4460c",
   "metadata": {},
   "outputs": [],
   "source": [
    "try:\n",
    "    shortened_acf_observables = {}\n",
    "    for k in observables:\n",
    "        if not 'tau_' + k in calcs:\n",
    "            continue\n",
    "        cutoff = min(2*np.round(calcs['tau_' + k]), len(_acf_observables['acf_%s' % k]))\n",
    "        if np.isnan(cutoff):\n",
    "            cutoff = 1\n",
    "        else:\n",
    "            cutoff = int(cutoff)\n",
    "\n",
    "        shortened_acf_observables[k] = _acf_observables['acf_%s' % k][:cutoff]\n",
    "        shortened_acf_observables['steps_' + k] = (_acf_observables['steps'] / calcs['tau_' + k])[:cutoff]\n",
    "\n",
    "        shortened_acf_observables['label_' + k] = '%s tau=%s' % (k, np.round(calcs['tau_' + k]))\n",
    "    \n",
    "    fig, axes = plotting.plot_time_series(shortened_acf_observables)\n",
    "    plt.tight_layout()\n",
    "    sim_result.save_figure(fig, 'tau_acf_observables')\n",
    "    fig.show()\n",
    "except Exception as e:\n",
    "    sim_result.log_error('tau_acf_observables', e)"
   ]
  },
  {
   "cell_type": "code",
   "execution_count": null,
   "id": "b45423f7",
   "metadata": {},
   "outputs": [],
   "source": [
    "try:\n",
    "    fig, axes = plotting.plot_time_series(_acf_observables)\n",
    "    plt.tight_layout()\n",
    "    sim_result.save_figure(fig, 'acf_observables')\n",
    "    fig.show()\n",
    "except Exception as e:\n",
    "    sim_result.log_error('acf_observables', e)"
   ]
  },
  {
   "cell_type": "code",
   "execution_count": null,
   "id": "6f5ad40e",
   "metadata": {},
   "outputs": [],
   "source": [
    "try:\n",
    "    fig, axes = plotting.plot_time_series(_trace_observables)\n",
    "    plt.tight_layout()\n",
    "    sim_result.save_figure(fig, 'trace_observables')\n",
    "    fig.show()\n",
    "except Exception as e:\n",
    "    sim_result.log_error('trace_observables', e)"
   ]
  },
  {
   "cell_type": "code",
   "execution_count": null,
   "id": "bbfca37f",
   "metadata": {},
   "outputs": [],
   "source": [
    "try:\n",
    "    second_half_trace_observables = {}\n",
    "    for k in observables:\n",
    "        if not 'trace_%s' % k in _trace_observables:\n",
    "            continue\n",
    "        \n",
    "        l = len(_trace_observables['trace_%s' % k])\n",
    "        second_half_trace_observables['trace_%s' % k] = _trace_observables['trace_%s' % k][int(np.round(l/2)):]\n",
    "        \n",
    "    second_half_trace_observables['steps'] = _trace_observables['steps'][int(np.round(l/2)):]\n",
    "    \n",
    "    fig, axes = plotting.plot_time_series(second_half_trace_observables)\n",
    "    plt.tight_layout()\n",
    "    sim_result.save_figure(fig, 'second_half_trace_observables')\n",
    "    fig.show()\n",
    "    \n",
    "    del second_half_trace_observables\n",
    "except Exception as e:\n",
    "    sim_result.log_error('second_half_trace_observables', e)"
   ]
  },
  {
   "cell_type": "code",
   "execution_count": null,
   "id": "af094f01",
   "metadata": {},
   "outputs": [],
   "source": [
    "#try:\n",
    "#    fig, axes = plotting.plot_time_series_rms(intermediate_expected_observables)\n",
    "#    plt.tight_layout()\n",
    "#    sim_result.save_figure(fig, 'intermediate_expected_observables_rms')\n",
    "#    fig.show()\n",
    "#except Exception as e:\n",
    "#    sim_result.log_error('intermediate_expected_observables_rms', e)"
   ]
  },
  {
   "cell_type": "code",
   "execution_count": null,
   "id": "9cf6968d",
   "metadata": {},
   "outputs": [],
   "source": [
    "#try:\n",
    "#    fig, axes = plotting.plot_time_series_rms_window(intermediate_expected_observables, intermediate_observables_rms_window)\n",
    "#    plt.tight_layout()\n",
    "#    sim_result.save_figure(fig, 'intermediate_expected_observables_rms_window')\n",
    "#    fig.show()\n",
    "#except Exception as e:\n",
    "#    sim_result.log_error('intermediate_expected_observables_rms_window', e)"
   ]
  },
  {
   "cell_type": "code",
   "execution_count": null,
   "id": "97c03813",
   "metadata": {},
   "outputs": [],
   "source": [
    "sim_result.remove_note('UNFINISHED')\n",
    "sim_result.save_note('DONE', str(datetime.datetime.now()))"
   ]
  },
  {
   "cell_type": "code",
   "execution_count": null,
   "id": "88a4322b",
   "metadata": {},
   "outputs": [],
   "source": [
    "param_dicts = {}\n",
    "for k, v in globals().items():\n",
    "    if k.endswith('_params') and type(v) == dict:\n",
    "        param_dicts[k] = v\n",
    "sim_result.save_pkl('params', param_dicts)"
   ]
  },
  {
   "cell_type": "code",
   "execution_count": null,
   "id": "84c9351e",
   "metadata": {},
   "outputs": [],
   "source": [
    "sim_result.save_calculations(calcs)\n",
    "sim_result.save_pkl('sim_states', sim_states)\n",
    "sim_result.save_pkl('observables', _observables)\n",
    "sim_result.save_pkl('trace_observables', _trace_observables)\n",
    "sim_result.save_pkl('acf_observables', _acf_observables)"
   ]
  },
  {
   "cell_type": "code",
   "execution_count": null,
   "id": "d4573397",
   "metadata": {},
   "outputs": [],
   "source": [
    "for k in observables:\n",
    "    if sim_result.data_exists(k):\n",
    "        sim_result.delete_data(k)\n",
    "    if sim_result.data_exists('trace_%s' % k):\n",
    "        sim_result.delete_data('trace_%s' % k)\n",
    "    if sim_result.data_exists('acf_%s' % k):\n",
    "        sim_result.delete_data('acf_%s' % k)"
   ]
  },
  {
   "cell_type": "code",
   "execution_count": null,
   "id": "93df0f44",
   "metadata": {},
   "outputs": [],
   "source": [
    "sim_result.move_from_progress_to_output()\n",
    "sim_result.remove_status_file()"
   ]
  }
 ],
 "metadata": {
  "kernelspec": {
   "display_name": "Python 3 (ipykernel)",
   "language": "python",
   "name": "python3"
  },
  "language_info": {
   "codemirror_mode": {
    "name": "ipython",
    "version": 3
   },
   "file_extension": ".py",
   "mimetype": "text/x-python",
   "name": "python",
   "nbconvert_exporter": "python",
   "pygments_lexer": "ipython3",
   "version": "3.9.6"
  }
 },
 "nbformat": 4,
 "nbformat_minor": 5
}
