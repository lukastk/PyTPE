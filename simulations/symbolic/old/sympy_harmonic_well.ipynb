{
 "cells": [
  {
   "cell_type": "code",
   "execution_count": 13,
   "metadata": {},
   "outputs": [],
   "source": [
    "from sympy import Symbol, Function, Matrix, zeros\n",
    "import sympy\n",
    "import numpy as np\n",
    "import matplotlib.pyplot as plt"
   ]
  },
  {
   "cell_type": "markdown",
   "metadata": {},
   "source": [
    "We consider a quartic well, specified by restricting a 4th degree polynomial by\n",
    "\n",
    "1. $U(-1) = 0$\n",
    "2. $U(0) = U_0$\n",
    "2. $U(1) = \\Delta U$\n",
    "3. $U'(-1) = 0$\n",
    "4. $U'(1) = 0$\n",
    "\n",
    "We get\n",
    "\n",
    "$$\n",
    "U(x) = A \\left( (x - 1)^2 - \\frac{1}{4} \\Delta U (x - 2) \\right) (x + 1)^2\n",
    "$$"
   ]
  },
  {
   "cell_type": "markdown",
   "metadata": {},
   "source": [
    "Q matrix:\n",
    "\n",
    "$$\n",
    "\\begin{aligned}\n",
    "Q[\\mathbf{x}, \\delta \\mathbf{x}] & = \\sum_{i,j}^d \\sum_{k,l}^\\infty d^i_k d_l^j \\int_0^T dt \\left[\n",
    "\\sqrt{\\lambda_k \\lambda_l} \\phi_k \\phi_l \\frac{\\partial^2 L}{\\partial x_i \\partial x_j}\n",
    "+ \\sqrt{\\lambda_l} \\psi_k \\phi_l \\frac{\\partial^2 L}{\\partial \\dot{x}_i \\partial x_j}\n",
    "+ \\psi_k \\psi_l \\frac{\\partial^2 L}{\\partial \\dot{x}_i \\partial \\dot{x}_j}\n",
    "\\right] \\\\\n",
    "& = \\sum_{i,j}^d \\sum_{k,l}^\\infty d^i_k d_l^j Q^{ij}_{kl}\n",
    "\\end{aligned}\n",
    "$$"
   ]
  },
  {
   "cell_type": "code",
   "execution_count": 17,
   "metadata": {},
   "outputs": [],
   "source": [
    "dim = 1"
   ]
  },
  {
   "cell_type": "code",
   "execution_count": 89,
   "metadata": {},
   "outputs": [],
   "source": [
    "t = Symbol('t')\n",
    "T = Symbol('T', nonnegative=True)\n",
    "A = Symbol('A')\n",
    "dU = Symbol('dU')\n",
    "g = Symbol('gamma')\n",
    "b = Symbol('beta')\n",
    "\n",
    "x = Symbol('x')\n",
    "xdot = Symbol('xdot')\n",
    "\n",
    "coords = [x]\n",
    "dcoords = [xdot]\n",
    "\n",
    "U = A * ( (x-1)**2 - dU * (x-2) / 4 ) * (x+1)**2\n",
    "F = -U.diff(x)\n",
    "F = Function('F')(x)\n",
    "\n",
    "L_OM = (b*g/4) * (xdot - F/g)**2 + (1/(2*g)) * F.diff(x)\n",
    "L_FW = (b*g/4) * (xdot - F/g)**2\n",
    "\n",
    "F_expr = -U.diff(x)\n",
    "div_F_expr = F_expr.diff(x)"
   ]
  },
  {
   "cell_type": "code",
   "execution_count": 28,
   "metadata": {},
   "outputs": [],
   "source": [
    "def get_L_derivs(L):\n",
    "    L_x_x = zeros(dim,dim)\n",
    "    L_xd_x = zeros(dim,dim)\n",
    "    L_xd_xd = zeros(dim,dim)\n",
    "\n",
    "    for i in range(dim):\n",
    "        for j in range(dim):\n",
    "            L_x_x[i,j] = L.diff(coords[i]).diff(coords[j])\n",
    "            L_x_x[i,j] = L_x_x[i,j].subs(F, F_expr).simplify()\n",
    "\n",
    "            L_xd_x[i,j] = L.diff(dcoords[i]).diff(coords[j])\n",
    "            L_xd_x[i,j] = L_xd_x[i,j].subs(F, F_expr).simplify()\n",
    "\n",
    "            L_xd_xd[i,j] = L.diff(dcoords[i]).diff(dcoords[j])\n",
    "            L_xd_xd[i,j] = L_xd_xd[i,j].subs(F, F_expr).simplify()\n",
    "            \n",
    "    return L_x_x, L_xd_x, L_xd_xd"
   ]
  },
  {
   "cell_type": "code",
   "execution_count": 30,
   "metadata": {},
   "outputs": [],
   "source": [
    "L_x_x_OM, L_xd_x_OM, L_xd_xd_OM = get_L_derivs(L_OM)\n",
    "L_x_x_FW, L_xd_x_FW, L_xd_xd_FW = get_L_derivs(L_FW)"
   ]
  },
  {
   "cell_type": "code",
   "execution_count": 74,
   "metadata": {},
   "outputs": [],
   "source": [
    "def to_pycode(s):\n",
    "    return sympy.printing.pycode(s)"
   ]
  },
  {
   "cell_type": "code",
   "execution_count": 66,
   "metadata": {},
   "outputs": [
    {
     "name": "stdout",
     "output_type": "stream",
     "text": [
      "A*(x + 1)**2*(-dU*(x - 2)/4 + (x - 1)**2)\n",
      "-A*(x + 1)**2*(-dU/4 + 2*x - 2) - A*(2*x + 2)*(-dU*(x - 2)/4 + (x - 1)**2)\n",
      "-2*A*(x + 1)**2 - 2*A*(2*x + 2)*(-dU/4 + 2*x - 2) - 2*A*(-dU*(x - 2)/4 + (x - 1)**2)\n",
      "(A**2*beta*(6*dU*x - 48*x**2 + 16)**2/4 - 3*A*beta*(dU - 16*x)*(-A*(x + 1)**2*(dU - 8*x + 8) - 2*A*(x + 1)*(dU*(x - 2) - 4*(x - 1)**2) + 4*gamma*xdot)/2 - 96*A)/(8*gamma)\n",
      "-A*beta*(6*dU*x - 48*x**2 + 16)/8\n",
      "beta*gamma/2\n",
      "beta*(A**2*(6*dU*x - 48*x**2 + 16)**2/4 - 3*A*(dU - 16*x)*(-A*(x + 1)**2*(dU - 8*x + 8) - 2*A*(x + 1)*(dU*(x - 2) - 4*(x - 1)**2) + 4*gamma*xdot)/2)/(8*gamma)\n",
      "-A*beta*(6*dU*x - 48*x**2 + 16)/8\n",
      "beta*gamma/2\n"
     ]
    }
   ],
   "source": [
    "py_force_exprs = [U, F_expr, div_F_expr]\n",
    "py_force_exprs = list(map(to_pycode, py_force_exprs))\n",
    "\n",
    "py_exprs = []\n",
    "\n",
    "for i in range(dim):\n",
    "    for j in range(dim):\n",
    "        py_exprs.append(L_x_x_OM[i,j])\n",
    "        py_exprs.append(L_xd_x_OM[i,j])\n",
    "        py_exprs.append(L_xd_xd_OM[i,j])\n",
    "        \n",
    "for i in range(dim):\n",
    "    for j in range(dim):\n",
    "        py_exprs.append(L_x_x_FW[i,j])\n",
    "        py_exprs.append(L_xd_x_FW[i,j])\n",
    "        py_exprs.append(L_xd_xd_FW[i,j])\n",
    "        \n",
    "py_exprs = list(map(to_pycode, py_exprs))"
   ]
  },
  {
   "cell_type": "code",
   "execution_count": 57,
   "metadata": {},
   "outputs": [
    {
     "name": "stdout",
     "output_type": "stream",
     "text": [
      "\n",
      "def Upot(x):\n",
      "    return A*(x + 1)**2*(-1/4*dU*(x - 2) + (x - 1)**2)\n",
      "def force_func(x):\n",
      "    f = -A*(x + 1)**2*(-1/4*dU + 2*x - 2) - A*(2*x + 2)*(-1/4*dU*(x - 2) + (x - 1)**2)\n",
      "    div_f = -2*A*(x + 1)**2 - 2*A*(2*x + 2)*(-1/4*dU + 2*x - 2) - 2*A*(-1/4*dU*(x - 2) + (x - 1)**2)\n",
      "    return f, div_f\n",
      "def force_vec(x):\n",
      "    f, div_f = force_func(x)\n",
      "    return f\n",
      "\n"
     ]
    }
   ],
   "source": [
    "print(\"\"\"\n",
    "def Upot(x):\n",
    "    return %s\n",
    "def force_func(x):\n",
    "    f = %s\n",
    "    div_f = %s\n",
    "    return f, div_f\n",
    "def force_vec(x):\n",
    "    f, div_f = force_func(x)\n",
    "    return f\n",
    "\"\"\" % tuple(py_force_exprs))"
   ]
  },
  {
   "cell_type": "code",
   "execution_count": 86,
   "metadata": {},
   "outputs": [],
   "source": [
    "L_derivs_OM_str = \"\"\"\n",
    "def L_derivs_OM(x, xdot):\n",
    "    L_x_x = np.zeros((%s, %s))\n",
    "    L_xd_x = np.zeros((%s, %s))\n",
    "    L_xd_xd = np.zeros((%s, %s))\n",
    "\"\"\" % (dim, dim, dim, dim, dim, dim)\n",
    "\n",
    "for i in range(dim):\n",
    "    for j in range(dim):\n",
    "        L_derivs_OM_str += \"    L_x_x[%s,%s] = %s\\n\" % (i,j, to_pycode(L_x_x_OM[i,j]))\n",
    "        L_derivs_OM_str += \"    L_xd_x[%s,%s] = %s\\n\" % (i,j, to_pycode(L_xd_x_OM[i,j]))\n",
    "        L_derivs_OM_str += \"    L_xd_xd[%s,%s] = %s\\n\" % (i,j, to_pycode(L_xd_xd_OM[i,j]))\n",
    "\n",
    "L_derivs_OM_str += \"    return L_x_x, L_xd_x, L_xd_xd\""
   ]
  },
  {
   "cell_type": "code",
   "execution_count": 87,
   "metadata": {},
   "outputs": [],
   "source": [
    "L_derivs_FW_str = \"\"\"\n",
    "def L_derivs_FW(x, xdot):\n",
    "    L_x_x = np.zeros((%s, %s))\n",
    "    L_xd_x = np.zeros((%s, %s))\n",
    "    L_xd_xd = np.zeros((%s, %s))\n",
    "\"\"\" % (dim, dim, dim, dim, dim, dim)\n",
    "\n",
    "for i in range(dim):\n",
    "    for j in range(dim):\n",
    "        L_derivs_FW_str += \"    L_x_x[%s,%s] = %s\\n\" % (i,j, to_pycode(L_x_x_FW[i,j]))\n",
    "        L_derivs_FW_str += \"    L_xd_x[%s,%s] = %s\\n\" % (i,j, to_pycode(L_xd_x_FW[i,j]))\n",
    "        L_derivs_FW_str += \"    L_xd_xd[%s,%s] = %s\\n\" % (i,j, to_pycode(L_xd_xd_FW[i,j]))\n",
    "        \n",
    "L_derivs_FW_str += \"    return L_x_x, L_xd_x, L_xd_xd\""
   ]
  },
  {
   "cell_type": "code",
   "execution_count": 88,
   "metadata": {},
   "outputs": [
    {
     "name": "stdout",
     "output_type": "stream",
     "text": [
      "\n",
      "def L_derivs_OM(x, xdot):\n",
      "    L_x_x = np.zeros((1, 1))\n",
      "    L_xd_x = np.zeros((1, 1))\n",
      "    L_xd_xd = np.zeros((1, 1))\n",
      "    L_x_x[0,0] = (1/8)*((1/4)*A**2*beta*(6*dU*x - 48*x**2 + 16)**2 - 3/2*A*beta*(dU - 16*x)*(-A*(x + 1)**2*(dU - 8*x + 8) - 2*A*(x + 1)*(dU*(x - 2) - 4*(x - 1)**2) + 4*gamma*xdot) - 96*A)/gamma\n",
      "    L_xd_x[0,0] = -1/8*A*beta*(6*dU*x - 48*x**2 + 16)\n",
      "    L_xd_xd[0,0] = (1/2)*beta*gamma\n",
      "    return L_x_x, L_xd_x, L_xd_xd\n",
      "\n",
      "def L_derivs_FW(x, xdot):\n",
      "    L_x_x = np.zeros((1, 1))\n",
      "    L_xd_x = np.zeros((1, 1))\n",
      "    L_xd_xd = np.zeros((1, 1))\n",
      "    L_x_x[0,0] = (1/8)*beta*((1/4)*A**2*(6*dU*x - 48*x**2 + 16)**2 - 3/2*A*(dU - 16*x)*(-A*(x + 1)**2*(dU - 8*x + 8) - 2*A*(x + 1)*(dU*(x - 2) - 4*(x - 1)**2) + 4*gamma*xdot))/gamma\n",
      "    L_xd_x[0,0] = -1/8*A*beta*(6*dU*x - 48*x**2 + 16)\n",
      "    L_xd_xd[0,0] = (1/2)*beta*gamma\n",
      "    return L_x_x, L_xd_x, L_xd_xd\n"
     ]
    }
   ],
   "source": [
    "print(\"%s\\n%s\" % (L_derivs_OM_str, L_derivs_FW_str))"
   ]
  }
 ],
 "metadata": {
  "kernelspec": {
   "display_name": "Python 3",
   "language": "python",
   "name": "python3"
  },
  "language_info": {
   "codemirror_mode": {
    "name": "ipython",
    "version": 3
   },
   "file_extension": ".py",
   "mimetype": "text/x-python",
   "name": "python",
   "nbconvert_exporter": "python",
   "pygments_lexer": "ipython3",
   "version": "3.8.5"
  }
 },
 "nbformat": 4,
 "nbformat_minor": 4
}
