{
 "cells": [
  {
   "cell_type": "code",
   "execution_count": 2,
   "metadata": {
    "ExecuteTime": {
     "end_time": "2021-05-21T13:01:55.118224Z",
     "start_time": "2021-05-21T13:01:53.757116Z"
    }
   },
   "outputs": [],
   "source": [
    "%reset -f\n",
    "%matplotlib inline\n",
    "import numpy as np\n",
    "import matplotlib.pyplot as plt\n",
    "import scipy.integrate"
   ]
  },
  {
   "cell_type": "code",
   "execution_count": 3,
   "metadata": {
    "ExecuteTime": {
     "end_time": "2021-05-21T13:01:55.133993Z",
     "start_time": "2021-05-21T13:01:55.121561Z"
    }
   },
   "outputs": [],
   "source": [
    "\n",
    "import matplotlib as mpl\n",
    "import matplotlib\n",
    "\n",
    "plt.rcParams['text.usetex'] = True\n",
    "plt.rcParams['font.family'] = \"sans serif\"\n",
    "plt.rcParams['font.serif'] = \"cm\"\n",
    "\n",
    "matplotlib.rcParams['xtick.major.pad']='10'\n",
    "matplotlib.rcParams['ytick.major.pad']='7'\n",
    "matplotlib.rc('xtick', labelsize=25) \n",
    "matplotlib.rc('ytick', labelsize=25) \n",
    "matplotlib.rcParams.update({'font.size': 25})\n",
    "matplotlib.rcParams.update({'legend.fontsize': 15})#,\n",
    "          #'legend.handlelength': 2)\n",
    "    "
   ]
  },
  {
   "cell_type": "code",
   "execution_count": 4,
   "metadata": {
    "ExecuteTime": {
     "end_time": "2021-05-21T13:01:55.810909Z",
     "start_time": "2021-05-21T13:01:55.138649Z"
    }
   },
   "outputs": [],
   "source": [
    "from sympy import *\n",
    "init_printing(use_unicode=True)"
   ]
  },
  {
   "cell_type": "code",
   "execution_count": 5,
   "metadata": {
    "ExecuteTime": {
     "end_time": "2021-05-21T13:01:55.819378Z",
     "start_time": "2021-05-21T13:01:55.813773Z"
    }
   },
   "outputs": [],
   "source": [
    "x = symbols('x',real=True)\n",
    "L = symbols('L',positive=True,real=True)\n",
    "U0 = symbols('U0',real=True,positive=True)\n",
    "dU = symbols('\\Delta\\ U',real=True,positive=True)"
   ]
  },
  {
   "cell_type": "code",
   "execution_count": 6,
   "metadata": {
    "ExecuteTime": {
     "end_time": "2021-05-21T13:01:56.699379Z",
     "start_time": "2021-05-21T13:01:55.822946Z"
    }
   },
   "outputs": [
    {
     "data": {
      "image/png": "[encoded data removed]",
      "text/latex": [
       "$\\displaystyle \\left(1 + \\frac{x}{L}\\right)^{2} \\left(U_{0} \\left(-1 + \\frac{x}{L}\\right)^{2} - \\frac{\\Delta U \\left(-2 + \\frac{x}{L}\\right)}{4}\\right)$"
      ],
      "text/plain": [
       "         ⎛                        ⎛     x⎞⎞\n",
       "       2 ⎜           2   \\Delta U⋅⎜-2 + ─⎟⎟\n",
       "⎛    x⎞  ⎜   ⎛     x⎞             ⎝     L⎠⎟\n",
       "⎜1 + ─⎟ ⋅⎜U₀⋅⎜-1 + ─⎟  - ─────────────────⎟\n",
       "⎝    L⎠  ⎝   ⎝     L⎠            4        ⎠"
      ]
     },
     "execution_count": 6,
     "metadata": {},
     "output_type": "execute_result"
    }
   ],
   "source": [
    "# Define potential\n",
    "U = ( U0*((x/L) - 1)**2 - Rational(1,4)*dU*((x/L) -2) ) * (x/L + 1)**2\n",
    "#force = -diff(U,x)\n",
    "#div_force = -diff(U,x,2)\n",
    "\n",
    "U"
   ]
  },
  {
   "cell_type": "code",
   "execution_count": 9,
   "metadata": {
    "ExecuteTime": {
     "end_time": "2021-05-21T13:02:37.437307Z",
     "start_time": "2021-05-21T13:02:37.110162Z"
    }
   },
   "outputs": [
    {
     "data": {
      "image/png": "[encoded data removed]",
      "text/latex": [
       "$\\displaystyle \\Delta U$"
      ],
      "text/plain": [
       "\\Delta U"
      ]
     },
     "execution_count": 9,
     "metadata": {},
     "output_type": "execute_result"
    }
   ],
   "source": [
    "expr = U.subs(x,L) - U.subs(x,-L)\n",
    "expr"
   ]
  },
  {
   "cell_type": "code",
   "execution_count": 10,
   "metadata": {
    "ExecuteTime": {
     "end_time": "2021-05-21T13:02:42.796750Z",
     "start_time": "2021-05-21T13:02:42.658936Z"
    }
   },
   "outputs": [],
   "source": [
    "DU = diff(U,x)\n",
    "x0,x1,x2 = solve(DU,x)\n",
    "\n",
    "x0 = simplify(x0)\n",
    "x1 = simplify(x1)\n",
    "x2 = simplify(x2)"
   ]
  },
  {
   "cell_type": "markdown",
   "metadata": {},
   "source": [
    "## Extremum 0"
   ]
  },
  {
   "cell_type": "code",
   "execution_count": 11,
   "metadata": {
    "ExecuteTime": {
     "end_time": "2021-05-21T13:02:44.430328Z",
     "start_time": "2021-05-21T13:02:44.031226Z"
    }
   },
   "outputs": [
    {
     "data": {
      "image/png": "[encoded data removed]",
      "text/latex": [
       "$\\displaystyle - L$"
      ],
      "text/plain": [
       "-L"
      ]
     },
     "execution_count": 11,
     "metadata": {},
     "output_type": "execute_result"
    }
   ],
   "source": [
    "x0_ = simplify(x0.subs(dU,0))\n",
    "x0_"
   ]
  },
  {
   "cell_type": "code",
   "execution_count": 12,
   "metadata": {
    "ExecuteTime": {
     "end_time": "2021-05-21T13:02:45.607650Z",
     "start_time": "2021-05-21T13:02:45.591994Z"
    }
   },
   "outputs": [
    {
     "name": "stdout",
     "output_type": "stream",
     "text": [
      "-1\n",
      "0\n"
     ]
    }
   ],
   "source": [
    "print( re(x0_.subs(L,1)))\n",
    "print( im(x0_.subs(L,1)))"
   ]
  },
  {
   "cell_type": "code",
   "execution_count": 13,
   "metadata": {
    "ExecuteTime": {
     "end_time": "2021-05-21T13:02:46.992104Z",
     "start_time": "2021-05-21T13:02:46.640412Z"
    },
    "scrolled": true
   },
   "outputs": [
    {
     "data": {
      "image/png": "[encoded data removed]",
      "text/latex": [
       "$\\displaystyle - L$"
      ],
      "text/plain": [
       "-L"
      ]
     },
     "execution_count": 13,
     "metadata": {},
     "output_type": "execute_result"
    }
   ],
   "source": [
    "x0"
   ]
  },
  {
   "cell_type": "markdown",
   "metadata": {},
   "source": [
    "## Extremum 1"
   ]
  },
  {
   "cell_type": "code",
   "execution_count": 14,
   "metadata": {
    "ExecuteTime": {
     "end_time": "2021-05-21T13:02:48.692215Z",
     "start_time": "2021-05-21T13:02:48.302439Z"
    }
   },
   "outputs": [
    {
     "data": {
      "image/png": "[encoded data removed]",
      "text/latex": [
       "$\\displaystyle L$"
      ],
      "text/plain": [
       "L"
      ]
     },
     "execution_count": 14,
     "metadata": {},
     "output_type": "execute_result"
    }
   ],
   "source": [
    "x1_ = simplify(x1.subs(dU,0))\n",
    "x1_"
   ]
  },
  {
   "cell_type": "code",
   "execution_count": 15,
   "metadata": {
    "ExecuteTime": {
     "end_time": "2021-05-21T13:02:49.630789Z",
     "start_time": "2021-05-21T13:02:49.614147Z"
    }
   },
   "outputs": [
    {
     "name": "stdout",
     "output_type": "stream",
     "text": [
      "1\n",
      "0\n"
     ]
    }
   ],
   "source": [
    "print( simplify( re(x1_.subs(L,1))) )\n",
    "print( simplify( im(x1_.subs(L,1))) )"
   ]
  },
  {
   "cell_type": "code",
   "execution_count": 16,
   "metadata": {
    "ExecuteTime": {
     "end_time": "2021-05-21T13:02:50.374300Z",
     "start_time": "2021-05-21T13:02:49.858132Z"
    },
    "scrolled": true
   },
   "outputs": [
    {
     "data": {
      "image/png": "[encoded data removed]",
      "text/latex": [
       "$\\displaystyle L$"
      ],
      "text/plain": [
       "L"
      ]
     },
     "execution_count": 16,
     "metadata": {},
     "output_type": "execute_result"
    }
   ],
   "source": [
    "x1"
   ]
  },
  {
   "cell_type": "markdown",
   "metadata": {},
   "source": [
    "## Extremum 2"
   ]
  },
  {
   "cell_type": "code",
   "execution_count": 17,
   "metadata": {
    "ExecuteTime": {
     "end_time": "2021-05-21T13:02:51.829472Z",
     "start_time": "2021-05-21T13:02:51.446487Z"
    }
   },
   "outputs": [
    {
     "data": {
      "image/png": "[encoded data removed]",
      "text/latex": [
       "$\\displaystyle 0$"
      ],
      "text/plain": [
       "0"
      ]
     },
     "execution_count": 17,
     "metadata": {},
     "output_type": "execute_result"
    }
   ],
   "source": [
    "x2_ = simplify(x2.subs(dU,0))\n",
    "x2_"
   ]
  },
  {
   "cell_type": "code",
   "execution_count": 18,
   "metadata": {
    "ExecuteTime": {
     "end_time": "2021-05-21T13:02:55.445945Z",
     "start_time": "2021-05-21T13:02:55.429434Z"
    }
   },
   "outputs": [
    {
     "name": "stdout",
     "output_type": "stream",
     "text": [
      "0\n",
      "0\n"
     ]
    }
   ],
   "source": [
    "print( simplify( re(x2_.subs(L,1))) )\n",
    "print( simplify( im(x2_.subs(L,1))) )"
   ]
  },
  {
   "cell_type": "code",
   "execution_count": 19,
   "metadata": {
    "ExecuteTime": {
     "end_time": "2021-05-21T13:02:56.377768Z",
     "start_time": "2021-05-21T13:02:55.935421Z"
    }
   },
   "outputs": [
    {
     "data": {
      "image/png": "[encoded data removed]",
      "text/latex": [
       "$\\displaystyle \\frac{3 L \\Delta U}{16 U_{0}}$"
      ],
      "text/plain": [
       "3⋅L⋅\\Delta U\n",
       "────────────\n",
       "   16⋅U₀    "
      ]
     },
     "execution_count": 19,
     "metadata": {},
     "output_type": "execute_result"
    }
   ],
   "source": [
    "x2"
   ]
  },
  {
   "cell_type": "markdown",
   "metadata": {},
   "source": [
    "## Barrier heights"
   ]
  },
  {
   "cell_type": "code",
   "execution_count": 21,
   "metadata": {
    "ExecuteTime": {
     "end_time": "2021-05-21T13:03:42.959150Z",
     "start_time": "2021-05-21T13:03:42.221406Z"
    }
   },
   "outputs": [
    {
     "data": {
      "image/png": "[encoded data removed]",
      "text/latex": [
       "$\\displaystyle U_{0} + \\frac{\\Delta U}{2} + \\frac{9 \\Delta U^{2}}{128 U_{0}} - \\frac{27 \\Delta U^{4}}{65536 U_{0}^{3}}$"
      ],
      "text/plain": [
       "                          2              4\n",
       "     \\Delta U   9⋅\\Delta U    27⋅\\Delta U \n",
       "U₀ + ──────── + ─────────── - ────────────\n",
       "        2          128⋅U₀              3  \n",
       "                               65536⋅U₀   "
      ]
     },
     "execution_count": 21,
     "metadata": {},
     "output_type": "execute_result"
    }
   ],
   "source": [
    "simplify( U.subs(x,x2) - U.subs(x,x0) )"
   ]
  },
  {
   "cell_type": "code",
   "execution_count": 22,
   "metadata": {
    "ExecuteTime": {
     "end_time": "2021-05-21T13:03:54.148081Z",
     "start_time": "2021-05-21T13:03:53.588671Z"
    }
   },
   "outputs": [
    {
     "data": {
      "image/png": "[encoded data removed]",
      "text/latex": [
       "$\\displaystyle U_{0} - \\frac{\\Delta U}{2} + \\frac{9 \\Delta U^{2}}{128 U_{0}} - \\frac{27 \\Delta U^{4}}{65536 U_{0}^{3}}$"
      ],
      "text/plain": [
       "                          2              4\n",
       "     \\Delta U   9⋅\\Delta U    27⋅\\Delta U \n",
       "U₀ - ──────── + ─────────── - ────────────\n",
       "        2          128⋅U₀              3  \n",
       "                               65536⋅U₀   "
      ]
     },
     "execution_count": 22,
     "metadata": {},
     "output_type": "execute_result"
    }
   ],
   "source": [
    "simplify( U.subs(x,x2) - U.subs(x,x1) )"
   ]
  },
  {
   "cell_type": "markdown",
   "metadata": {},
   "source": [
    "## Numerical example"
   ]
  },
  {
   "cell_type": "code",
   "execution_count": 35,
   "metadata": {
    "ExecuteTime": {
     "end_time": "2021-05-21T13:19:50.977583Z",
     "start_time": "2021-05-21T13:19:50.442166Z"
    }
   },
   "outputs": [
    {
     "name": "stdout",
     "output_type": "stream",
     "text": [
      "Barrier height from left = 3.1264647841453552\n",
      "Barrier height from right = 2.8764647841453552\n"
     ]
    },
    {
     "data": {
      "image/png": "[encoded data removed]",
      "text/plain": [
       "<Figure size 720x432 with 1 Axes>"
      ]
     },
     "metadata": {
      "needs_background": "light"
     },
     "output_type": "display_data"
    }
   ],
   "source": [
    "L_ = 1.\n",
    "U0_ = 3.\n",
    "dU_ = 0.25\n",
    "\n",
    "U_func = lambdify(x,U.subs(U0,U0_).subs(dU,dU_).subs(L,L_))\n",
    "x2_func = lambdify(dU,re(x2.subs(U0,U0_).subs(L,L_)))\n",
    "\n",
    "print('Barrier height from left =',U_func(x2_func(dU_)) - U_func(-L_))\n",
    "print('Barrier height from right =',U_func(x2_func(dU_)) - U_func(L_))\n",
    "\n",
    "xP = np.linspace(-1.5,1.5,num=300)\n",
    "yP = U_func(xP)\n",
    "\n",
    "fig,ax = plt.subplots(1,1,figsize=(10,6))\n",
    "ax.plot(xP,yP)\n",
    "plt.show()\n",
    "plt.close(fig)"
   ]
  },
  {
   "cell_type": "code",
   "execution_count": 28,
   "metadata": {
    "ExecuteTime": {
     "end_time": "2021-05-21T13:07:01.735546Z",
     "start_time": "2021-05-21T13:07:01.497253Z"
    }
   },
   "outputs": [
    {
     "data": {
      "image/png": "[encoded data removed]",
      "text/plain": [
       "<Figure size 720x432 with 1 Axes>"
      ]
     },
     "metadata": {
      "needs_background": "light"
     },
     "output_type": "display_data"
    }
   ],
   "source": [
    "x2_func = lambdify(dU,re(x2.subs(U0,U0_).subs(L,L_)))\n",
    "\n",
    "xP = np.linspace(0,.5,num=100)\n",
    "yP = x2_func(xP)\n",
    "\n",
    "fig,ax = plt.subplots(1,1,figsize=(10,6))\n",
    "ax.plot(xP,yP)\n",
    "plt.show()\n",
    "plt.close(fig)"
   ]
  },
  {
   "cell_type": "code",
   "execution_count": null,
   "metadata": {},
   "outputs": [],
   "source": []
  }
 ],
 "metadata": {
  "kernelspec": {
   "display_name": "Python 3",
   "language": "python",
   "name": "python3"
  },
  "language_info": {
   "codemirror_mode": {
    "name": "ipython",
    "version": 3
   },
   "file_extension": ".py",
   "mimetype": "text/x-python",
   "name": "python",
   "nbconvert_exporter": "python",
   "pygments_lexer": "ipython3",
   "version": "3.8.5"
  }
 },
 "nbformat": 4,
 "nbformat_minor": 4
}
