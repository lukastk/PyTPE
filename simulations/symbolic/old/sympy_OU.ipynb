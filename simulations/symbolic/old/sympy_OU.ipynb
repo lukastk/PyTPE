{
 "cells": [
  {
   "cell_type": "code",
   "execution_count": 1,
   "metadata": {},
   "outputs": [],
   "source": [
    "from sympy import Symbol, Function, Matrix, zeros, symbols\n",
    "import sympy\n",
    "import numpy as np\n",
    "import matplotlib.pyplot as plt"
   ]
  },
  {
   "cell_type": "markdown",
   "metadata": {},
   "source": [
    "Q matrix:\n",
    "\n",
    "$$\n",
    "\\begin{aligned}\n",
    "Q[\\mathbf{x}, \\delta \\mathbf{x}] & = \\sum_{i,j}^d \\sum_{k,l}^\\infty d^i_k d_l^j \\int_0^T dt \\left[\n",
    "\\sqrt{\\lambda_k \\lambda_l} \\phi_k \\phi_l \\frac{\\partial^2 L}{\\partial x_i \\partial x_j}\n",
    "+ \\sqrt{\\lambda_l} \\psi_k \\phi_l \\frac{\\partial^2 L}{\\partial \\dot{x}_i \\partial x_j}\n",
    "+ \\psi_k \\psi_l \\frac{\\partial^2 L}{\\partial \\dot{x}_i \\partial \\dot{x}_j}\n",
    "\\right] \\\\\n",
    "& = \\sum_{i,j}^d \\sum_{k,l}^\\infty d^i_k d_l^j Q^{ij}_{kl} \\\\\n",
    "S[\\mathbf{x}^* + \\delta \\mathbf{x}] & = S[\\mathbf{x}^*] + \\frac{1}{2} d^T Q d\n",
    "\\end{aligned}\n",
    "$$"
   ]
  },
  {
   "cell_type": "code",
   "execution_count": 2,
   "metadata": {},
   "outputs": [],
   "source": [
    "dim = 1"
   ]
  },
  {
   "cell_type": "code",
   "execution_count": 7,
   "metadata": {},
   "outputs": [],
   "source": [
    "t = Symbol('t')\n",
    "T = Symbol('T', nonnegative=True)\n",
    "k = Symbol('k')\n",
    "g = Symbol('gamma')\n",
    "b = Symbol('beta')\n",
    "\n",
    "x = Symbol('x')\n",
    "xdot = Symbol('xdot')\n",
    "\n",
    "coords = [x]\n",
    "dcoords = [xdot]\n",
    "\n",
    "U = k * x**2\n",
    "F = -U.diff(x)\n",
    "F = Function('F')(x)\n",
    "\n",
    "L_OM = (b*g/4) * (xdot - F/g)**2 + (1/(2*g)) * F.diff(x)\n",
    "L_FW = (b*g/4) * (xdot - F/g)**2\n",
    "\n",
    "F_expr = -U.diff(x)\n",
    "div_F_expr = F_expr.diff(x)"
   ]
  },
  {
   "cell_type": "markdown",
   "metadata": {},
   "source": [
    "### Second variation"
   ]
  },
  {
   "cell_type": "code",
   "execution_count": 10,
   "metadata": {},
   "outputs": [],
   "source": [
    "def get_L_2nd_derivs(L):\n",
    "    L_x_x = zeros(dim,dim)\n",
    "    L_xd_x = zeros(dim,dim)\n",
    "    L_xd_xd = zeros(dim,dim)\n",
    "\n",
    "    for i in range(dim):\n",
    "        for j in range(dim):\n",
    "            L_x_x[i,j] = L.diff(coords[i]).diff(coords[j])\n",
    "            L_x_x[i,j] = L_x_x[i,j].subs(F, F_expr).simplify()\n",
    "\n",
    "            L_xd_x[i,j] = L.diff(dcoords[i]).diff(coords[j])\n",
    "            L_xd_x[i,j] = L_xd_x[i,j].subs(F, F_expr).simplify()\n",
    "\n",
    "            L_xd_xd[i,j] = L.diff(dcoords[i]).diff(dcoords[j])\n",
    "            L_xd_xd[i,j] = L_xd_xd[i,j].subs(F, F_expr).simplify()\n",
    "            \n",
    "    return L_x_x, L_xd_x, L_xd_xd\n",
    "\n",
    "L_x_x_OM, L_xd_x_OM, L_xd_xd_OM = get_L_2nd_derivs(L_OM)\n",
    "L_x_x_FW, L_xd_x_FW, L_xd_xd_FW = get_L_2nd_derivs(L_FW)"
   ]
  },
  {
   "cell_type": "code",
   "execution_count": 11,
   "metadata": {},
   "outputs": [],
   "source": [
    "def to_pycode(s):\n",
    "    return sympy.printing.pycode(s)"
   ]
  },
  {
   "cell_type": "code",
   "execution_count": 12,
   "metadata": {},
   "outputs": [],
   "source": [
    "py_force_exprs = [U, F_expr, div_F_expr]\n",
    "py_force_exprs = list(map(to_pycode, py_force_exprs))\n",
    "\n",
    "py_exprs = []\n",
    "\n",
    "for i in range(dim):\n",
    "    for j in range(dim):\n",
    "        py_exprs.append(L_x_x_OM[i,j])\n",
    "        py_exprs.append(L_xd_x_OM[i,j])\n",
    "        py_exprs.append(L_xd_xd_OM[i,j])\n",
    "        \n",
    "for i in range(dim):\n",
    "    for j in range(dim):\n",
    "        py_exprs.append(L_x_x_FW[i,j])\n",
    "        py_exprs.append(L_xd_x_FW[i,j])\n",
    "        py_exprs.append(L_xd_xd_FW[i,j])\n",
    "        \n",
    "py_exprs = list(map(to_pycode, py_exprs))"
   ]
  },
  {
   "cell_type": "code",
   "execution_count": 29,
   "metadata": {},
   "outputs": [],
   "source": [
    "L_2nd_derivs_OM_str = \"\"\"\n",
    "def L_2nd_derivs_OM(x, xdot):\n",
    "    L_x_x = np.zeros((%s, %s, len(x)))\n",
    "    L_xd_x = np.zeros((%s, %s, len(x)))\n",
    "    L_xd_xd = np.zeros((%s, %s, len(x)))\n",
    "\"\"\" % (dim, dim, dim, dim, dim, dim)\n",
    "\n",
    "for i in range(dim):\n",
    "    for j in range(dim):\n",
    "        L_2nd_derivs_OM_str += \"    L_x_x[%s,%s] = %s\\n\" % (i,j, to_pycode(L_x_x_OM[i,j]))\n",
    "        L_2nd_derivs_OM_str += \"    L_xd_x[%s,%s] = %s\\n\" % (i,j, to_pycode(L_xd_x_OM[i,j]))\n",
    "        L_2nd_derivs_OM_str += \"    L_xd_xd[%s,%s] = %s\\n\" % (i,j, to_pycode(L_xd_xd_OM[i,j]))\n",
    "\n",
    "L_2nd_derivs_OM_str += \"    return L_x_x, L_xd_x, L_xd_xd\""
   ]
  },
  {
   "cell_type": "code",
   "execution_count": 30,
   "metadata": {},
   "outputs": [],
   "source": [
    "L_2nd_derivs_FW_str = \"\"\"\n",
    "def L_2nd_derivs_FW(x, xdot):\n",
    "    L_x_x = np.zeros((%s, %s, len(x)))\n",
    "    L_xd_x = np.zeros((%s, %s, len(x)))\n",
    "    L_xd_xd = np.zeros((%s, %s, len(x)))\n",
    "\"\"\" % (dim, dim, dim, dim, dim, dim)\n",
    "\n",
    "for i in range(dim):\n",
    "    for j in range(dim):\n",
    "        L_2nd_derivs_FW_str += \"    L_x_x[%s,%s] = %s\\n\" % (i,j, to_pycode(L_x_x_FW[i,j]))\n",
    "        L_2nd_derivs_FW_str += \"    L_xd_x[%s,%s] = %s\\n\" % (i,j, to_pycode(L_xd_x_FW[i,j]))\n",
    "        L_2nd_derivs_FW_str += \"    L_xd_xd[%s,%s] = %s\\n\" % (i,j, to_pycode(L_xd_xd_FW[i,j]))\n",
    "        \n",
    "L_2nd_derivs_FW_str += \"    return L_x_x, L_xd_x, L_xd_xd\""
   ]
  },
  {
   "cell_type": "code",
   "execution_count": 31,
   "metadata": {},
   "outputs": [
    {
     "name": "stdout",
     "output_type": "stream",
     "text": [
      "\n",
      "def Upot(x):\n",
      "    return k*x**2\n",
      "def force_func(x):\n",
      "    f = -2*k*x\n",
      "    div_f = -2*k\n",
      "    return f, div_f\n",
      "def force_vec(x):\n",
      "    f, div_f = force_func(x)\n",
      "    return f\n",
      "\n"
     ]
    }
   ],
   "source": [
    "print(\"\"\"\n",
    "def Upot(x):\n",
    "    return %s\n",
    "def force_func(x):\n",
    "    f = %s\n",
    "    div_f = %s\n",
    "    return f, div_f\n",
    "def force_vec(x):\n",
    "    f, div_f = force_func(x)\n",
    "    return f\n",
    "\"\"\" % tuple(py_force_exprs))"
   ]
  },
  {
   "cell_type": "code",
   "execution_count": 32,
   "metadata": {},
   "outputs": [
    {
     "name": "stdout",
     "output_type": "stream",
     "text": [
      "\n",
      "def L_2nd_derivs_OM(x, xdot):\n",
      "    L_x_x = np.zeros((1, 1, len(x)))\n",
      "    L_xd_x = np.zeros((1, 1, len(x)))\n",
      "    L_xd_xd = np.zeros((1, 1, len(x)))\n",
      "    L_x_x[0,0] = 2*beta*k**2/gamma\n",
      "    L_xd_x[0,0] = beta*k\n",
      "    L_xd_xd[0,0] = (1/2)*beta*gamma\n",
      "    return L_x_x, L_xd_x, L_xd_xd\n",
      "def L_2nd_derivs_FW(x, xdot):\n",
      "    L_x_x = np.zeros((1, 1, len(x)))\n",
      "    L_xd_x = np.zeros((1, 1, len(x)))\n",
      "    L_xd_xd = np.zeros((1, 1, len(x)))\n",
      "    L_x_x[0,0] = 2*beta*k**2/gamma\n",
      "    L_xd_x[0,0] = beta*k\n",
      "    L_xd_xd[0,0] = (1/2)*beta*gamma\n",
      "    return L_x_x, L_xd_x, L_xd_xd\n"
     ]
    }
   ],
   "source": [
    "print(\"%s%s\" % (L_2nd_derivs_OM_str, L_2nd_derivs_FW_str))"
   ]
  },
  {
   "cell_type": "markdown",
   "metadata": {},
   "source": [
    "### Gradient of the action"
   ]
  },
  {
   "cell_type": "code",
   "execution_count": 18,
   "metadata": {},
   "outputs": [],
   "source": [
    "dim = 1"
   ]
  },
  {
   "cell_type": "code",
   "execution_count": 19,
   "metadata": {},
   "outputs": [],
   "source": [
    "g = Symbol('gamma')\n",
    "b = Symbol('beta')\n",
    "\n",
    "x, y = symbols('x y')\n",
    "xdot, ydot = symbols('xdot ydot')\n",
    "\n",
    "coords = [x]\n",
    "dcoords = [xdot]"
   ]
  },
  {
   "cell_type": "code",
   "execution_count": 20,
   "metadata": {},
   "outputs": [],
   "source": [
    "U0 = Symbol('U0')\n",
    "dU = Symbol('dU')\n",
    "\n",
    "x = Symbol('x')\n",
    "xdot = Symbol('xdot')\n",
    "\n",
    "U = ( U0 * (x-1)**2 - dU * (x-2) / 4 ) * (x+1)**2\n",
    "F = -U.diff(x)\n",
    "divF = F.diff(x)"
   ]
  },
  {
   "cell_type": "code",
   "execution_count": 21,
   "metadata": {},
   "outputs": [],
   "source": [
    "L_OM = (b*g/4) * (xdot - F/g)**2 + (1/(2*g)) * divF\n",
    "L_FW = (b*g/4) * (xdot - F/g)**2\n",
    "\n",
    "L_OM = L_OM.simplify()\n",
    "L_FW = L_FW.simplify()"
   ]
  },
  {
   "cell_type": "code",
   "execution_count": 22,
   "metadata": {},
   "outputs": [],
   "source": [
    "def get_L_derivs(L):\n",
    "    L_x = zeros(dim, 1)\n",
    "    L_xd = zeros(dim, 1)\n",
    "\n",
    "    for i in range(dim):\n",
    "        L_x[i] = L.diff(coords[i]).simplify()\n",
    "        \n",
    "        L_xd[i] = L.diff(dcoords[i]).simplify()\n",
    "            \n",
    "    return L_x, L_xd\n",
    "\n",
    "L_x_OM, L_xd_OM = get_L_derivs(L_OM)\n",
    "L_x_FW, L_xd_FW = get_L_derivs(L_FW)"
   ]
  },
  {
   "cell_type": "code",
   "execution_count": 23,
   "metadata": {},
   "outputs": [],
   "source": [
    "def to_pycode(s):\n",
    "    return sympy.printing.pycode(s)"
   ]
  },
  {
   "cell_type": "code",
   "execution_count": 24,
   "metadata": {},
   "outputs": [],
   "source": [
    "#py_force_exprs = [U_expr, F_expr, divF_expr]\n",
    "py_force_exprs = list(map(to_pycode, py_force_exprs))\n",
    "\n",
    "py_exprs = []\n",
    "\n",
    "for i in range(dim):\n",
    "    py_exprs.append(L_x_OM[i])\n",
    "    py_exprs.append(L_xd_OM[i])\n",
    "        \n",
    "for i in range(dim):\n",
    "    py_exprs.append(L_x_FW[i])\n",
    "    py_exprs.append(L_xd_FW[i])\n",
    "        \n",
    "py_exprs = list(map(to_pycode, py_exprs))"
   ]
  },
  {
   "cell_type": "code",
   "execution_count": 25,
   "metadata": {},
   "outputs": [],
   "source": [
    "L_derivs_OM_str = \"\"\"\n",
    "def L_derivs_OM(x, xdot):\n",
    "    L_x = np.zeros((%s, len(x)))\n",
    "    L_xd = np.zeros((%s, len(x)))\n",
    "\"\"\" % (dim, dim)\n",
    "\n",
    "for i in range(dim):\n",
    "    L_derivs_OM_str += \"    L_x[%s] = %s\\n\" % (i, to_pycode(L_x_OM[i]))\n",
    "    L_derivs_OM_str += \"    L_xd[%s] = %s\\n\" % (i, to_pycode(L_xd_OM[i]))\n",
    "\n",
    "L_derivs_OM_str += \"    return L_x, L_xd\""
   ]
  },
  {
   "cell_type": "code",
   "execution_count": 26,
   "metadata": {},
   "outputs": [],
   "source": [
    "L_derivs_FW_str = \"\"\"\n",
    "def L_derivs_FW(x, xdot):\n",
    "    L_x = np.zeros((%s, len(x)))\n",
    "    L_xd = np.zeros((%s, len(x)))\n",
    "\"\"\" % (dim, dim)\n",
    "\n",
    "for i in range(dim):\n",
    "    L_derivs_FW_str += \"    L_x[%s] = %s\\n\" % (i, to_pycode(L_x_FW[i]))\n",
    "    L_derivs_FW_str += \"    L_xd[%s] = %s\\n\" % (i, to_pycode(L_xd_FW[i]))\n",
    "\n",
    "L_derivs_FW_str += \"    return L_x, L_xd\""
   ]
  },
  {
   "cell_type": "code",
   "execution_count": 27,
   "metadata": {},
   "outputs": [
    {
     "name": "stdout",
     "output_type": "stream",
     "text": [
      "\n",
      "def L_derivs_OM(x, xdot):\n",
      "    L_x = np.zeros((1, len(x)))\n",
      "    L_xd = np.zeros((1, len(x)))\n",
      "    L_x[0] = (1/16)*(-96*U0*(x - 1) - 96*U0*(x + 1) + beta*(4*gamma*xdot + (x + 1)**2*(8*U0*(x - 1) - dU) + 2*(x + 1)*(4*U0*(x - 1)**2 - dU*(x - 2)))*(4*U0*(x - 1)**2 + 4*U0*(x + 1)**2 - dU*(x - 2) + 2*(x + 1)*(8*U0*(x - 1) - dU)) + 12*dU)/gamma\n",
      "    L_xd[0] = (1/8)*beta*(16*U0*x**3 - 16*U0*x - 3*dU*x**2 + 3*dU + 4*gamma*xdot)\n",
      "    return L_x, L_xd\n",
      "def L_derivs_FW(x, xdot):\n",
      "    L_x = np.zeros((1, len(x)))\n",
      "    L_xd = np.zeros((1, len(x)))\n",
      "    L_x[0] = (1/16)*beta*(4*gamma*xdot + (x + 1)**2*(8*U0*(x - 1) - dU) + 2*(x + 1)*(4*U0*(x - 1)**2 - dU*(x - 2)))*(4*U0*(x - 1)**2 + 4*U0*(x + 1)**2 - dU*(x - 2) + 2*(x + 1)*(8*U0*(x - 1) - dU))/gamma\n",
      "    L_xd[0] = (1/8)*beta*(16*U0*x**3 - 16*U0*x - 3*dU*x**2 + 3*dU + 4*gamma*xdot)\n",
      "    return L_x, L_xd\n"
     ]
    }
   ],
   "source": [
    "print(\"%s%s\" % (L_derivs_OM_str, L_derivs_FW_str))"
   ]
  },
  {
   "cell_type": "code",
   "execution_count": null,
   "metadata": {},
   "outputs": [],
   "source": []
  }
 ],
 "metadata": {
  "kernelspec": {
   "display_name": "Python 3",
   "language": "python",
   "name": "python3"
  },
  "language_info": {
   "codemirror_mode": {
    "name": "ipython",
    "version": 3
   },
   "file_extension": ".py",
   "mimetype": "text/x-python",
   "name": "python",
   "nbconvert_exporter": "python",
   "pygments_lexer": "ipython3",
   "version": "3.8.5"
  }
 },
 "nbformat": 4,
 "nbformat_minor": 4
}
