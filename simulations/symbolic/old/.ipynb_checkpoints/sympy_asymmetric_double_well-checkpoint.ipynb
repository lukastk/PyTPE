{
 "cells": [
  {
   "cell_type": "code",
   "execution_count": 3,
   "metadata": {},
   "outputs": [],
   "source": [
    "from sympy import Symbol, Function, Matrix, zeros, symbols, N\n",
    "import sympy\n",
    "import numpy as np\n",
    "import matplotlib.pyplot as plt"
   ]
  },
  {
   "cell_type": "markdown",
   "metadata": {},
   "source": [
    "We consider a quartic well, specified by restricting a 4th degree polynomial by\n",
    "\n",
    "1. $U(-1) = 0$\n",
    "2. $U(1) = \\Delta U$\n",
    "3. $U'(-1) = 0$\n",
    "4. $U'(1) = 0$\n",
    "\n",
    "We get\n",
    "\n",
    "$$\n",
    "U(x) = \\left( U_0 (x - 1)^2 - \\frac{1}{4} \\Delta U (x - 2) \\right) (x + 1)^2\n",
    "$$"
   ]
  },
  {
   "cell_type": "markdown",
   "metadata": {},
   "source": [
    "Q matrix:\n",
    "\n",
    "$$\n",
    "\\begin{aligned}\n",
    "Q[\\mathbf{x}, \\delta \\mathbf{x}] & = \\sum_{i,j}^d \\sum_{k,l}^\\infty d^i_k d_l^j \\int_0^T dt \\left[\n",
    "\\sqrt{\\lambda_k \\lambda_l} \\phi_k \\phi_l \\frac{\\partial^2 L}{\\partial x_i \\partial x_j}\n",
    "+ \\sqrt{\\lambda_l} \\psi_k \\phi_l \\frac{\\partial^2 L}{\\partial \\dot{x}_i \\partial x_j}\n",
    "+ \\psi_k \\psi_l \\frac{\\partial^2 L}{\\partial \\dot{x}_i \\partial \\dot{x}_j}\n",
    "\\right] \\\\\n",
    "& = \\sum_{i,j}^d \\sum_{k,l}^\\infty d^i_k d_l^j Q^{ij}_{kl} \\\\\n",
    "S[\\mathbf{x}^* + \\delta \\mathbf{x}] & = S[\\mathbf{x}^*] + \\frac{1}{2} d^T Q d\n",
    "\\end{aligned}\n",
    "$$"
   ]
  },
  {
   "cell_type": "code",
   "execution_count": 4,
   "metadata": {},
   "outputs": [],
   "source": [
    "dim = 1"
   ]
  },
  {
   "cell_type": "code",
   "execution_count": 5,
   "metadata": {},
   "outputs": [
    {
     "data": {
      "text/latex": [
       "$\\displaystyle \\left(x + 1\\right)^{2} \\left(U_{0} \\left(x - 1\\right)^{2} - \\frac{dU \\left(x - 2\\right)}{4}\\right)$"
      ],
      "text/plain": [
       "(x + 1)**2*(U0*(x - 1)**2 - dU*(x - 2)/4)"
      ]
     },
     "execution_count": 5,
     "metadata": {},
     "output_type": "execute_result"
    }
   ],
   "source": [
    "t = Symbol('t')\n",
    "T = Symbol('T', nonnegative=True)\n",
    "U0 = Symbol('U0')\n",
    "dU = Symbol('dU')\n",
    "g = Symbol('gamma')\n",
    "b = Symbol('beta')\n",
    "\n",
    "x = Symbol('x')\n",
    "xdot = Symbol('xdot')\n",
    "\n",
    "coords = [x]\n",
    "dcoords = [xdot]\n",
    "\n",
    "U = ( U0 * (x-1)**2 - dU * (x-2) / 4 ) * (x+1)**2\n",
    "F = -U.diff(x)\n",
    "F = Function('F')(x)\n",
    "\n",
    "L_OM = (b*g/4) * (xdot - F/g)**2 + (1/(2*g)) * F.diff(x)\n",
    "L_FW = (b*g/4) * (xdot - F/g)**2\n",
    "\n",
    "F_expr = -U.diff(x)\n",
    "div_F_expr = F_expr.diff(x)\n",
    "\n",
    "U"
   ]
  },
  {
   "cell_type": "markdown",
   "metadata": {},
   "source": [
    "Maximum"
   ]
  },
  {
   "cell_type": "code",
   "execution_count": 6,
   "metadata": {},
   "outputs": [
    {
     "data": {
      "text/latex": [
       "$\\displaystyle \\frac{3 dU}{16 U_{0}}$"
      ],
      "text/plain": [
       "3*dU/(16*U0)"
      ]
     },
     "execution_count": 6,
     "metadata": {},
     "output_type": "execute_result"
    }
   ],
   "source": [
    "sympy.solve(U.diff(x), x)[2]"
   ]
  },
  {
   "cell_type": "code",
   "execution_count": 7,
   "metadata": {},
   "outputs": [],
   "source": [
    "U = N(U)\n",
    "F = N(F)\n",
    "F_expr = N(F_expr)\n",
    "div_F_expr = N(div_F_expr)\n",
    "L_OM = N(L_OM)\n",
    "L_FW = N(L_FW)"
   ]
  },
  {
   "cell_type": "markdown",
   "metadata": {},
   "source": [
    "### Second variation"
   ]
  },
  {
   "cell_type": "code",
   "execution_count": 55,
   "metadata": {},
   "outputs": [],
   "source": [
    "def get_L_2nd_derivs(L):\n",
    "    L_x_x = zeros(dim,dim)\n",
    "    L_xd_x = zeros(dim,dim)\n",
    "    L_xd_xd = zeros(dim,dim)\n",
    "\n",
    "    for i in range(dim):\n",
    "        for j in range(dim):\n",
    "            L_x_x[i,j] = L.diff(coords[i]).diff(coords[j])\n",
    "            L_x_x[i,j] = L_x_x[i,j].subs(F, F_expr).simplify()\n",
    "\n",
    "            L_xd_x[i,j] = L.diff(dcoords[i]).diff(coords[j])\n",
    "            L_xd_x[i,j] = L_xd_x[i,j].subs(F, F_expr).simplify()\n",
    "\n",
    "            L_xd_xd[i,j] = L.diff(dcoords[i]).diff(dcoords[j])\n",
    "            L_xd_xd[i,j] = L_xd_xd[i,j].subs(F, F_expr).simplify()\n",
    "            \n",
    "    return L_x_x, L_xd_x, L_xd_xd\n",
    "\n",
    "L_x_x_OM, L_xd_x_OM, L_xd_xd_OM = get_L_2nd_derivs(L_OM)\n",
    "L_x_x_FW, L_xd_x_FW, L_xd_xd_FW = get_L_2nd_derivs(L_FW)"
   ]
  },
  {
   "cell_type": "code",
   "execution_count": 56,
   "metadata": {},
   "outputs": [],
   "source": [
    "def to_pycode(s):\n",
    "    return sympy.printing.pycode(s)"
   ]
  },
  {
   "cell_type": "code",
   "execution_count": 57,
   "metadata": {},
   "outputs": [],
   "source": [
    "py_force_exprs = [U, F_expr, div_F_expr]\n",
    "py_force_exprs = list(map(to_pycode, py_force_exprs))\n",
    "\n",
    "py_exprs = []\n",
    "\n",
    "for i in range(dim):\n",
    "    for j in range(dim):\n",
    "        py_exprs.append(L_x_x_OM[i,j])\n",
    "        py_exprs.append(L_xd_x_OM[i,j])\n",
    "        py_exprs.append(L_xd_xd_OM[i,j])\n",
    "        \n",
    "for i in range(dim):\n",
    "    for j in range(dim):\n",
    "        py_exprs.append(L_x_x_FW[i,j])\n",
    "        py_exprs.append(L_xd_x_FW[i,j])\n",
    "        py_exprs.append(L_xd_xd_FW[i,j])\n",
    "        \n",
    "py_exprs = list(map(to_pycode, py_exprs))"
   ]
  },
  {
   "cell_type": "code",
   "execution_count": 58,
   "metadata": {},
   "outputs": [],
   "source": [
    "L_2nd_derivs_OM_str = \"\"\"\n",
    "def L_2nd_derivs_OM(x, xdot):\n",
    "    L_x_x = np.zeros((%s, %s, len(x)))\n",
    "    L_xd_x = np.zeros((%s, %s, len(x)))\n",
    "    L_xd_xd = np.zeros((%s, %s, len(x)))\n",
    "\"\"\" % (dim, dim, dim, dim, dim, dim)\n",
    "\n",
    "for i in range(dim):\n",
    "    for j in range(dim):\n",
    "        L_2nd_derivs_OM_str += \"    L_x_x[%s,%s] = %s\\n\" % (i,j, to_pycode(L_x_x_OM[i,j]))\n",
    "        L_2nd_derivs_OM_str += \"    L_xd_x[%s,%s] = %s\\n\" % (i,j, to_pycode(L_xd_x_OM[i,j]))\n",
    "        L_2nd_derivs_OM_str += \"    L_xd_xd[%s,%s] = %s\\n\" % (i,j, to_pycode(L_xd_xd_OM[i,j]))\n",
    "\n",
    "L_2nd_derivs_OM_str += \"    return L_x_x, L_xd_x, L_xd_xd\""
   ]
  },
  {
   "cell_type": "code",
   "execution_count": 59,
   "metadata": {},
   "outputs": [],
   "source": [
    "L_2nd_derivs_FW_str = \"\"\"\n",
    "def L_2nd_derivs_FW(x, xdot):\n",
    "    L_x_x = np.zeros((%s, %s, len(x)))\n",
    "    L_xd_x = np.zeros((%s, %s, len(x)))\n",
    "    L_xd_xd = np.zeros((%s, %s, len(x)))\n",
    "\"\"\" % (dim, dim, dim, dim, dim, dim)\n",
    "\n",
    "for i in range(dim):\n",
    "    for j in range(dim):\n",
    "        L_2nd_derivs_FW_str += \"    L_x_x[%s,%s] = %s\\n\" % (i,j, to_pycode(L_x_x_FW[i,j]))\n",
    "        L_2nd_derivs_FW_str += \"    L_xd_x[%s,%s] = %s\\n\" % (i,j, to_pycode(L_xd_x_FW[i,j]))\n",
    "        L_2nd_derivs_FW_str += \"    L_xd_xd[%s,%s] = %s\\n\" % (i,j, to_pycode(L_xd_xd_FW[i,j]))\n",
    "        \n",
    "L_2nd_derivs_FW_str += \"    return L_x_x, L_xd_x, L_xd_xd\""
   ]
  },
  {
   "cell_type": "code",
   "execution_count": 60,
   "metadata": {},
   "outputs": [
    {
     "name": "stdout",
     "output_type": "stream",
     "text": [
      "\n",
      "def Upot(x):\n",
      "    return (x + 1.0)**2*(U0*(x - 1.0)**2 - 0.25*dU*(x - 2.0))\n",
      "def force_func(x):\n",
      "    f = -(x + 1.0)**2*(U0*(2.0*x - 2.0) - 0.25*dU) - (2.0*x + 2.0)*(U0*(x - 1.0)**2 - 0.25*dU*(x - 2.0))\n",
      "    div_f = -2.0*U0*(x - 1.0)**2 - 2.0*U0*(x + 1.0)**2 + 0.5*dU*(x - 2.0) + 2.0*(-2.0*x - 2.0)*(U0*(2.0*x - 2.0) - 0.25*dU)\n",
      "    return f, div_f\n",
      "def force_vec(x):\n",
      "    f, div_f = force_func(x)\n",
      "    return f\n",
      "\n"
     ]
    }
   ],
   "source": [
    "print(\"\"\"\n",
    "def Upot(x):\n",
    "    return %s\n",
    "def force_func(x):\n",
    "    f = %s\n",
    "    div_f = %s\n",
    "    return f, div_f\n",
    "def force_vec(x):\n",
    "    f, div_f = force_func(x)\n",
    "    return f\n",
    "\"\"\" % tuple(py_force_exprs))"
   ]
  },
  {
   "cell_type": "code",
   "execution_count": 33,
   "metadata": {},
   "outputs": [
    {
     "name": "stdout",
     "output_type": "stream",
     "text": [
      "\n",
      "def L_2nd_derivs_OM(x, xdot):\n",
      "    L_x_x = np.zeros((1, 1, len(x)))\n",
      "    L_xd_x = np.zeros((1, 1, len(x)))\n",
      "    L_xd_xd = np.zeros((1, 1, len(x)))\n",
      "    L_x_x[0,0] = (-12.0*U0 - 0.375*beta*(-8*U0*x + (1/2)*dU)*(4*gamma*xdot + (x + 1)**2*(8*U0*(x - 1) - dU) + 2*(x + 1)*(4*U0*(x - 1)**2 - dU*(x - 2))) + 0.5*beta*(-12*U0*x**2 + 4*U0 + (3/2)*dU*x)**2)/gamma\n",
      "    L_xd_x[0,0] = -0.5*beta*(-12*U0*x**2 + 4*U0 + (3/2)*dU*x)\n",
      "    L_xd_xd[0,0] = 0.5*beta*gamma\n",
      "    return L_x_x, L_xd_x, L_xd_xd\n",
      "def L_2nd_derivs_FW(x, xdot):\n",
      "    L_x_x = np.zeros((1, 1, len(x)))\n",
      "    L_xd_x = np.zeros((1, 1, len(x)))\n",
      "    L_xd_xd = np.zeros((1, 1, len(x)))\n",
      "    L_x_x[0,0] = beta*(-0.375*(-8*U0*x + (1/2)*dU)*(4*gamma*xdot + (x + 1)**2*(8*U0*(x - 1) - dU) + 2*(x + 1)*(4*U0*(x - 1)**2 - dU*(x - 2))) + 0.5*(-12*U0*x**2 + 4*U0 + (3/2)*dU*x)**2)/gamma\n",
      "    L_xd_x[0,0] = -0.5*beta*(-12*U0*x**2 + 4*U0 + (3/2)*dU*x)\n",
      "    L_xd_xd[0,0] = 0.5*beta*gamma\n",
      "    return L_x_x, L_xd_x, L_xd_xd\n"
     ]
    }
   ],
   "source": [
    "print(\"%s%s\" % (L_2nd_derivs_OM_str,L_2nd_derivs_FW_str))"
   ]
  },
  {
   "cell_type": "markdown",
   "metadata": {},
   "source": [
    "### Gradient of the action"
   ]
  },
  {
   "cell_type": "code",
   "execution_count": 36,
   "metadata": {},
   "outputs": [],
   "source": [
    "dim = 1"
   ]
  },
  {
   "cell_type": "code",
   "execution_count": 37,
   "metadata": {},
   "outputs": [],
   "source": [
    "g = Symbol('gamma')\n",
    "b = Symbol('beta')\n",
    "\n",
    "x, y = symbols('x y')\n",
    "xdot, ydot = symbols('xdot ydot')\n",
    "\n",
    "coords = [x]\n",
    "dcoords = [xdot]"
   ]
  },
  {
   "cell_type": "code",
   "execution_count": 38,
   "metadata": {},
   "outputs": [],
   "source": [
    "U0 = Symbol('U0')\n",
    "dU = Symbol('dU')\n",
    "\n",
    "x = Symbol('x')\n",
    "xdot = Symbol('xdot')\n",
    "\n",
    "U = ( U0 * (x-1)**2 - dU * (x-2) / 4 ) * (x+1)**2\n",
    "F = -U.diff(x)\n",
    "divF = F.diff(x)"
   ]
  },
  {
   "cell_type": "code",
   "execution_count": 39,
   "metadata": {},
   "outputs": [],
   "source": [
    "L_OM = (b*g/4) * (xdot - F/g)**2 + (1/(2*g)) * divF\n",
    "L_FW = (b*g/4) * (xdot - F/g)**2\n",
    "\n",
    "L_OM = L_OM.simplify()\n",
    "L_FW = L_FW.simplify()"
   ]
  },
  {
   "cell_type": "code",
   "execution_count": 40,
   "metadata": {},
   "outputs": [],
   "source": [
    "U = N(U)\n",
    "F = N(F)\n",
    "L_OM = N(L_OM)\n",
    "L_FW = N(L_FW)"
   ]
  },
  {
   "cell_type": "code",
   "execution_count": 41,
   "metadata": {},
   "outputs": [],
   "source": [
    "def get_L_derivs(L):\n",
    "    L_x = zeros(dim, 1)\n",
    "    L_xd = zeros(dim, 1)\n",
    "\n",
    "    for i in range(dim):\n",
    "        L_x[i] = L.diff(coords[i]).simplify()\n",
    "        \n",
    "        L_xd[i] = L.diff(dcoords[i]).simplify()\n",
    "            \n",
    "    return L_x, L_xd\n",
    "\n",
    "L_x_OM, L_xd_OM = get_L_derivs(L_OM)\n",
    "L_x_FW, L_xd_FW = get_L_derivs(L_FW)"
   ]
  },
  {
   "cell_type": "code",
   "execution_count": 42,
   "metadata": {},
   "outputs": [],
   "source": [
    "def to_pycode(s):\n",
    "    return sympy.printing.pycode(s)"
   ]
  },
  {
   "cell_type": "code",
   "execution_count": 43,
   "metadata": {},
   "outputs": [],
   "source": [
    "#py_force_exprs = [U_expr, F_expr, divF_expr]\n",
    "py_force_exprs = list(map(to_pycode, py_force_exprs))\n",
    "\n",
    "py_exprs = []\n",
    "\n",
    "for i in range(dim):\n",
    "    py_exprs.append(L_x_OM[i])\n",
    "    py_exprs.append(L_xd_OM[i])\n",
    "        \n",
    "for i in range(dim):\n",
    "    py_exprs.append(L_x_FW[i])\n",
    "    py_exprs.append(L_xd_FW[i])\n",
    "        \n",
    "py_exprs = list(map(to_pycode, py_exprs))"
   ]
  },
  {
   "cell_type": "code",
   "execution_count": 44,
   "metadata": {},
   "outputs": [],
   "source": [
    "L_derivs_OM_str = \"\"\"\n",
    "def L_derivs_OM(x, xdot):\n",
    "    L_x = np.zeros((%s, len(x)))\n",
    "    L_xd = np.zeros((%s, len(x)))\n",
    "\"\"\" % (dim, dim)\n",
    "\n",
    "for i in range(dim):\n",
    "    L_derivs_OM_str += \"    L_x[%s] = %s\\n\" % (i, to_pycode(L_x_OM[i]))\n",
    "    L_derivs_OM_str += \"    L_xd[%s] = %s\\n\" % (i, to_pycode(L_xd_OM[i]))\n",
    "\n",
    "L_derivs_OM_str += \"    return L_x, L_xd\""
   ]
  },
  {
   "cell_type": "code",
   "execution_count": 45,
   "metadata": {},
   "outputs": [],
   "source": [
    "L_derivs_FW_str = \"\"\"\n",
    "def L_derivs_FW(x, xdot):\n",
    "    L_x = np.zeros((%s, len(x)))\n",
    "    L_xd = np.zeros((%s, len(x)))\n",
    "\"\"\" % (dim, dim)\n",
    "\n",
    "for i in range(dim):\n",
    "    L_derivs_FW_str += \"    L_x[%s] = %s\\n\" % (i, to_pycode(L_x_FW[i]))\n",
    "    L_derivs_FW_str += \"    L_xd[%s] = %s\\n\" % (i, to_pycode(L_xd_FW[i]))\n",
    "\n",
    "L_derivs_FW_str += \"    return L_x, L_xd\""
   ]
  },
  {
   "cell_type": "code",
   "execution_count": 46,
   "metadata": {},
   "outputs": [
    {
     "name": "stdout",
     "output_type": "stream",
     "text": [
      "\n",
      "def L_derivs_OM(x, xdot):\n",
      "    L_x = np.zeros((1, len(x)))\n",
      "    L_xd = np.zeros((1, len(x)))\n",
      "    L_x[0] = 1.0*(24.0*U0**2*beta*x**5 - 32.0*U0**2*beta*x**3 + 8.0*U0**2*beta*x - 7.5*U0*beta*dU*x**4 + 9.0*U0*beta*dU*x**2 - 1.5*U0*beta*dU + 6.0*U0*beta*gamma*x**2*xdot - 2.0*U0*beta*gamma*xdot - 12.0*U0*x + 0.5625*beta*dU**2*x**3 - 0.5625*beta*dU**2*x - 0.75*beta*dU*gamma*x*xdot + 0.75*dU)/gamma\n",
      "    L_xd[0] = beta*(2.0*U0*x**3 - 2.0*U0*x - 0.375*dU*x**2 + 0.375*dU + 0.5*gamma*xdot)\n",
      "    return L_x, L_xd\n",
      "def L_derivs_FW(x, xdot):\n",
      "    L_x = np.zeros((1, len(x)))\n",
      "    L_xd = np.zeros((1, len(x)))\n",
      "    L_x[0] = 1.0*beta*(24.0*U0**2*x**5 - 32.0*U0**2*x**3 + 8.0*U0**2*x - 7.5*U0*dU*x**4 + 9.0*U0*dU*x**2 - 1.5*U0*dU + 6.0*U0*gamma*x**2*xdot - 2.0*U0*gamma*xdot + 0.5625*dU**2*x**3 - 0.5625*dU**2*x - 0.75*dU*gamma*x*xdot)/gamma\n",
      "    L_xd[0] = beta*(2.0*U0*x**3 - 2.0*U0*x - 0.375*dU*x**2 + 0.375*dU + 0.5*gamma*xdot)\n",
      "    return L_x, L_xd\n"
     ]
    }
   ],
   "source": [
    "print(\"%s%s\" % (L_derivs_OM_str, L_derivs_FW_str))"
   ]
  },
  {
   "cell_type": "code",
   "execution_count": null,
   "metadata": {},
   "outputs": [],
   "source": []
  }
 ],
 "metadata": {
  "kernelspec": {
   "display_name": "Python 3",
   "language": "python",
   "name": "python3"
  },
  "language_info": {
   "codemirror_mode": {
    "name": "ipython",
    "version": 3
   },
   "file_extension": ".py",
   "mimetype": "text/x-python",
   "name": "python",
   "nbconvert_exporter": "python",
   "pygments_lexer": "ipython3",
   "version": "3.8.5"
  }
 },
 "nbformat": 4,
 "nbformat_minor": 4
}
