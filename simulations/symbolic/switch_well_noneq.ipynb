{
 "cells": [
  {
   "cell_type": "code",
   "execution_count": 1,
   "id": "6ddd1ab3-893b-4bbb-92d3-beaeaf64faea",
   "metadata": {},
   "outputs": [],
   "source": [
    "from sympy import Symbol, Function, diff, Matrix, zeros, symbols, N, sqrt, Pow, Mul, Add, log, exp, sin, cos, tan\n",
    "import sympy\n",
    "import numpy as np\n",
    "import matplotlib.pyplot as plt\n",
    "import expr_optimiser"
   ]
  },
  {
   "cell_type": "markdown",
   "id": "214048fa-4e3e-46ff-954a-5887a188b18b",
   "metadata": {},
   "source": [
    "## Define system"
   ]
  },
  {
   "cell_type": "code",
   "execution_count": 2,
   "id": "7707d14a-1105-4875-9c63-979afb8b4825",
   "metadata": {},
   "outputs": [],
   "source": [
    "dim = 2"
   ]
  },
  {
   "cell_type": "code",
   "execution_count": 3,
   "id": "4fc8217b-3d3c-4f16-b763-3597a168845c",
   "metadata": {},
   "outputs": [],
   "source": [
    "t = Symbol('t')\n",
    "T = Symbol('T', nonnegative=True)\n",
    "g = Symbol('gamma')\n",
    "b = Symbol('beta')\n",
    "\n",
    "coords = symbols('x y')\n",
    "dcoords = symbols('xdot ydot')\n",
    "\n",
    "x, y = coords\n",
    "xdot, ydot = dcoords\n",
    "\n",
    "r = Function('r')(x,y)\n",
    "coord_functions = {\n",
    "    r : sqrt(x**2 + y**2)\n",
    "}"
   ]
  },
  {
   "cell_type": "code",
   "execution_count": 4,
   "id": "482c2f7f-9cf2-4f11-a589-6f3d9e9a68b3",
   "metadata": {},
   "outputs": [],
   "source": [
    "coord_func_derivative_rules = {\n",
    "    diff(r,x) : x/r,\n",
    "    diff(r,y) : y/r\n",
    "}"
   ]
  },
  {
   "cell_type": "code",
   "execution_count": 5,
   "id": "16b05b45-164c-4da6-b574-f57477c7f4f6",
   "metadata": {},
   "outputs": [],
   "source": [
    "params = symbols('U0 xip xim eta theta Ux0 dUx')\n",
    "r0 = Symbol('r0')\n",
    "U0, xip, xim, eta, theta, Ux0, dUx = params"
   ]
  },
  {
   "cell_type": "code",
   "execution_count": 6,
   "id": "ac1b4e66-f79f-4352-8704-3f1fbd603b43",
   "metadata": {},
   "outputs": [],
   "source": [
    "#r = sqrt(x**2 + y**2)\n",
    "k = (3*U0 / r0**2) * (2 + xip + xim*y/r)\n",
    "\n",
    "U_switch = (1 / (2*r0**4))*(r - r0)**2 * (k*r**2*r0**2 - 2*U0*(r-r0)*(3*r + r0))\n",
    "U_switch = U_switch.subs(r0, 1)\n",
    "\n",
    "Ux_quartic = ( Ux0 * (x-1)**2 - dUx * (x-2) / 4 ) * (x+1)**2\n",
    "\n",
    "U = U_switch + Ux_quartic"
   ]
  },
  {
   "cell_type": "code",
   "execution_count": 7,
   "id": "7145f92c-cf3c-45b2-b6b4-225303ae6a22",
   "metadata": {},
   "outputs": [],
   "source": [
    "def cdiff(expr, coord):\n",
    "    dexpr = diff(expr, coord)\n",
    "    \n",
    "    for df, df_expr in coord_func_derivative_rules.items():\n",
    "        dexpr = dexpr.subs(df, df_expr)\n",
    "        \n",
    "    return dexpr"
   ]
  },
  {
   "cell_type": "code",
   "execution_count": 8,
   "id": "38a460ca-4bdd-4635-b43d-fa323a1bdd3f",
   "metadata": {},
   "outputs": [],
   "source": [
    "F_eq = zeros(dim, 1)\n",
    "for i in range(dim):\n",
    "    F_eq[i] = -cdiff(U, coords[i])\n",
    "    F_eq[i] = F_eq[i].simplify()\n",
    "    \n",
    "F_neq_r = sympy.exp(-theta*( r - r0 )**2)\n",
    "F_neq_r = F_neq_r.subs(r0, 1)\n",
    "F_neq = zeros(dim, 1)\n",
    "F_neq[0] =  - F_neq_r * eta * y / r\n",
    "F_neq[1] =  F_neq_r * eta * x / r\n",
    "\n",
    "F = F_eq + F_neq"
   ]
  },
  {
   "cell_type": "code",
   "execution_count": 9,
   "id": "ab0a0db7-14ed-41fd-ad83-884998b114c8",
   "metadata": {},
   "outputs": [],
   "source": [
    "div_F = 0\n",
    "for i in range(dim):\n",
    "    div_F += cdiff(F[i], coords[i])\n",
    "div_F = div_F.simplify()\n",
    "    \n",
    "L_OM = (1/(2*g)) * div_F\n",
    "L_FW = 0\n",
    "for i in range(dim):\n",
    "    L_OM += (b*g/4) * (dcoords[i] - F[i]/g)**2\n",
    "    L_FW += (b*g/4) * (dcoords[i] - F[i]/g)**2\n",
    "L_OM = L_OM.simplify()\n",
    "L_FW = L_FW.simplify()"
   ]
  },
  {
   "cell_type": "code",
   "execution_count": 10,
   "id": "92f6ed38-7f8b-4c39-8365-11456536ec06",
   "metadata": {},
   "outputs": [],
   "source": [
    "def compute_gradL(L):\n",
    "    L_x = zeros(dim, 1)\n",
    "    L_xd = zeros(dim, 1)\n",
    "    for i in range(dim):\n",
    "        cdiff(L, coords[i])\n",
    "        L_x[i] = cdiff(L, coords[i]).simplify()\n",
    "        L_xd[i] = cdiff(L, dcoords[i]).simplify()\n",
    "    return L_x, L_xd\n",
    "def compute_hessL(L):\n",
    "    L_x_x = zeros(dim, dim)\n",
    "    L_xd_x = zeros(dim, dim)\n",
    "    L_xd_xd = zeros(dim, dim)\n",
    "    for i in range(dim):\n",
    "        for j in range(dim):\n",
    "            L_x_x[i,j] = cdiff(cdiff(L, coords[i]), coords[j]).simplify()\n",
    "            L_xd_x[i,j] = cdiff(cdiff(L, dcoords[i]), coords[j]).simplify()\n",
    "            L_xd_xd[i,j] = cdiff(cdiff(L, dcoords[i]), dcoords[j]).simplify()\n",
    "    return L_x_x, L_xd_x, L_xd_xd"
   ]
  },
  {
   "cell_type": "code",
   "execution_count": 11,
   "id": "c01e5452-97e1-4756-8369-55dff2864ed9",
   "metadata": {},
   "outputs": [],
   "source": [
    "L_x_OM, L_xd_OM = compute_gradL(L_OM)\n",
    "L_x_FW, L_xd_FW = compute_gradL(L_FW)"
   ]
  },
  {
   "cell_type": "code",
   "execution_count": 12,
   "id": "e6824b6f-eb9b-4faf-ad58-d5e1c37079eb",
   "metadata": {},
   "outputs": [],
   "source": [
    "L_x_x_OM, L_xd_x_OM, L_xd_xd_OM = compute_hessL(L_OM)\n",
    "L_x_x_FW, L_xd_x_FW, L_xd_xd_FW = compute_hessL(L_FW)"
   ]
  },
  {
   "cell_type": "markdown",
   "id": "7ecf1493-1812-457c-a683-e47c591880f1",
   "metadata": {},
   "source": [
    "## Plots and Analysis"
   ]
  },
  {
   "cell_type": "markdown",
   "id": "c0323cd2-9d73-41e7-8188-74d154bc3e77",
   "metadata": {},
   "source": [
    "## Generate code"
   ]
  },
  {
   "cell_type": "markdown",
   "id": "8b248e15-1bf6-4705-9629-93de479dc593",
   "metadata": {},
   "source": [
    "Pre-process the symbolic expressions"
   ]
  },
  {
   "cell_type": "code",
   "execution_count": 13,
   "id": "ffad5622-3f52-4060-8069-4efc3d478249",
   "metadata": {},
   "outputs": [],
   "source": [
    "U = N(U)\n",
    "F = N(F)\n",
    "div_F = N(div_F)\n",
    "L_OM = N(L_OM)\n",
    "L_FW = N(L_FW)\n",
    "\n",
    "L_x_OM = N(L_x_OM)\n",
    "L_xd_OM = N(L_xd_OM)\n",
    "\n",
    "L_x_FW = N(L_x_FW)\n",
    "L_xd_FW = N(L_xd_FW)\n",
    "\n",
    "L_x_x_OM = N(L_x_x_OM)\n",
    "L_xd_x_OM = N(L_xd_x_OM)\n",
    "L_xd_xd_OM = N(L_xd_xd_OM)\n",
    "\n",
    "L_x_x_FW = N(L_x_x_FW)\n",
    "L_xd_x_FW = N(L_xd_x_FW)\n",
    "L_xd_xd_FW = N(L_xd_xd_FW)"
   ]
  },
  {
   "cell_type": "code",
   "execution_count": 14,
   "id": "f5213934",
   "metadata": {},
   "outputs": [],
   "source": [
    "substitution_rules = {\n",
    "    sqrt(x**2 + y**2) : r,\n",
    "    x**2 + y**2 : r**2\n",
    "}\n",
    "\n",
    "def apply_substs(expr):\n",
    "    for a, b in substitution_rules.items():\n",
    "        expr = expr.subs(a,b)\n",
    "    return expr\n",
    "\n",
    "U = apply_substs(U)\n",
    "F = apply_substs(F)\n",
    "div_F = apply_substs(div_F)\n",
    "L_OM = apply_substs(L_OM)\n",
    "L_FW = apply_substs(L_FW)\n",
    "\n",
    "L_x_OM = apply_substs(L_x_OM)\n",
    "L_xd_OM = apply_substs(L_xd_OM)\n",
    "\n",
    "L_x_FW = apply_substs(L_x_FW)\n",
    "L_xd_FW = apply_substs(L_xd_FW)\n",
    "\n",
    "L_x_x_OM = apply_substs(L_x_x_OM)\n",
    "L_xd_x_OM = apply_substs(L_xd_x_OM)\n",
    "L_xd_xd_OM = apply_substs(L_xd_xd_OM)\n",
    "\n",
    "L_x_x_FW = apply_substs(L_x_x_FW)\n",
    "L_xd_x_FW = apply_substs(L_xd_x_FW)\n",
    "L_xd_xd_FW = apply_substs(L_xd_xd_FW)"
   ]
  },
  {
   "cell_type": "code",
   "execution_count": 15,
   "id": "d11890e0-a3cb-457f-977c-01bf345428c7",
   "metadata": {},
   "outputs": [],
   "source": [
    "for i in range(len(coords)):\n",
    "    coords[i].name = 'x[%s,i]' % i\n",
    "\n",
    "for i in range(len(dcoords)):\n",
    "    dcoords[i].name = 'xd[%s,i]' % i"
   ]
  },
  {
   "cell_type": "code",
   "execution_count": 16,
   "id": "92547fd6-effd-4b0d-8805-598d906ba7fc",
   "metadata": {},
   "outputs": [],
   "source": [
    "# Add the coord functions to the coords\n",
    "coords_and_coord_functions = list(coords) + list(coord_functions.keys())"
   ]
  },
  {
   "cell_type": "code",
   "execution_count": 17,
   "id": "1f22faba-7ce6-499f-95d4-566665965c74",
   "metadata": {},
   "outputs": [],
   "source": [
    "str_substitutions = {\n",
    "}"
   ]
  },
  {
   "cell_type": "code",
   "execution_count": 18,
   "id": "92fb7fba-f6ff-4892-be6d-291e9e2f13cf",
   "metadata": {},
   "outputs": [],
   "source": [
    "expr_optimiser.set_coords(coords_and_coord_functions, dcoords)"
   ]
  },
  {
   "cell_type": "code",
   "execution_count": 19,
   "id": "6948b6a2-6fe8-49ac-9bb7-65fc5fc22fd0",
   "metadata": {},
   "outputs": [],
   "source": [
    "def to_ccode(sym):\n",
    "    # Replace coordinate functions with symbols\n",
    "    for cf in coord_functions:\n",
    "        sym = sym.subs(cf, Symbol(cf.name))\n",
    "    \n",
    "    code = sympy.printing.ccode(sym)\n",
    "    \n",
    "    for k in str_substitutions:\n",
    "        code = code.replace(k, str_substitutions[k])\n",
    "        \n",
    "    return code"
   ]
  },
  {
   "cell_type": "code",
   "execution_count": 20,
   "id": "30ba1b75-698f-4e3a-a805-784b58757362",
   "metadata": {},
   "outputs": [],
   "source": [
    "def function_formatter(function_name, lines):\n",
    "    code_lines =  [function_name]\n",
    "    tab = '    '\n",
    "    \n",
    "    for tabs, code_line in lines:\n",
    "        code_lines.append( tabs*tab + code_line )\n",
    "        \n",
    "    return '\\n'.join(code_lines).strip()"
   ]
  },
  {
   "cell_type": "code",
   "execution_count": 21,
   "id": "5d8dc720-6ea6-4403-b1a6-52ad850b6c30",
   "metadata": {},
   "outputs": [],
   "source": [
    "coord_func_ccode_declarations = []\n",
    "for cf, cf_expr in coord_functions.items():\n",
    "    decl = '%s = %s' % (cf.name, to_ccode(cf_expr))\n",
    "    coord_func_ccode_declarations.append(decl)"
   ]
  },
  {
   "cell_type": "code",
   "execution_count": 22,
   "id": "f911cfe0-d9ab-4247-9430-44d68528d276",
   "metadata": {},
   "outputs": [],
   "source": [
    "def get_params_cdef(exprs, params, include_beta_gamma=True):\n",
    "    cdef_params = []\n",
    "    cdef_params.append((1, 'cdef:'))\n",
    "    cdef_params.append((2, 'int i'))\n",
    "    cdef_params.append((2, 'int dim = x.shape[0]'))\n",
    "    cdef_params.append((2, 'int Nt = x.shape[1]'))\n",
    "    \n",
    "    if include_beta_gamma:\n",
    "        cdef_params.append((2, 'DTYPE_t beta = self.beta'))\n",
    "        cdef_params.append((2, 'DTYPE_t gamma = self.gamma'))\n",
    "    for p in params:\n",
    "        cdef_params.append( (2, 'DTYPE_t %s = self.%s' % (p, p)) )\n",
    "    for cf, cf_expr in coord_functions.items():\n",
    "        cdef_params.append( (2, 'DTYPE_t %s' % cf.name) )\n",
    "    for var in expr_optimiser.get_used_vars(exprs):\n",
    "        const_expr = expr_optimiser.const_lookup[var][1]\n",
    "        cdef_params.append( (2, 'DTYPE_t %s = %s' % (var, expr_optimiser.dereference_expr(const_expr) ) ) )\n",
    "        \n",
    "    return cdef_params"
   ]
  },
  {
   "cell_type": "code",
   "execution_count": 23,
   "id": "06a5cdd4-0ec6-4b35-90bf-fab0f5c66583",
   "metadata": {},
   "outputs": [
    {
     "ename": "Exception",
     "evalue": "Sym formatter failed to dereference properly.",
     "output_type": "error",
     "traceback": [
      "\u001b[0;31m---------------------------------------------------------------------------\u001b[0m",
      "\u001b[0;31mException\u001b[0m                                 Traceback (most recent call last)",
      "\u001b[0;32m/tmp/ipykernel_1558129/4294733617.py\u001b[0m in \u001b[0;36m<module>\u001b[0;34m\u001b[0m\n\u001b[1;32m      2\u001b[0m \u001b[0mF\u001b[0m \u001b[0;34m=\u001b[0m \u001b[0mexpr_optimiser\u001b[0m\u001b[0;34m.\u001b[0m\u001b[0msym_formatter\u001b[0m\u001b[0;34m(\u001b[0m\u001b[0mF\u001b[0m\u001b[0;34m)\u001b[0m\u001b[0;34m\u001b[0m\u001b[0;34m\u001b[0m\u001b[0m\n\u001b[1;32m      3\u001b[0m \u001b[0mdiv_F\u001b[0m \u001b[0;34m=\u001b[0m \u001b[0mexpr_optimiser\u001b[0m\u001b[0;34m.\u001b[0m\u001b[0msym_formatter\u001b[0m\u001b[0;34m(\u001b[0m\u001b[0mdiv_F\u001b[0m\u001b[0;34m)\u001b[0m\u001b[0;34m\u001b[0m\u001b[0;34m\u001b[0m\u001b[0m\n\u001b[0;32m----> 4\u001b[0;31m \u001b[0mL_OM\u001b[0m \u001b[0;34m=\u001b[0m \u001b[0mexpr_optimiser\u001b[0m\u001b[0;34m.\u001b[0m\u001b[0msym_formatter\u001b[0m\u001b[0;34m(\u001b[0m\u001b[0mL_OM\u001b[0m\u001b[0;34m)\u001b[0m\u001b[0;34m\u001b[0m\u001b[0;34m\u001b[0m\u001b[0m\n\u001b[0m\u001b[1;32m      5\u001b[0m \u001b[0mL_FW\u001b[0m \u001b[0;34m=\u001b[0m \u001b[0mexpr_optimiser\u001b[0m\u001b[0;34m.\u001b[0m\u001b[0msym_formatter\u001b[0m\u001b[0;34m(\u001b[0m\u001b[0mL_FW\u001b[0m\u001b[0;34m)\u001b[0m\u001b[0;34m\u001b[0m\u001b[0;34m\u001b[0m\u001b[0m\n\u001b[1;32m      6\u001b[0m \u001b[0;34m\u001b[0m\u001b[0m\n",
      "\u001b[0;32m/store/SOFT/ltk26/dev/path-integral-mcmc/pCN2/simulations/symbolic/expr_optimiser.py\u001b[0m in \u001b[0;36msym_formatter\u001b[0;34m(expr, disable_dereference_check, max_iterations)\u001b[0m\n\u001b[1;32m     41\u001b[0m         \u001b[0;32melse\u001b[0m\u001b[0;34m:\u001b[0m\u001b[0;34m\u001b[0m\u001b[0;34m\u001b[0m\u001b[0m\n\u001b[1;32m     42\u001b[0m             \u001b[0;32mif\u001b[0m \u001b[0;34m(\u001b[0m\u001b[0mdereference_expr\u001b[0m\u001b[0;34m(\u001b[0m\u001b[0mexpr\u001b[0m\u001b[0;34m)\u001b[0m \u001b[0;34m-\u001b[0m \u001b[0morig_expr\u001b[0m\u001b[0;34m)\u001b[0m\u001b[0;34m.\u001b[0m\u001b[0msimplify\u001b[0m\u001b[0;34m(\u001b[0m\u001b[0;34m)\u001b[0m \u001b[0;34m!=\u001b[0m \u001b[0;36m0\u001b[0m\u001b[0;34m:\u001b[0m\u001b[0;34m\u001b[0m\u001b[0;34m\u001b[0m\u001b[0m\n\u001b[0;32m---> 43\u001b[0;31m                 \u001b[0;32mraise\u001b[0m \u001b[0mException\u001b[0m\u001b[0;34m(\u001b[0m\u001b[0;34m'Sym formatter failed to dereference properly.'\u001b[0m\u001b[0;34m)\u001b[0m\u001b[0;34m\u001b[0m\u001b[0;34m\u001b[0m\u001b[0m\n\u001b[0m\u001b[1;32m     44\u001b[0m \u001b[0;34m\u001b[0m\u001b[0m\n\u001b[1;32m     45\u001b[0m     \u001b[0;32mreturn\u001b[0m \u001b[0mexpr\u001b[0m\u001b[0;34m\u001b[0m\u001b[0;34m\u001b[0m\u001b[0m\n",
      "\u001b[0;31mException\u001b[0m: Sym formatter failed to dereference properly."
     ]
    }
   ],
   "source": [
    "U = expr_optimiser.sym_formatter(U)\n",
    "F = expr_optimiser.sym_formatter(F)\n",
    "div_F = expr_optimiser.sym_formatter(div_F)\n",
    "L_OM = expr_optimiser.sym_formatter(L_OM)\n",
    "L_FW = expr_optimiser.sym_formatter(L_FW)\n",
    "\n",
    "print(1)\n",
    "L_x_OM = expr_optimiser.sym_formatter(L_x_OM)\n",
    "L_xd_OM = expr_optimiser.sym_formatter(L_xd_OM)\n",
    "\n",
    "print(2)\n",
    "L_x_FW = expr_optimiser.sym_formatter(L_x_FW)\n",
    "L_xd_FW = expr_optimiser.sym_formatter(L_xd_FW)\n",
    "\n",
    "print(3)\n",
    "L_x_x_OM = expr_optimiser.sym_formatter(L_x_x_OM)\n",
    "L_xd_x_OM = expr_optimiser.sym_formatter(L_xd_x_OM)\n",
    "L_xd_xd_OM = expr_optimiser.sym_formatter(L_xd_xd_OM)\n",
    "\n",
    "print(4)\n",
    "L_x_x_FW = expr_optimiser.sym_formatter(L_x_x_FW)\n",
    "L_xd_x_FW = expr_optimiser.sym_formatter(L_xd_x_FW)\n",
    "L_xd_xd_FW = expr_optimiser.sym_formatter(L_xd_xd_FW)"
   ]
  },
  {
   "cell_type": "markdown",
   "id": "de71bfdc-54f6-4bc3-a006-3ae25eae4515",
   "metadata": {},
   "source": [
    "### Potential"
   ]
  },
  {
   "cell_type": "code",
   "execution_count": null,
   "id": "878f1711-9362-416f-83ca-f29a67ce1208",
   "metadata": {},
   "outputs": [],
   "source": [
    "code_potential = [] + coord_func_ccode_declarations\n",
    "code_potential.append('potential[i] = %s' % to_ccode(U))\n",
    "cdef_potential = get_params_cdef(U, params, include_beta_gamma=False)"
   ]
  },
  {
   "cell_type": "markdown",
   "id": "04f45c7e-1961-4d90-8912-a2d52f615f6b",
   "metadata": {},
   "source": [
    "### Force and div Force"
   ]
  },
  {
   "cell_type": "code",
   "execution_count": null,
   "id": "e17542ac-abcf-4895-9f29-20c27d6920ac",
   "metadata": {},
   "outputs": [],
   "source": [
    "code_force = []\n",
    "code_div_force = None\n",
    "\n",
    "code_force += coord_func_ccode_declarations\n",
    "\n",
    "for j in range(dim):\n",
    "    code_line = 'force[%s,i] = %s' % (j, to_ccode(F[j]))\n",
    "    code_force.append(code_line)\n",
    "\n",
    "code_div_force = 'div_force[i] = %s' % to_ccode(div_F)"
   ]
  },
  {
   "cell_type": "code",
   "execution_count": null,
   "id": "48444b37-7646-4548-bd43-19acc0323516",
   "metadata": {},
   "outputs": [],
   "source": [
    "cdef_force = get_params_cdef(F, params, include_beta_gamma=False)\n",
    "cdef_force_and_div_force = get_params_cdef([F, div_F], params, include_beta_gamma=False)"
   ]
  },
  {
   "cell_type": "markdown",
   "id": "897e438a-a232-4fa7-8b98-e45554bdaf90",
   "metadata": {},
   "source": [
    "### Gradient of Lagrangian"
   ]
  },
  {
   "cell_type": "code",
   "execution_count": null,
   "id": "312ac1b1-ddf7-4848-af32-f3f8e061eaef",
   "metadata": {},
   "outputs": [],
   "source": [
    "def get_gradL_code(L_x, L_xd):\n",
    "    code_L_x = [] + coord_func_ccode_declarations\n",
    "    code_L_xd = [] \n",
    "\n",
    "    for j in range(dim):\n",
    "        code_line = 'L_x[%s,i] = %s' % (j, to_ccode(L_x[j]))\n",
    "        code_L_x.append(code_line)\n",
    "        \n",
    "        code_line = 'L_xd[%s,i] = %s' % (j, to_ccode(L_xd[j]))\n",
    "        code_L_xd.append(code_line)\n",
    "            \n",
    "    return code_L_x, code_L_xd\n",
    "            \n",
    "code_L_x_OM, code_L_xd_OM = get_gradL_code(L_x_OM, L_xd_OM)\n",
    "code_L_x_FW, code_L_xd_FW = get_gradL_code(L_x_FW, L_xd_FW)"
   ]
  },
  {
   "cell_type": "code",
   "execution_count": null,
   "id": "7ea9b997-70f6-43c2-b0eb-beb20259e371",
   "metadata": {},
   "outputs": [],
   "source": [
    "cdef_gradL_OM = get_params_cdef([L_x_OM, L_xd_OM], params, include_beta_gamma=True)\n",
    "cdef_gradL_FW = get_params_cdef([L_x_FW, L_xd_FW], params, include_beta_gamma=True)"
   ]
  },
  {
   "cell_type": "markdown",
   "id": "acdd4554-d78c-4441-ba5a-eee2c065e6ae",
   "metadata": {},
   "source": [
    "### Hessian of Lagrangian"
   ]
  },
  {
   "cell_type": "code",
   "execution_count": null,
   "id": "d95a548e-1a5b-4064-9ea9-6eb64dd9520e",
   "metadata": {},
   "outputs": [],
   "source": [
    "def get_hessL_code(L_x_x, L_xd_x, L_xd_xd):\n",
    "    code_L_x_x = [] + coord_func_ccode_declarations\n",
    "    code_L_xd_x = [] \n",
    "    code_L_xd_xd = []\n",
    "\n",
    "    for j in range(dim):\n",
    "        for k in range(dim):\n",
    "            code_line = 'L_x_x[%s,%s,i] = %s' % (j, k, to_ccode(L_x_x[j,k]))\n",
    "            code_L_x_x.append(code_line)\n",
    "            \n",
    "            code_line = 'L_xd_x[%s,%s,i] = %s' % (j, k, to_ccode(L_xd_x[j,k]))\n",
    "            code_L_xd_x.append(code_line)\n",
    "            \n",
    "            code_line = 'L_xd_xd[%s,%s,i] = %s' % (j, k, to_ccode(L_xd_xd[j,k]))\n",
    "            code_L_xd_xd.append(code_line)\n",
    "            \n",
    "    return code_L_x_x, code_L_xd_x, code_L_xd_xd\n",
    "            \n",
    "code_L_x_x_OM, code_L_xd_x_OM, code_L_xd_xd_OM = get_hessL_code(L_x_x_OM, L_xd_x_OM, L_xd_xd_OM)\n",
    "code_L_x_x_FW, code_L_xd_x_FW, code_L_xd_xd_FW = get_hessL_code(L_x_x_FW, L_xd_x_FW, L_xd_xd_FW)"
   ]
  },
  {
   "cell_type": "code",
   "execution_count": null,
   "id": "a0756851-e540-4c8b-9a8c-9eb041a2ac9b",
   "metadata": {},
   "outputs": [],
   "source": [
    "cdef_hessL_OM = get_params_cdef([L_x_x_OM, L_xd_x_OM, L_xd_xd_OM], params, include_beta_gamma=True)\n",
    "cdef_hessL_FW = get_params_cdef([L_x_x_FW, L_xd_x_FW, L_xd_xd_FW], params, include_beta_gamma=True)"
   ]
  },
  {
   "cell_type": "markdown",
   "id": "3596aeb6-5e1e-45bd-b2aa-9db61bbdbeb6",
   "metadata": {},
   "source": [
    "### Cython functions"
   ]
  },
  {
   "cell_type": "code",
   "execution_count": null,
   "id": "514cc80c-a083-4975-9d75-2c4ef1684f3f",
   "metadata": {},
   "outputs": [],
   "source": [
    "function_name = 'cdef DTYPE_t _compute_potential(self, DTYPE_t[:] ts, DTYPE_t[:,:] x, DTYPE_t[:] potential):'\n",
    "\n",
    "lines = []\n",
    "lines += cdef_potential\n",
    "lines += [(1, '')]\n",
    "lines += [(1, 'for i in range(Nt):')]\n",
    "lines += [(2, l) for l in code_potential]\n",
    "\n",
    "_compute_potential = function_formatter(function_name, lines)"
   ]
  },
  {
   "cell_type": "code",
   "execution_count": null,
   "id": "77753465-4077-4007-b139-3d14226a2ec1",
   "metadata": {},
   "outputs": [],
   "source": [
    "function_name = 'cdef DTYPE_t _compute_force(self, DTYPE_t[:] ts, DTYPE_t[:,:] x, DTYPE_t[:,:] force):'\n",
    "\n",
    "lines = []\n",
    "lines += cdef_force\n",
    "lines += [(1, '')]\n",
    "lines += [(1, 'for i in range(Nt):')]\n",
    "lines += [(2, l) for l in code_force]\n",
    "\n",
    "_compute_force = function_formatter(function_name, lines)"
   ]
  },
  {
   "cell_type": "code",
   "execution_count": null,
   "id": "40f2eed9-7127-49cf-a6a5-98f0e01d76bb",
   "metadata": {},
   "outputs": [],
   "source": [
    "function_name = 'cdef DTYPE_t _compute_force_and_div_force(self, DTYPE_t[:] ts, DTYPE_t[:,:] x, DTYPE_t[:,:] force, DTYPE_t[:] div_force):'\n",
    "\n",
    "lines = []\n",
    "lines += cdef_force_and_div_force\n",
    "lines += [(1, '')]\n",
    "lines += [(1, 'for i in range(Nt):')]\n",
    "lines += [(2, l) for l in code_force]\n",
    "lines += [(2, code_div_force)]\n",
    "\n",
    "_compute_force_and_div_force = function_formatter(function_name, lines)"
   ]
  },
  {
   "cell_type": "code",
   "execution_count": null,
   "id": "839db74e-e391-4184-acfe-dfc7c1daf4bb",
   "metadata": {},
   "outputs": [],
   "source": [
    "def get_gradL_function(code_L_x, code_L_xd, cdef_params, func_postfix):\n",
    "    function_name = 'cdef DTYPE_t _compute_gradL_%s(self, DTYPE_t[:] ts, DTYPE_t[:,:] x, DTYPE_t[:,:] xd, DTYPE_t[:,:] L_x, DTYPE_t[:,:] L_xd):' % func_postfix\n",
    "\n",
    "    lines = []\n",
    "    lines += cdef_params\n",
    "    lines += [(1, '')]\n",
    "    lines += [(1, 'for i in range(Nt):')]\n",
    "    lines += [(2, l) for l in code_L_x]\n",
    "    lines += [(2, l) for l in code_L_xd]\n",
    "    \n",
    "    return function_formatter(function_name, lines)\n",
    "\n",
    "_compute_gradL_OM = get_gradL_function(code_L_x_OM, code_L_xd_OM, cdef_gradL_OM, 'OM')\n",
    "_compute_gradL_FW = get_gradL_function(code_L_x_FW, code_L_xd_FW, cdef_gradL_FW, 'FW')"
   ]
  },
  {
   "cell_type": "code",
   "execution_count": null,
   "id": "c6e9cffb-2a17-42d0-96f8-79ffbfdc5d6c",
   "metadata": {},
   "outputs": [],
   "source": [
    "def get_hessL_function(code_L_x_x, code_L_xd_x, code_L_xd_xd, cdef_params, func_postfix):\n",
    "    function_name = 'cdef DTYPE_t _compute_hessL_%s(self, DTYPE_t[:] ts, DTYPE_t[:,:] x, DTYPE_t[:,:] xd, DTYPE_t[:,:,:] L_x_x, DTYPE_t[:,:,:] L_xd_x, DTYPE_t[:,:,:] L_xd_xd):' % func_postfix\n",
    "\n",
    "    lines = []\n",
    "    lines += cdef_params\n",
    "    lines += [(1, '')]\n",
    "    lines += [(1, 'for i in range(Nt):')]\n",
    "    lines += [(2, l) for l in code_L_x_x]\n",
    "    lines += [(2, l) for l in code_L_xd_x]\n",
    "    lines += [(2, l) for l in code_L_xd_xd]\n",
    "    \n",
    "    return function_formatter(function_name, lines)\n",
    "\n",
    "_compute_hessL_OM = get_hessL_function(code_L_x_x_OM, code_L_xd_x_OM, code_L_xd_xd_OM, cdef_hessL_OM, 'OM')\n",
    "_compute_hessL_FW = get_hessL_function(code_L_x_x_FW, code_L_xd_x_FW, code_L_xd_xd_FW, cdef_hessL_FW, 'FW')"
   ]
  },
  {
   "cell_type": "code",
   "execution_count": null,
   "id": "f6d79d7e-40ef-4a65-a9a6-23b1327da815",
   "metadata": {
    "tags": []
   },
   "outputs": [],
   "source": [
    "print('\\n\\n'.join([\n",
    "    _compute_potential,\n",
    "    _compute_force,\n",
    "    _compute_force_and_div_force,\n",
    "    _compute_gradL_OM,\n",
    "    _compute_gradL_FW,\n",
    "    _compute_hessL_OM,\n",
    "    _compute_hessL_FW\n",
    "]))"
   ]
  }
 ],
 "metadata": {
  "kernelspec": {
   "display_name": "Python 3 (ipykernel)",
   "language": "python",
   "name": "python3"
  },
  "language_info": {
   "codemirror_mode": {
    "name": "ipython",
    "version": 3
   },
   "file_extension": ".py",
   "mimetype": "text/x-python",
   "name": "python",
   "nbconvert_exporter": "python",
   "pygments_lexer": "ipython3",
   "version": "3.9.6"
  }
 },
 "nbformat": 4,
 "nbformat_minor": 5
}
