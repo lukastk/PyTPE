{
 "cells": [
  {
   "cell_type": "code",
   "execution_count": 1,
   "id": "6ddd1ab3-893b-4bbb-92d3-beaeaf64faea",
   "metadata": {},
   "outputs": [],
   "source": [
    "from sympy import Symbol, Function, Matrix, zeros, symbols, N, sqrt, Pow, Mul, Add, log, exp, sin, cos, tan\n",
    "import sympy\n",
    "import numpy as np\n",
    "import matplotlib.pyplot as plt\n",
    "import expr_optimiser"
   ]
  },
  {
   "cell_type": "markdown",
   "id": "214048fa-4e3e-46ff-954a-5887a188b18b",
   "metadata": {},
   "source": [
    "## Define system"
   ]
  },
  {
   "cell_type": "code",
   "execution_count": 2,
   "id": "7707d14a-1105-4875-9c63-979afb8b4825",
   "metadata": {},
   "outputs": [],
   "source": [
    "dim = 1"
   ]
  },
  {
   "cell_type": "code",
   "execution_count": 3,
   "id": "4fc8217b-3d3c-4f16-b763-3597a168845c",
   "metadata": {},
   "outputs": [],
   "source": [
    "t = Symbol('t')\n",
    "T = Symbol('T', nonnegative=True)\n",
    "g = Symbol('gamma')\n",
    "b = Symbol('beta')\n",
    "\n",
    "x = Symbol('x')\n",
    "xdot = Symbol('xdot')\n",
    "\n",
    "coords = [x]\n",
    "dcoords = [xdot]"
   ]
  },
  {
   "cell_type": "code",
   "execution_count": 4,
   "id": "16b05b45-164c-4da6-b574-f57477c7f4f6",
   "metadata": {},
   "outputs": [],
   "source": [
    "params = symbols('U0 dU')\n",
    "U0, dU = params"
   ]
  },
  {
   "cell_type": "code",
   "execution_count": 5,
   "id": "ac1b4e66-f79f-4352-8704-3f1fbd603b43",
   "metadata": {},
   "outputs": [],
   "source": [
    "U = ( U0 * (x-1)**2 - dU * (x-2) / 4 ) * (x+1)**2\n",
    "U = U.simplify()"
   ]
  },
  {
   "cell_type": "code",
   "execution_count": 6,
   "id": "ab0a0db7-14ed-41fd-ad83-884998b114c8",
   "metadata": {},
   "outputs": [],
   "source": [
    "F = zeros(dim, 1)\n",
    "for i in range(dim):\n",
    "    F[i] = -U.diff(coords[i])\n",
    "    F[i] = F[i].simplify()\n",
    "    \n",
    "div_F = 0\n",
    "for i in range(dim):\n",
    "    div_F += F[i].diff(coords[i])\n",
    "div_F = div_F.simplify()\n",
    "    \n",
    "L_OM = (1/(2*g)) * div_F\n",
    "L_FW = 0\n",
    "for i in range(dim):\n",
    "    L_OM += (b*g/4) * (dcoords[i] - F[i]/g)**2\n",
    "    L_FW += (b*g/4) * (dcoords[i] - F[i]/g)**2\n",
    "L_OM = L_OM.simplify()\n",
    "L_FW = L_FW.simplify()"
   ]
  },
  {
   "cell_type": "code",
   "execution_count": 7,
   "id": "92f6ed38-7f8b-4c39-8365-11456536ec06",
   "metadata": {},
   "outputs": [],
   "source": [
    "def compute_gradL(L):\n",
    "    L_x = zeros(dim, 1)\n",
    "    L_xd = zeros(dim, 1)\n",
    "    for i in range(dim):\n",
    "        L_x[i] = L.diff(coords[i]).simplify()\n",
    "        L_xd[i] = L.diff(dcoords[i]).simplify()\n",
    "    return L_x, L_xd\n",
    "def compute_hessL(L):\n",
    "    L_x_x = zeros(dim, dim)\n",
    "    L_xd_x = zeros(dim, dim)\n",
    "    L_xd_xd = zeros(dim, dim)\n",
    "    for i in range(dim):\n",
    "        for j in range(dim):\n",
    "            L_x_x[i,j] = L.diff(coords[i]).diff(coords[j]).simplify()\n",
    "            L_xd_x[i,j] = L.diff(dcoords[i]).diff(coords[j]).simplify()\n",
    "            L_xd_xd[i,j] = L.diff(dcoords[i]).diff(dcoords[j]).simplify()\n",
    "    return L_x_x, L_xd_x, L_xd_xd"
   ]
  },
  {
   "cell_type": "code",
   "execution_count": 8,
   "id": "c01e5452-97e1-4756-8369-55dff2864ed9",
   "metadata": {},
   "outputs": [],
   "source": [
    "L_x_OM, L_xd_OM = compute_gradL(L_OM)\n",
    "L_x_FW, L_xd_FW = compute_gradL(L_FW)"
   ]
  },
  {
   "cell_type": "code",
   "execution_count": 9,
   "id": "e6824b6f-eb9b-4faf-ad58-d5e1c37079eb",
   "metadata": {},
   "outputs": [],
   "source": [
    "L_x_x_OM, L_xd_x_OM, L_xd_xd_OM = compute_hessL(L_OM)\n",
    "L_x_x_FW, L_xd_x_FW, L_xd_xd_FW = compute_hessL(L_FW)"
   ]
  },
  {
   "cell_type": "markdown",
   "id": "7ecf1493-1812-457c-a683-e47c591880f1",
   "metadata": {},
   "source": [
    "## Plots and Analysis"
   ]
  },
  {
   "cell_type": "markdown",
   "id": "c0323cd2-9d73-41e7-8188-74d154bc3e77",
   "metadata": {},
   "source": [
    "## Generate code"
   ]
  },
  {
   "cell_type": "markdown",
   "id": "8b248e15-1bf6-4705-9629-93de479dc593",
   "metadata": {},
   "source": [
    "Pre-process the symbolic expressions"
   ]
  },
  {
   "cell_type": "code",
   "execution_count": 10,
   "id": "ffad5622-3f52-4060-8069-4efc3d478249",
   "metadata": {},
   "outputs": [],
   "source": [
    "U = N(U)\n",
    "F = N(F)\n",
    "div_F = N(div_F)\n",
    "L_OM = N(L_OM)\n",
    "L_FW = N(L_FW)\n",
    "\n",
    "L_x_OM = N(L_x_OM)\n",
    "L_xd_OM = N(L_xd_OM)\n",
    "\n",
    "L_x_FW = N(L_x_FW)\n",
    "L_xd_FW = N(L_xd_FW)\n",
    "\n",
    "L_x_x_OM = N(L_x_x_OM)\n",
    "L_xd_x_OM = N(L_xd_x_OM)\n",
    "L_xd_xd_OM = N(L_xd_xd_OM)\n",
    "\n",
    "L_x_x_FW = N(L_x_x_FW)\n",
    "L_xd_x_FW = N(L_xd_x_FW)\n",
    "L_xd_xd_FW = N(L_xd_xd_FW)"
   ]
  },
  {
   "cell_type": "code",
   "execution_count": 11,
   "id": "d11890e0-a3cb-457f-977c-01bf345428c7",
   "metadata": {},
   "outputs": [],
   "source": [
    "for i in range(len(coords)):\n",
    "    coords[i].name = 'x[%s,i]' % i\n",
    "\n",
    "for i in range(len(dcoords)):\n",
    "    dcoords[i].name = 'xd[%s,i]' % i"
   ]
  },
  {
   "cell_type": "code",
   "execution_count": 12,
   "id": "1f22faba-7ce6-499f-95d4-566665965c74",
   "metadata": {},
   "outputs": [],
   "source": [
    "str_substitutions = {\n",
    "}"
   ]
  },
  {
   "cell_type": "code",
   "execution_count": 13,
   "id": "92fb7fba-f6ff-4892-be6d-291e9e2f13cf",
   "metadata": {},
   "outputs": [],
   "source": [
    "expr_optimiser.set_coords(coords, dcoords)"
   ]
  },
  {
   "cell_type": "code",
   "execution_count": 14,
   "id": "6948b6a2-6fe8-49ac-9bb7-65fc5fc22fd0",
   "metadata": {},
   "outputs": [],
   "source": [
    "def to_ccode(sym):\n",
    "    code = sympy.printing.ccode(sym)\n",
    "    \n",
    "    for k in str_substitutions:\n",
    "        code = code.replace(k, str_substitutions[k])\n",
    "        \n",
    "    return code"
   ]
  },
  {
   "cell_type": "code",
   "execution_count": 15,
   "id": "30ba1b75-698f-4e3a-a805-784b58757362",
   "metadata": {},
   "outputs": [],
   "source": [
    "def function_formatter(function_name, lines):\n",
    "    code_lines =  [function_name]\n",
    "    tab = '    '\n",
    "    \n",
    "    for tabs, code_line in lines:\n",
    "        code_lines.append( tabs*tab + code_line )\n",
    "        \n",
    "    return '\\n'.join(code_lines).strip()"
   ]
  },
  {
   "cell_type": "code",
   "execution_count": 16,
   "id": "f911cfe0-d9ab-4247-9430-44d68528d276",
   "metadata": {},
   "outputs": [],
   "source": [
    "def get_params_cdef(exprs, params, include_beta_gamma=True):\n",
    "    cdef_params = []\n",
    "    cdef_params.append((1, 'cdef:'))\n",
    "    cdef_params.append((2, 'int i'))\n",
    "    cdef_params.append((2, 'int dim = x.shape[0]'))\n",
    "    cdef_params.append((2, 'int Nt = x.shape[1]'))\n",
    "    if include_beta_gamma:\n",
    "        cdef_params.append((2, 'DTYPE_t beta = self.beta'))\n",
    "        cdef_params.append((2, 'DTYPE_t gamma = self.gamma'))\n",
    "    for p in params:\n",
    "        cdef_params.append( (2, 'DTYPE_t %s = self.%s' % (p, p)) )\n",
    "    for var in expr_optimiser.get_used_vars(exprs):\n",
    "        const_expr = expr_optimiser.const_lookup[var][1]\n",
    "        cdef_params.append( (2, 'DTYPE_t %s = %s' % (var, expr_optimiser.dereference_expr(const_expr) ) ) )\n",
    "        \n",
    "    return cdef_params"
   ]
  },
  {
   "cell_type": "markdown",
   "id": "477239a1-7cbf-4a1c-80a0-9a72254da7ba",
   "metadata": {},
   "source": [
    "### Optimise expressions"
   ]
  },
  {
   "cell_type": "code",
   "execution_count": 17,
   "id": "39b2893e-c70d-4ef0-b29d-7fa8381a510c",
   "metadata": {},
   "outputs": [],
   "source": [
    "U = expr_optimiser.sym_formatter(U)\n",
    "F = expr_optimiser.sym_formatter(F)\n",
    "div_F = expr_optimiser.sym_formatter(div_F)\n",
    "L_OM = expr_optimiser.sym_formatter(L_OM)\n",
    "L_FW = expr_optimiser.sym_formatter(L_FW)\n",
    "\n",
    "L_x_OM = expr_optimiser.sym_formatter(L_x_OM)\n",
    "        \n",
    "L_xd_OM = expr_optimiser.sym_formatter(L_xd_OM)\n",
    "\n",
    "L_x_FW = expr_optimiser.sym_formatter(L_x_FW)\n",
    "L_xd_FW = expr_optimiser.sym_formatter(L_xd_FW)\n",
    "\n",
    "L_x_x_OM = expr_optimiser.sym_formatter(L_x_x_OM)\n",
    "L_xd_x_OM = expr_optimiser.sym_formatter(L_xd_x_OM)\n",
    "L_xd_xd_OM = expr_optimiser.sym_formatter(L_xd_xd_OM)\n",
    "\n",
    "L_x_x_FW = expr_optimiser.sym_formatter(L_x_x_FW)\n",
    "L_xd_x_FW = expr_optimiser.sym_formatter(L_xd_x_FW)\n",
    "L_xd_xd_FW = expr_optimiser.sym_formatter(L_xd_xd_FW)"
   ]
  },
  {
   "cell_type": "markdown",
   "id": "0642ced1-b7d8-4b86-8c8a-9da23bad55f5",
   "metadata": {},
   "source": [
    "### Potential"
   ]
  },
  {
   "cell_type": "code",
   "execution_count": 18,
   "id": "387c2a2e-065d-42d8-957c-e3ce479f2e55",
   "metadata": {},
   "outputs": [],
   "source": [
    "code_potential = 'potential[i] = %s' % to_ccode(U)\n",
    "cdef_potential = get_params_cdef(U, params, include_beta_gamma=False)"
   ]
  },
  {
   "cell_type": "markdown",
   "id": "04f45c7e-1961-4d90-8912-a2d52f615f6b",
   "metadata": {},
   "source": [
    "### Force and div Force"
   ]
  },
  {
   "cell_type": "code",
   "execution_count": 19,
   "id": "e17542ac-abcf-4895-9f29-20c27d6920ac",
   "metadata": {},
   "outputs": [],
   "source": [
    "code_force = []\n",
    "code_div_force = None\n",
    "\n",
    "for j in range(dim):\n",
    "    code_line = 'force[%s,i] = %s' % (j, to_ccode(F[j]))\n",
    "    code_force.append(code_line)\n",
    "\n",
    "code_div_force = 'div_force[i] = %s' % to_ccode(div_F)"
   ]
  },
  {
   "cell_type": "code",
   "execution_count": 20,
   "id": "48444b37-7646-4548-bd43-19acc0323516",
   "metadata": {},
   "outputs": [],
   "source": [
    "cdef_force = get_params_cdef(F, params, include_beta_gamma=False)\n",
    "cdef_force_and_div_force = get_params_cdef([F, div_F], params, include_beta_gamma=False)"
   ]
  },
  {
   "cell_type": "markdown",
   "id": "897e438a-a232-4fa7-8b98-e45554bdaf90",
   "metadata": {},
   "source": [
    "### Gradient of Lagrangian"
   ]
  },
  {
   "cell_type": "code",
   "execution_count": 21,
   "id": "312ac1b1-ddf7-4848-af32-f3f8e061eaef",
   "metadata": {},
   "outputs": [],
   "source": [
    "def get_gradL_code(L_x, L_xd):\n",
    "    code_L_x = []\n",
    "    code_L_xd = []\n",
    "\n",
    "    for j in range(dim):\n",
    "        code_line = 'L_x[%s,i] = %s' % (j, to_ccode(L_x[j]))\n",
    "        code_L_x.append(code_line)\n",
    "        \n",
    "        code_line = 'L_xd[%s,i] = %s' % (j, to_ccode(L_xd[j]))\n",
    "        code_L_xd.append(code_line)\n",
    "            \n",
    "    return code_L_x, code_L_xd\n",
    "            \n",
    "code_L_x_OM, code_L_xd_OM = get_gradL_code(L_x_OM, L_xd_OM)\n",
    "code_L_x_FW, code_L_xd_FW = get_gradL_code(L_x_FW, L_xd_FW)"
   ]
  },
  {
   "cell_type": "code",
   "execution_count": 22,
   "id": "7ea9b997-70f6-43c2-b0eb-beb20259e371",
   "metadata": {},
   "outputs": [],
   "source": [
    "cdef_gradL_OM = get_params_cdef([L_x_OM, L_xd_OM], params, include_beta_gamma=True)\n",
    "cdef_gradL_FW = get_params_cdef([L_x_FW, L_xd_FW], params, include_beta_gamma=True)"
   ]
  },
  {
   "cell_type": "markdown",
   "id": "acdd4554-d78c-4441-ba5a-eee2c065e6ae",
   "metadata": {},
   "source": [
    "### Hessian of Lagrangian"
   ]
  },
  {
   "cell_type": "code",
   "execution_count": 23,
   "id": "d95a548e-1a5b-4064-9ea9-6eb64dd9520e",
   "metadata": {},
   "outputs": [],
   "source": [
    "def get_hessL_code(L_x_x, L_xd_x, L_xd_xd):\n",
    "    code_L_x_x = []\n",
    "    code_L_xd_x = []\n",
    "    code_L_xd_xd = []\n",
    "\n",
    "    for j in range(dim):\n",
    "        for k in range(dim):\n",
    "            code_line = 'L_x_x[%s,%s,i] = %s' % (j, k, to_ccode(L_x_x[j,k]))\n",
    "            code_L_x_x.append(code_line)\n",
    "            \n",
    "            code_line = 'L_xd_x[%s,%s,i] = %s' % (j, k, to_ccode(L_xd_x[j,k]))\n",
    "            code_L_xd_x.append(code_line)\n",
    "            \n",
    "            code_line = 'L_xd_xd[%s,%s,i] = %s' % (j, k, to_ccode(L_xd_xd[j,k]))\n",
    "            code_L_xd_xd.append(code_line)\n",
    "            \n",
    "    return code_L_x_x, code_L_xd_x, code_L_xd_xd\n",
    "            \n",
    "code_L_x_x_OM, code_L_xd_x_OM, code_L_xd_xd_OM = get_hessL_code(L_x_x_OM, L_xd_x_OM, L_xd_xd_OM)\n",
    "code_L_x_x_FW, code_L_xd_x_FW, code_L_xd_xd_FW = get_hessL_code(L_x_x_FW, L_xd_x_FW, L_xd_xd_FW)"
   ]
  },
  {
   "cell_type": "code",
   "execution_count": 24,
   "id": "a0756851-e540-4c8b-9a8c-9eb041a2ac9b",
   "metadata": {},
   "outputs": [],
   "source": [
    "cdef_hessL_OM = get_params_cdef([L_x_x_OM, L_xd_x_OM, L_xd_xd_OM], params, include_beta_gamma=True)\n",
    "cdef_hessL_FW = get_params_cdef([L_x_x_FW, L_xd_x_FW, L_xd_xd_FW], params, include_beta_gamma=True)"
   ]
  },
  {
   "cell_type": "markdown",
   "id": "3596aeb6-5e1e-45bd-b2aa-9db61bbdbeb6",
   "metadata": {},
   "source": [
    "### Cython functions"
   ]
  },
  {
   "cell_type": "code",
   "execution_count": 36,
   "id": "514cc80c-a083-4975-9d75-2c4ef1684f3f",
   "metadata": {},
   "outputs": [],
   "source": [
    "function_name = 'cdef DTYPE_t _compute_potential(self, DTYPE_t[:] ts, DTYPE_t[:,:] x, DTYPE_t[:] potential):'\n",
    "\n",
    "lines = []\n",
    "lines += cdef_potential\n",
    "lines += [(1, '')]\n",
    "lines += [(1, 'for i in range(Nt):')]\n",
    "lines += [(2, code_potential)]\n",
    "\n",
    "_compute_potential = function_formatter(function_name, lines)"
   ]
  },
  {
   "cell_type": "code",
   "execution_count": 37,
   "id": "77753465-4077-4007-b139-3d14226a2ec1",
   "metadata": {},
   "outputs": [],
   "source": [
    "function_name = 'cdef DTYPE_t _compute_force(self, DTYPE_t[:] ts, DTYPE_t[:,:] x, DTYPE_t[:,:] force):'\n",
    "\n",
    "lines = []\n",
    "lines += cdef_force\n",
    "lines += [(1, '')]\n",
    "lines += [(1, 'for i in range(Nt):')]\n",
    "lines += [(2, l) for l in code_force]\n",
    "\n",
    "_compute_force = function_formatter(function_name, lines)"
   ]
  },
  {
   "cell_type": "code",
   "execution_count": 38,
   "id": "40f2eed9-7127-49cf-a6a5-98f0e01d76bb",
   "metadata": {},
   "outputs": [],
   "source": [
    "function_name = 'cdef DTYPE_t _compute_force_and_div_force(self, DTYPE_t[:] ts, DTYPE_t[:,:] x, DTYPE_t[:,:] force, DTYPE_t[:] div_force):'\n",
    "\n",
    "lines = []\n",
    "lines += cdef_force_and_div_force\n",
    "lines += [(1, '')]\n",
    "lines += [(1, 'for i in range(Nt):')]\n",
    "lines += [(2, l) for l in code_force]\n",
    "lines += [(2, code_div_force)]\n",
    "\n",
    "_compute_force_and_div_force = function_formatter(function_name, lines)"
   ]
  },
  {
   "cell_type": "code",
   "execution_count": 39,
   "id": "839db74e-e391-4184-acfe-dfc7c1daf4bb",
   "metadata": {},
   "outputs": [],
   "source": [
    "def get_gradL_function(code_L_x, code_L_xd, cdef_params, func_postfix):\n",
    "    function_name = 'cdef DTYPE_t _compute_gradL_%s(self, DTYPE_t[:] ts, DTYPE_t[:,:] x, DTYPE_t[:,:] xd, DTYPE_t[:,:] L_x, DTYPE_t[:,:] L_xd):' % func_postfix\n",
    "\n",
    "    lines = []\n",
    "    lines += cdef_params\n",
    "    lines += [(1, '')]\n",
    "    lines += [(1, 'for i in range(Nt):')]\n",
    "    lines += [(2, l) for l in code_L_x]\n",
    "    lines += [(2, l) for l in code_L_xd]\n",
    "    \n",
    "    return function_formatter(function_name, lines)\n",
    "\n",
    "_compute_gradL_OM = get_gradL_function(code_L_x_OM, code_L_xd_OM, cdef_gradL_OM, 'OM')\n",
    "_compute_gradL_FW = get_gradL_function(code_L_x_FW, code_L_xd_FW, cdef_gradL_FW, 'FW')"
   ]
  },
  {
   "cell_type": "code",
   "execution_count": 40,
   "id": "c6e9cffb-2a17-42d0-96f8-79ffbfdc5d6c",
   "metadata": {},
   "outputs": [],
   "source": [
    "def get_hessL_function(code_L_x_x, code_L_xd_x, code_L_xd_xd, cdef_params, func_postfix):\n",
    "    function_name = 'cdef DTYPE_t _compute_hessL_%s(self, DTYPE_t[:] ts, DTYPE_t[:,:] x, DTYPE_t[:,:] xd, DTYPE_t[:,:,:] L_x_x, DTYPE_t[:,:,:] L_xd_x, DTYPE_t[:,:,:] L_xd_xd):' % func_postfix\n",
    "\n",
    "    lines = []\n",
    "    lines += cdef_params\n",
    "    lines += [(1, '')]\n",
    "    lines += [(1, 'for i in range(Nt):')]\n",
    "    lines += [(2, l) for l in code_L_x_x]\n",
    "    lines += [(2, l) for l in code_L_xd_x]\n",
    "    lines += [(2, l) for l in code_L_xd_xd]\n",
    "    \n",
    "    return function_formatter(function_name, lines)\n",
    "\n",
    "_compute_hessL_OM = get_hessL_function(code_L_x_x_OM, code_L_xd_x_OM, code_L_xd_xd_OM, cdef_hessL_OM, 'OM')\n",
    "_compute_hessL_FW = get_hessL_function(code_L_x_x_FW, code_L_xd_x_FW, code_L_xd_xd_FW, cdef_hessL_FW, 'FW')"
   ]
  },
  {
   "cell_type": "code",
   "execution_count": 41,
   "id": "f6d79d7e-40ef-4a65-a9a6-23b1327da815",
   "metadata": {},
   "outputs": [
    {
     "name": "stdout",
     "output_type": "stream",
     "text": [
      "cdef DTYPE_t _compute_potential(self, DTYPE_t[:] ts, DTYPE_t[:,:] x, DTYPE_t[:] potential):\n",
      "    cdef:\n",
      "        int dim = x.shape[0]\n",
      "        int Nt = x.shape[1]\n",
      "        DTYPE_t U0 = self.U0\n",
      "        DTYPE_t dU = self.dU\n",
      "        DTYPE_t var_2p0_tim_U0 = 2.0*U0\n",
      "        DTYPE_t var_0p75_tim_dU = 0.75*dU\n",
      "        DTYPE_t var_0p25_tim_dU = 0.25*dU\n",
      "        DTYPE_t var_var_0p5_tim_dU_pls_var_1p0_tim_U0 = 1.0*U0 + 0.5*dU\n",
      "    \n",
      "    for i in range(Nt):\n",
      "        potential[i] = U0*pow(x[0,i], 4) - var_0p25_tim_dU*pow(x[0,i], 3) + var_0p75_tim_dU*x[0,i] - var_2p0_tim_U0*pow(x[0,i], 2) + var_var_0p5_tim_dU_pls_var_1p0_tim_U0\n",
      "\n",
      "cdef DTYPE_t _compute_force(self, DTYPE_t[:] ts, DTYPE_t[:,:] x, DTYPE_t[:,:] force):\n",
      "    cdef:\n",
      "        int dim = x.shape[0]\n",
      "        int Nt = x.shape[1]\n",
      "        DTYPE_t U0 = self.U0\n",
      "        DTYPE_t dU = self.dU\n",
      "        DTYPE_t var_4p0_tim_U0 = 4.0*U0\n",
      "        DTYPE_t var_0p75_tim_dU = 0.75*dU\n",
      "    \n",
      "    for i in range(Nt):\n",
      "        force[0,i] = var_0p75_tim_dU*pow(x[0,i], 2) - var_0p75_tim_dU - var_4p0_tim_U0*pow(x[0,i], 3) + var_4p0_tim_U0*x[0,i]\n",
      "\n",
      "cdef DTYPE_t _compute_force_and_div_force(self, DTYPE_t[:] ts, DTYPE_t[:,:] x, DTYPE_t[:,:] force, DTYPE_t[:] div_force):\n",
      "    cdef:\n",
      "        int dim = x.shape[0]\n",
      "        int Nt = x.shape[1]\n",
      "        DTYPE_t U0 = self.U0\n",
      "        DTYPE_t dU = self.dU\n",
      "        DTYPE_t var_4p0_tim_U0 = 4.0*U0\n",
      "        DTYPE_t var_12p0_tim_U0 = 12.0*U0\n",
      "        DTYPE_t var_1p5_tim_dU = 1.5*dU\n",
      "        DTYPE_t var_0p75_tim_dU = 0.75*dU\n",
      "    \n",
      "    for i in range(Nt):\n",
      "        force[0,i] = var_0p75_tim_dU*pow(x[0,i], 2) - var_0p75_tim_dU - var_4p0_tim_U0*pow(x[0,i], 3) + var_4p0_tim_U0*x[0,i]\n",
      "        div_force[i] = -var_12p0_tim_U0*pow(x[0,i], 2) + var_1p5_tim_dU*x[0,i] + var_4p0_tim_U0\n",
      "\n",
      "cdef DTYPE_t _compute_gradL_OM(self, DTYPE_t[:] ts, DTYPE_t[:,:] x, DTYPE_t[:,:] xd, DTYPE_t[:,:] L_x, DTYPE_t[:,:] L_xd):\n",
      "    cdef:\n",
      "        int dim = x.shape[0]\n",
      "        int Nt = x.shape[1]\n",
      "        DTYPE_t beta = self.beta\n",
      "        DTYPE_t gamma = self.gamma\n",
      "        DTYPE_t U0 = self.U0\n",
      "        DTYPE_t dU = self.dU\n",
      "        DTYPE_t var_var_1_div_gamma_tim_var_1p5_tim_U0_tim_beta_tim_dU = 1.5*U0*beta*dU/gamma\n",
      "        DTYPE_t var_var_0p5625_tim_beta_tim_var_1_div_gamma_tim_var_dU_pow_2 = 0.5625*beta*dU**2/gamma\n",
      "        DTYPE_t var_var_1_div_gamma_tim_var_32p0_tim_beta_tim_var_U0_pow_2 = 32.0*U0**2*beta/gamma\n",
      "        DTYPE_t var_var_1_div_gamma_tim_var_9p0_tim_U0_tim_beta_tim_dU = 9.0*U0*beta*dU/gamma\n",
      "        DTYPE_t var_2p0_tim_U0_tim_beta = 2.0*U0*beta\n",
      "        DTYPE_t var_var_1_div_gamma_tim_var_7p5_tim_U0_tim_beta_tim_dU = 7.5*U0*beta*dU/gamma\n",
      "        DTYPE_t var_var_0p75_tim_dU_tim_var_1_div_gamma = 0.75*dU/gamma\n",
      "        DTYPE_t var_0p375_tim_beta_tim_dU = 0.375*beta*dU\n",
      "        DTYPE_t var_6p0_tim_U0_tim_beta = 6.0*U0*beta\n",
      "        DTYPE_t var_0p5_tim_beta_tim_gamma = 0.5*beta*gamma\n",
      "        DTYPE_t var_var_1_div_gamma_tim_var_24p0_tim_beta_tim_var_U0_pow_2 = 24.0*U0**2*beta/gamma\n",
      "        DTYPE_t var_var_1_div_gamma_tim_var_8p0_tim_beta_tim_var_U0_pow_2 = 8.0*U0**2*beta/gamma\n",
      "        DTYPE_t var_var_12p0_tim_U0_tim_var_1_div_gamma = 12.0*U0/gamma\n",
      "        DTYPE_t var_0p75_tim_beta_tim_dU = 0.75*beta*dU\n",
      "    \n",
      "    for i in range(Nt):\n",
      "        L_x[0,i] = -var_0p75_tim_beta_tim_dU*x[0,i]*xd[0,i] - var_2p0_tim_U0_tim_beta*xd[0,i] + var_6p0_tim_U0_tim_beta*pow(x[0,i], 2)*xd[0,i] + var_var_0p5625_tim_beta_tim_var_1_div_gamma_tim_var_dU_pow_2*pow(x[0,i], 3) - var_var_0p5625_tim_beta_tim_var_1_div_gamma_tim_var_dU_pow_2*x[0,i] + var_var_0p75_tim_dU_tim_var_1_div_gamma - var_var_12p0_tim_U0_tim_var_1_div_gamma*x[0,i] - var_var_1_div_gamma_tim_var_1p5_tim_U0_tim_beta_tim_dU + var_var_1_div_gamma_tim_var_24p0_tim_beta_tim_var_U0_pow_2*pow(x[0,i], 5) - var_var_1_div_gamma_tim_var_32p0_tim_beta_tim_var_U0_pow_2*pow(x[0,i], 3) - var_var_1_div_gamma_tim_var_7p5_tim_U0_tim_beta_tim_dU*pow(x[0,i], 4) + var_var_1_div_gamma_tim_var_8p0_tim_beta_tim_var_U0_pow_2*x[0,i] + var_var_1_div_gamma_tim_var_9p0_tim_U0_tim_beta_tim_dU*pow(x[0,i], 2)\n",
      "        L_xd[0,i] = -var_0p375_tim_beta_tim_dU*pow(x[0,i], 2) + var_0p375_tim_beta_tim_dU + var_0p5_tim_beta_tim_gamma*xd[0,i] + var_2p0_tim_U0_tim_beta*pow(x[0,i], 3) - var_2p0_tim_U0_tim_beta*x[0,i]\n",
      "\n",
      "cdef DTYPE_t _compute_gradL_FW(self, DTYPE_t[:] ts, DTYPE_t[:,:] x, DTYPE_t[:,:] xd, DTYPE_t[:,:] L_x, DTYPE_t[:,:] L_xd):\n",
      "    cdef:\n",
      "        int dim = x.shape[0]\n",
      "        int Nt = x.shape[1]\n",
      "        DTYPE_t beta = self.beta\n",
      "        DTYPE_t gamma = self.gamma\n",
      "        DTYPE_t U0 = self.U0\n",
      "        DTYPE_t dU = self.dU\n",
      "        DTYPE_t var_var_1_div_gamma_tim_var_1p5_tim_U0_tim_beta_tim_dU = 1.5*U0*beta*dU/gamma\n",
      "        DTYPE_t var_var_0p5625_tim_beta_tim_var_1_div_gamma_tim_var_dU_pow_2 = 0.5625*beta*dU**2/gamma\n",
      "        DTYPE_t var_var_1_div_gamma_tim_var_32p0_tim_beta_tim_var_U0_pow_2 = 32.0*U0**2*beta/gamma\n",
      "        DTYPE_t var_var_1_div_gamma_tim_var_9p0_tim_U0_tim_beta_tim_dU = 9.0*U0*beta*dU/gamma\n",
      "        DTYPE_t var_2p0_tim_U0_tim_beta = 2.0*U0*beta\n",
      "        DTYPE_t var_var_1_div_gamma_tim_var_7p5_tim_U0_tim_beta_tim_dU = 7.5*U0*beta*dU/gamma\n",
      "        DTYPE_t var_0p375_tim_beta_tim_dU = 0.375*beta*dU\n",
      "        DTYPE_t var_6p0_tim_U0_tim_beta = 6.0*U0*beta\n",
      "        DTYPE_t var_0p5_tim_beta_tim_gamma = 0.5*beta*gamma\n",
      "        DTYPE_t var_var_1_div_gamma_tim_var_24p0_tim_beta_tim_var_U0_pow_2 = 24.0*U0**2*beta/gamma\n",
      "        DTYPE_t var_var_1_div_gamma_tim_var_8p0_tim_beta_tim_var_U0_pow_2 = 8.0*U0**2*beta/gamma\n",
      "        DTYPE_t var_0p75_tim_beta_tim_dU = 0.75*beta*dU\n",
      "    \n",
      "    for i in range(Nt):\n",
      "        L_x[0,i] = -var_0p75_tim_beta_tim_dU*x[0,i]*xd[0,i] - var_2p0_tim_U0_tim_beta*xd[0,i] + var_6p0_tim_U0_tim_beta*pow(x[0,i], 2)*xd[0,i] + var_var_0p5625_tim_beta_tim_var_1_div_gamma_tim_var_dU_pow_2*pow(x[0,i], 3) - var_var_0p5625_tim_beta_tim_var_1_div_gamma_tim_var_dU_pow_2*x[0,i] - var_var_1_div_gamma_tim_var_1p5_tim_U0_tim_beta_tim_dU + var_var_1_div_gamma_tim_var_24p0_tim_beta_tim_var_U0_pow_2*pow(x[0,i], 5) - var_var_1_div_gamma_tim_var_32p0_tim_beta_tim_var_U0_pow_2*pow(x[0,i], 3) - var_var_1_div_gamma_tim_var_7p5_tim_U0_tim_beta_tim_dU*pow(x[0,i], 4) + var_var_1_div_gamma_tim_var_8p0_tim_beta_tim_var_U0_pow_2*x[0,i] + var_var_1_div_gamma_tim_var_9p0_tim_U0_tim_beta_tim_dU*pow(x[0,i], 2)\n",
      "        L_xd[0,i] = -var_0p375_tim_beta_tim_dU*pow(x[0,i], 2) + var_0p375_tim_beta_tim_dU + var_0p5_tim_beta_tim_gamma*xd[0,i] + var_2p0_tim_U0_tim_beta*pow(x[0,i], 3) - var_2p0_tim_U0_tim_beta*x[0,i]\n",
      "\n",
      "cdef DTYPE_t _compute_hessL_OM(self, DTYPE_t[:] ts, DTYPE_t[:,:] x, DTYPE_t[:,:] xd, DTYPE_t[:,:,:] L_x_x, DTYPE_t[:,:,:] L_xd_x, DTYPE_t[:,:,:] L_xd_xd):\n",
      "    cdef:\n",
      "        int dim = x.shape[0]\n",
      "        int Nt = x.shape[1]\n",
      "        DTYPE_t beta = self.beta\n",
      "        DTYPE_t gamma = self.gamma\n",
      "        DTYPE_t U0 = self.U0\n",
      "        DTYPE_t dU = self.dU\n",
      "        DTYPE_t var_var_18p0_tim_U0_tim_beta_tim_dU_tim_var_1_div_gamma = 18.0*U0*beta*dU/gamma\n",
      "        DTYPE_t var_var_0p5625_tim_beta_tim_var_1_div_gamma_tim_var_dU_pow_2 = 0.5625*beta*dU**2/gamma\n",
      "        DTYPE_t var_12p0_tim_U0_tim_beta = 12.0*U0*beta\n",
      "        DTYPE_t var_2p0_tim_U0_tim_beta = 2.0*U0*beta\n",
      "        DTYPE_t var_0p5_tim_beta_tim_gamma = 0.5*beta*gamma\n",
      "        DTYPE_t var_var_1_div_gamma_tim_var_30p0_tim_U0_tim_beta_tim_dU = 30.0*U0*beta*dU/gamma\n",
      "        DTYPE_t var_6p0_tim_U0_tim_beta = 6.0*U0*beta\n",
      "        DTYPE_t var_var_1_div_gamma_tim_var_1p6875_tim_beta_tim_var_dU_pow_2 = 1.6875*beta*dU**2/gamma\n",
      "        DTYPE_t var_var_1_div_gamma_tim_var_96p0_tim_beta_tim_var_U0_pow_2 = 96.0*U0**2*beta/gamma\n",
      "        DTYPE_t var_var_1_div_gamma_tim_var_8p0_tim_beta_tim_var_U0_pow_2 = 8.0*U0**2*beta/gamma\n",
      "        DTYPE_t var_var_12p0_tim_U0_tim_var_1_div_gamma = 12.0*U0/gamma\n",
      "        DTYPE_t var_0p75_tim_beta_tim_dU = 0.75*beta*dU\n",
      "        DTYPE_t var_var_120p0_tim_beta_tim_var_1_div_gamma_tim_var_U0_pow_2 = 120.0*U0**2*beta/gamma\n",
      "    \n",
      "    for i in range(Nt):\n",
      "        L_x_x[0,0,i] = -var_0p75_tim_beta_tim_dU*xd[0,i] + var_12p0_tim_U0_tim_beta*x[0,i]*xd[0,i] - var_var_0p5625_tim_beta_tim_var_1_div_gamma_tim_var_dU_pow_2 + var_var_120p0_tim_beta_tim_var_1_div_gamma_tim_var_U0_pow_2*pow(x[0,i], 4) - var_var_12p0_tim_U0_tim_var_1_div_gamma + var_var_18p0_tim_U0_tim_beta_tim_dU_tim_var_1_div_gamma*x[0,i] + var_var_1_div_gamma_tim_var_1p6875_tim_beta_tim_var_dU_pow_2*pow(x[0,i], 2) - var_var_1_div_gamma_tim_var_30p0_tim_U0_tim_beta_tim_dU*pow(x[0,i], 3) + var_var_1_div_gamma_tim_var_8p0_tim_beta_tim_var_U0_pow_2 - var_var_1_div_gamma_tim_var_96p0_tim_beta_tim_var_U0_pow_2*pow(x[0,i], 2)\n",
      "        L_xd_x[0,0,i] = -var_0p75_tim_beta_tim_dU*x[0,i] - var_2p0_tim_U0_tim_beta + var_6p0_tim_U0_tim_beta*pow(x[0,i], 2)\n",
      "        L_xd_xd[0,0,i] = var_0p5_tim_beta_tim_gamma\n",
      "\n",
      "cdef DTYPE_t _compute_hessL_FW(self, DTYPE_t[:] ts, DTYPE_t[:,:] x, DTYPE_t[:,:] xd, DTYPE_t[:,:,:] L_x_x, DTYPE_t[:,:,:] L_xd_x, DTYPE_t[:,:,:] L_xd_xd):\n",
      "    cdef:\n",
      "        int dim = x.shape[0]\n",
      "        int Nt = x.shape[1]\n",
      "        DTYPE_t beta = self.beta\n",
      "        DTYPE_t gamma = self.gamma\n",
      "        DTYPE_t U0 = self.U0\n",
      "        DTYPE_t dU = self.dU\n",
      "        DTYPE_t var_var_18p0_tim_U0_tim_beta_tim_dU_tim_var_1_div_gamma = 18.0*U0*beta*dU/gamma\n",
      "        DTYPE_t var_var_0p5625_tim_beta_tim_var_1_div_gamma_tim_var_dU_pow_2 = 0.5625*beta*dU**2/gamma\n",
      "        DTYPE_t var_12p0_tim_U0_tim_beta = 12.0*U0*beta\n",
      "        DTYPE_t var_2p0_tim_U0_tim_beta = 2.0*U0*beta\n",
      "        DTYPE_t var_0p5_tim_beta_tim_gamma = 0.5*beta*gamma\n",
      "        DTYPE_t var_var_1_div_gamma_tim_var_30p0_tim_U0_tim_beta_tim_dU = 30.0*U0*beta*dU/gamma\n",
      "        DTYPE_t var_6p0_tim_U0_tim_beta = 6.0*U0*beta\n",
      "        DTYPE_t var_var_1_div_gamma_tim_var_1p6875_tim_beta_tim_var_dU_pow_2 = 1.6875*beta*dU**2/gamma\n",
      "        DTYPE_t var_var_1_div_gamma_tim_var_96p0_tim_beta_tim_var_U0_pow_2 = 96.0*U0**2*beta/gamma\n",
      "        DTYPE_t var_var_1_div_gamma_tim_var_8p0_tim_beta_tim_var_U0_pow_2 = 8.0*U0**2*beta/gamma\n",
      "        DTYPE_t var_0p75_tim_beta_tim_dU = 0.75*beta*dU\n",
      "        DTYPE_t var_var_120p0_tim_beta_tim_var_1_div_gamma_tim_var_U0_pow_2 = 120.0*U0**2*beta/gamma\n",
      "    \n",
      "    for i in range(Nt):\n",
      "        L_x_x[0,0,i] = -var_0p75_tim_beta_tim_dU*xd[0,i] + var_12p0_tim_U0_tim_beta*x[0,i]*xd[0,i] - var_var_0p5625_tim_beta_tim_var_1_div_gamma_tim_var_dU_pow_2 + var_var_120p0_tim_beta_tim_var_1_div_gamma_tim_var_U0_pow_2*pow(x[0,i], 4) + var_var_18p0_tim_U0_tim_beta_tim_dU_tim_var_1_div_gamma*x[0,i] + var_var_1_div_gamma_tim_var_1p6875_tim_beta_tim_var_dU_pow_2*pow(x[0,i], 2) - var_var_1_div_gamma_tim_var_30p0_tim_U0_tim_beta_tim_dU*pow(x[0,i], 3) + var_var_1_div_gamma_tim_var_8p0_tim_beta_tim_var_U0_pow_2 - var_var_1_div_gamma_tim_var_96p0_tim_beta_tim_var_U0_pow_2*pow(x[0,i], 2)\n",
      "        L_xd_x[0,0,i] = -var_0p75_tim_beta_tim_dU*x[0,i] - var_2p0_tim_U0_tim_beta + var_6p0_tim_U0_tim_beta*pow(x[0,i], 2)\n",
      "        L_xd_xd[0,0,i] = var_0p5_tim_beta_tim_gamma\n"
     ]
    }
   ],
   "source": [
    "print('\\n\\n'.join([\n",
    "    _compute_potential,\n",
    "    _compute_force,\n",
    "    _compute_force_and_div_force,\n",
    "    _compute_gradL_OM,\n",
    "    _compute_gradL_FW,\n",
    "    _compute_hessL_OM,\n",
    "    _compute_hessL_FW\n",
    "]))"
   ]
  }
 ],
 "metadata": {
  "kernelspec": {
   "display_name": "Python 3 (ipykernel)",
   "language": "python",
   "name": "python3"
  },
  "language_info": {
   "codemirror_mode": {
    "name": "ipython",
    "version": 3
   },
   "file_extension": ".py",
   "mimetype": "text/x-python",
   "name": "python",
   "nbconvert_exporter": "python",
   "pygments_lexer": "ipython3",
   "version": "3.9.6"
  }
 },
 "nbformat": 4,
 "nbformat_minor": 5
}
