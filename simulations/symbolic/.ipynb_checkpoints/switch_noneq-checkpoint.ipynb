{
 "cells": [
  {
   "cell_type": "code",
   "execution_count": 1,
   "id": "6ddd1ab3-893b-4bbb-92d3-beaeaf64faea",
   "metadata": {},
   "outputs": [],
   "source": [
    "from sympy import Symbol, Function, diff, Matrix, zeros, symbols, N, sqrt, Pow, Mul, Add, log, exp, sin, cos, tan\n",
    "import sympy\n",
    "import numpy as np\n",
    "import matplotlib.pyplot as plt\n",
    "import expr_optimiser"
   ]
  },
  {
   "cell_type": "markdown",
   "id": "214048fa-4e3e-46ff-954a-5887a188b18b",
   "metadata": {},
   "source": [
    "## Define system"
   ]
  },
  {
   "cell_type": "code",
   "execution_count": 2,
   "id": "7707d14a-1105-4875-9c63-979afb8b4825",
   "metadata": {},
   "outputs": [],
   "source": [
    "dim = 2"
   ]
  },
  {
   "cell_type": "code",
   "execution_count": 3,
   "id": "4fc8217b-3d3c-4f16-b763-3597a168845c",
   "metadata": {},
   "outputs": [],
   "source": [
    "t = Symbol('t')\n",
    "T = Symbol('T', nonnegative=True)\n",
    "g = Symbol('gamma')\n",
    "b = Symbol('beta')\n",
    "\n",
    "coords = symbols('x y')\n",
    "dcoords = symbols('xdot ydot')\n",
    "\n",
    "x, y = coords\n",
    "xdot, ydot = dcoords\n",
    "\n",
    "r = Function('r')(x,y)\n",
    "coord_functions = {\n",
    "    r : sqrt(x**2 + y**2)\n",
    "}"
   ]
  },
  {
   "cell_type": "code",
   "execution_count": 4,
   "id": "482c2f7f-9cf2-4f11-a589-6f3d9e9a68b3",
   "metadata": {},
   "outputs": [],
   "source": [
    "coord_func_derivative_rules = {\n",
    "    diff(r,x) : x/r,\n",
    "    diff(r,y) : y/r\n",
    "}"
   ]
  },
  {
   "cell_type": "code",
   "execution_count": 5,
   "id": "16b05b45-164c-4da6-b574-f57477c7f4f6",
   "metadata": {},
   "outputs": [],
   "source": [
    "params = symbols('U0 xip xim eta theta')\n",
    "r0 = Symbol('r0')\n",
    "U0, xip, xim, eta, theta = params"
   ]
  },
  {
   "cell_type": "code",
   "execution_count": 6,
   "id": "ac1b4e66-f79f-4352-8704-3f1fbd603b43",
   "metadata": {},
   "outputs": [],
   "source": [
    "#r = sqrt(x**2 + y**2)\n",
    "k = (3*U0 / r0**2) * (2 + xip + xim*y/r)\n",
    "\n",
    "U = (1 / (2*r0**4))*(r - r0)**2 * (k*r**2*r0**2 - 2*U0*(r-r0)*(3*r + r0))\n",
    "U = U.subs(r0, 1)"
   ]
  },
  {
   "cell_type": "code",
   "execution_count": 7,
   "id": "7145f92c-cf3c-45b2-b6b4-225303ae6a22",
   "metadata": {},
   "outputs": [],
   "source": [
    "def cdiff(expr, coord):\n",
    "    dexpr = diff(expr, coord)\n",
    "    \n",
    "    for df, df_expr in coord_func_derivative_rules.items():\n",
    "        dexpr = dexpr.subs(df, df_expr)\n",
    "        \n",
    "    return dexpr"
   ]
  },
  {
   "cell_type": "code",
   "execution_count": 8,
   "id": "38a460ca-4bdd-4635-b43d-fa323a1bdd3f",
   "metadata": {},
   "outputs": [],
   "source": [
    "F_eq = zeros(dim, 1)\n",
    "for i in range(dim):\n",
    "    F_eq[i] = -cdiff(U, coords[i])\n",
    "    F_eq[i] = F_eq[i].simplify()\n",
    "    \n",
    "F_neq_r = sympy.exp(-theta*( r - r0 )**2)\n",
    "F_neq_r = F_neq_r.subs(r0, 1)\n",
    "F_neq = zeros(dim, 1)\n",
    "F_neq[0] =  - F_neq_r * eta * y / r\n",
    "F_neq[1] =  F_neq_r * eta * x / r\n",
    "\n",
    "F = F_eq + F_neq"
   ]
  },
  {
   "cell_type": "code",
   "execution_count": 9,
   "id": "ab0a0db7-14ed-41fd-ad83-884998b114c8",
   "metadata": {},
   "outputs": [],
   "source": [
    "div_F = 0\n",
    "for i in range(dim):\n",
    "    div_F += cdiff(F[i], coords[i])\n",
    "div_F = div_F.simplify()\n",
    "    \n",
    "L_OM = (1/(2*g)) * div_F\n",
    "L_FW = 0\n",
    "for i in range(dim):\n",
    "    L_OM += (b*g/4) * (dcoords[i] - F[i]/g)**2\n",
    "    L_FW += (b*g/4) * (dcoords[i] - F[i]/g)**2\n",
    "L_OM = L_OM.simplify()\n",
    "L_FW = L_FW.simplify()"
   ]
  },
  {
   "cell_type": "code",
   "execution_count": 10,
   "id": "92f6ed38-7f8b-4c39-8365-11456536ec06",
   "metadata": {},
   "outputs": [],
   "source": [
    "def compute_gradL(L):\n",
    "    L_x = zeros(dim, 1)\n",
    "    L_xd = zeros(dim, 1)\n",
    "    for i in range(dim):\n",
    "        cdiff(L, coords[i])\n",
    "        L_x[i] = cdiff(L, coords[i]).simplify()\n",
    "        L_xd[i] = cdiff(L, dcoords[i]).simplify()\n",
    "    return L_x, L_xd\n",
    "def compute_hessL(L):\n",
    "    L_x_x = zeros(dim, dim)\n",
    "    L_xd_x = zeros(dim, dim)\n",
    "    L_xd_xd = zeros(dim, dim)\n",
    "    for i in range(dim):\n",
    "        for j in range(dim):\n",
    "            L_x_x[i,j] = cdiff(cdiff(L, coords[i]), coords[j]).simplify()\n",
    "            L_xd_x[i,j] = cdiff(cdiff(L, dcoords[i]), coords[j]).simplify()\n",
    "            L_xd_xd[i,j] = cdiff(cdiff(L, dcoords[i]), dcoords[j]).simplify()\n",
    "    return L_x_x, L_xd_x, L_xd_xd"
   ]
  },
  {
   "cell_type": "code",
   "execution_count": 11,
   "id": "c01e5452-97e1-4756-8369-55dff2864ed9",
   "metadata": {},
   "outputs": [],
   "source": [
    "L_x_OM, L_xd_OM = compute_gradL(L_OM)\n",
    "L_x_FW, L_xd_FW = compute_gradL(L_FW)"
   ]
  },
  {
   "cell_type": "code",
   "execution_count": 12,
   "id": "e6824b6f-eb9b-4faf-ad58-d5e1c37079eb",
   "metadata": {},
   "outputs": [],
   "source": [
    "L_x_x_OM, L_xd_x_OM, L_xd_xd_OM = compute_hessL(L_OM)\n",
    "L_x_x_FW, L_xd_x_FW, L_xd_xd_FW = compute_hessL(L_FW)"
   ]
  },
  {
   "cell_type": "code",
   "execution_count": 13,
   "id": "caa108df-098c-4c0d-9d0d-339443a8e76b",
   "metadata": {},
   "outputs": [],
   "source": [
    "xfunc = Function(x)(t)\n",
    "yfunc = Function(y)(t)\n",
    "rsym = Symbol('r')\n",
    "rfunc = Function(rsym)(t)"
   ]
  },
  {
   "cell_type": "code",
   "execution_count": 14,
   "id": "ebcd06ee-94e6-4060-9131-aefe03d2aea2",
   "metadata": {},
   "outputs": [],
   "source": [
    "def differentiate_in_time(arr):\n",
    "    darr = zeros(dim, dim)\n",
    "    \n",
    "    for i in range(dim):\n",
    "        for j in range(dim):\n",
    "            f = arr[i,j]\n",
    "            \n",
    "            _f = f.subs(r, rfunc).subs(x, xfunc).subs(y, yfunc) #xdot and ydot would not be in there\n",
    "\n",
    "            df = _f.diff(t)\n",
    "            df = df.subs(rfunc.diff(t), (x * xdot + y * ydot) / r)\n",
    "            df = df.subs(xfunc.diff(t), xdot)\n",
    "            df = df.subs(yfunc.diff(t), ydot)\n",
    "            df = df.subs(xfunc, x)\n",
    "            df = df.subs(yfunc, y)\n",
    "            df = df.subs(rfunc, r)\n",
    "\n",
    "            df = df.simplify()\n",
    "\n",
    "            darr[i,j] = df\n",
    "            \n",
    "    return darr"
   ]
  },
  {
   "cell_type": "code",
   "execution_count": 15,
   "id": "f4488f74-61fb-4509-ac8b-6f4a678e6f91",
   "metadata": {},
   "outputs": [],
   "source": [
    "dot_L_xd_x_OM = differentiate_in_time(L_xd_x_OM)\n",
    "dot_L_xd_x_FW = differentiate_in_time(L_xd_x_FW)"
   ]
  },
  {
   "cell_type": "code",
   "execution_count": 16,
   "id": "bb3ed495-1cf7-4bbd-81db-e7e332813c36",
   "metadata": {},
   "outputs": [
    {
     "ename": "NameError",
     "evalue": "name 'lambdify' is not defined",
     "output_type": "error",
     "traceback": [
      "\u001b[0;31m---------------------------------------------------------------------------\u001b[0m",
      "\u001b[0;31mNameError\u001b[0m                                 Traceback (most recent call last)",
      "\u001b[0;32m/tmp/ipykernel_106235/66412720.py\u001b[0m in \u001b[0;36m<module>\u001b[0;34m\u001b[0m\n\u001b[1;32m     14\u001b[0m     \u001b[0mdf\u001b[0m \u001b[0;34m=\u001b[0m \u001b[0mdf\u001b[0m\u001b[0;34m.\u001b[0m\u001b[0msubs\u001b[0m\u001b[0;34m(\u001b[0m\u001b[0mk\u001b[0m\u001b[0;34m,\u001b[0m \u001b[0mv\u001b[0m\u001b[0;34m)\u001b[0m\u001b[0;34m\u001b[0m\u001b[0;34m\u001b[0m\u001b[0m\n\u001b[1;32m     15\u001b[0m \u001b[0;34m\u001b[0m\u001b[0m\n\u001b[0;32m---> 16\u001b[0;31m \u001b[0mf\u001b[0m \u001b[0;34m=\u001b[0m \u001b[0mlambdify\u001b[0m\u001b[0;34m(\u001b[0m\u001b[0;34m[\u001b[0m\u001b[0mx\u001b[0m\u001b[0;34m,\u001b[0m\u001b[0my\u001b[0m\u001b[0;34m,\u001b[0m\u001b[0mxdot\u001b[0m\u001b[0;34m,\u001b[0m\u001b[0mydot\u001b[0m\u001b[0;34m]\u001b[0m\u001b[0;34m,\u001b[0m \u001b[0mf\u001b[0m\u001b[0;34m)\u001b[0m\u001b[0;34m\u001b[0m\u001b[0;34m\u001b[0m\u001b[0m\n\u001b[0m\u001b[1;32m     17\u001b[0m \u001b[0mdf\u001b[0m \u001b[0;34m=\u001b[0m \u001b[0mlambdify\u001b[0m\u001b[0;34m(\u001b[0m\u001b[0;34m[\u001b[0m\u001b[0mx\u001b[0m\u001b[0;34m,\u001b[0m\u001b[0my\u001b[0m\u001b[0;34m,\u001b[0m\u001b[0mxdot\u001b[0m\u001b[0;34m,\u001b[0m\u001b[0mydot\u001b[0m\u001b[0;34m]\u001b[0m\u001b[0;34m,\u001b[0m \u001b[0mdf\u001b[0m\u001b[0;34m)\u001b[0m\u001b[0;34m\u001b[0m\u001b[0;34m\u001b[0m\u001b[0m\n",
      "\u001b[0;31mNameError\u001b[0m: name 'lambdify' is not defined"
     ]
    }
   ],
   "source": [
    "plot_params = {\n",
    "    U0 : 3,\n",
    "    xim : 3,\n",
    "    xip : 3,\n",
    "    b : 2,\n",
    "}\n",
    "\n",
    "\n",
    "f = L_xd_x_OM[0,0].subs(r, sqrt(x**2 + y**2))\n",
    "df = dot_L_xd_x_OM[0,0].subs(r, sqrt(x**2 + y**2))\n",
    "\n",
    "for k, v in plot_params.items():\n",
    "    f = f.subs(k, v)\n",
    "    df = df.subs(k, v)\n",
    "    \n",
    "f = lambdify([x,y,xdot,ydot], f)\n",
    "df = lambdify([x,y,xdot,ydot], df)"
   ]
  },
  {
   "cell_type": "code",
   "execution_count": null,
   "id": "6bcc2a7b-7e9e-428f-9cfc-e35eebbb46df",
   "metadata": {},
   "outputs": [],
   "source": [
    "ts = np.linspace(0, 2, 10000)\n",
    "xs = np.cos(ts**2) + np.sin(ts)\n",
    "ys = ts**2\n",
    "xdots = -2*ts*np.sin(ts**2) + np.cos(ts)\n",
    "ydots = 2*ts\n",
    "\n",
    "fs = f(xs, ys, xdots, ydots)\n",
    "\n",
    "dfs1 = np.gradient(fs, ts)\n",
    "dfs2 = df(xs, ys, xdots, ydots)"
   ]
  },
  {
   "cell_type": "code",
   "execution_count": null,
   "id": "56e2be1f-cf5e-41c6-b676-504900fe6cab",
   "metadata": {},
   "outputs": [],
   "source": [
    "plt.plot(ts, dfs1)\n",
    "plt.plot(ts, dfs2)"
   ]
  },
  {
   "cell_type": "markdown",
   "id": "7ecf1493-1812-457c-a683-e47c591880f1",
   "metadata": {},
   "source": [
    "## Plots and Analysis"
   ]
  },
  {
   "cell_type": "markdown",
   "id": "c0323cd2-9d73-41e7-8188-74d154bc3e77",
   "metadata": {},
   "source": [
    "## Generate code"
   ]
  },
  {
   "cell_type": "markdown",
   "id": "8b248e15-1bf6-4705-9629-93de479dc593",
   "metadata": {},
   "source": [
    "Pre-process the symbolic expressions"
   ]
  },
  {
   "cell_type": "code",
   "execution_count": 18,
   "id": "ffad5622-3f52-4060-8069-4efc3d478249",
   "metadata": {},
   "outputs": [],
   "source": [
    "U = N(U)\n",
    "F = N(F)\n",
    "div_F = N(div_F)\n",
    "L_OM = N(L_OM)\n",
    "L_FW = N(L_FW)\n",
    "\n",
    "L_x_OM = N(L_x_OM)\n",
    "L_xd_OM = N(L_xd_OM)\n",
    "\n",
    "L_x_FW = N(L_x_FW)\n",
    "L_xd_FW = N(L_xd_FW)\n",
    "\n",
    "L_x_x_OM = N(L_x_x_OM)\n",
    "L_xd_x_OM = N(L_xd_x_OM)\n",
    "L_xd_xd_OM = N(L_xd_xd_OM)\n",
    "\n",
    "L_x_x_FW = N(L_x_x_FW)\n",
    "L_xd_x_FW = N(L_xd_x_FW)\n",
    "L_xd_xd_FW = N(L_xd_xd_FW)\n",
    "\n",
    "dot_L_xd_x_OM = N(dot_L_xd_x_OM)\n",
    "dot_L_xd_x_FW = N(dot_L_xd_x_FW)"
   ]
  },
  {
   "cell_type": "code",
   "execution_count": 19,
   "id": "f5213934",
   "metadata": {},
   "outputs": [],
   "source": [
    "substitution_rules = {\n",
    "    sqrt(x**2 + y**2) : r,\n",
    "    x**2 + y**2 : r**2\n",
    "}\n",
    "\n",
    "def apply_substs(expr):\n",
    "    for a, b in substitution_rules.items():\n",
    "        expr = expr.subs(a,b)\n",
    "    return expr\n",
    "\n",
    "U = apply_substs(U)\n",
    "F = apply_substs(F)\n",
    "div_F = apply_substs(div_F)\n",
    "L_OM = apply_substs(L_OM)\n",
    "L_FW = apply_substs(L_FW)\n",
    "\n",
    "L_x_OM = apply_substs(L_x_OM)\n",
    "L_xd_OM = apply_substs(L_xd_OM)\n",
    "\n",
    "L_x_FW = apply_substs(L_x_FW)\n",
    "L_xd_FW = apply_substs(L_xd_FW)\n",
    "\n",
    "L_x_x_OM = apply_substs(L_x_x_OM)\n",
    "L_xd_x_OM = apply_substs(L_xd_x_OM)\n",
    "L_xd_xd_OM = apply_substs(L_xd_xd_OM)\n",
    "\n",
    "L_x_x_FW = apply_substs(L_x_x_FW)\n",
    "L_xd_x_FW = apply_substs(L_xd_x_FW)\n",
    "L_xd_xd_FW = apply_substs(L_xd_xd_FW)\n",
    "\n",
    "dot_L_xd_x_OM = apply_substs(dot_L_xd_x_OM)\n",
    "dot_L_xd_x_FW = apply_substs(dot_L_xd_x_FW)"
   ]
  },
  {
   "cell_type": "code",
   "execution_count": 20,
   "id": "d11890e0-a3cb-457f-977c-01bf345428c7",
   "metadata": {},
   "outputs": [],
   "source": [
    "for i in range(len(coords)):\n",
    "    coords[i].name = 'x[%s,i]' % i\n",
    "\n",
    "for i in range(len(dcoords)):\n",
    "    dcoords[i].name = 'xd[%s,i]' % i"
   ]
  },
  {
   "cell_type": "code",
   "execution_count": 21,
   "id": "92547fd6-effd-4b0d-8805-598d906ba7fc",
   "metadata": {},
   "outputs": [],
   "source": [
    "# Add the coord functions to the coords\n",
    "coords_and_coord_functions = list(coords) + list(coord_functions.keys())"
   ]
  },
  {
   "cell_type": "code",
   "execution_count": 22,
   "id": "1f22faba-7ce6-499f-95d4-566665965c74",
   "metadata": {},
   "outputs": [],
   "source": [
    "str_substitutions = {\n",
    "}"
   ]
  },
  {
   "cell_type": "code",
   "execution_count": 23,
   "id": "92fb7fba-f6ff-4892-be6d-291e9e2f13cf",
   "metadata": {},
   "outputs": [],
   "source": [
    "expr_optimiser.set_coords(coords_and_coord_functions, dcoords)"
   ]
  },
  {
   "cell_type": "code",
   "execution_count": 24,
   "id": "6948b6a2-6fe8-49ac-9bb7-65fc5fc22fd0",
   "metadata": {},
   "outputs": [],
   "source": [
    "def to_ccode(sym):\n",
    "    # Replace coordinate functions with symbols\n",
    "    for cf in coord_functions:\n",
    "        sym = sym.subs(cf, Symbol(cf.name))\n",
    "    \n",
    "    code = sympy.printing.ccode(sym)\n",
    "    \n",
    "    for k in str_substitutions:\n",
    "        code = code.replace(k, str_substitutions[k])\n",
    "        \n",
    "    return code"
   ]
  },
  {
   "cell_type": "code",
   "execution_count": 25,
   "id": "30ba1b75-698f-4e3a-a805-784b58757362",
   "metadata": {},
   "outputs": [],
   "source": [
    "def function_formatter(function_name, lines):\n",
    "    code_lines =  [function_name]\n",
    "    tab = '    '\n",
    "    \n",
    "    for tabs, code_line in lines:\n",
    "        code_lines.append( tabs*tab + code_line )\n",
    "        \n",
    "    return '\\n'.join(code_lines).strip()"
   ]
  },
  {
   "cell_type": "code",
   "execution_count": 26,
   "id": "5d8dc720-6ea6-4403-b1a6-52ad850b6c30",
   "metadata": {},
   "outputs": [],
   "source": [
    "coord_func_ccode_declarations = []\n",
    "for cf, cf_expr in coord_functions.items():\n",
    "    decl = '%s = %s' % (cf.name, to_ccode(cf_expr))\n",
    "    coord_func_ccode_declarations.append(decl)"
   ]
  },
  {
   "cell_type": "code",
   "execution_count": 27,
   "id": "f911cfe0-d9ab-4247-9430-44d68528d276",
   "metadata": {},
   "outputs": [],
   "source": [
    "def get_params_cdef(exprs, params, include_beta_gamma=True):\n",
    "    cdef_params = []\n",
    "    cdef_params.append((1, 'cdef:'))\n",
    "    cdef_params.append((2, 'int i'))\n",
    "    cdef_params.append((2, 'int dim = x.shape[0]'))\n",
    "    cdef_params.append((2, 'int Nt = x.shape[1]'))\n",
    "    \n",
    "    if include_beta_gamma:\n",
    "        cdef_params.append((2, 'DTYPE_t beta = self.beta'))\n",
    "        cdef_params.append((2, 'DTYPE_t gamma = self.gamma'))\n",
    "    for p in params:\n",
    "        cdef_params.append( (2, 'DTYPE_t %s = self.%s' % (p, p)) )\n",
    "    for cf, cf_expr in coord_functions.items():\n",
    "        cdef_params.append( (2, 'DTYPE_t %s' % cf.name) )\n",
    "    for var in expr_optimiser.get_used_vars(exprs):\n",
    "        const_expr = expr_optimiser.const_lookup[var][1]\n",
    "        cdef_params.append( (2, 'DTYPE_t %s = %s' % (var, expr_optimiser.dereference_expr(const_expr) ) ) )\n",
    "        \n",
    "    return cdef_params"
   ]
  },
  {
   "cell_type": "code",
   "execution_count": null,
   "id": "06a5cdd4-0ec6-4b35-90bf-fab0f5c66583",
   "metadata": {},
   "outputs": [],
   "source": [
    "U = expr_optimiser.sym_formatter(U)\n",
    "F = expr_optimiser.sym_formatter(F)\n",
    "div_F = expr_optimiser.sym_formatter(div_F)\n",
    "L_OM = expr_optimiser.sym_formatter(L_OM)\n",
    "L_FW = expr_optimiser.sym_formatter(L_FW)\n",
    "\n",
    "print(1)\n",
    "L_x_OM = expr_optimiser.sym_formatter(L_x_OM)\n",
    "L_xd_OM = expr_optimiser.sym_formatter(L_xd_OM)\n",
    "\n",
    "print(2)\n",
    "L_x_FW = expr_optimiser.sym_formatter(L_x_FW)\n",
    "L_xd_FW = expr_optimiser.sym_formatter(L_xd_FW)\n",
    "\n",
    "print(3)\n",
    "L_x_x_OM = expr_optimiser.sym_formatter(L_x_x_OM)\n",
    "L_xd_x_OM = expr_optimiser.sym_formatter(L_xd_x_OM)\n",
    "L_xd_xd_OM = expr_optimiser.sym_formatter(L_xd_xd_OM)\n",
    "\n",
    "print(4)\n",
    "L_x_x_FW = expr_optimiser.sym_formatter(L_x_x_FW)\n",
    "L_xd_x_FW = expr_optimiser.sym_formatter(L_xd_x_FW)\n",
    "L_xd_xd_FW = expr_optimiser.sym_formatter(L_xd_xd_FW)\n",
    "\n",
    "print(5)\n",
    "dot_L_xd_x_OM = expr_optimiser.sym_formatter(dot_L_xd_x_OM)\n",
    "dot_L_xd_x_FW = expr_optimiser.sym_formatter(dot_L_xd_x_FW)"
   ]
  },
  {
   "cell_type": "markdown",
   "id": "de71bfdc-54f6-4bc3-a006-3ae25eae4515",
   "metadata": {},
   "source": [
    "### Potential"
   ]
  },
  {
   "cell_type": "code",
   "execution_count": 28,
   "id": "878f1711-9362-416f-83ca-f29a67ce1208",
   "metadata": {},
   "outputs": [],
   "source": [
    "code_potential = [] + coord_func_ccode_declarations\n",
    "code_potential.append('potential[i] = %s' % to_ccode(U))\n",
    "cdef_potential = get_params_cdef(U, params, include_beta_gamma=False)"
   ]
  },
  {
   "cell_type": "markdown",
   "id": "04f45c7e-1961-4d90-8912-a2d52f615f6b",
   "metadata": {},
   "source": [
    "### Force and div Force"
   ]
  },
  {
   "cell_type": "code",
   "execution_count": 29,
   "id": "e17542ac-abcf-4895-9f29-20c27d6920ac",
   "metadata": {},
   "outputs": [],
   "source": [
    "code_force = []\n",
    "code_div_force = None\n",
    "\n",
    "code_force += coord_func_ccode_declarations\n",
    "\n",
    "for j in range(dim):\n",
    "    code_line = 'force[%s,i] = %s' % (j, to_ccode(F[j]))\n",
    "    code_force.append(code_line)\n",
    "\n",
    "code_div_force = 'div_force[i] = %s' % to_ccode(div_F)"
   ]
  },
  {
   "cell_type": "code",
   "execution_count": 30,
   "id": "48444b37-7646-4548-bd43-19acc0323516",
   "metadata": {},
   "outputs": [],
   "source": [
    "cdef_force = get_params_cdef(F, params, include_beta_gamma=False)\n",
    "cdef_force_and_div_force = get_params_cdef([F, div_F], params, include_beta_gamma=False)"
   ]
  },
  {
   "cell_type": "markdown",
   "id": "897e438a-a232-4fa7-8b98-e45554bdaf90",
   "metadata": {},
   "source": [
    "### Gradient of Lagrangian"
   ]
  },
  {
   "cell_type": "code",
   "execution_count": 31,
   "id": "312ac1b1-ddf7-4848-af32-f3f8e061eaef",
   "metadata": {},
   "outputs": [],
   "source": [
    "def get_gradL_code(L_x, L_xd):\n",
    "    code_L_x = [] + coord_func_ccode_declarations\n",
    "    code_L_xd = [] \n",
    "\n",
    "    for j in range(dim):\n",
    "        code_line = 'L_x[%s,i] = %s' % (j, to_ccode(L_x[j]))\n",
    "        code_L_x.append(code_line)\n",
    "        \n",
    "        code_line = 'L_xd[%s,i] = %s' % (j, to_ccode(L_xd[j]))\n",
    "        code_L_xd.append(code_line)\n",
    "            \n",
    "    return code_L_x, code_L_xd\n",
    "            \n",
    "code_L_x_OM, code_L_xd_OM = get_gradL_code(L_x_OM, L_xd_OM)\n",
    "code_L_x_FW, code_L_xd_FW = get_gradL_code(L_x_FW, L_xd_FW)"
   ]
  },
  {
   "cell_type": "code",
   "execution_count": 32,
   "id": "7ea9b997-70f6-43c2-b0eb-beb20259e371",
   "metadata": {},
   "outputs": [],
   "source": [
    "cdef_gradL_OM = get_params_cdef([L_x_OM, L_xd_OM], params, include_beta_gamma=True)\n",
    "cdef_gradL_FW = get_params_cdef([L_x_FW, L_xd_FW], params, include_beta_gamma=True)"
   ]
  },
  {
   "cell_type": "markdown",
   "id": "acdd4554-d78c-4441-ba5a-eee2c065e6ae",
   "metadata": {},
   "source": [
    "### Hessian of Lagrangian"
   ]
  },
  {
   "cell_type": "code",
   "execution_count": 33,
   "id": "d95a548e-1a5b-4064-9ea9-6eb64dd9520e",
   "metadata": {},
   "outputs": [],
   "source": [
    "def get_hessL_code(L_x_x, L_xd_x, L_xd_xd):\n",
    "    code_L_x_x = [] + coord_func_ccode_declarations\n",
    "    code_L_xd_x = [] \n",
    "    code_L_xd_xd = []\n",
    "\n",
    "    for j in range(dim):\n",
    "        for k in range(dim):\n",
    "            code_line = 'L_x_x[%s,%s,i] = %s' % (j, k, to_ccode(L_x_x[j,k]))\n",
    "            code_L_x_x.append(code_line)\n",
    "            \n",
    "            code_line = 'L_xd_x[%s,%s,i] = %s' % (j, k, to_ccode(L_xd_x[j,k]))\n",
    "            code_L_xd_x.append(code_line)\n",
    "            \n",
    "            code_line = 'L_xd_xd[%s,%s,i] = %s' % (j, k, to_ccode(L_xd_xd[j,k]))\n",
    "            code_L_xd_xd.append(code_line)\n",
    "            \n",
    "    return code_L_x_x, code_L_xd_x, code_L_xd_xd\n",
    "            \n",
    "code_L_x_x_OM, code_L_xd_x_OM, code_L_xd_xd_OM = get_hessL_code(L_x_x_OM, L_xd_x_OM, L_xd_xd_OM)\n",
    "code_L_x_x_FW, code_L_xd_x_FW, code_L_xd_xd_FW = get_hessL_code(L_x_x_FW, L_xd_x_FW, L_xd_xd_FW)"
   ]
  },
  {
   "cell_type": "code",
   "execution_count": 34,
   "id": "a0756851-e540-4c8b-9a8c-9eb041a2ac9b",
   "metadata": {},
   "outputs": [],
   "source": [
    "cdef_hessL_OM = get_params_cdef([L_x_x_OM, L_xd_x_OM, L_xd_xd_OM], params, include_beta_gamma=True)\n",
    "cdef_hessL_FW = get_params_cdef([L_x_x_FW, L_xd_x_FW, L_xd_xd_FW], params, include_beta_gamma=True)"
   ]
  },
  {
   "cell_type": "markdown",
   "id": "57d17ed9-b491-4017-9178-7f5f4a388eb9",
   "metadata": {},
   "source": [
    "### Time derivative of $L_{\\dot{x},x}$"
   ]
  },
  {
   "cell_type": "code",
   "execution_count": 35,
   "id": "1ba47a3e-31e4-45e5-a142-f43878e19d8e",
   "metadata": {},
   "outputs": [],
   "source": [
    "def get_dot_L_xd_x_code(dot_L_xd_x):\n",
    "    code_dot_L_xd_x = [] + coord_func_ccode_declarations\n",
    "\n",
    "    for j in range(dim):\n",
    "        for k in range(dim):\n",
    "            code_line = 'dot_L_dx_x[%s,%s,i] = %s' % (j, k, to_ccode(dot_L_xd_x[j,k]))\n",
    "            code_dot_L_xd_x.append(code_line)\n",
    "            \n",
    "    return code_dot_L_xd_x\n",
    "            \n",
    "code_dot_L_xd_x_OM = get_dot_L_xd_x_code(dot_L_xd_x_OM)\n",
    "code_dot_L_xd_x_FW = get_dot_L_xd_x_code(dot_L_xd_x_FW)"
   ]
  },
  {
   "cell_type": "code",
   "execution_count": 36,
   "id": "a4b73074-367a-43c5-88d5-42798f479928",
   "metadata": {},
   "outputs": [],
   "source": [
    "cdef_dot_L_xd_x_OM = get_params_cdef([dot_L_xd_x_OM], params, include_beta_gamma=True)\n",
    "cdef_dot_L_xd_x_FW = get_params_cdef([dot_L_xd_x_FW], params, include_beta_gamma=True)"
   ]
  },
  {
   "cell_type": "markdown",
   "id": "3596aeb6-5e1e-45bd-b2aa-9db61bbdbeb6",
   "metadata": {},
   "source": [
    "### Cython functions"
   ]
  },
  {
   "cell_type": "code",
   "execution_count": 37,
   "id": "514cc80c-a083-4975-9d75-2c4ef1684f3f",
   "metadata": {},
   "outputs": [],
   "source": [
    "function_name = 'cdef DTYPE_t _compute_potential(self, DTYPE_t[:] ts, DTYPE_t[:,:] x, DTYPE_t[:] potential):'\n",
    "\n",
    "lines = []\n",
    "lines += cdef_potential\n",
    "lines += [(1, '')]\n",
    "lines += [(1, 'for i in range(Nt):')]\n",
    "lines += [(2, l) for l in code_potential]\n",
    "\n",
    "_compute_potential = function_formatter(function_name, lines)"
   ]
  },
  {
   "cell_type": "code",
   "execution_count": 38,
   "id": "77753465-4077-4007-b139-3d14226a2ec1",
   "metadata": {},
   "outputs": [],
   "source": [
    "function_name = 'cdef DTYPE_t _compute_force(self, DTYPE_t[:] ts, DTYPE_t[:,:] x, DTYPE_t[:,:] force):'\n",
    "\n",
    "lines = []\n",
    "lines += cdef_force\n",
    "lines += [(1, '')]\n",
    "lines += [(1, 'for i in range(Nt):')]\n",
    "lines += [(2, l) for l in code_force]\n",
    "\n",
    "_compute_force = function_formatter(function_name, lines)"
   ]
  },
  {
   "cell_type": "code",
   "execution_count": 39,
   "id": "40f2eed9-7127-49cf-a6a5-98f0e01d76bb",
   "metadata": {},
   "outputs": [],
   "source": [
    "function_name = 'cdef DTYPE_t _compute_force_and_div_force(self, DTYPE_t[:] ts, DTYPE_t[:,:] x, DTYPE_t[:,:] force, DTYPE_t[:] div_force):'\n",
    "\n",
    "lines = []\n",
    "lines += cdef_force_and_div_force\n",
    "lines += [(1, '')]\n",
    "lines += [(1, 'for i in range(Nt):')]\n",
    "lines += [(2, l) for l in code_force]\n",
    "lines += [(2, code_div_force)]\n",
    "\n",
    "_compute_force_and_div_force = function_formatter(function_name, lines)"
   ]
  },
  {
   "cell_type": "code",
   "execution_count": 40,
   "id": "839db74e-e391-4184-acfe-dfc7c1daf4bb",
   "metadata": {},
   "outputs": [],
   "source": [
    "def get_gradL_function(code_L_x, code_L_xd, cdef_params, func_postfix):\n",
    "    function_name = 'cdef DTYPE_t _compute_gradL_%s(self, DTYPE_t[:] ts, DTYPE_t[:,:] x, DTYPE_t[:,:] xd, DTYPE_t[:,:] L_x, DTYPE_t[:,:] L_xd):' % func_postfix\n",
    "\n",
    "    lines = []\n",
    "    lines += cdef_params\n",
    "    lines += [(1, '')]\n",
    "    lines += [(1, 'for i in range(Nt):')]\n",
    "    lines += [(2, l) for l in code_L_x]\n",
    "    lines += [(2, l) for l in code_L_xd]\n",
    "    \n",
    "    return function_formatter(function_name, lines)\n",
    "\n",
    "_compute_gradL_OM = get_gradL_function(code_L_x_OM, code_L_xd_OM, cdef_gradL_OM, 'OM')\n",
    "_compute_gradL_FW = get_gradL_function(code_L_x_FW, code_L_xd_FW, cdef_gradL_FW, 'FW')"
   ]
  },
  {
   "cell_type": "code",
   "execution_count": 41,
   "id": "c6e9cffb-2a17-42d0-96f8-79ffbfdc5d6c",
   "metadata": {},
   "outputs": [],
   "source": [
    "def get_hessL_function(code_L_x_x, code_L_xd_x, code_L_xd_xd, cdef_params, func_postfix):\n",
    "    function_name = 'cdef DTYPE_t _compute_hessL_%s(self, DTYPE_t[:] ts, DTYPE_t[:,:] x, DTYPE_t[:,:] xd, DTYPE_t[:,:,:] L_x_x, DTYPE_t[:,:,:] L_xd_x, DTYPE_t[:,:,:] L_xd_xd):' % func_postfix\n",
    "\n",
    "    lines = []\n",
    "    lines += cdef_params\n",
    "    lines += [(1, '')]\n",
    "    lines += [(1, 'for i in range(Nt):')]\n",
    "    lines += [(2, l) for l in code_L_x_x]\n",
    "    lines += [(2, l) for l in code_L_xd_x]\n",
    "    lines += [(2, l) for l in code_L_xd_xd]\n",
    "    \n",
    "    return function_formatter(function_name, lines)\n",
    "\n",
    "_compute_hessL_OM = get_hessL_function(code_L_x_x_OM, code_L_xd_x_OM, code_L_xd_xd_OM, cdef_hessL_OM, 'OM')\n",
    "_compute_hessL_FW = get_hessL_function(code_L_x_x_FW, code_L_xd_x_FW, code_L_xd_xd_FW, cdef_hessL_FW, 'FW')"
   ]
  },
  {
   "cell_type": "code",
   "execution_count": 42,
   "id": "95ab12c9-43c0-4b7f-a33e-5453ee847df2",
   "metadata": {},
   "outputs": [],
   "source": [
    "def get_dot_L_xd_x_function(code_dot_L_xd_x, cdef_params, func_postfix):\n",
    "    function_name = 'cdef DTYPE_t _compute_dot_L_xd_x_%s(self, DTYPE_t[:] ts, DTYPE_t[:,:] x, DTYPE_t[:,:] xd, DTYPE_t[:,:,:] dot_L_dx_x):' % func_postfix\n",
    "\n",
    "    lines = []\n",
    "    lines += cdef_params\n",
    "    lines += [(1, '')]\n",
    "    lines += [(1, 'for i in range(Nt):')]\n",
    "    lines += [(2, l) for l in code_dot_L_xd_x]\n",
    "    \n",
    "    return function_formatter(function_name, lines)\n",
    "\n",
    "_compute_dot_L_xd_x_OM = get_dot_L_xd_x_function(code_dot_L_xd_x_OM, cdef_dot_L_xd_x_OM, 'OM')\n",
    "_compute_dot_L_xd_x_FW = get_dot_L_xd_x_function(code_dot_L_xd_x_FW, cdef_dot_L_xd_x_FW, 'FW')"
   ]
  },
  {
   "cell_type": "code",
   "execution_count": 44,
   "id": "f6d79d7e-40ef-4a65-a9a6-23b1327da815",
   "metadata": {
    "tags": []
   },
   "outputs": [
    {
     "name": "stdout",
     "output_type": "stream",
     "text": [
      "cdef DTYPE_t _compute_potential(self, DTYPE_t[:] ts, DTYPE_t[:,:] x, DTYPE_t[:] potential):\n",
      "    cdef:\n",
      "        int i\n",
      "        int dim = x.shape[0]\n",
      "        int Nt = x.shape[1]\n",
      "        DTYPE_t U0 = self.U0\n",
      "        DTYPE_t xip = self.xip\n",
      "        DTYPE_t xim = self.xim\n",
      "        DTYPE_t eta = self.eta\n",
      "        DTYPE_t theta = self.theta\n",
      "        DTYPE_t r\n",
      "    \n",
      "    for i in range(Nt):\n",
      "        r = sqrt(pow(x[0,i], 2) + pow(x[1,i], 2))\n",
      "        potential[i] = 0.5*pow(r - 1.0, 2)*(3.0*U0*pow(r, 2)*(xip + 2.0 + xim*x[1,i]/r) - 2.0*U0*(r - 1.0)*(3.0*r + 1.0))\n",
      "\n",
      "cdef DTYPE_t _compute_force(self, DTYPE_t[:] ts, DTYPE_t[:,:] x, DTYPE_t[:,:] force):\n",
      "    cdef:\n",
      "        int i\n",
      "        int dim = x.shape[0]\n",
      "        int Nt = x.shape[1]\n",
      "        DTYPE_t U0 = self.U0\n",
      "        DTYPE_t xip = self.xip\n",
      "        DTYPE_t xim = self.xim\n",
      "        DTYPE_t eta = self.eta\n",
      "        DTYPE_t theta = self.theta\n",
      "        DTYPE_t r\n",
      "    \n",
      "    for i in range(Nt):\n",
      "        r = sqrt(pow(x[0,i], 2) + pow(x[1,i], 2))\n",
      "        force[0,i] = 0.5*U0*x[0,i]*(r - 1.0)*(-6.0*r*(r*(xip + 2.0) + xim*x[1,i]) + 4.0*(r - 1.0)*(3.0*r + 1.0) + (r - 1.0)*(-6.0*r*(xip + 2.0) + 12.0*r - 3.0*xim*x[1,i] - 4.0))/r - eta*x[1,i]*exp(-theta*pow(r - 1, 2))/r\n",
      "        force[1,i] = 0.5*U0*(r - 1.0)*(2.0*x[1,i]*(-3.0*r*(r*(xip + 2.0) + xim*x[1,i]) + 2.0*(r - 1.0)*(3.0*r + 1.0)) + (r - 1.0)*(3.0*xim*(-pow(r, 2) + pow(x[1,i], 2)) + 2.0*x[1,i]*(-3.0*r*(xip + 2.0) + 6.0*r - 3.0*xim*x[1,i] - 2.0)))/r + eta*x[0,i]*exp(-theta*pow(r - 1, 2))/r\n",
      "\n",
      "cdef DTYPE_t _compute_force_and_div_force(self, DTYPE_t[:] ts, DTYPE_t[:,:] x, DTYPE_t[:,:] force, DTYPE_t[:] div_force):\n",
      "    cdef:\n",
      "        int i\n",
      "        int dim = x.shape[0]\n",
      "        int Nt = x.shape[1]\n",
      "        DTYPE_t U0 = self.U0\n",
      "        DTYPE_t xip = self.xip\n",
      "        DTYPE_t xim = self.xim\n",
      "        DTYPE_t eta = self.eta\n",
      "        DTYPE_t theta = self.theta\n",
      "        DTYPE_t r\n",
      "    \n",
      "    for i in range(Nt):\n",
      "        r = sqrt(pow(x[0,i], 2) + pow(x[1,i], 2))\n",
      "        force[0,i] = 0.5*U0*x[0,i]*(r - 1.0)*(-6.0*r*(r*(xip + 2.0) + xim*x[1,i]) + 4.0*(r - 1.0)*(3.0*r + 1.0) + (r - 1.0)*(-6.0*r*(xip + 2.0) + 12.0*r - 3.0*xim*x[1,i] - 4.0))/r - eta*x[1,i]*exp(-theta*pow(r - 1, 2))/r\n",
      "        force[1,i] = 0.5*U0*(r - 1.0)*(2.0*x[1,i]*(-3.0*r*(r*(xip + 2.0) + xim*x[1,i]) + 2.0*(r - 1.0)*(3.0*r + 1.0)) + (r - 1.0)*(3.0*xim*(-pow(r, 2) + pow(x[1,i], 2)) + 2.0*x[1,i]*(-3.0*r*(xip + 2.0) + 6.0*r - 3.0*xim*x[1,i] - 2.0)))/r + eta*x[0,i]*exp(-theta*pow(r - 1, 2))/r\n",
      "        div_force[i] = -12.0*U0*pow(r, 2)*xip - 18.0*U0*r*xim*x[1,i] + 18.0*U0*r*xip - 12.0*U0*r - 12.0*U0*pow(x[0,i], 2)*xip + 24.0*U0*xim*x[1,i] - 12.0*U0*xip*pow(x[1,i], 2) - 6.0*U0*xip + 12.0*U0 - 4.5*U0*pow(x[0,i], 2)*xim*x[1,i]/r + 9.0*U0*pow(x[0,i], 2)*xip/r - 6.0*U0*pow(x[0,i], 2)/r - 4.5*U0*xim*pow(x[1,i], 3)/r - 6.0*U0*xim*x[1,i]/r + 9.0*U0*xip*pow(x[1,i], 2)/r - 6.0*U0*pow(x[1,i], 2)/r + 1.5*U0*pow(x[0,i], 2)*xim*x[1,i]/pow(r, 3) + 1.5*U0*xim*pow(x[1,i], 3)/pow(r, 3)\n",
      "\n",
      "cdef DTYPE_t _compute_gradL_OM(self, DTYPE_t[:] ts, DTYPE_t[:,:] x, DTYPE_t[:,:] xd, DTYPE_t[:,:] L_x, DTYPE_t[:,:] L_xd):\n",
      "    cdef:\n",
      "        int i\n",
      "        int dim = x.shape[0]\n",
      "        int Nt = x.shape[1]\n",
      "        DTYPE_t beta = self.beta\n",
      "        DTYPE_t gamma = self.gamma\n",
      "        DTYPE_t U0 = self.U0\n",
      "        DTYPE_t xip = self.xip\n",
      "        DTYPE_t xim = self.xim\n",
      "        DTYPE_t eta = self.eta\n",
      "        DTYPE_t theta = self.theta\n",
      "        DTYPE_t r\n",
      "    \n",
      "    for i in range(Nt):\n",
      "        r = sqrt(pow(x[0,i], 2) + pow(x[1,i], 2))\n",
      "        L_x[0,i] = 0.0625*(r*(-48.0*U0*theta*x[0,i]*(r - 1.0)*(4.0*pow(r, 3)*(2.0*pow(r, 2)*xip + 3.0*r*xim*x[1,i] - 3.0*r*xip + 2.0*r + 2.0*pow(x[0,i], 2)*xip - 4.0*xim*x[1,i] + 2.0*xip*pow(x[1,i], 2) + xip - 2.0) - pow(r, 2)*xim*x[1,i] + pow(r, 2)*(3.0*pow(x[0,i], 2)*xim*x[1,i] - 6.0*pow(x[0,i], 2)*xip + 4.0*pow(x[0,i], 2) + 3.0*xim*pow(x[1,i], 3) + 4.0*xim*x[1,i] - 6.0*xip*pow(x[1,i], 2) + 4.0*pow(x[1,i], 2)))*exp(2*theta*pow(r - 1, 2)) + beta*x[0,i]*(4.0*pow(0.5*U0*(r - 1.0)*(2.0*x[1,i]*(3.0*r*(r*(xip + 2.0) + xim*x[1,i]) - 2.0*(r - 1.0)*(3.0*r + 1.0)) - (r - 1.0)*(3.0*xim*(-pow(r, 2) + pow(x[1,i], 2)) - 2.0*x[1,i]*(3.0*r*(xip + 2.0) - 6.0*r + 3.0*xim*x[1,i] + 2.0)))*exp(theta*pow(r - 1, 2)) - eta*x[0,i] + gamma*r*xd[1,i]*exp(theta*pow(r - 1, 2)), 2) + 4.0*pow(0.5*U0*x[0,i]*(r - 1.0)*(6.0*r*(r*(xip + 2.0) + xim*x[1,i]) - 4.0*(r - 1.0)*(3.0*r + 1.0) + (r - 1.0)*(6.0*r*(xip + 2.0) - 12.0*r + 3.0*xim*x[1,i] + 4.0))*exp(theta*pow(r - 1, 2)) + eta*x[1,i] + gamma*r*xd[0,i]*exp(theta*pow(r - 1, 2)), 2)) - 2.0*r*(12.0*U0*x[0,i]*(pow(r, 2)*(3.0*xim*x[1,i] - 6.0*xip + 4.0) + 2.0*pow(r, 2)*(8.0*r*xip + 3.0*xim*x[1,i] - 3.0*xip + 2.0) + 6.0*r*(2.0*pow(r, 2)*xip + 3.0*r*xim*x[1,i] - 3.0*r*xip + 2.0*r + 2.0*pow(x[0,i], 2)*xip - 4.0*xim*x[1,i] + 2.0*xip*pow(x[1,i], 2) + xip - 2.0) + 3.0*pow(x[0,i], 2)*xim*x[1,i] - 6.0*pow(x[0,i], 2)*xip + 4.0*pow(x[0,i], 2) + 3.0*xim*pow(x[1,i], 3) + 3.0*xim*x[1,i] - 6.0*xip*pow(x[1,i], 2) + 4.0*pow(x[1,i], 2))*exp(2*theta*pow(r - 1, 2)) - beta*((U0*(r - 1.0)*(2.0*x[1,i]*(3.0*r*(r*(xip + 2.0) + xim*x[1,i]) - 2.0*(r - 1.0)*(3.0*r + 1.0)) - (r - 1.0)*(3.0*xim*(-pow(r, 2) + pow(x[1,i], 2)) - 2.0*x[1,i]*(3.0*r*(xip + 2.0) - 6.0*r + 3.0*xim*x[1,i] + 2.0)))*exp(theta*pow(r - 1, 2)) - 2.0*eta*x[0,i] + 2.0*gamma*r*xd[1,i]*exp(theta*pow(r - 1, 2)))*(2.0*U0*theta*x[0,i]*pow(r - 1.0, 2)*(2.0*x[1,i]*(3.0*r*(r*(xip + 2.0) + xim*x[1,i]) - 2.0*(r - 1.0)*(3.0*r + 1.0)) - (r - 1.0)*(3.0*xim*(-pow(r, 2) + pow(x[1,i], 2)) - 2.0*x[1,i]*(3.0*r*(xip + 2.0) - 6.0*r + 3.0*xim*x[1,i] + 2.0)))*exp(theta*pow(r - 1, 2)) + U0*x[0,i]*(r - 1.0)*(-3.0*xim*(-pow(r, 2) + pow(x[1,i], 2)) + 2.0*x[1,i]*(3.0*r*(xip + 2.0) - 6.0*r + 3.0*xim*x[1,i] + 2.0) + 2.0*x[1,i]*(6.0*r*(xip + 2.0) - 12.0*r + 3.0*xim*x[1,i] + 4.0) + 6.0*(r - 1.0)*(r*xim + xip*x[1,i]))*exp(theta*pow(r - 1, 2)) + U0*x[0,i]*(2.0*x[1,i]*(3.0*r*(r*(xip + 2.0) + xim*x[1,i]) - 2.0*(r - 1.0)*(3.0*r + 1.0)) - (r - 1.0)*(3.0*xim*(-pow(r, 2) + pow(x[1,i], 2)) - 2.0*x[1,i]*(3.0*r*(xip + 2.0) - 6.0*r + 3.0*xim*x[1,i] + 2.0)))*exp(theta*pow(r - 1, 2)) + 2.0*gamma*x[0,i]*xd[1,i]*exp(theta*pow(r - 1, 2)) + 2.0*r*(-eta + 2.0*gamma*theta*x[0,i]*xd[1,i]*(r - 1.0)*exp(theta*pow(r - 1, 2)))) + (U0*x[0,i]*(r - 1.0)*(6.0*r*(r*(xip + 2.0) + xim*x[1,i]) - 4.0*(r - 1.0)*(3.0*r + 1.0) + (r - 1.0)*(6.0*r*(xip + 2.0) - 12.0*r + 3.0*xim*x[1,i] + 4.0))*exp(theta*pow(r - 1, 2)) + 2.0*eta*x[1,i] + 2.0*gamma*r*xd[0,i]*exp(theta*pow(r - 1, 2)))*(2.0*U0*theta*pow(x[0,i], 2)*pow(r - 1.0, 2)*(6.0*r*(r*(xip + 2.0) + xim*x[1,i]) - 4.0*(r - 1.0)*(3.0*r + 1.0) + (r - 1.0)*(6.0*r*(xip + 2.0) - 12.0*r + 3.0*xim*x[1,i] + 4.0)) + 3.0*U0*pow(x[0,i], 2)*(r - 1.0)*(6.0*r*(xip + 2.0) - 12.0*r + 3.0*xim*x[1,i] + 2.0*xip*(r - 1.0) + 4.0) + U0*pow(x[0,i], 2)*(6.0*r*(r*(xip + 2.0) + xim*x[1,i]) - 4.0*(r - 1.0)*(3.0*r + 1.0) + (r - 1.0)*(6.0*r*(xip + 2.0) - 12.0*r + 3.0*xim*x[1,i] + 4.0)) + 2.0*gamma*x[0,i]*xd[0,i] + r*(r - 1.0)*(U0*(6.0*r*(r*(xip + 2.0) + xim*x[1,i]) - 4.0*(r - 1.0)*(3.0*r + 1.0) + (r - 1.0)*(6.0*r*(xip + 2.0) - 12.0*r + 3.0*xim*x[1,i] + 4.0)) + 4.0*gamma*theta*x[0,i]*xd[0,i]))*exp(theta*pow(r - 1, 2)))) + 4.0*theta*x[0,i]*(r - 1.0)*(12.0*U0*(4.0*pow(r, 3)*(2.0*pow(r, 2)*xip + 3.0*r*xim*x[1,i] - 3.0*r*xip + 2.0*r + 2.0*pow(x[0,i], 2)*xip - 4.0*xim*x[1,i] + 2.0*xip*pow(x[1,i], 2) + xip - 2.0) - pow(r, 2)*xim*x[1,i] + pow(r, 2)*(3.0*pow(x[0,i], 2)*xim*x[1,i] - 6.0*pow(x[0,i], 2)*xip + 4.0*pow(x[0,i], 2) + 3.0*xim*pow(x[1,i], 3) + 4.0*xim*x[1,i] - 6.0*xip*pow(x[1,i], 2) + 4.0*pow(x[1,i], 2)))*exp(2*theta*pow(r - 1, 2)) - beta*r*(4.0*pow(0.5*U0*(r - 1.0)*(2.0*x[1,i]*(3.0*r*(r*(xip + 2.0) + xim*x[1,i]) - 2.0*(r - 1.0)*(3.0*r + 1.0)) - (r - 1.0)*(3.0*xim*(-pow(r, 2) + pow(x[1,i], 2)) - 2.0*x[1,i]*(3.0*r*(xip + 2.0) - 6.0*r + 3.0*xim*x[1,i] + 2.0)))*exp(theta*pow(r - 1, 2)) - eta*x[0,i] + gamma*r*xd[1,i]*exp(theta*pow(r - 1, 2)), 2) + 4.0*pow(0.5*U0*x[0,i]*(r - 1.0)*(6.0*r*(r*(xip + 2.0) + xim*x[1,i]) - 4.0*(r - 1.0)*(3.0*r + 1.0) + (r - 1.0)*(6.0*r*(xip + 2.0) - 12.0*r + 3.0*xim*x[1,i] + 4.0))*exp(theta*pow(r - 1, 2)) + eta*x[1,i] + gamma*r*xd[0,i]*exp(theta*pow(r - 1, 2)), 2)))) + 3.0*x[0,i]*(12.0*U0*(4.0*pow(r, 3)*(2.0*pow(r, 2)*xip + 3.0*r*xim*x[1,i] - 3.0*r*xip + 2.0*r + 2.0*pow(x[0,i], 2)*xip - 4.0*xim*x[1,i] + 2.0*xip*pow(x[1,i], 2) + xip - 2.0) - pow(r, 2)*xim*x[1,i] + pow(r, 2)*(3.0*pow(x[0,i], 2)*xim*x[1,i] - 6.0*pow(x[0,i], 2)*xip + 4.0*pow(x[0,i], 2) + 3.0*xim*pow(x[1,i], 3) + 4.0*xim*x[1,i] - 6.0*xip*pow(x[1,i], 2) + 4.0*pow(x[1,i], 2)))*exp(2*theta*pow(r - 1, 2)) - beta*r*(4.0*pow(0.5*U0*(r - 1.0)*(2.0*x[1,i]*(3.0*r*(r*(xip + 2.0) + xim*x[1,i]) - 2.0*(r - 1.0)*(3.0*r + 1.0)) - (r - 1.0)*(3.0*xim*(-pow(r, 2) + pow(x[1,i], 2)) - 2.0*x[1,i]*(3.0*r*(xip + 2.0) - 6.0*r + 3.0*xim*x[1,i] + 2.0)))*exp(theta*pow(r - 1, 2)) - eta*x[0,i] + gamma*r*xd[1,i]*exp(theta*pow(r - 1, 2)), 2) + 4.0*pow(0.5*U0*x[0,i]*(r - 1.0)*(6.0*r*(r*(xip + 2.0) + xim*x[1,i]) - 4.0*(r - 1.0)*(3.0*r + 1.0) + (r - 1.0)*(6.0*r*(xip + 2.0) - 12.0*r + 3.0*xim*x[1,i] + 4.0))*exp(theta*pow(r - 1, 2)) + eta*x[1,i] + gamma*r*xd[0,i]*exp(theta*pow(r - 1, 2)), 2))))*exp(-2*theta*pow(r - 1, 2))/(gamma*pow(r, 5))\n",
      "        L_x[1,i] = 0.0625*(r*(-48.0*U0*theta*x[1,i]*(r - 1.0)*(4.0*pow(r, 3)*(2.0*pow(r, 2)*xip + 3.0*r*xim*x[1,i] - 3.0*r*xip + 2.0*r + 2.0*pow(x[0,i], 2)*xip - 4.0*xim*x[1,i] + 2.0*xip*pow(x[1,i], 2) + xip - 2.0) - pow(r, 2)*xim*x[1,i] + pow(r, 2)*(3.0*pow(x[0,i], 2)*xim*x[1,i] - 6.0*pow(x[0,i], 2)*xip + 4.0*pow(x[0,i], 2) + 3.0*xim*pow(x[1,i], 3) + 4.0*xim*x[1,i] - 6.0*xip*pow(x[1,i], 2) + 4.0*pow(x[1,i], 2)))*exp(2*theta*pow(r - 1, 2)) + beta*x[1,i]*(4.0*pow(0.5*U0*(r - 1.0)*(2.0*x[1,i]*(3.0*r*(r*(xip + 2.0) + xim*x[1,i]) - 2.0*(r - 1.0)*(3.0*r + 1.0)) - (r - 1.0)*(3.0*xim*(-pow(r, 2) + pow(x[1,i], 2)) - 2.0*x[1,i]*(3.0*r*(xip + 2.0) - 6.0*r + 3.0*xim*x[1,i] + 2.0)))*exp(theta*pow(r - 1, 2)) - eta*x[0,i] + gamma*r*xd[1,i]*exp(theta*pow(r - 1, 2)), 2) + 4.0*pow(0.5*U0*x[0,i]*(r - 1.0)*(6.0*r*(r*(xip + 2.0) + xim*x[1,i]) - 4.0*(r - 1.0)*(3.0*r + 1.0) + (r - 1.0)*(6.0*r*(xip + 2.0) - 12.0*r + 3.0*xim*x[1,i] + 4.0))*exp(theta*pow(r - 1, 2)) + eta*x[1,i] + gamma*r*xd[0,i]*exp(theta*pow(r - 1, 2)), 2)) - 2.0*r*(6.0*U0*(-pow(r, 2)*xim + 4.0*pow(r, 2)*(r*(3.0*r*xim - 4.0*xim + 8.0*xip*x[1,i]) + 3.0*xim*pow(x[1,i], 2) - 3.0*xip*x[1,i] + 2.0*x[1,i]) + pow(r, 2)*(3.0*pow(x[0,i], 2)*xim + 9.0*xim*pow(x[1,i], 2) + 4.0*xim - 12.0*xip*x[1,i] + 8.0*x[1,i]) + 12.0*r*x[1,i]*(2.0*pow(r, 2)*xip + 3.0*r*xim*x[1,i] - 3.0*r*xip + 2.0*r + 2.0*pow(x[0,i], 2)*xip - 4.0*xim*x[1,i] + 2.0*xip*pow(x[1,i], 2) + xip - 2.0) - 2.0*xim*pow(x[1,i], 2) + 2.0*x[1,i]*(3.0*pow(x[0,i], 2)*xim*x[1,i] - 6.0*pow(x[0,i], 2)*xip + 4.0*pow(x[0,i], 2) + 3.0*xim*pow(x[1,i], 3) + 4.0*xim*x[1,i] - 6.0*xip*pow(x[1,i], 2) + 4.0*pow(x[1,i], 2)))*exp(2*theta*pow(r - 1, 2)) - beta*((U0*(r - 1.0)*(2.0*x[1,i]*(3.0*r*(r*(xip + 2.0) + xim*x[1,i]) - 2.0*(r - 1.0)*(3.0*r + 1.0)) - (r - 1.0)*(3.0*xim*(-pow(r, 2) + pow(x[1,i], 2)) - 2.0*x[1,i]*(3.0*r*(xip + 2.0) - 6.0*r + 3.0*xim*x[1,i] + 2.0)))*exp(theta*pow(r - 1, 2)) - 2.0*eta*x[0,i] + 2.0*gamma*r*xd[1,i]*exp(theta*pow(r - 1, 2)))*(2.0*U0*theta*x[1,i]*pow(r - 1.0, 2)*(2.0*x[1,i]*(3.0*r*(r*(xip + 2.0) + xim*x[1,i]) - 2.0*(r - 1.0)*(3.0*r + 1.0)) - (r - 1.0)*(3.0*xim*(-pow(r, 2) + pow(x[1,i], 2)) - 2.0*x[1,i]*(3.0*r*(xip + 2.0) - 6.0*r + 3.0*xim*x[1,i] + 2.0))) + U0*x[1,i]*(2.0*x[1,i]*(3.0*r*(r*(xip + 2.0) + xim*x[1,i]) - 2.0*(r - 1.0)*(3.0*r + 1.0)) - (r - 1.0)*(3.0*xim*(-pow(r, 2) + pow(x[1,i], 2)) - 2.0*x[1,i]*(3.0*r*(xip + 2.0) - 6.0*r + 3.0*xim*x[1,i] + 2.0))) + U0*(r - 1.0)*(2.0*r*(3.0*r*(r*(xip + 2.0) + xim*x[1,i]) - 2.0*(r - 1.0)*(3.0*r + 1.0)) - x[1,i]*(3.0*xim*(-pow(r, 2) + pow(x[1,i], 2)) - 2.0*x[1,i]*(3.0*r*(xip + 2.0) - 6.0*r + 3.0*xim*x[1,i] + 2.0)) + 2.0*x[1,i]*(3.0*r*(r*xim + x[1,i]*(xip + 2.0)) - 6.0*x[1,i]*(r - 1.0) - 2.0*x[1,i]*(3.0*r + 1.0) + 3.0*x[1,i]*(r*(xip + 2.0) + xim*x[1,i])) + 2.0*(r - 1.0)*(r*(3.0*r*(xip + 2.0) - 6.0*r + 3.0*xim*x[1,i] + 2.0) + 3.0*x[1,i]*(r*xim + x[1,i]*(xip + 2.0) - 2.0*x[1,i]))) + 4.0*gamma*r*theta*x[1,i]*xd[1,i]*(r - 1.0) + 2.0*gamma*x[1,i]*xd[1,i])*exp(theta*pow(r - 1, 2)) + (U0*x[0,i]*(r - 1.0)*(6.0*r*(r*(xip + 2.0) + xim*x[1,i]) - 4.0*(r - 1.0)*(3.0*r + 1.0) + (r - 1.0)*(6.0*r*(xip + 2.0) - 12.0*r + 3.0*xim*x[1,i] + 4.0))*exp(theta*pow(r - 1, 2)) + 2.0*eta*x[1,i] + 2.0*gamma*r*xd[0,i]*exp(theta*pow(r - 1, 2)))*(2.0*U0*theta*x[0,i]*x[1,i]*pow(r - 1.0, 2)*(6.0*r*(r*(xip + 2.0) + xim*x[1,i]) - 4.0*(r - 1.0)*(3.0*r + 1.0) + (r - 1.0)*(6.0*r*(xip + 2.0) - 12.0*r + 3.0*xim*x[1,i] + 4.0))*exp(theta*pow(r - 1, 2)) + U0*x[0,i]*x[1,i]*(6.0*r*(r*(xip + 2.0) + xim*x[1,i]) - 4.0*(r - 1.0)*(3.0*r + 1.0) + (r - 1.0)*(6.0*r*(xip + 2.0) - 12.0*r + 3.0*xim*x[1,i] + 4.0))*exp(theta*pow(r - 1, 2)) + U0*x[0,i]*(r - 1.0)*(6.0*r*(r*xim + x[1,i]*(xip + 2.0)) - 12.0*x[1,i]*(r - 1.0) - 4.0*x[1,i]*(3.0*r + 1.0) + 6.0*x[1,i]*(r*(xip + 2.0) + xim*x[1,i]) + x[1,i]*(6.0*r*(xip + 2.0) - 12.0*r + 3.0*xim*x[1,i] + 4.0) + 3.0*(r - 1.0)*(r*xim + 2.0*x[1,i]*(xip + 2.0) - 4.0*x[1,i]))*exp(theta*pow(r - 1, 2)) + 2.0*gamma*xd[0,i]*x[1,i]*exp(theta*pow(r - 1, 2)) + 2.0*r*(eta + 2.0*gamma*theta*xd[0,i]*x[1,i]*(r - 1.0)*exp(theta*pow(r - 1, 2)))))) + 4.0*theta*x[1,i]*(r - 1.0)*(12.0*U0*(4.0*pow(r, 3)*(2.0*pow(r, 2)*xip + 3.0*r*xim*x[1,i] - 3.0*r*xip + 2.0*r + 2.0*pow(x[0,i], 2)*xip - 4.0*xim*x[1,i] + 2.0*xip*pow(x[1,i], 2) + xip - 2.0) - pow(r, 2)*xim*x[1,i] + pow(r, 2)*(3.0*pow(x[0,i], 2)*xim*x[1,i] - 6.0*pow(x[0,i], 2)*xip + 4.0*pow(x[0,i], 2) + 3.0*xim*pow(x[1,i], 3) + 4.0*xim*x[1,i] - 6.0*xip*pow(x[1,i], 2) + 4.0*pow(x[1,i], 2)))*exp(2*theta*pow(r - 1, 2)) - beta*r*(4.0*pow(0.5*U0*(r - 1.0)*(2.0*x[1,i]*(3.0*r*(r*(xip + 2.0) + xim*x[1,i]) - 2.0*(r - 1.0)*(3.0*r + 1.0)) - (r - 1.0)*(3.0*xim*(-pow(r, 2) + pow(x[1,i], 2)) - 2.0*x[1,i]*(3.0*r*(xip + 2.0) - 6.0*r + 3.0*xim*x[1,i] + 2.0)))*exp(theta*pow(r - 1, 2)) - eta*x[0,i] + gamma*r*xd[1,i]*exp(theta*pow(r - 1, 2)), 2) + 4.0*pow(0.5*U0*x[0,i]*(r - 1.0)*(6.0*r*(r*(xip + 2.0) + xim*x[1,i]) - 4.0*(r - 1.0)*(3.0*r + 1.0) + (r - 1.0)*(6.0*r*(xip + 2.0) - 12.0*r + 3.0*xim*x[1,i] + 4.0))*exp(theta*pow(r - 1, 2)) + eta*x[1,i] + gamma*r*xd[0,i]*exp(theta*pow(r - 1, 2)), 2)))) + 3.0*x[1,i]*(12.0*U0*(4.0*pow(r, 3)*(2.0*pow(r, 2)*xip + 3.0*r*xim*x[1,i] - 3.0*r*xip + 2.0*r + 2.0*pow(x[0,i], 2)*xip - 4.0*xim*x[1,i] + 2.0*xip*pow(x[1,i], 2) + xip - 2.0) - pow(r, 2)*xim*x[1,i] + pow(r, 2)*(3.0*pow(x[0,i], 2)*xim*x[1,i] - 6.0*pow(x[0,i], 2)*xip + 4.0*pow(x[0,i], 2) + 3.0*xim*pow(x[1,i], 3) + 4.0*xim*x[1,i] - 6.0*xip*pow(x[1,i], 2) + 4.0*pow(x[1,i], 2)))*exp(2*theta*pow(r - 1, 2)) - beta*r*(4.0*pow(0.5*U0*(r - 1.0)*(2.0*x[1,i]*(3.0*r*(r*(xip + 2.0) + xim*x[1,i]) - 2.0*(r - 1.0)*(3.0*r + 1.0)) - (r - 1.0)*(3.0*xim*(-pow(r, 2) + pow(x[1,i], 2)) - 2.0*x[1,i]*(3.0*r*(xip + 2.0) - 6.0*r + 3.0*xim*x[1,i] + 2.0)))*exp(theta*pow(r - 1, 2)) - eta*x[0,i] + gamma*r*xd[1,i]*exp(theta*pow(r - 1, 2)), 2) + 4.0*pow(0.5*U0*x[0,i]*(r - 1.0)*(6.0*r*(r*(xip + 2.0) + xim*x[1,i]) - 4.0*(r - 1.0)*(3.0*r + 1.0) + (r - 1.0)*(6.0*r*(xip + 2.0) - 12.0*r + 3.0*xim*x[1,i] + 4.0))*exp(theta*pow(r - 1, 2)) + eta*x[1,i] + gamma*r*xd[0,i]*exp(theta*pow(r - 1, 2)), 2))))*exp(-2*theta*pow(r - 1, 2))/(gamma*pow(r, 5))\n",
      "        L_xd[0,i] = 0.25*beta*(U0*x[0,i]*(r - 1.0)*(6.0*r*(r*(xip + 2.0) + xim*x[1,i]) - 4.0*(r - 1.0)*(3.0*r + 1.0) + (r - 1.0)*(6.0*r*(xip + 2.0) - 12.0*r + 3.0*xim*x[1,i] + 4.0))*exp(theta*pow(r - 1, 2)) + 2.0*eta*x[1,i] + 2.0*gamma*r*xd[0,i]*exp(theta*pow(r - 1, 2)))*exp(-theta*pow(r - 1, 2))/r\n",
      "        L_xd[1,i] = 0.25*beta*(U0*(r - 1.0)*(2.0*x[1,i]*(3.0*r*(r*(xip + 2.0) + xim*x[1,i]) - 2.0*(r - 1.0)*(3.0*r + 1.0)) - (r - 1.0)*(3.0*xim*(-pow(r, 2) + pow(x[1,i], 2)) - 2.0*x[1,i]*(3.0*r*(xip + 2.0) - 6.0*r + 3.0*xim*x[1,i] + 2.0)))*exp(theta*pow(r - 1, 2)) - 2.0*eta*x[0,i] + 2.0*gamma*r*xd[1,i]*exp(theta*pow(r - 1, 2)))*exp(-theta*pow(r - 1, 2))/r\n",
      "\n",
      "cdef DTYPE_t _compute_gradL_FW(self, DTYPE_t[:] ts, DTYPE_t[:,:] x, DTYPE_t[:,:] xd, DTYPE_t[:,:] L_x, DTYPE_t[:,:] L_xd):\n",
      "    cdef:\n",
      "        int i\n",
      "        int dim = x.shape[0]\n",
      "        int Nt = x.shape[1]\n",
      "        DTYPE_t beta = self.beta\n",
      "        DTYPE_t gamma = self.gamma\n",
      "        DTYPE_t U0 = self.U0\n",
      "        DTYPE_t xip = self.xip\n",
      "        DTYPE_t xim = self.xim\n",
      "        DTYPE_t eta = self.eta\n",
      "        DTYPE_t theta = self.theta\n",
      "        DTYPE_t r\n",
      "    \n",
      "    for i in range(Nt):\n",
      "        r = sqrt(pow(x[0,i], 2) + pow(x[1,i], 2))\n",
      "        L_x[0,i] = 0.125*beta*(r*(-2.0*theta*x[0,i]*(r - 1.0)*(4.0*pow(0.5*U0*(r - 1.0)*(2.0*x[1,i]*(3.0*r*(r*(xip + 2.0) + xim*x[1,i]) - 2.0*(r - 1.0)*(3.0*r + 1.0)) - (r - 1.0)*(3.0*xim*(-pow(r, 2) + pow(x[1,i], 2)) - 2.0*x[1,i]*(3.0*r*(xip + 2.0) - 6.0*r + 3.0*xim*x[1,i] + 2.0)))*exp(theta*pow(r - 1, 2)) - eta*x[0,i] + gamma*r*xd[1,i]*exp(theta*pow(r - 1, 2)), 2) + 4.0*pow(0.5*U0*x[0,i]*(r - 1.0)*(6.0*r*(r*(xip + 2.0) + xim*x[1,i]) - 4.0*(r - 1.0)*(3.0*r + 1.0) + (r - 1.0)*(6.0*r*(xip + 2.0) - 12.0*r + 3.0*xim*x[1,i] + 4.0))*exp(theta*pow(r - 1, 2)) + eta*x[1,i] + gamma*r*xd[0,i]*exp(theta*pow(r - 1, 2)), 2)) + (U0*(r - 1.0)*(2.0*x[1,i]*(3.0*r*(r*(xip + 2.0) + xim*x[1,i]) - 2.0*(r - 1.0)*(3.0*r + 1.0)) - (r - 1.0)*(3.0*xim*(-pow(r, 2) + pow(x[1,i], 2)) - 2.0*x[1,i]*(3.0*r*(xip + 2.0) - 6.0*r + 3.0*xim*x[1,i] + 2.0)))*exp(theta*pow(r - 1, 2)) - 2.0*eta*x[0,i] + 2.0*gamma*r*xd[1,i]*exp(theta*pow(r - 1, 2)))*(2.0*U0*theta*x[0,i]*pow(r - 1.0, 2)*(2.0*x[1,i]*(3.0*r*(r*(xip + 2.0) + xim*x[1,i]) - 2.0*(r - 1.0)*(3.0*r + 1.0)) - (r - 1.0)*(3.0*xim*(-pow(r, 2) + pow(x[1,i], 2)) - 2.0*x[1,i]*(3.0*r*(xip + 2.0) - 6.0*r + 3.0*xim*x[1,i] + 2.0)))*exp(theta*pow(r - 1, 2)) + U0*x[0,i]*(r - 1.0)*(-3.0*xim*(-pow(r, 2) + pow(x[1,i], 2)) + 2.0*x[1,i]*(3.0*r*(xip + 2.0) - 6.0*r + 3.0*xim*x[1,i] + 2.0) + 2.0*x[1,i]*(6.0*r*(xip + 2.0) - 12.0*r + 3.0*xim*x[1,i] + 4.0) + 6.0*(r - 1.0)*(r*xim + xip*x[1,i]))*exp(theta*pow(r - 1, 2)) + U0*x[0,i]*(2.0*x[1,i]*(3.0*r*(r*(xip + 2.0) + xim*x[1,i]) - 2.0*(r - 1.0)*(3.0*r + 1.0)) - (r - 1.0)*(3.0*xim*(-pow(r, 2) + pow(x[1,i], 2)) - 2.0*x[1,i]*(3.0*r*(xip + 2.0) - 6.0*r + 3.0*xim*x[1,i] + 2.0)))*exp(theta*pow(r - 1, 2)) + 2.0*gamma*x[0,i]*xd[1,i]*exp(theta*pow(r - 1, 2)) + 2.0*r*(-eta + 2.0*gamma*theta*x[0,i]*xd[1,i]*(r - 1.0)*exp(theta*pow(r - 1, 2)))) + (U0*x[0,i]*(r - 1.0)*(6.0*r*(r*(xip + 2.0) + xim*x[1,i]) - 4.0*(r - 1.0)*(3.0*r + 1.0) + (r - 1.0)*(6.0*r*(xip + 2.0) - 12.0*r + 3.0*xim*x[1,i] + 4.0))*exp(theta*pow(r - 1, 2)) + 2.0*eta*x[1,i] + 2.0*gamma*r*xd[0,i]*exp(theta*pow(r - 1, 2)))*(2.0*U0*theta*pow(x[0,i], 2)*pow(r - 1.0, 2)*(6.0*r*(r*(xip + 2.0) + xim*x[1,i]) - 4.0*(r - 1.0)*(3.0*r + 1.0) + (r - 1.0)*(6.0*r*(xip + 2.0) - 12.0*r + 3.0*xim*x[1,i] + 4.0)) + 3.0*U0*pow(x[0,i], 2)*(r - 1.0)*(6.0*r*(xip + 2.0) - 12.0*r + 3.0*xim*x[1,i] + 2.0*xip*(r - 1.0) + 4.0) + U0*pow(x[0,i], 2)*(6.0*r*(r*(xip + 2.0) + xim*x[1,i]) - 4.0*(r - 1.0)*(3.0*r + 1.0) + (r - 1.0)*(6.0*r*(xip + 2.0) - 12.0*r + 3.0*xim*x[1,i] + 4.0)) + 2.0*gamma*x[0,i]*xd[0,i] + r*(r - 1.0)*(U0*(6.0*r*(r*(xip + 2.0) + xim*x[1,i]) - 4.0*(r - 1.0)*(3.0*r + 1.0) + (r - 1.0)*(6.0*r*(xip + 2.0) - 12.0*r + 3.0*xim*x[1,i] + 4.0)) + 4.0*gamma*theta*x[0,i]*xd[0,i]))*exp(theta*pow(r - 1, 2))) - x[0,i]*(4.0*pow(0.5*U0*(r - 1.0)*(2.0*x[1,i]*(3.0*r*(r*(xip + 2.0) + xim*x[1,i]) - 2.0*(r - 1.0)*(3.0*r + 1.0)) - (r - 1.0)*(3.0*xim*(-pow(r, 2) + pow(x[1,i], 2)) - 2.0*x[1,i]*(3.0*r*(xip + 2.0) - 6.0*r + 3.0*xim*x[1,i] + 2.0)))*exp(theta*pow(r - 1, 2)) - eta*x[0,i] + gamma*r*xd[1,i]*exp(theta*pow(r - 1, 2)), 2) + 4.0*pow(0.5*U0*x[0,i]*(r - 1.0)*(6.0*r*(r*(xip + 2.0) + xim*x[1,i]) - 4.0*(r - 1.0)*(3.0*r + 1.0) + (r - 1.0)*(6.0*r*(xip + 2.0) - 12.0*r + 3.0*xim*x[1,i] + 4.0))*exp(theta*pow(r - 1, 2)) + eta*x[1,i] + gamma*r*xd[0,i]*exp(theta*pow(r - 1, 2)), 2)))*exp(-2*theta*pow(r - 1, 2))/(gamma*pow(r, 4))\n",
      "        L_x[1,i] = 0.125*beta*(r*(-2.0*theta*x[1,i]*(r - 1.0)*(4.0*pow(0.5*U0*(r - 1.0)*(2.0*x[1,i]*(3.0*r*(r*(xip + 2.0) + xim*x[1,i]) - 2.0*(r - 1.0)*(3.0*r + 1.0)) - (r - 1.0)*(3.0*xim*(-pow(r, 2) + pow(x[1,i], 2)) - 2.0*x[1,i]*(3.0*r*(xip + 2.0) - 6.0*r + 3.0*xim*x[1,i] + 2.0)))*exp(theta*pow(r - 1, 2)) - eta*x[0,i] + gamma*r*xd[1,i]*exp(theta*pow(r - 1, 2)), 2) + 4.0*pow(0.5*U0*x[0,i]*(r - 1.0)*(6.0*r*(r*(xip + 2.0) + xim*x[1,i]) - 4.0*(r - 1.0)*(3.0*r + 1.0) + (r - 1.0)*(6.0*r*(xip + 2.0) - 12.0*r + 3.0*xim*x[1,i] + 4.0))*exp(theta*pow(r - 1, 2)) + eta*x[1,i] + gamma*r*xd[0,i]*exp(theta*pow(r - 1, 2)), 2)) + (U0*(r - 1.0)*(2.0*x[1,i]*(3.0*r*(r*(xip + 2.0) + xim*x[1,i]) - 2.0*(r - 1.0)*(3.0*r + 1.0)) - (r - 1.0)*(3.0*xim*(-pow(r, 2) + pow(x[1,i], 2)) - 2.0*x[1,i]*(3.0*r*(xip + 2.0) - 6.0*r + 3.0*xim*x[1,i] + 2.0)))*exp(theta*pow(r - 1, 2)) - 2.0*eta*x[0,i] + 2.0*gamma*r*xd[1,i]*exp(theta*pow(r - 1, 2)))*(2.0*U0*theta*x[1,i]*pow(r - 1.0, 2)*(2.0*x[1,i]*(3.0*r*(r*(xip + 2.0) + xim*x[1,i]) - 2.0*(r - 1.0)*(3.0*r + 1.0)) - (r - 1.0)*(3.0*xim*(-pow(r, 2) + pow(x[1,i], 2)) - 2.0*x[1,i]*(3.0*r*(xip + 2.0) - 6.0*r + 3.0*xim*x[1,i] + 2.0))) + U0*x[1,i]*(2.0*x[1,i]*(3.0*r*(r*(xip + 2.0) + xim*x[1,i]) - 2.0*(r - 1.0)*(3.0*r + 1.0)) - (r - 1.0)*(3.0*xim*(-pow(r, 2) + pow(x[1,i], 2)) - 2.0*x[1,i]*(3.0*r*(xip + 2.0) - 6.0*r + 3.0*xim*x[1,i] + 2.0))) + U0*(r - 1.0)*(2.0*r*(3.0*r*(r*(xip + 2.0) + xim*x[1,i]) - 2.0*(r - 1.0)*(3.0*r + 1.0)) - x[1,i]*(3.0*xim*(-pow(r, 2) + pow(x[1,i], 2)) - 2.0*x[1,i]*(3.0*r*(xip + 2.0) - 6.0*r + 3.0*xim*x[1,i] + 2.0)) + 2.0*x[1,i]*(3.0*r*(r*xim + x[1,i]*(xip + 2.0)) - 6.0*x[1,i]*(r - 1.0) - 2.0*x[1,i]*(3.0*r + 1.0) + 3.0*x[1,i]*(r*(xip + 2.0) + xim*x[1,i])) + 2.0*(r - 1.0)*(r*(3.0*r*(xip + 2.0) - 6.0*r + 3.0*xim*x[1,i] + 2.0) + 3.0*x[1,i]*(r*xim + x[1,i]*(xip + 2.0) - 2.0*x[1,i]))) + 4.0*gamma*r*theta*x[1,i]*xd[1,i]*(r - 1.0) + 2.0*gamma*x[1,i]*xd[1,i])*exp(theta*pow(r - 1, 2)) + (U0*x[0,i]*(r - 1.0)*(6.0*r*(r*(xip + 2.0) + xim*x[1,i]) - 4.0*(r - 1.0)*(3.0*r + 1.0) + (r - 1.0)*(6.0*r*(xip + 2.0) - 12.0*r + 3.0*xim*x[1,i] + 4.0))*exp(theta*pow(r - 1, 2)) + 2.0*eta*x[1,i] + 2.0*gamma*r*xd[0,i]*exp(theta*pow(r - 1, 2)))*(2.0*U0*theta*x[0,i]*x[1,i]*pow(r - 1.0, 2)*(6.0*r*(r*(xip + 2.0) + xim*x[1,i]) - 4.0*(r - 1.0)*(3.0*r + 1.0) + (r - 1.0)*(6.0*r*(xip + 2.0) - 12.0*r + 3.0*xim*x[1,i] + 4.0))*exp(theta*pow(r - 1, 2)) + U0*x[0,i]*x[1,i]*(6.0*r*(r*(xip + 2.0) + xim*x[1,i]) - 4.0*(r - 1.0)*(3.0*r + 1.0) + (r - 1.0)*(6.0*r*(xip + 2.0) - 12.0*r + 3.0*xim*x[1,i] + 4.0))*exp(theta*pow(r - 1, 2)) + U0*x[0,i]*(r - 1.0)*(6.0*r*(r*xim + x[1,i]*(xip + 2.0)) - 12.0*x[1,i]*(r - 1.0) - 4.0*x[1,i]*(3.0*r + 1.0) + 6.0*x[1,i]*(r*(xip + 2.0) + xim*x[1,i]) + x[1,i]*(6.0*r*(xip + 2.0) - 12.0*r + 3.0*xim*x[1,i] + 4.0) + 3.0*(r - 1.0)*(r*xim + 2.0*x[1,i]*(xip + 2.0) - 4.0*x[1,i]))*exp(theta*pow(r - 1, 2)) + 2.0*gamma*xd[0,i]*x[1,i]*exp(theta*pow(r - 1, 2)) + 2.0*r*(eta + 2.0*gamma*theta*xd[0,i]*x[1,i]*(r - 1.0)*exp(theta*pow(r - 1, 2))))) - x[1,i]*(4.0*pow(0.5*U0*(r - 1.0)*(2.0*x[1,i]*(3.0*r*(r*(xip + 2.0) + xim*x[1,i]) - 2.0*(r - 1.0)*(3.0*r + 1.0)) - (r - 1.0)*(3.0*xim*(-pow(r, 2) + pow(x[1,i], 2)) - 2.0*x[1,i]*(3.0*r*(xip + 2.0) - 6.0*r + 3.0*xim*x[1,i] + 2.0)))*exp(theta*pow(r - 1, 2)) - eta*x[0,i] + gamma*r*xd[1,i]*exp(theta*pow(r - 1, 2)), 2) + 4.0*pow(0.5*U0*x[0,i]*(r - 1.0)*(6.0*r*(r*(xip + 2.0) + xim*x[1,i]) - 4.0*(r - 1.0)*(3.0*r + 1.0) + (r - 1.0)*(6.0*r*(xip + 2.0) - 12.0*r + 3.0*xim*x[1,i] + 4.0))*exp(theta*pow(r - 1, 2)) + eta*x[1,i] + gamma*r*xd[0,i]*exp(theta*pow(r - 1, 2)), 2)))*exp(-2*theta*pow(r - 1, 2))/(gamma*pow(r, 4))\n",
      "        L_xd[0,i] = 0.25*beta*(U0*x[0,i]*(r - 1.0)*(6.0*r*(r*(xip + 2.0) + xim*x[1,i]) - 4.0*(r - 1.0)*(3.0*r + 1.0) + (r - 1.0)*(6.0*r*(xip + 2.0) - 12.0*r + 3.0*xim*x[1,i] + 4.0))*exp(theta*pow(r - 1, 2)) + 2.0*eta*x[1,i] + 2.0*gamma*r*xd[0,i]*exp(theta*pow(r - 1, 2)))*exp(-theta*pow(r - 1, 2))/r\n",
      "        L_xd[1,i] = 0.25*beta*(U0*(r - 1.0)*(2.0*x[1,i]*(3.0*r*(r*(xip + 2.0) + xim*x[1,i]) - 2.0*(r - 1.0)*(3.0*r + 1.0)) - (r - 1.0)*(3.0*xim*(-pow(r, 2) + pow(x[1,i], 2)) - 2.0*x[1,i]*(3.0*r*(xip + 2.0) - 6.0*r + 3.0*xim*x[1,i] + 2.0)))*exp(theta*pow(r - 1, 2)) - 2.0*eta*x[0,i] + 2.0*gamma*r*xd[1,i]*exp(theta*pow(r - 1, 2)))*exp(-theta*pow(r - 1, 2))/r\n",
      "\n",
      "cdef DTYPE_t _compute_hessL_OM(self, DTYPE_t[:] ts, DTYPE_t[:,:] x, DTYPE_t[:,:] xd, DTYPE_t[:,:,:] L_x_x, DTYPE_t[:,:,:] L_xd_x, DTYPE_t[:,:,:] L_xd_xd):\n",
      "    cdef:\n",
      "        int i\n",
      "        int dim = x.shape[0]\n",
      "        int Nt = x.shape[1]\n",
      "        DTYPE_t beta = self.beta\n",
      "        DTYPE_t gamma = self.gamma\n",
      "        DTYPE_t U0 = self.U0\n",
      "        DTYPE_t xip = self.xip\n",
      "        DTYPE_t xim = self.xim\n",
      "        DTYPE_t eta = self.eta\n",
      "        DTYPE_t theta = self.theta\n",
      "        DTYPE_t r\n",
      "    \n",
      "    for i in range(Nt):\n",
      "        r = sqrt(pow(x[0,i], 2) + pow(x[1,i], 2))\n",
      "        L_x_x[0,0,i] = 3.375*pow(U0, 2)*beta*pow(r, 4)*pow(xim, 2)/gamma + 18.0*pow(U0, 2)*beta*pow(r, 4)*pow(xip, 2)/gamma - 11.25*pow(U0, 2)*beta*pow(r, 3)*pow(xim, 2)/gamma + 49.5*pow(U0, 2)*beta*pow(r, 3)*xim*xip*x[1,i]/gamma - 54.0*pow(U0, 2)*beta*pow(r, 3)*pow(xip, 2)/gamma + 36.0*pow(U0, 2)*beta*pow(r, 3)*xip/gamma + 13.5*pow(U0, 2)*beta*pow(r, 2)*pow(x[0,i], 2)*pow(xim, 2)/gamma + 180.0*pow(U0, 2)*beta*pow(r, 2)*pow(x[0,i], 2)*pow(xip, 2)/gamma + 23.625*pow(U0, 2)*beta*pow(r, 2)*pow(xim, 2)*pow(x[1,i], 2)/gamma + 13.5*pow(U0, 2)*beta*pow(r, 2)*pow(xim, 2)/gamma - 139.5*pow(U0, 2)*beta*pow(r, 2)*xim*xip*x[1,i]/gamma + 45.0*pow(U0, 2)*beta*pow(r, 2)*xim*x[1,i]/gamma + 36.0*pow(U0, 2)*beta*pow(r, 2)*pow(xip, 2)*pow(x[1,i], 2)/gamma + 58.5*pow(U0, 2)*beta*pow(r, 2)*pow(xip, 2)/gamma - 90.0*pow(U0, 2)*beta*pow(r, 2)*xip/gamma + 18.0*pow(U0, 2)*beta*pow(r, 2)/gamma - 33.75*pow(U0, 2)*beta*r*pow(x[0,i], 2)*pow(xim, 2)/gamma + 270.0*pow(U0, 2)*beta*r*pow(x[0,i], 2)*xim*xip*x[1,i]/gamma - 405.0*pow(U0, 2)*beta*r*pow(x[0,i], 2)*pow(xip, 2)/gamma + 270.0*pow(U0, 2)*beta*r*pow(x[0,i], 2)*xip/gamma - 60.75*pow(U0, 2)*beta*r*pow(xim, 2)*pow(x[1,i], 2)/gamma - 6.75*pow(U0, 2)*beta*r*pow(xim, 2)/gamma + 40.5*pow(U0, 2)*beta*r*xim*xip*pow(x[1,i], 3)/gamma + 137.25*pow(U0, 2)*beta*r*xim*xip*x[1,i]/gamma - 103.5*pow(U0, 2)*beta*r*xim*x[1,i]/gamma - 81.0*pow(U0, 2)*beta*r*pow(xip, 2)*pow(x[1,i], 2)/gamma - 27.0*pow(U0, 2)*beta*r*pow(xip, 2)/gamma + 54.0*pow(U0, 2)*beta*r*xip*pow(x[1,i], 2)/gamma + 72.0*pow(U0, 2)*beta*r*xip/gamma - 36.0*pow(U0, 2)*beta*r/gamma + 72.0*pow(U0, 2)*beta*pow(x[0,i], 4)*pow(xip, 2)/gamma + 77.625*pow(U0, 2)*beta*pow(x[0,i], 2)*pow(xim, 2)*pow(x[1,i], 2)/gamma + 27.0*pow(U0, 2)*beta*pow(x[0,i], 2)*pow(xim, 2)/gamma - 508.5*pow(U0, 2)*beta*pow(x[0,i], 2)*xim*xip*x[1,i]/gamma + 171.0*pow(U0, 2)*beta*pow(x[0,i], 2)*xim*x[1,i]/gamma + 72.0*pow(U0, 2)*beta*pow(x[0,i], 2)*pow(xip, 2)*pow(x[1,i], 2)/gamma + 292.5*pow(U0, 2)*beta*pow(x[0,i], 2)*pow(xip, 2)/gamma - 450.0*pow(U0, 2)*beta*pow(x[0,i], 2)*xip/gamma + 90.0*pow(U0, 2)*beta*pow(x[0,i], 2)/gamma + 10.125*pow(U0, 2)*beta*pow(x[1,i], 4)*pow(xim, 2)/gamma + 51.75*pow(U0, 2)*beta*pow(xim, 2)*pow(x[1,i], 2)/gamma + 1.125*pow(U0, 2)*beta*pow(xim, 2)/gamma - 76.5*pow(U0, 2)*beta*xim*xip*pow(x[1,i], 3)/gamma - 54.0*pow(U0, 2)*beta*xim*xip*x[1,i]/gamma + 27.0*pow(U0, 2)*beta*xim*pow(x[1,i], 3)/gamma + 72.0*pow(U0, 2)*beta*xim*x[1,i]/gamma + 58.5*pow(U0, 2)*beta*pow(xip, 2)*pow(x[1,i], 2)/gamma + 4.5*pow(U0, 2)*beta*pow(xip, 2)/gamma - 90.0*pow(U0, 2)*beta*xip*pow(x[1,i], 2)/gamma - 18.0*pow(U0, 2)*beta*xip/gamma + 18.0*pow(U0, 2)*beta*pow(x[1,i], 2)/gamma + 18.0*pow(U0, 2)*beta/gamma + 40.5*pow(U0, 2)*beta*pow(x[0,i], 4)*xim*xip*x[1,i]/(gamma*r) - 81.0*pow(U0, 2)*beta*pow(x[0,i], 4)*pow(xip, 2)/(gamma*r) + 54.0*pow(U0, 2)*beta*pow(x[0,i], 4)*xip/(gamma*r) - 101.25*pow(U0, 2)*beta*pow(x[0,i], 2)*pow(xim, 2)*pow(x[1,i], 2)/(gamma*r) - 6.75*pow(U0, 2)*beta*pow(x[0,i], 2)*pow(xim, 2)/(gamma*r) + 40.5*pow(U0, 2)*beta*pow(x[0,i], 2)*xim*xip*pow(x[1,i], 3)/(gamma*r) + 252.0*pow(U0, 2)*beta*pow(x[0,i], 2)*xim*xip*x[1,i]/(gamma*r) - 198.0*pow(U0, 2)*beta*pow(x[0,i], 2)*xim*x[1,i]/(gamma*r) - 81.0*pow(U0, 2)*beta*pow(x[0,i], 2)*pow(xip, 2)*pow(x[1,i], 2)/(gamma*r) - 67.5*pow(U0, 2)*beta*pow(x[0,i], 2)*pow(xip, 2)/(gamma*r) + 54.0*pow(U0, 2)*beta*pow(x[0,i], 2)*xip*pow(x[1,i], 2)/(gamma*r) + 180.0*pow(U0, 2)*beta*pow(x[0,i], 2)*xip/(gamma*r) - 90.0*pow(U0, 2)*beta*pow(x[0,i], 2)/(gamma*r) - 13.5*pow(U0, 2)*beta*pow(x[1,i], 4)*pow(xim, 2)/(gamma*r) - 15.75*pow(U0, 2)*beta*pow(xim, 2)*pow(x[1,i], 2)/(gamma*r) + 38.25*pow(U0, 2)*beta*xim*xip*pow(x[1,i], 3)/(gamma*r) + 6.75*pow(U0, 2)*beta*xim*xip*x[1,i]/(gamma*r) - 31.5*pow(U0, 2)*beta*xim*pow(x[1,i], 3)/(gamma*r) - 13.5*pow(U0, 2)*beta*xim*x[1,i]/(gamma*r) - 13.5*pow(U0, 2)*beta*pow(xip, 2)*pow(x[1,i], 2)/(gamma*r) + 36.0*pow(U0, 2)*beta*xip*pow(x[1,i], 2)/(gamma*r) - 18.0*pow(U0, 2)*beta*pow(x[1,i], 2)/(gamma*r) + 1.125*pow(U0, 2)*beta*pow(xim, 2)*pow(x[1,i], 2)/(gamma*pow(r, 2)) + 13.5*pow(U0, 2)*beta*pow(x[0,i], 4)*pow(xim, 2)*pow(x[1,i], 2)/(gamma*pow(r, 3)) - 38.25*pow(U0, 2)*beta*pow(x[0,i], 4)*xim*xip*x[1,i]/(gamma*pow(r, 3)) + 31.5*pow(U0, 2)*beta*pow(x[0,i], 4)*xim*x[1,i]/(gamma*pow(r, 3)) + 13.5*pow(U0, 2)*beta*pow(x[0,i], 4)*pow(xip, 2)/(gamma*pow(r, 3)) - 36.0*pow(U0, 2)*beta*pow(x[0,i], 4)*xip/(gamma*pow(r, 3)) + 18.0*pow(U0, 2)*beta*pow(x[0,i], 4)/(gamma*pow(r, 3)) + 13.5*pow(U0, 2)*beta*pow(x[0,i], 2)*pow(x[1,i], 4)*pow(xim, 2)/(gamma*pow(r, 3)) + 29.25*pow(U0, 2)*beta*pow(x[0,i], 2)*pow(xim, 2)*pow(x[1,i], 2)/(gamma*pow(r, 3)) - 38.25*pow(U0, 2)*beta*pow(x[0,i], 2)*xim*xip*pow(x[1,i], 3)/(gamma*pow(r, 3)) - 13.5*pow(U0, 2)*beta*pow(x[0,i], 2)*xim*xip*x[1,i]/(gamma*pow(r, 3)) + 31.5*pow(U0, 2)*beta*pow(x[0,i], 2)*xim*pow(x[1,i], 3)/(gamma*pow(r, 3)) + 27.0*pow(U0, 2)*beta*pow(x[0,i], 2)*xim*x[1,i]/(gamma*pow(r, 3)) + 13.5*pow(U0, 2)*beta*pow(x[0,i], 2)*pow(xip, 2)*pow(x[1,i], 2)/(gamma*pow(r, 3)) - 36.0*pow(U0, 2)*beta*pow(x[0,i], 2)*xip*pow(x[1,i], 2)/(gamma*pow(r, 3)) + 18.0*pow(U0, 2)*beta*pow(x[0,i], 2)*pow(x[1,i], 2)/(gamma*pow(r, 3)) + 4.5*pow(U0, 2)*beta*pow(x[1,i], 4)*pow(xim, 2)/(gamma*pow(r, 3)) - 2.25*pow(U0, 2)*beta*xim*xip*pow(x[1,i], 3)/(gamma*pow(r, 3)) + 4.5*pow(U0, 2)*beta*xim*pow(x[1,i], 3)/(gamma*pow(r, 3)) - 5.625*pow(U0, 2)*beta*pow(x[0,i], 2)*pow(xim, 2)*pow(x[1,i], 2)/(gamma*pow(r, 4)) - 1.125*pow(U0, 2)*beta*pow(x[1,i], 4)*pow(xim, 2)/(gamma*pow(r, 4)) - 13.5*pow(U0, 2)*beta*pow(x[0,i], 4)*pow(xim, 2)*pow(x[1,i], 2)/(gamma*pow(r, 5)) + 6.75*pow(U0, 2)*beta*pow(x[0,i], 4)*xim*xip*x[1,i]/(gamma*pow(r, 5)) - 13.5*pow(U0, 2)*beta*pow(x[0,i], 4)*xim*x[1,i]/(gamma*pow(r, 5)) - 13.5*pow(U0, 2)*beta*pow(x[0,i], 2)*pow(x[1,i], 4)*pow(xim, 2)/(gamma*pow(r, 5)) + 6.75*pow(U0, 2)*beta*pow(x[0,i], 2)*xim*xip*pow(x[1,i], 3)/(gamma*pow(r, 5)) - 13.5*pow(U0, 2)*beta*pow(x[0,i], 2)*xim*pow(x[1,i], 3)/(gamma*pow(r, 5)) + 4.5*pow(U0, 2)*beta*pow(x[0,i], 4)*pow(xim, 2)*pow(x[1,i], 2)/(gamma*pow(r, 6)) + 4.5*pow(U0, 2)*beta*pow(x[0,i], 2)*pow(x[1,i], 4)*pow(xim, 2)/(gamma*pow(r, 6)) - 3.0*U0*beta*eta*pow(r, 2)*pow(theta, 2)*pow(x[0,i], 3)*xim*exp(-pow(r, 2)*theta + 2*r*theta - theta)/gamma + 4.5*U0*beta*eta*pow(r, 2)*theta*x[0,i]*xim*exp(-pow(r, 2)*theta + 2*r*theta - theta)/gamma + 12.0*U0*beta*eta*r*pow(theta, 2)*pow(x[0,i], 3)*xim*exp(-pow(r, 2)*theta + 2*r*theta - theta)/gamma - 13.5*U0*beta*eta*r*theta*x[0,i]*xim*exp(-pow(r, 2)*theta + 2*r*theta - theta)/gamma - 18.0*U0*beta*eta*pow(theta, 2)*pow(x[0,i], 3)*xim*exp(-pow(r, 2)*theta + 2*r*theta - theta)/gamma + 6.0*U0*beta*eta*theta*pow(x[0,i], 3)*xim*exp(-pow(r, 2)*theta + 2*r*theta - theta)/gamma + 13.5*U0*beta*eta*theta*x[0,i]*xim*exp(-pow(r, 2)*theta + 2*r*theta - theta)/gamma - 4.5*U0*beta*eta*x[0,i]*xim*exp(-pow(r, 2)*theta + 2*r*theta - theta)/gamma + 12.0*U0*beta*eta*pow(theta, 2)*pow(x[0,i], 3)*xim*exp(-pow(r, 2)*theta + 2*r*theta - theta)/(gamma*r) - 10.5*U0*beta*eta*theta*pow(x[0,i], 3)*xim*exp(-pow(r, 2)*theta + 2*r*theta - theta)/(gamma*r) - 4.5*U0*beta*eta*theta*x[0,i]*xim*exp(-pow(r, 2)*theta + 2*r*theta - theta)/(gamma*r) + 4.5*U0*beta*eta*x[0,i]*xim*exp(-pow(r, 2)*theta + 2*r*theta - theta)/(gamma*r) - 3.0*U0*beta*eta*pow(theta, 2)*pow(x[0,i], 3)*xim*exp(-pow(r, 2)*theta + 2*r*theta - theta)/(gamma*pow(r, 2)) + 3.0*U0*beta*eta*theta*pow(x[0,i], 3)*xim*exp(-pow(r, 2)*theta + 2*r*theta - theta)/(gamma*pow(r, 2)) + 1.5*U0*beta*eta*theta*pow(x[0,i], 3)*xim*exp(-pow(r, 2)*theta + 2*r*theta - theta)/(gamma*pow(r, 3)) - 1.5*U0*beta*eta*pow(x[0,i], 3)*xim*exp(-pow(r, 2)*theta + 2*r*theta - theta)/(gamma*pow(r, 3)) + 2.25*U0*beta*r*xim*xd[1,i] + 18.0*U0*beta*x[0,i]*xd[0,i]*xip - 3.0*U0*beta*xim*xd[1,i] + 6.0*U0*beta*xip*x[1,i]*xd[1,i] + 2.25*U0*beta*pow(x[0,i], 2)*xim*xd[1,i]/r + 6.75*U0*beta*x[0,i]*xd[0,i]*xim*x[1,i]/r - 13.5*U0*beta*x[0,i]*xd[0,i]*xip/r + 9.0*U0*beta*x[0,i]*xd[0,i]/r + 2.25*U0*beta*xim*pow(x[1,i], 2)*xd[1,i]/r + 0.75*U0*beta*xim*xd[1,i]/r - 4.5*U0*beta*xip*x[1,i]*xd[1,i]/r + 3.0*U0*beta*x[1,i]*xd[1,i]/r - 2.25*U0*beta*pow(x[0,i], 3)*xd[0,i]*xim*x[1,i]/pow(r, 3) + 4.5*U0*beta*pow(x[0,i], 3)*xd[0,i]*xip/pow(r, 3) - 3.0*U0*beta*pow(x[0,i], 3)*xd[0,i]/pow(r, 3) - 2.25*U0*beta*pow(x[0,i], 2)*xim*pow(x[1,i], 2)*xd[1,i]/pow(r, 3) - 0.75*U0*beta*pow(x[0,i], 2)*xim*xd[1,i]/pow(r, 3) + 4.5*U0*beta*pow(x[0,i], 2)*xip*x[1,i]*xd[1,i]/pow(r, 3) - 3.0*U0*beta*pow(x[0,i], 2)*x[1,i]*xd[1,i]/pow(r, 3) - 2.25*U0*beta*x[0,i]*xd[0,i]*xim*x[1,i]/pow(r, 3) - 0.75*U0*beta*xim*pow(x[1,i], 2)*xd[1,i]/pow(r, 3) + 2.25*U0*beta*pow(x[0,i], 3)*xd[0,i]*xim*x[1,i]/pow(r, 5) + 2.25*U0*beta*pow(x[0,i], 2)*xim*pow(x[1,i], 2)*xd[1,i]/pow(r, 5) - 24.0*U0*xip/gamma - 13.5*U0*xim*x[1,i]/(gamma*r) + 18.0*U0*xip/(gamma*r) - 12.0*U0/(gamma*r) + 20.25*U0*pow(x[0,i], 2)*xim*x[1,i]/(gamma*pow(r, 3)) - 31.5*U0*pow(x[0,i], 2)*xip/(gamma*pow(r, 3)) + 21.0*U0*pow(x[0,i], 2)/(gamma*pow(r, 3)) + 2.25*U0*xim*pow(x[1,i], 3)/(gamma*pow(r, 3)) + 4.5*U0*xim*x[1,i]/(gamma*pow(r, 3)) - 4.5*U0*xip*pow(x[1,i], 2)/(gamma*pow(r, 3)) + 3.0*U0*pow(x[1,i], 2)/(gamma*pow(r, 3)) - 6.75*U0*pow(x[0,i], 4)*xim*x[1,i]/(gamma*pow(r, 5)) + 13.5*U0*pow(x[0,i], 4)*xip/(gamma*pow(r, 5)) - 9.0*U0*pow(x[0,i], 4)/(gamma*pow(r, 5)) - 6.75*U0*pow(x[0,i], 2)*xim*pow(x[1,i], 3)/(gamma*pow(r, 5)) - 20.25*U0*pow(x[0,i], 2)*xim*x[1,i]/(gamma*pow(r, 5)) + 13.5*U0*pow(x[0,i], 2)*xip*pow(x[1,i], 2)/(gamma*pow(r, 5)) - 9.0*U0*pow(x[0,i], 2)*pow(x[1,i], 2)/(gamma*pow(r, 5)) - 2.25*U0*xim*pow(x[1,i], 3)/(gamma*pow(r, 5)) + 11.25*U0*pow(x[0,i], 4)*xim*x[1,i]/(gamma*pow(r, 7)) + 11.25*U0*pow(x[0,i], 2)*xim*pow(x[1,i], 3)/(gamma*pow(r, 7)) + 4.0*beta*pow(eta, 2)*pow(theta, 2)*pow(x[0,i], 4)*exp(-2*pow(r, 2)*theta + 4*r*theta - 2*theta)/(gamma*pow(r, 2)) + 4.0*beta*pow(eta, 2)*pow(theta, 2)*pow(x[0,i], 2)*pow(x[1,i], 2)*exp(-2*pow(r, 2)*theta + 4*r*theta - 2*theta)/(gamma*pow(r, 2)) - 5.0*beta*pow(eta, 2)*theta*pow(x[0,i], 2)*exp(-2*pow(r, 2)*theta + 4*r*theta - 2*theta)/(gamma*pow(r, 2)) - beta*pow(eta, 2)*theta*pow(x[1,i], 2)*exp(-2*pow(r, 2)*theta + 4*r*theta - 2*theta)/(gamma*pow(r, 2)) + 0.5*beta*pow(eta, 2)*exp(-2*pow(r, 2)*theta + 4*r*theta - 2*theta)/(gamma*pow(r, 2)) - 8.0*beta*pow(eta, 2)*pow(theta, 2)*pow(x[0,i], 4)*exp(-2*pow(r, 2)*theta + 4*r*theta - 2*theta)/(gamma*pow(r, 3)) - 8.0*beta*pow(eta, 2)*pow(theta, 2)*pow(x[0,i], 2)*pow(x[1,i], 2)*exp(-2*pow(r, 2)*theta + 4*r*theta - 2*theta)/(gamma*pow(r, 3)) + 5.0*beta*pow(eta, 2)*theta*pow(x[0,i], 2)*exp(-2*pow(r, 2)*theta + 4*r*theta - 2*theta)/(gamma*pow(r, 3)) + beta*pow(eta, 2)*theta*pow(x[1,i], 2)*exp(-2*pow(r, 2)*theta + 4*r*theta - 2*theta)/(gamma*pow(r, 3)) + 4.0*beta*pow(eta, 2)*pow(theta, 2)*pow(x[0,i], 4)*exp(-2*pow(r, 2)*theta + 4*r*theta - 2*theta)/(gamma*pow(r, 4)) + 4.0*beta*pow(eta, 2)*pow(theta, 2)*pow(x[0,i], 2)*pow(x[1,i], 2)*exp(-2*pow(r, 2)*theta + 4*r*theta - 2*theta)/(gamma*pow(r, 4)) + 4.0*beta*pow(eta, 2)*theta*pow(x[0,i], 4)*exp(-2*pow(r, 2)*theta + 4*r*theta - 2*theta)/(gamma*pow(r, 4)) + 4.0*beta*pow(eta, 2)*theta*pow(x[0,i], 2)*pow(x[1,i], 2)*exp(-2*pow(r, 2)*theta + 4*r*theta - 2*theta)/(gamma*pow(r, 4)) - 2.5*beta*pow(eta, 2)*pow(x[0,i], 2)*exp(-2*pow(r, 2)*theta + 4*r*theta - 2*theta)/(gamma*pow(r, 4)) - 0.5*beta*pow(eta, 2)*pow(x[1,i], 2)*exp(-2*pow(r, 2)*theta + 4*r*theta - 2*theta)/(gamma*pow(r, 4)) - 5.0*beta*pow(eta, 2)*theta*pow(x[0,i], 4)*exp(-2*pow(r, 2)*theta + 4*r*theta - 2*theta)/(gamma*pow(r, 5)) - 5.0*beta*pow(eta, 2)*theta*pow(x[0,i], 2)*pow(x[1,i], 2)*exp(-2*pow(r, 2)*theta + 4*r*theta - 2*theta)/(gamma*pow(r, 5)) + 2.0*beta*pow(eta, 2)*pow(x[0,i], 4)*exp(-2*pow(r, 2)*theta + 4*r*theta - 2*theta)/(gamma*pow(r, 6)) + 2.0*beta*pow(eta, 2)*pow(x[0,i], 2)*pow(x[1,i], 2)*exp(-2*pow(r, 2)*theta + 4*r*theta - 2*theta)/(gamma*pow(r, 6)) - 2.0*beta*eta*pow(theta, 2)*pow(x[0,i], 3)*xd[1,i]*exp(-pow(r, 2)*theta + 2*r*theta - theta)/r + 2.0*beta*eta*pow(theta, 2)*pow(x[0,i], 2)*xd[0,i]*x[1,i]*exp(-pow(r, 2)*theta + 2*r*theta - theta)/r + 3.0*beta*eta*theta*x[0,i]*xd[1,i]*exp(-pow(r, 2)*theta + 2*r*theta - theta)/r - beta*eta*theta*xd[0,i]*x[1,i]*exp(-pow(r, 2)*theta + 2*r*theta - theta)/r + 4.0*beta*eta*pow(theta, 2)*pow(x[0,i], 3)*xd[1,i]*exp(-pow(r, 2)*theta + 2*r*theta - theta)/pow(r, 2) - 4.0*beta*eta*pow(theta, 2)*pow(x[0,i], 2)*xd[0,i]*x[1,i]*exp(-pow(r, 2)*theta + 2*r*theta - theta)/pow(r, 2) - 3.0*beta*eta*theta*x[0,i]*xd[1,i]*exp(-pow(r, 2)*theta + 2*r*theta - theta)/pow(r, 2) + beta*eta*theta*xd[0,i]*x[1,i]*exp(-pow(r, 2)*theta + 2*r*theta - theta)/pow(r, 2) - 2.0*beta*eta*pow(theta, 2)*pow(x[0,i], 3)*xd[1,i]*exp(-pow(r, 2)*theta + 2*r*theta - theta)/pow(r, 3) + 2.0*beta*eta*pow(theta, 2)*pow(x[0,i], 2)*xd[0,i]*x[1,i]*exp(-pow(r, 2)*theta + 2*r*theta - theta)/pow(r, 3) - 2.0*beta*eta*theta*pow(x[0,i], 3)*xd[1,i]*exp(-pow(r, 2)*theta + 2*r*theta - theta)/pow(r, 3) + 2.0*beta*eta*theta*pow(x[0,i], 2)*xd[0,i]*x[1,i]*exp(-pow(r, 2)*theta + 2*r*theta - theta)/pow(r, 3) + 1.5*beta*eta*x[0,i]*xd[1,i]*exp(-pow(r, 2)*theta + 2*r*theta - theta)/pow(r, 3) - 0.5*beta*eta*xd[0,i]*x[1,i]*exp(-pow(r, 2)*theta + 2*r*theta - theta)/pow(r, 3) + 3.0*beta*eta*theta*pow(x[0,i], 3)*xd[1,i]*exp(-pow(r, 2)*theta + 2*r*theta - theta)/pow(r, 4) - 3.0*beta*eta*theta*pow(x[0,i], 2)*xd[0,i]*x[1,i]*exp(-pow(r, 2)*theta + 2*r*theta - theta)/pow(r, 4) - 1.5*beta*eta*pow(x[0,i], 3)*xd[1,i]*exp(-pow(r, 2)*theta + 2*r*theta - theta)/pow(r, 5) + 1.5*beta*eta*pow(x[0,i], 2)*xd[0,i]*x[1,i]*exp(-pow(r, 2)*theta + 2*r*theta - theta)/pow(r, 5)\n",
      "        L_x_x[0,1,i] = 49.5*pow(U0, 2)*beta*pow(r, 3)*x[0,i]*xim*xip/gamma + 60.75*pow(U0, 2)*beta*pow(r, 2)*x[0,i]*pow(xim, 2)*x[1,i]/gamma - 139.5*pow(U0, 2)*beta*pow(r, 2)*x[0,i]*xim*xip/gamma + 45.0*pow(U0, 2)*beta*pow(r, 2)*x[0,i]*xim/gamma + 144.0*pow(U0, 2)*beta*pow(r, 2)*x[0,i]*pow(xip, 2)*x[1,i]/gamma + 40.5*pow(U0, 2)*beta*r*pow(x[0,i], 3)*xim*xip/gamma - 155.25*pow(U0, 2)*beta*r*x[0,i]*pow(xim, 2)*x[1,i]/gamma + 270.0*pow(U0, 2)*beta*r*x[0,i]*xim*xip*pow(x[1,i], 2)/gamma + 137.25*pow(U0, 2)*beta*r*x[0,i]*xim*xip/gamma - 103.5*pow(U0, 2)*beta*r*x[0,i]*xim/gamma - 324.0*pow(U0, 2)*beta*r*x[0,i]*pow(xip, 2)*x[1,i]/gamma + 216.0*pow(U0, 2)*beta*r*x[0,i]*xip*x[1,i]/gamma + 20.25*pow(U0, 2)*beta*pow(x[0,i], 3)*pow(xim, 2)*x[1,i]/gamma - 76.5*pow(U0, 2)*beta*pow(x[0,i], 3)*xim*xip/gamma + 27.0*pow(U0, 2)*beta*pow(x[0,i], 3)*xim/gamma + 72.0*pow(U0, 2)*beta*pow(x[0,i], 3)*pow(xip, 2)*x[1,i]/gamma + 87.75*pow(U0, 2)*beta*x[0,i]*pow(xim, 2)*pow(x[1,i], 3)/gamma + 130.5*pow(U0, 2)*beta*x[0,i]*pow(xim, 2)*x[1,i]/gamma - 508.5*pow(U0, 2)*beta*x[0,i]*xim*xip*pow(x[1,i], 2)/gamma - 54.0*pow(U0, 2)*beta*x[0,i]*xim*xip/gamma + 171.0*pow(U0, 2)*beta*x[0,i]*xim*pow(x[1,i], 2)/gamma + 72.0*pow(U0, 2)*beta*x[0,i]*xim/gamma + 72.0*pow(U0, 2)*beta*x[0,i]*pow(xip, 2)*pow(x[1,i], 3)/gamma + 234.0*pow(U0, 2)*beta*x[0,i]*pow(xip, 2)*x[1,i]/gamma - 360.0*pow(U0, 2)*beta*x[0,i]*xip*x[1,i]/gamma + 72.0*pow(U0, 2)*beta*x[0,i]*x[1,i]/gamma - 27.0*pow(U0, 2)*beta*pow(x[0,i], 3)*pow(xim, 2)*x[1,i]/(gamma*r) + 40.5*pow(U0, 2)*beta*pow(x[0,i], 3)*xim*xip*pow(x[1,i], 2)/(gamma*r) + 38.25*pow(U0, 2)*beta*pow(x[0,i], 3)*xim*xip/(gamma*r) - 31.5*pow(U0, 2)*beta*pow(x[0,i], 3)*xim/(gamma*r) - 81.0*pow(U0, 2)*beta*pow(x[0,i], 3)*pow(xip, 2)*x[1,i]/(gamma*r) + 54.0*pow(U0, 2)*beta*pow(x[0,i], 3)*xip*x[1,i]/(gamma*r) - 114.75*pow(U0, 2)*beta*x[0,i]*pow(xim, 2)*pow(x[1,i], 3)/(gamma*r) - 38.25*pow(U0, 2)*beta*x[0,i]*pow(xim, 2)*x[1,i]/(gamma*r) + 40.5*pow(U0, 2)*beta*x[0,i]*pow(x[1,i], 4)*xim*xip/(gamma*r) + 252.0*pow(U0, 2)*beta*x[0,i]*xim*xip*pow(x[1,i], 2)/(gamma*r) + 6.75*pow(U0, 2)*beta*x[0,i]*xim*xip/(gamma*r) - 198.0*pow(U0, 2)*beta*x[0,i]*xim*pow(x[1,i], 2)/(gamma*r) - 13.5*pow(U0, 2)*beta*x[0,i]*xim/(gamma*r) - 81.0*pow(U0, 2)*beta*x[0,i]*pow(xip, 2)*pow(x[1,i], 3)/(gamma*r) - 54.0*pow(U0, 2)*beta*x[0,i]*pow(xip, 2)*x[1,i]/(gamma*r) + 54.0*pow(U0, 2)*beta*x[0,i]*xip*pow(x[1,i], 3)/(gamma*r) + 144.0*pow(U0, 2)*beta*x[0,i]*xip*x[1,i]/(gamma*r) - 72.0*pow(U0, 2)*beta*x[0,i]*x[1,i]/(gamma*r) + 2.25*pow(U0, 2)*beta*x[0,i]*pow(xim, 2)*x[1,i]/(gamma*pow(r, 2)) + 13.5*pow(U0, 2)*beta*pow(x[0,i], 3)*pow(xim, 2)*pow(x[1,i], 3)/(gamma*pow(r, 3)) + 9.0*pow(U0, 2)*beta*pow(x[0,i], 3)*pow(xim, 2)*x[1,i]/(gamma*pow(r, 3)) - 38.25*pow(U0, 2)*beta*pow(x[0,i], 3)*xim*xip*pow(x[1,i], 2)/(gamma*pow(r, 3)) - 2.25*pow(U0, 2)*beta*pow(x[0,i], 3)*xim*xip/(gamma*pow(r, 3)) + 31.5*pow(U0, 2)*beta*pow(x[0,i], 3)*xim*pow(x[1,i], 2)/(gamma*pow(r, 3)) + 4.5*pow(U0, 2)*beta*pow(x[0,i], 3)*xim/(gamma*pow(r, 3)) + 13.5*pow(U0, 2)*beta*pow(x[0,i], 3)*pow(xip, 2)*x[1,i]/(gamma*pow(r, 3)) - 36.0*pow(U0, 2)*beta*pow(x[0,i], 3)*xip*x[1,i]/(gamma*pow(r, 3)) + 18.0*pow(U0, 2)*beta*pow(x[0,i], 3)*x[1,i]/(gamma*pow(r, 3)) + 13.5*pow(U0, 2)*beta*x[0,i]*pow(x[1,i], 5)*pow(xim, 2)/(gamma*pow(r, 3)) + 33.75*pow(U0, 2)*beta*x[0,i]*pow(xim, 2)*pow(x[1,i], 3)/(gamma*pow(r, 3)) - 38.25*pow(U0, 2)*beta*x[0,i]*pow(x[1,i], 4)*xim*xip/(gamma*pow(r, 3)) - 13.5*pow(U0, 2)*beta*x[0,i]*xim*xip*pow(x[1,i], 2)/(gamma*pow(r, 3)) + 31.5*pow(U0, 2)*beta*x[0,i]*pow(x[1,i], 4)*xim/(gamma*pow(r, 3)) + 27.0*pow(U0, 2)*beta*x[0,i]*xim*pow(x[1,i], 2)/(gamma*pow(r, 3)) + 13.5*pow(U0, 2)*beta*x[0,i]*pow(xip, 2)*pow(x[1,i], 3)/(gamma*pow(r, 3)) - 36.0*pow(U0, 2)*beta*x[0,i]*xip*pow(x[1,i], 3)/(gamma*pow(r, 3)) + 18.0*pow(U0, 2)*beta*x[0,i]*pow(x[1,i], 3)/(gamma*pow(r, 3)) - 2.25*pow(U0, 2)*beta*pow(x[0,i], 3)*pow(xim, 2)*x[1,i]/(gamma*pow(r, 4)) - 6.75*pow(U0, 2)*beta*x[0,i]*pow(xim, 2)*pow(x[1,i], 3)/(gamma*pow(r, 4)) - 13.5*pow(U0, 2)*beta*pow(x[0,i], 3)*pow(xim, 2)*pow(x[1,i], 3)/(gamma*pow(r, 5)) + 6.75*pow(U0, 2)*beta*pow(x[0,i], 3)*xim*xip*pow(x[1,i], 2)/(gamma*pow(r, 5)) - 13.5*pow(U0, 2)*beta*pow(x[0,i], 3)*xim*pow(x[1,i], 2)/(gamma*pow(r, 5)) - 13.5*pow(U0, 2)*beta*x[0,i]*pow(x[1,i], 5)*pow(xim, 2)/(gamma*pow(r, 5)) + 6.75*pow(U0, 2)*beta*x[0,i]*pow(x[1,i], 4)*xim*xip/(gamma*pow(r, 5)) - 13.5*pow(U0, 2)*beta*x[0,i]*pow(x[1,i], 4)*xim/(gamma*pow(r, 5)) + 4.5*pow(U0, 2)*beta*pow(x[0,i], 3)*pow(xim, 2)*pow(x[1,i], 3)/(gamma*pow(r, 6)) + 4.5*pow(U0, 2)*beta*x[0,i]*pow(x[1,i], 5)*pow(xim, 2)/(gamma*pow(r, 6)) - 3.0*U0*beta*eta*pow(r, 2)*pow(theta, 2)*pow(x[0,i], 2)*xim*x[1,i]*exp(-pow(r, 2)*theta + 2*r*theta - theta)/gamma + 1.5*U0*beta*eta*pow(r, 2)*theta*xim*x[1,i]*exp(-pow(r, 2)*theta + 2*r*theta - theta)/gamma + 12.0*U0*beta*eta*r*pow(theta, 2)*pow(x[0,i], 2)*xim*x[1,i]*exp(-pow(r, 2)*theta + 2*r*theta - theta)/gamma - 4.5*U0*beta*eta*r*theta*xim*x[1,i]*exp(-pow(r, 2)*theta + 2*r*theta - theta)/gamma - 18.0*U0*beta*eta*pow(theta, 2)*pow(x[0,i], 2)*xim*x[1,i]*exp(-pow(r, 2)*theta + 2*r*theta - theta)/gamma + 6.0*U0*beta*eta*theta*pow(x[0,i], 2)*xim*x[1,i]*exp(-pow(r, 2)*theta + 2*r*theta - theta)/gamma + 4.5*U0*beta*eta*theta*xim*x[1,i]*exp(-pow(r, 2)*theta + 2*r*theta - theta)/gamma - 1.5*U0*beta*eta*xim*x[1,i]*exp(-pow(r, 2)*theta + 2*r*theta - theta)/gamma + 12.0*U0*beta*eta*pow(theta, 2)*pow(x[0,i], 2)*xim*x[1,i]*exp(-pow(r, 2)*theta + 2*r*theta - theta)/(gamma*r) - 10.5*U0*beta*eta*theta*pow(x[0,i], 2)*xim*x[1,i]*exp(-pow(r, 2)*theta + 2*r*theta - theta)/(gamma*r) - 1.5*U0*beta*eta*theta*xim*x[1,i]*exp(-pow(r, 2)*theta + 2*r*theta - theta)/(gamma*r) + 1.5*U0*beta*eta*xim*x[1,i]*exp(-pow(r, 2)*theta + 2*r*theta - theta)/(gamma*r) - 3.0*U0*beta*eta*pow(theta, 2)*pow(x[0,i], 2)*xim*x[1,i]*exp(-pow(r, 2)*theta + 2*r*theta - theta)/(gamma*pow(r, 2)) + 3.0*U0*beta*eta*theta*pow(x[0,i], 2)*xim*x[1,i]*exp(-pow(r, 2)*theta + 2*r*theta - theta)/(gamma*pow(r, 2)) + 1.5*U0*beta*eta*theta*pow(x[0,i], 2)*xim*x[1,i]*exp(-pow(r, 2)*theta + 2*r*theta - theta)/(gamma*pow(r, 3)) - 1.5*U0*beta*eta*pow(x[0,i], 2)*xim*x[1,i]*exp(-pow(r, 2)*theta + 2*r*theta - theta)/(gamma*pow(r, 3)) + 2.25*U0*beta*r*xd[0,i]*xim + 6.0*U0*beta*x[0,i]*xip*xd[1,i] - 3.0*U0*beta*xd[0,i]*xim + 6.0*U0*beta*xd[0,i]*xip*x[1,i] + 2.25*U0*beta*pow(x[0,i], 2)*xd[0,i]*xim/r + 6.75*U0*beta*x[0,i]*xim*x[1,i]*xd[1,i]/r - 4.5*U0*beta*x[0,i]*xip*xd[1,i]/r + 3.0*U0*beta*x[0,i]*xd[1,i]/r + 2.25*U0*beta*xd[0,i]*xim*pow(x[1,i], 2)/r + 0.75*U0*beta*xd[0,i]*xim/r - 4.5*U0*beta*xd[0,i]*xip*x[1,i]/r + 3.0*U0*beta*xd[0,i]*x[1,i]/r - 2.25*U0*beta*pow(x[0,i], 2)*xd[0,i]*xim*pow(x[1,i], 2)/pow(r, 3) - 0.75*U0*beta*pow(x[0,i], 2)*xd[0,i]*xim/pow(r, 3) + 4.5*U0*beta*pow(x[0,i], 2)*xd[0,i]*xip*x[1,i]/pow(r, 3) - 3.0*U0*beta*pow(x[0,i], 2)*xd[0,i]*x[1,i]/pow(r, 3) - 2.25*U0*beta*x[0,i]*xim*pow(x[1,i], 3)*xd[1,i]/pow(r, 3) - 2.25*U0*beta*x[0,i]*xim*x[1,i]*xd[1,i]/pow(r, 3) + 4.5*U0*beta*x[0,i]*xip*pow(x[1,i], 2)*xd[1,i]/pow(r, 3) - 3.0*U0*beta*x[0,i]*pow(x[1,i], 2)*xd[1,i]/pow(r, 3) - 0.75*U0*beta*xd[0,i]*xim*pow(x[1,i], 2)/pow(r, 3) + 2.25*U0*beta*pow(x[0,i], 2)*xd[0,i]*xim*pow(x[1,i], 2)/pow(r, 5) + 2.25*U0*beta*x[0,i]*xim*pow(x[1,i], 3)*xd[1,i]/pow(r, 5) - 13.5*U0*x[0,i]*xim/(gamma*r) + 2.25*U0*pow(x[0,i], 3)*xim/(gamma*pow(r, 3)) + 20.25*U0*x[0,i]*xim*pow(x[1,i], 2)/(gamma*pow(r, 3)) + 4.5*U0*x[0,i]*xim/(gamma*pow(r, 3)) - 27.0*U0*x[0,i]*xip*x[1,i]/(gamma*pow(r, 3)) + 18.0*U0*x[0,i]*x[1,i]/(gamma*pow(r, 3)) - 6.75*U0*pow(x[0,i], 3)*xim*pow(x[1,i], 2)/(gamma*pow(r, 5)) - 2.25*U0*pow(x[0,i], 3)*xim/(gamma*pow(r, 5)) + 13.5*U0*pow(x[0,i], 3)*xip*x[1,i]/(gamma*pow(r, 5)) - 9.0*U0*pow(x[0,i], 3)*x[1,i]/(gamma*pow(r, 5)) - 6.75*U0*x[0,i]*pow(x[1,i], 4)*xim/(gamma*pow(r, 5)) - 20.25*U0*x[0,i]*xim*pow(x[1,i], 2)/(gamma*pow(r, 5)) + 13.5*U0*x[0,i]*xip*pow(x[1,i], 3)/(gamma*pow(r, 5)) - 9.0*U0*x[0,i]*pow(x[1,i], 3)/(gamma*pow(r, 5)) + 11.25*U0*pow(x[0,i], 3)*xim*pow(x[1,i], 2)/(gamma*pow(r, 7)) + 11.25*U0*x[0,i]*pow(x[1,i], 4)*xim/(gamma*pow(r, 7)) + 4.0*beta*pow(eta, 2)*pow(theta, 2)*pow(x[0,i], 3)*x[1,i]*exp(-2*pow(r, 2)*theta + 4*r*theta - 2*theta)/(gamma*pow(r, 2)) + 4.0*beta*pow(eta, 2)*pow(theta, 2)*x[0,i]*pow(x[1,i], 3)*exp(-2*pow(r, 2)*theta + 4*r*theta - 2*theta)/(gamma*pow(r, 2)) - 4.0*beta*pow(eta, 2)*theta*x[0,i]*x[1,i]*exp(-2*pow(r, 2)*theta + 4*r*theta - 2*theta)/(gamma*pow(r, 2)) - 8.0*beta*pow(eta, 2)*pow(theta, 2)*pow(x[0,i], 3)*x[1,i]*exp(-2*pow(r, 2)*theta + 4*r*theta - 2*theta)/(gamma*pow(r, 3)) - 8.0*beta*pow(eta, 2)*pow(theta, 2)*x[0,i]*pow(x[1,i], 3)*exp(-2*pow(r, 2)*theta + 4*r*theta - 2*theta)/(gamma*pow(r, 3)) + 4.0*beta*pow(eta, 2)*theta*x[0,i]*x[1,i]*exp(-2*pow(r, 2)*theta + 4*r*theta - 2*theta)/(gamma*pow(r, 3)) + 4.0*beta*pow(eta, 2)*pow(theta, 2)*pow(x[0,i], 3)*x[1,i]*exp(-2*pow(r, 2)*theta + 4*r*theta - 2*theta)/(gamma*pow(r, 4)) + 4.0*beta*pow(eta, 2)*pow(theta, 2)*x[0,i]*pow(x[1,i], 3)*exp(-2*pow(r, 2)*theta + 4*r*theta - 2*theta)/(gamma*pow(r, 4)) + 4.0*beta*pow(eta, 2)*theta*pow(x[0,i], 3)*x[1,i]*exp(-2*pow(r, 2)*theta + 4*r*theta - 2*theta)/(gamma*pow(r, 4)) + 4.0*beta*pow(eta, 2)*theta*x[0,i]*pow(x[1,i], 3)*exp(-2*pow(r, 2)*theta + 4*r*theta - 2*theta)/(gamma*pow(r, 4)) - 2.0*beta*pow(eta, 2)*x[0,i]*x[1,i]*exp(-2*pow(r, 2)*theta + 4*r*theta - 2*theta)/(gamma*pow(r, 4)) - 5.0*beta*pow(eta, 2)*theta*pow(x[0,i], 3)*x[1,i]*exp(-2*pow(r, 2)*theta + 4*r*theta - 2*theta)/(gamma*pow(r, 5)) - 5.0*beta*pow(eta, 2)*theta*x[0,i]*pow(x[1,i], 3)*exp(-2*pow(r, 2)*theta + 4*r*theta - 2*theta)/(gamma*pow(r, 5)) + 2.0*beta*pow(eta, 2)*pow(x[0,i], 3)*x[1,i]*exp(-2*pow(r, 2)*theta + 4*r*theta - 2*theta)/(gamma*pow(r, 6)) + 2.0*beta*pow(eta, 2)*x[0,i]*pow(x[1,i], 3)*exp(-2*pow(r, 2)*theta + 4*r*theta - 2*theta)/(gamma*pow(r, 6)) - 2.0*beta*eta*pow(theta, 2)*pow(x[0,i], 2)*x[1,i]*xd[1,i]*exp(-pow(r, 2)*theta + 2*r*theta - theta)/r + 2.0*beta*eta*pow(theta, 2)*x[0,i]*xd[0,i]*pow(x[1,i], 2)*exp(-pow(r, 2)*theta + 2*r*theta - theta)/r - beta*eta*theta*x[0,i]*xd[0,i]*exp(-pow(r, 2)*theta + 2*r*theta - theta)/r + beta*eta*theta*x[1,i]*xd[1,i]*exp(-pow(r, 2)*theta + 2*r*theta - theta)/r + 4.0*beta*eta*pow(theta, 2)*pow(x[0,i], 2)*x[1,i]*xd[1,i]*exp(-pow(r, 2)*theta + 2*r*theta - theta)/pow(r, 2) - 4.0*beta*eta*pow(theta, 2)*x[0,i]*xd[0,i]*pow(x[1,i], 2)*exp(-pow(r, 2)*theta + 2*r*theta - theta)/pow(r, 2) + beta*eta*theta*x[0,i]*xd[0,i]*exp(-pow(r, 2)*theta + 2*r*theta - theta)/pow(r, 2) - beta*eta*theta*x[1,i]*xd[1,i]*exp(-pow(r, 2)*theta + 2*r*theta - theta)/pow(r, 2) - 2.0*beta*eta*pow(theta, 2)*pow(x[0,i], 2)*x[1,i]*xd[1,i]*exp(-pow(r, 2)*theta + 2*r*theta - theta)/pow(r, 3) + 2.0*beta*eta*pow(theta, 2)*x[0,i]*xd[0,i]*pow(x[1,i], 2)*exp(-pow(r, 2)*theta + 2*r*theta - theta)/pow(r, 3) - 2.0*beta*eta*theta*pow(x[0,i], 2)*x[1,i]*xd[1,i]*exp(-pow(r, 2)*theta + 2*r*theta - theta)/pow(r, 3) + 2.0*beta*eta*theta*x[0,i]*xd[0,i]*pow(x[1,i], 2)*exp(-pow(r, 2)*theta + 2*r*theta - theta)/pow(r, 3) - 0.5*beta*eta*x[0,i]*xd[0,i]*exp(-pow(r, 2)*theta + 2*r*theta - theta)/pow(r, 3) + 0.5*beta*eta*x[1,i]*xd[1,i]*exp(-pow(r, 2)*theta + 2*r*theta - theta)/pow(r, 3) + 3.0*beta*eta*theta*pow(x[0,i], 2)*x[1,i]*xd[1,i]*exp(-pow(r, 2)*theta + 2*r*theta - theta)/pow(r, 4) - 3.0*beta*eta*theta*x[0,i]*xd[0,i]*pow(x[1,i], 2)*exp(-pow(r, 2)*theta + 2*r*theta - theta)/pow(r, 4) - 1.5*beta*eta*pow(x[0,i], 2)*x[1,i]*xd[1,i]*exp(-pow(r, 2)*theta + 2*r*theta - theta)/pow(r, 5) + 1.5*beta*eta*x[0,i]*xd[0,i]*pow(x[1,i], 2)*exp(-pow(r, 2)*theta + 2*r*theta - theta)/pow(r, 5)\n",
      "        L_x_x[1,0,i] = 49.5*pow(U0, 2)*beta*pow(r, 3)*x[0,i]*xim*xip/gamma + 60.75*pow(U0, 2)*beta*pow(r, 2)*x[0,i]*pow(xim, 2)*x[1,i]/gamma - 139.5*pow(U0, 2)*beta*pow(r, 2)*x[0,i]*xim*xip/gamma + 45.0*pow(U0, 2)*beta*pow(r, 2)*x[0,i]*xim/gamma + 144.0*pow(U0, 2)*beta*pow(r, 2)*x[0,i]*pow(xip, 2)*x[1,i]/gamma + 40.5*pow(U0, 2)*beta*r*pow(x[0,i], 3)*xim*xip/gamma - 155.25*pow(U0, 2)*beta*r*x[0,i]*pow(xim, 2)*x[1,i]/gamma + 270.0*pow(U0, 2)*beta*r*x[0,i]*xim*xip*pow(x[1,i], 2)/gamma + 137.25*pow(U0, 2)*beta*r*x[0,i]*xim*xip/gamma - 103.5*pow(U0, 2)*beta*r*x[0,i]*xim/gamma - 324.0*pow(U0, 2)*beta*r*x[0,i]*pow(xip, 2)*x[1,i]/gamma + 216.0*pow(U0, 2)*beta*r*x[0,i]*xip*x[1,i]/gamma + 20.25*pow(U0, 2)*beta*pow(x[0,i], 3)*pow(xim, 2)*x[1,i]/gamma - 76.5*pow(U0, 2)*beta*pow(x[0,i], 3)*xim*xip/gamma + 27.0*pow(U0, 2)*beta*pow(x[0,i], 3)*xim/gamma + 72.0*pow(U0, 2)*beta*pow(x[0,i], 3)*pow(xip, 2)*x[1,i]/gamma + 87.75*pow(U0, 2)*beta*x[0,i]*pow(xim, 2)*pow(x[1,i], 3)/gamma + 130.5*pow(U0, 2)*beta*x[0,i]*pow(xim, 2)*x[1,i]/gamma - 508.5*pow(U0, 2)*beta*x[0,i]*xim*xip*pow(x[1,i], 2)/gamma - 54.0*pow(U0, 2)*beta*x[0,i]*xim*xip/gamma + 171.0*pow(U0, 2)*beta*x[0,i]*xim*pow(x[1,i], 2)/gamma + 72.0*pow(U0, 2)*beta*x[0,i]*xim/gamma + 72.0*pow(U0, 2)*beta*x[0,i]*pow(xip, 2)*pow(x[1,i], 3)/gamma + 234.0*pow(U0, 2)*beta*x[0,i]*pow(xip, 2)*x[1,i]/gamma - 360.0*pow(U0, 2)*beta*x[0,i]*xip*x[1,i]/gamma + 72.0*pow(U0, 2)*beta*x[0,i]*x[1,i]/gamma - 27.0*pow(U0, 2)*beta*pow(x[0,i], 3)*pow(xim, 2)*x[1,i]/(gamma*r) + 40.5*pow(U0, 2)*beta*pow(x[0,i], 3)*xim*xip*pow(x[1,i], 2)/(gamma*r) + 38.25*pow(U0, 2)*beta*pow(x[0,i], 3)*xim*xip/(gamma*r) - 31.5*pow(U0, 2)*beta*pow(x[0,i], 3)*xim/(gamma*r) - 81.0*pow(U0, 2)*beta*pow(x[0,i], 3)*pow(xip, 2)*x[1,i]/(gamma*r) + 54.0*pow(U0, 2)*beta*pow(x[0,i], 3)*xip*x[1,i]/(gamma*r) - 114.75*pow(U0, 2)*beta*x[0,i]*pow(xim, 2)*pow(x[1,i], 3)/(gamma*r) - 38.25*pow(U0, 2)*beta*x[0,i]*pow(xim, 2)*x[1,i]/(gamma*r) + 40.5*pow(U0, 2)*beta*x[0,i]*pow(x[1,i], 4)*xim*xip/(gamma*r) + 252.0*pow(U0, 2)*beta*x[0,i]*xim*xip*pow(x[1,i], 2)/(gamma*r) + 6.75*pow(U0, 2)*beta*x[0,i]*xim*xip/(gamma*r) - 198.0*pow(U0, 2)*beta*x[0,i]*xim*pow(x[1,i], 2)/(gamma*r) - 13.5*pow(U0, 2)*beta*x[0,i]*xim/(gamma*r) - 81.0*pow(U0, 2)*beta*x[0,i]*pow(xip, 2)*pow(x[1,i], 3)/(gamma*r) - 54.0*pow(U0, 2)*beta*x[0,i]*pow(xip, 2)*x[1,i]/(gamma*r) + 54.0*pow(U0, 2)*beta*x[0,i]*xip*pow(x[1,i], 3)/(gamma*r) + 144.0*pow(U0, 2)*beta*x[0,i]*xip*x[1,i]/(gamma*r) - 72.0*pow(U0, 2)*beta*x[0,i]*x[1,i]/(gamma*r) + 2.25*pow(U0, 2)*beta*x[0,i]*pow(xim, 2)*x[1,i]/(gamma*pow(r, 2)) + 13.5*pow(U0, 2)*beta*pow(x[0,i], 3)*pow(xim, 2)*pow(x[1,i], 3)/(gamma*pow(r, 3)) + 9.0*pow(U0, 2)*beta*pow(x[0,i], 3)*pow(xim, 2)*x[1,i]/(gamma*pow(r, 3)) - 38.25*pow(U0, 2)*beta*pow(x[0,i], 3)*xim*xip*pow(x[1,i], 2)/(gamma*pow(r, 3)) - 2.25*pow(U0, 2)*beta*pow(x[0,i], 3)*xim*xip/(gamma*pow(r, 3)) + 31.5*pow(U0, 2)*beta*pow(x[0,i], 3)*xim*pow(x[1,i], 2)/(gamma*pow(r, 3)) + 4.5*pow(U0, 2)*beta*pow(x[0,i], 3)*xim/(gamma*pow(r, 3)) + 13.5*pow(U0, 2)*beta*pow(x[0,i], 3)*pow(xip, 2)*x[1,i]/(gamma*pow(r, 3)) - 36.0*pow(U0, 2)*beta*pow(x[0,i], 3)*xip*x[1,i]/(gamma*pow(r, 3)) + 18.0*pow(U0, 2)*beta*pow(x[0,i], 3)*x[1,i]/(gamma*pow(r, 3)) + 13.5*pow(U0, 2)*beta*x[0,i]*pow(x[1,i], 5)*pow(xim, 2)/(gamma*pow(r, 3)) + 33.75*pow(U0, 2)*beta*x[0,i]*pow(xim, 2)*pow(x[1,i], 3)/(gamma*pow(r, 3)) - 38.25*pow(U0, 2)*beta*x[0,i]*pow(x[1,i], 4)*xim*xip/(gamma*pow(r, 3)) - 13.5*pow(U0, 2)*beta*x[0,i]*xim*xip*pow(x[1,i], 2)/(gamma*pow(r, 3)) + 31.5*pow(U0, 2)*beta*x[0,i]*pow(x[1,i], 4)*xim/(gamma*pow(r, 3)) + 27.0*pow(U0, 2)*beta*x[0,i]*xim*pow(x[1,i], 2)/(gamma*pow(r, 3)) + 13.5*pow(U0, 2)*beta*x[0,i]*pow(xip, 2)*pow(x[1,i], 3)/(gamma*pow(r, 3)) - 36.0*pow(U0, 2)*beta*x[0,i]*xip*pow(x[1,i], 3)/(gamma*pow(r, 3)) + 18.0*pow(U0, 2)*beta*x[0,i]*pow(x[1,i], 3)/(gamma*pow(r, 3)) - 2.25*pow(U0, 2)*beta*pow(x[0,i], 3)*pow(xim, 2)*x[1,i]/(gamma*pow(r, 4)) - 6.75*pow(U0, 2)*beta*x[0,i]*pow(xim, 2)*pow(x[1,i], 3)/(gamma*pow(r, 4)) - 13.5*pow(U0, 2)*beta*pow(x[0,i], 3)*pow(xim, 2)*pow(x[1,i], 3)/(gamma*pow(r, 5)) + 6.75*pow(U0, 2)*beta*pow(x[0,i], 3)*xim*xip*pow(x[1,i], 2)/(gamma*pow(r, 5)) - 13.5*pow(U0, 2)*beta*pow(x[0,i], 3)*xim*pow(x[1,i], 2)/(gamma*pow(r, 5)) - 13.5*pow(U0, 2)*beta*x[0,i]*pow(x[1,i], 5)*pow(xim, 2)/(gamma*pow(r, 5)) + 6.75*pow(U0, 2)*beta*x[0,i]*pow(x[1,i], 4)*xim*xip/(gamma*pow(r, 5)) - 13.5*pow(U0, 2)*beta*x[0,i]*pow(x[1,i], 4)*xim/(gamma*pow(r, 5)) + 4.5*pow(U0, 2)*beta*pow(x[0,i], 3)*pow(xim, 2)*pow(x[1,i], 3)/(gamma*pow(r, 6)) + 4.5*pow(U0, 2)*beta*x[0,i]*pow(x[1,i], 5)*pow(xim, 2)/(gamma*pow(r, 6)) - 3.0*U0*beta*eta*pow(r, 2)*pow(theta, 2)*pow(x[0,i], 2)*xim*x[1,i]*exp(-pow(r, 2)*theta + 2*r*theta - theta)/gamma + 1.5*U0*beta*eta*pow(r, 2)*theta*xim*x[1,i]*exp(-pow(r, 2)*theta + 2*r*theta - theta)/gamma + 12.0*U0*beta*eta*r*pow(theta, 2)*pow(x[0,i], 2)*xim*x[1,i]*exp(-pow(r, 2)*theta + 2*r*theta - theta)/gamma - 4.5*U0*beta*eta*r*theta*xim*x[1,i]*exp(-pow(r, 2)*theta + 2*r*theta - theta)/gamma - 18.0*U0*beta*eta*pow(theta, 2)*pow(x[0,i], 2)*xim*x[1,i]*exp(-pow(r, 2)*theta + 2*r*theta - theta)/gamma + 6.0*U0*beta*eta*theta*pow(x[0,i], 2)*xim*x[1,i]*exp(-pow(r, 2)*theta + 2*r*theta - theta)/gamma + 4.5*U0*beta*eta*theta*xim*x[1,i]*exp(-pow(r, 2)*theta + 2*r*theta - theta)/gamma - 1.5*U0*beta*eta*xim*x[1,i]*exp(-pow(r, 2)*theta + 2*r*theta - theta)/gamma + 12.0*U0*beta*eta*pow(theta, 2)*pow(x[0,i], 2)*xim*x[1,i]*exp(-pow(r, 2)*theta + 2*r*theta - theta)/(gamma*r) - 10.5*U0*beta*eta*theta*pow(x[0,i], 2)*xim*x[1,i]*exp(-pow(r, 2)*theta + 2*r*theta - theta)/(gamma*r) - 1.5*U0*beta*eta*theta*xim*x[1,i]*exp(-pow(r, 2)*theta + 2*r*theta - theta)/(gamma*r) + 1.5*U0*beta*eta*xim*x[1,i]*exp(-pow(r, 2)*theta + 2*r*theta - theta)/(gamma*r) - 3.0*U0*beta*eta*pow(theta, 2)*pow(x[0,i], 2)*xim*x[1,i]*exp(-pow(r, 2)*theta + 2*r*theta - theta)/(gamma*pow(r, 2)) + 3.0*U0*beta*eta*theta*pow(x[0,i], 2)*xim*x[1,i]*exp(-pow(r, 2)*theta + 2*r*theta - theta)/(gamma*pow(r, 2)) + 1.5*U0*beta*eta*theta*pow(x[0,i], 2)*xim*x[1,i]*exp(-pow(r, 2)*theta + 2*r*theta - theta)/(gamma*pow(r, 3)) - 1.5*U0*beta*eta*pow(x[0,i], 2)*xim*x[1,i]*exp(-pow(r, 2)*theta + 2*r*theta - theta)/(gamma*pow(r, 3)) + 2.25*U0*beta*r*xd[0,i]*xim + 6.0*U0*beta*x[0,i]*xip*xd[1,i] - 3.0*U0*beta*xd[0,i]*xim + 6.0*U0*beta*xd[0,i]*xip*x[1,i] + 2.25*U0*beta*pow(x[0,i], 2)*xd[0,i]*xim/r + 6.75*U0*beta*x[0,i]*xim*x[1,i]*xd[1,i]/r - 4.5*U0*beta*x[0,i]*xip*xd[1,i]/r + 3.0*U0*beta*x[0,i]*xd[1,i]/r + 2.25*U0*beta*xd[0,i]*xim*pow(x[1,i], 2)/r + 0.75*U0*beta*xd[0,i]*xim/r - 4.5*U0*beta*xd[0,i]*xip*x[1,i]/r + 3.0*U0*beta*xd[0,i]*x[1,i]/r - 2.25*U0*beta*pow(x[0,i], 2)*xd[0,i]*xim*pow(x[1,i], 2)/pow(r, 3) - 0.75*U0*beta*pow(x[0,i], 2)*xd[0,i]*xim/pow(r, 3) + 4.5*U0*beta*pow(x[0,i], 2)*xd[0,i]*xip*x[1,i]/pow(r, 3) - 3.0*U0*beta*pow(x[0,i], 2)*xd[0,i]*x[1,i]/pow(r, 3) - 2.25*U0*beta*x[0,i]*xim*pow(x[1,i], 3)*xd[1,i]/pow(r, 3) - 2.25*U0*beta*x[0,i]*xim*x[1,i]*xd[1,i]/pow(r, 3) + 4.5*U0*beta*x[0,i]*xip*pow(x[1,i], 2)*xd[1,i]/pow(r, 3) - 3.0*U0*beta*x[0,i]*pow(x[1,i], 2)*xd[1,i]/pow(r, 3) - 0.75*U0*beta*xd[0,i]*xim*pow(x[1,i], 2)/pow(r, 3) + 2.25*U0*beta*pow(x[0,i], 2)*xd[0,i]*xim*pow(x[1,i], 2)/pow(r, 5) + 2.25*U0*beta*x[0,i]*xim*pow(x[1,i], 3)*xd[1,i]/pow(r, 5) - 13.5*U0*x[0,i]*xim/(gamma*r) + 2.25*U0*pow(x[0,i], 3)*xim/(gamma*pow(r, 3)) + 20.25*U0*x[0,i]*xim*pow(x[1,i], 2)/(gamma*pow(r, 3)) + 4.5*U0*x[0,i]*xim/(gamma*pow(r, 3)) - 27.0*U0*x[0,i]*xip*x[1,i]/(gamma*pow(r, 3)) + 18.0*U0*x[0,i]*x[1,i]/(gamma*pow(r, 3)) - 6.75*U0*pow(x[0,i], 3)*xim*pow(x[1,i], 2)/(gamma*pow(r, 5)) - 2.25*U0*pow(x[0,i], 3)*xim/(gamma*pow(r, 5)) + 13.5*U0*pow(x[0,i], 3)*xip*x[1,i]/(gamma*pow(r, 5)) - 9.0*U0*pow(x[0,i], 3)*x[1,i]/(gamma*pow(r, 5)) - 6.75*U0*x[0,i]*pow(x[1,i], 4)*xim/(gamma*pow(r, 5)) - 20.25*U0*x[0,i]*xim*pow(x[1,i], 2)/(gamma*pow(r, 5)) + 13.5*U0*x[0,i]*xip*pow(x[1,i], 3)/(gamma*pow(r, 5)) - 9.0*U0*x[0,i]*pow(x[1,i], 3)/(gamma*pow(r, 5)) + 11.25*U0*pow(x[0,i], 3)*xim*pow(x[1,i], 2)/(gamma*pow(r, 7)) + 11.25*U0*x[0,i]*pow(x[1,i], 4)*xim/(gamma*pow(r, 7)) + 4.0*beta*pow(eta, 2)*pow(theta, 2)*pow(x[0,i], 3)*x[1,i]*exp(-2*pow(r, 2)*theta + 4*r*theta - 2*theta)/(gamma*pow(r, 2)) + 4.0*beta*pow(eta, 2)*pow(theta, 2)*x[0,i]*pow(x[1,i], 3)*exp(-2*pow(r, 2)*theta + 4*r*theta - 2*theta)/(gamma*pow(r, 2)) - 4.0*beta*pow(eta, 2)*theta*x[0,i]*x[1,i]*exp(-2*pow(r, 2)*theta + 4*r*theta - 2*theta)/(gamma*pow(r, 2)) - 8.0*beta*pow(eta, 2)*pow(theta, 2)*pow(x[0,i], 3)*x[1,i]*exp(-2*pow(r, 2)*theta + 4*r*theta - 2*theta)/(gamma*pow(r, 3)) - 8.0*beta*pow(eta, 2)*pow(theta, 2)*x[0,i]*pow(x[1,i], 3)*exp(-2*pow(r, 2)*theta + 4*r*theta - 2*theta)/(gamma*pow(r, 3)) + 4.0*beta*pow(eta, 2)*theta*x[0,i]*x[1,i]*exp(-2*pow(r, 2)*theta + 4*r*theta - 2*theta)/(gamma*pow(r, 3)) + 4.0*beta*pow(eta, 2)*pow(theta, 2)*pow(x[0,i], 3)*x[1,i]*exp(-2*pow(r, 2)*theta + 4*r*theta - 2*theta)/(gamma*pow(r, 4)) + 4.0*beta*pow(eta, 2)*pow(theta, 2)*x[0,i]*pow(x[1,i], 3)*exp(-2*pow(r, 2)*theta + 4*r*theta - 2*theta)/(gamma*pow(r, 4)) + 4.0*beta*pow(eta, 2)*theta*pow(x[0,i], 3)*x[1,i]*exp(-2*pow(r, 2)*theta + 4*r*theta - 2*theta)/(gamma*pow(r, 4)) + 4.0*beta*pow(eta, 2)*theta*x[0,i]*pow(x[1,i], 3)*exp(-2*pow(r, 2)*theta + 4*r*theta - 2*theta)/(gamma*pow(r, 4)) - 2.0*beta*pow(eta, 2)*x[0,i]*x[1,i]*exp(-2*pow(r, 2)*theta + 4*r*theta - 2*theta)/(gamma*pow(r, 4)) - 5.0*beta*pow(eta, 2)*theta*pow(x[0,i], 3)*x[1,i]*exp(-2*pow(r, 2)*theta + 4*r*theta - 2*theta)/(gamma*pow(r, 5)) - 5.0*beta*pow(eta, 2)*theta*x[0,i]*pow(x[1,i], 3)*exp(-2*pow(r, 2)*theta + 4*r*theta - 2*theta)/(gamma*pow(r, 5)) + 2.0*beta*pow(eta, 2)*pow(x[0,i], 3)*x[1,i]*exp(-2*pow(r, 2)*theta + 4*r*theta - 2*theta)/(gamma*pow(r, 6)) + 2.0*beta*pow(eta, 2)*x[0,i]*pow(x[1,i], 3)*exp(-2*pow(r, 2)*theta + 4*r*theta - 2*theta)/(gamma*pow(r, 6)) - 2.0*beta*eta*pow(theta, 2)*pow(x[0,i], 2)*x[1,i]*xd[1,i]*exp(-pow(r, 2)*theta + 2*r*theta - theta)/r + 2.0*beta*eta*pow(theta, 2)*x[0,i]*xd[0,i]*pow(x[1,i], 2)*exp(-pow(r, 2)*theta + 2*r*theta - theta)/r - beta*eta*theta*x[0,i]*xd[0,i]*exp(-pow(r, 2)*theta + 2*r*theta - theta)/r + beta*eta*theta*x[1,i]*xd[1,i]*exp(-pow(r, 2)*theta + 2*r*theta - theta)/r + 4.0*beta*eta*pow(theta, 2)*pow(x[0,i], 2)*x[1,i]*xd[1,i]*exp(-pow(r, 2)*theta + 2*r*theta - theta)/pow(r, 2) - 4.0*beta*eta*pow(theta, 2)*x[0,i]*xd[0,i]*pow(x[1,i], 2)*exp(-pow(r, 2)*theta + 2*r*theta - theta)/pow(r, 2) + beta*eta*theta*x[0,i]*xd[0,i]*exp(-pow(r, 2)*theta + 2*r*theta - theta)/pow(r, 2) - beta*eta*theta*x[1,i]*xd[1,i]*exp(-pow(r, 2)*theta + 2*r*theta - theta)/pow(r, 2) - 2.0*beta*eta*pow(theta, 2)*pow(x[0,i], 2)*x[1,i]*xd[1,i]*exp(-pow(r, 2)*theta + 2*r*theta - theta)/pow(r, 3) + 2.0*beta*eta*pow(theta, 2)*x[0,i]*xd[0,i]*pow(x[1,i], 2)*exp(-pow(r, 2)*theta + 2*r*theta - theta)/pow(r, 3) - 2.0*beta*eta*theta*pow(x[0,i], 2)*x[1,i]*xd[1,i]*exp(-pow(r, 2)*theta + 2*r*theta - theta)/pow(r, 3) + 2.0*beta*eta*theta*x[0,i]*xd[0,i]*pow(x[1,i], 2)*exp(-pow(r, 2)*theta + 2*r*theta - theta)/pow(r, 3) - 0.5*beta*eta*x[0,i]*xd[0,i]*exp(-pow(r, 2)*theta + 2*r*theta - theta)/pow(r, 3) + 0.5*beta*eta*x[1,i]*xd[1,i]*exp(-pow(r, 2)*theta + 2*r*theta - theta)/pow(r, 3) + 3.0*beta*eta*theta*pow(x[0,i], 2)*x[1,i]*xd[1,i]*exp(-pow(r, 2)*theta + 2*r*theta - theta)/pow(r, 4) - 3.0*beta*eta*theta*x[0,i]*xd[0,i]*pow(x[1,i], 2)*exp(-pow(r, 2)*theta + 2*r*theta - theta)/pow(r, 4) - 1.5*beta*eta*pow(x[0,i], 2)*x[1,i]*xd[1,i]*exp(-pow(r, 2)*theta + 2*r*theta - theta)/pow(r, 5) + 1.5*beta*eta*x[0,i]*xd[0,i]*pow(x[1,i], 2)*exp(-pow(r, 2)*theta + 2*r*theta - theta)/pow(r, 5)\n",
      "        L_x_x[1,1,i] = 10.125*pow(U0, 2)*beta*pow(r, 4)*pow(xim, 2)/gamma + 18.0*pow(U0, 2)*beta*pow(r, 4)*pow(xip, 2)/gamma - 33.75*pow(U0, 2)*beta*pow(r, 3)*pow(xim, 2)/gamma + 148.5*pow(U0, 2)*beta*pow(r, 3)*xim*xip*x[1,i]/gamma - 54.0*pow(U0, 2)*beta*pow(r, 3)*pow(xip, 2)/gamma + 36.0*pow(U0, 2)*beta*pow(r, 3)*xip/gamma + 10.125*pow(U0, 2)*beta*pow(r, 2)*pow(x[0,i], 2)*pow(xim, 2)/gamma + 36.0*pow(U0, 2)*beta*pow(r, 2)*pow(x[0,i], 2)*pow(xip, 2)/gamma + 141.75*pow(U0, 2)*beta*pow(r, 2)*pow(xim, 2)*pow(x[1,i], 2)/gamma + 40.5*pow(U0, 2)*beta*pow(r, 2)*pow(xim, 2)/gamma - 418.5*pow(U0, 2)*beta*pow(r, 2)*xim*xip*x[1,i]/gamma + 135.0*pow(U0, 2)*beta*pow(r, 2)*xim*x[1,i]/gamma + 180.0*pow(U0, 2)*beta*pow(r, 2)*pow(xip, 2)*pow(x[1,i], 2)/gamma + 58.5*pow(U0, 2)*beta*pow(r, 2)*pow(xip, 2)/gamma - 90.0*pow(U0, 2)*beta*pow(r, 2)*xip/gamma + 18.0*pow(U0, 2)*beta*pow(r, 2)/gamma - 27.0*pow(U0, 2)*beta*r*pow(x[0,i], 2)*pow(xim, 2)/gamma + 121.5*pow(U0, 2)*beta*r*pow(x[0,i], 2)*xim*xip*x[1,i]/gamma - 81.0*pow(U0, 2)*beta*r*pow(x[0,i], 2)*pow(xip, 2)/gamma + 54.0*pow(U0, 2)*beta*r*pow(x[0,i], 2)*xip/gamma - 364.5*pow(U0, 2)*beta*r*pow(xim, 2)*pow(x[1,i], 2)/gamma - 20.25*pow(U0, 2)*beta*r*pow(xim, 2)/gamma + 351.0*pow(U0, 2)*beta*r*xim*xip*pow(x[1,i], 3)/gamma + 411.75*pow(U0, 2)*beta*r*xim*xip*x[1,i]/gamma - 310.5*pow(U0, 2)*beta*r*xim*x[1,i]/gamma - 405.0*pow(U0, 2)*beta*r*pow(xip, 2)*pow(x[1,i], 2)/gamma - 27.0*pow(U0, 2)*beta*r*pow(xip, 2)/gamma + 270.0*pow(U0, 2)*beta*r*xip*pow(x[1,i], 2)/gamma + 72.0*pow(U0, 2)*beta*r*xip/gamma - 36.0*pow(U0, 2)*beta*r/gamma + 50.625*pow(U0, 2)*beta*pow(x[0,i], 2)*pow(xim, 2)*pow(x[1,i], 2)/gamma + 24.75*pow(U0, 2)*beta*pow(x[0,i], 2)*pow(xim, 2)/gamma - 229.5*pow(U0, 2)*beta*pow(x[0,i], 2)*xim*xip*x[1,i]/gamma + 81.0*pow(U0, 2)*beta*pow(x[0,i], 2)*xim*x[1,i]/gamma + 72.0*pow(U0, 2)*beta*pow(x[0,i], 2)*pow(xip, 2)*pow(x[1,i], 2)/gamma + 58.5*pow(U0, 2)*beta*pow(x[0,i], 2)*pow(xip, 2)/gamma - 90.0*pow(U0, 2)*beta*pow(x[0,i], 2)*xip/gamma + 18.0*pow(U0, 2)*beta*pow(x[0,i], 2)/gamma + 118.125*pow(U0, 2)*beta*pow(x[1,i], 4)*pow(xim, 2)/gamma + 310.5*pow(U0, 2)*beta*pow(xim, 2)*pow(x[1,i], 2)/gamma + 3.375*pow(U0, 2)*beta*pow(xim, 2)/gamma - 661.5*pow(U0, 2)*beta*xim*xip*pow(x[1,i], 3)/gamma - 162.0*pow(U0, 2)*beta*xim*xip*x[1,i]/gamma + 225.0*pow(U0, 2)*beta*xim*pow(x[1,i], 3)/gamma + 216.0*pow(U0, 2)*beta*xim*x[1,i]/gamma + 72.0*pow(U0, 2)*beta*pow(x[1,i], 4)*pow(xip, 2)/gamma + 292.5*pow(U0, 2)*beta*pow(xip, 2)*pow(x[1,i], 2)/gamma + 4.5*pow(U0, 2)*beta*pow(xip, 2)/gamma - 450.0*pow(U0, 2)*beta*xip*pow(x[1,i], 2)/gamma - 18.0*pow(U0, 2)*beta*xip/gamma + 90.0*pow(U0, 2)*beta*pow(x[1,i], 2)/gamma + 18.0*pow(U0, 2)*beta/gamma - 67.5*pow(U0, 2)*beta*pow(x[0,i], 2)*pow(xim, 2)*pow(x[1,i], 2)/(gamma*r) - 9.0*pow(U0, 2)*beta*pow(x[0,i], 2)*pow(xim, 2)/(gamma*r) + 40.5*pow(U0, 2)*beta*pow(x[0,i], 2)*xim*xip*pow(x[1,i], 3)/(gamma*r) + 114.75*pow(U0, 2)*beta*pow(x[0,i], 2)*xim*xip*x[1,i]/(gamma*r) - 94.5*pow(U0, 2)*beta*pow(x[0,i], 2)*xim*x[1,i]/(gamma*r) - 81.0*pow(U0, 2)*beta*pow(x[0,i], 2)*pow(xip, 2)*pow(x[1,i], 2)/(gamma*r) - 13.5*pow(U0, 2)*beta*pow(x[0,i], 2)*pow(xip, 2)/(gamma*r) + 54.0*pow(U0, 2)*beta*pow(x[0,i], 2)*xip*pow(x[1,i], 2)/(gamma*r) + 36.0*pow(U0, 2)*beta*pow(x[0,i], 2)*xip/(gamma*r) - 18.0*pow(U0, 2)*beta*pow(x[0,i], 2)/(gamma*r) - 155.25*pow(U0, 2)*beta*pow(x[1,i], 4)*pow(xim, 2)/(gamma*r) - 94.5*pow(U0, 2)*beta*pow(xim, 2)*pow(x[1,i], 2)/(gamma*r) + 40.5*pow(U0, 2)*beta*pow(x[1,i], 5)*xim*xip/(gamma*r) + 328.5*pow(U0, 2)*beta*xim*xip*pow(x[1,i], 3)/(gamma*r) + 20.25*pow(U0, 2)*beta*xim*xip*x[1,i]/(gamma*r) - 261.0*pow(U0, 2)*beta*xim*pow(x[1,i], 3)/(gamma*r) - 40.5*pow(U0, 2)*beta*xim*x[1,i]/(gamma*r) - 81.0*pow(U0, 2)*beta*pow(x[1,i], 4)*pow(xip, 2)/(gamma*r) - 67.5*pow(U0, 2)*beta*pow(xip, 2)*pow(x[1,i], 2)/(gamma*r) + 54.0*pow(U0, 2)*beta*pow(x[1,i], 4)*xip/(gamma*r) + 180.0*pow(U0, 2)*beta*xip*pow(x[1,i], 2)/(gamma*r) - 90.0*pow(U0, 2)*beta*pow(x[1,i], 2)/(gamma*r) + 1.125*pow(U0, 2)*beta*pow(x[0,i], 2)*pow(xim, 2)/(gamma*pow(r, 2)) + 6.75*pow(U0, 2)*beta*pow(xim, 2)*pow(x[1,i], 2)/(gamma*pow(r, 2)) + 13.5*pow(U0, 2)*beta*pow(x[0,i], 2)*pow(x[1,i], 4)*pow(xim, 2)/(gamma*pow(r, 3)) + 22.5*pow(U0, 2)*beta*pow(x[0,i], 2)*pow(xim, 2)*pow(x[1,i], 2)/(gamma*pow(r, 3)) - 38.25*pow(U0, 2)*beta*pow(x[0,i], 2)*xim*xip*pow(x[1,i], 3)/(gamma*pow(r, 3)) - 6.75*pow(U0, 2)*beta*pow(x[0,i], 2)*xim*xip*x[1,i]/(gamma*pow(r, 3)) + 31.5*pow(U0, 2)*beta*pow(x[0,i], 2)*xim*pow(x[1,i], 3)/(gamma*pow(r, 3)) + 13.5*pow(U0, 2)*beta*pow(x[0,i], 2)*xim*x[1,i]/(gamma*pow(r, 3)) + 13.5*pow(U0, 2)*beta*pow(x[0,i], 2)*pow(xip, 2)*pow(x[1,i], 2)/(gamma*pow(r, 3)) - 36.0*pow(U0, 2)*beta*pow(x[0,i], 2)*xip*pow(x[1,i], 2)/(gamma*pow(r, 3)) + 18.0*pow(U0, 2)*beta*pow(x[0,i], 2)*pow(x[1,i], 2)/(gamma*pow(r, 3)) + 13.5*pow(U0, 2)*beta*pow(x[1,i], 6)*pow(xim, 2)/(gamma*pow(r, 3)) + 47.25*pow(U0, 2)*beta*pow(x[1,i], 4)*pow(xim, 2)/(gamma*pow(r, 3)) - 38.25*pow(U0, 2)*beta*pow(x[1,i], 5)*xim*xip/(gamma*pow(r, 3)) - 18.0*pow(U0, 2)*beta*xim*xip*pow(x[1,i], 3)/(gamma*pow(r, 3)) + 31.5*pow(U0, 2)*beta*pow(x[1,i], 5)*xim/(gamma*pow(r, 3)) + 36.0*pow(U0, 2)*beta*xim*pow(x[1,i], 3)/(gamma*pow(r, 3)) + 13.5*pow(U0, 2)*beta*pow(x[1,i], 4)*pow(xip, 2)/(gamma*pow(r, 3)) - 36.0*pow(U0, 2)*beta*pow(x[1,i], 4)*xip/(gamma*pow(r, 3)) + 18.0*pow(U0, 2)*beta*pow(x[1,i], 4)/(gamma*pow(r, 3)) - 5.625*pow(U0, 2)*beta*pow(x[0,i], 2)*pow(xim, 2)*pow(x[1,i], 2)/(gamma*pow(r, 4)) - 10.125*pow(U0, 2)*beta*pow(x[1,i], 4)*pow(xim, 2)/(gamma*pow(r, 4)) - 13.5*pow(U0, 2)*beta*pow(x[0,i], 2)*pow(x[1,i], 4)*pow(xim, 2)/(gamma*pow(r, 5)) + 6.75*pow(U0, 2)*beta*pow(x[0,i], 2)*xim*xip*pow(x[1,i], 3)/(gamma*pow(r, 5)) - 13.5*pow(U0, 2)*beta*pow(x[0,i], 2)*xim*pow(x[1,i], 3)/(gamma*pow(r, 5)) - 13.5*pow(U0, 2)*beta*pow(x[1,i], 6)*pow(xim, 2)/(gamma*pow(r, 5)) + 6.75*pow(U0, 2)*beta*pow(x[1,i], 5)*xim*xip/(gamma*pow(r, 5)) - 13.5*pow(U0, 2)*beta*pow(x[1,i], 5)*xim/(gamma*pow(r, 5)) + 4.5*pow(U0, 2)*beta*pow(x[0,i], 2)*pow(x[1,i], 4)*pow(xim, 2)/(gamma*pow(r, 6)) + 4.5*pow(U0, 2)*beta*pow(x[1,i], 6)*pow(xim, 2)/(gamma*pow(r, 6)) - 3.0*U0*beta*eta*pow(r, 2)*pow(theta, 2)*x[0,i]*xim*pow(x[1,i], 2)*exp(-pow(r, 2)*theta + 2*r*theta - theta)/gamma + 1.5*U0*beta*eta*pow(r, 2)*theta*x[0,i]*xim*exp(-pow(r, 2)*theta + 2*r*theta - theta)/gamma + 12.0*U0*beta*eta*r*pow(theta, 2)*x[0,i]*xim*pow(x[1,i], 2)*exp(-pow(r, 2)*theta + 2*r*theta - theta)/gamma - 4.5*U0*beta*eta*r*theta*x[0,i]*xim*exp(-pow(r, 2)*theta + 2*r*theta - theta)/gamma - 18.0*U0*beta*eta*pow(theta, 2)*x[0,i]*xim*pow(x[1,i], 2)*exp(-pow(r, 2)*theta + 2*r*theta - theta)/gamma + 6.0*U0*beta*eta*theta*x[0,i]*xim*pow(x[1,i], 2)*exp(-pow(r, 2)*theta + 2*r*theta - theta)/gamma + 4.5*U0*beta*eta*theta*x[0,i]*xim*exp(-pow(r, 2)*theta + 2*r*theta - theta)/gamma - 1.5*U0*beta*eta*x[0,i]*xim*exp(-pow(r, 2)*theta + 2*r*theta - theta)/gamma + 12.0*U0*beta*eta*pow(theta, 2)*x[0,i]*xim*pow(x[1,i], 2)*exp(-pow(r, 2)*theta + 2*r*theta - theta)/(gamma*r) - 10.5*U0*beta*eta*theta*x[0,i]*xim*pow(x[1,i], 2)*exp(-pow(r, 2)*theta + 2*r*theta - theta)/(gamma*r) - 1.5*U0*beta*eta*theta*x[0,i]*xim*exp(-pow(r, 2)*theta + 2*r*theta - theta)/(gamma*r) + 1.5*U0*beta*eta*x[0,i]*xim*exp(-pow(r, 2)*theta + 2*r*theta - theta)/(gamma*r) - 3.0*U0*beta*eta*pow(theta, 2)*x[0,i]*xim*pow(x[1,i], 2)*exp(-pow(r, 2)*theta + 2*r*theta - theta)/(gamma*pow(r, 2)) + 3.0*U0*beta*eta*theta*x[0,i]*xim*pow(x[1,i], 2)*exp(-pow(r, 2)*theta + 2*r*theta - theta)/(gamma*pow(r, 2)) + 1.5*U0*beta*eta*theta*x[0,i]*xim*pow(x[1,i], 2)*exp(-pow(r, 2)*theta + 2*r*theta - theta)/(gamma*pow(r, 3)) - 1.5*U0*beta*eta*x[0,i]*xim*pow(x[1,i], 2)*exp(-pow(r, 2)*theta + 2*r*theta - theta)/(gamma*pow(r, 3)) + 6.75*U0*beta*r*xim*xd[1,i] + 6.0*U0*beta*x[0,i]*xd[0,i]*xip - 9.0*U0*beta*xim*xd[1,i] + 18.0*U0*beta*xip*x[1,i]*xd[1,i] + 6.75*U0*beta*x[0,i]*xd[0,i]*xim*x[1,i]/r - 4.5*U0*beta*x[0,i]*xd[0,i]*xip/r + 3.0*U0*beta*x[0,i]*xd[0,i]/r + 13.5*U0*beta*xim*pow(x[1,i], 2)*xd[1,i]/r + 2.25*U0*beta*xim*xd[1,i]/r - 13.5*U0*beta*xip*x[1,i]*xd[1,i]/r + 9.0*U0*beta*x[1,i]*xd[1,i]/r - 2.25*U0*beta*x[0,i]*xd[0,i]*xim*pow(x[1,i], 3)/pow(r, 3) - 2.25*U0*beta*x[0,i]*xd[0,i]*xim*x[1,i]/pow(r, 3) + 4.5*U0*beta*x[0,i]*xd[0,i]*xip*pow(x[1,i], 2)/pow(r, 3) - 3.0*U0*beta*x[0,i]*xd[0,i]*pow(x[1,i], 2)/pow(r, 3) - 2.25*U0*beta*pow(x[1,i], 4)*xim*xd[1,i]/pow(r, 3) - 4.5*U0*beta*xim*pow(x[1,i], 2)*xd[1,i]/pow(r, 3) + 4.5*U0*beta*xip*pow(x[1,i], 3)*xd[1,i]/pow(r, 3) - 3.0*U0*beta*pow(x[1,i], 3)*xd[1,i]/pow(r, 3) + 2.25*U0*beta*x[0,i]*xd[0,i]*xim*pow(x[1,i], 3)/pow(r, 5) + 2.25*U0*beta*pow(x[1,i], 4)*xim*xd[1,i]/pow(r, 5) - 24.0*U0*xip/gamma - 40.5*U0*xim*x[1,i]/(gamma*r) + 18.0*U0*xip/(gamma*r) - 12.0*U0/(gamma*r) + 6.75*U0*pow(x[0,i], 2)*xim*x[1,i]/(gamma*pow(r, 3)) - 4.5*U0*pow(x[0,i], 2)*xip/(gamma*pow(r, 3)) + 3.0*U0*pow(x[0,i], 2)/(gamma*pow(r, 3)) + 24.75*U0*xim*pow(x[1,i], 3)/(gamma*pow(r, 3)) + 13.5*U0*xim*x[1,i]/(gamma*pow(r, 3)) - 31.5*U0*xip*pow(x[1,i], 2)/(gamma*pow(r, 3)) + 21.0*U0*pow(x[1,i], 2)/(gamma*pow(r, 3)) - 6.75*U0*pow(x[0,i], 2)*xim*pow(x[1,i], 3)/(gamma*pow(r, 5)) - 6.75*U0*pow(x[0,i], 2)*xim*x[1,i]/(gamma*pow(r, 5)) + 13.5*U0*pow(x[0,i], 2)*xip*pow(x[1,i], 2)/(gamma*pow(r, 5)) - 9.0*U0*pow(x[0,i], 2)*pow(x[1,i], 2)/(gamma*pow(r, 5)) - 6.75*U0*pow(x[1,i], 5)*xim/(gamma*pow(r, 5)) - 24.75*U0*xim*pow(x[1,i], 3)/(gamma*pow(r, 5)) + 13.5*U0*pow(x[1,i], 4)*xip/(gamma*pow(r, 5)) - 9.0*U0*pow(x[1,i], 4)/(gamma*pow(r, 5)) + 11.25*U0*pow(x[0,i], 2)*xim*pow(x[1,i], 3)/(gamma*pow(r, 7)) + 11.25*U0*pow(x[1,i], 5)*xim/(gamma*pow(r, 7)) + 4.0*beta*pow(eta, 2)*pow(theta, 2)*pow(x[0,i], 2)*pow(x[1,i], 2)*exp(-2*pow(r, 2)*theta + 4*r*theta - 2*theta)/(gamma*pow(r, 2)) + 4.0*beta*pow(eta, 2)*pow(theta, 2)*pow(x[1,i], 4)*exp(-2*pow(r, 2)*theta + 4*r*theta - 2*theta)/(gamma*pow(r, 2)) - beta*pow(eta, 2)*theta*pow(x[0,i], 2)*exp(-2*pow(r, 2)*theta + 4*r*theta - 2*theta)/(gamma*pow(r, 2)) - 5.0*beta*pow(eta, 2)*theta*pow(x[1,i], 2)*exp(-2*pow(r, 2)*theta + 4*r*theta - 2*theta)/(gamma*pow(r, 2)) + 0.5*beta*pow(eta, 2)*exp(-2*pow(r, 2)*theta + 4*r*theta - 2*theta)/(gamma*pow(r, 2)) - 8.0*beta*pow(eta, 2)*pow(theta, 2)*pow(x[0,i], 2)*pow(x[1,i], 2)*exp(-2*pow(r, 2)*theta + 4*r*theta - 2*theta)/(gamma*pow(r, 3)) - 8.0*beta*pow(eta, 2)*pow(theta, 2)*pow(x[1,i], 4)*exp(-2*pow(r, 2)*theta + 4*r*theta - 2*theta)/(gamma*pow(r, 3)) + beta*pow(eta, 2)*theta*pow(x[0,i], 2)*exp(-2*pow(r, 2)*theta + 4*r*theta - 2*theta)/(gamma*pow(r, 3)) + 5.0*beta*pow(eta, 2)*theta*pow(x[1,i], 2)*exp(-2*pow(r, 2)*theta + 4*r*theta - 2*theta)/(gamma*pow(r, 3)) + 4.0*beta*pow(eta, 2)*pow(theta, 2)*pow(x[0,i], 2)*pow(x[1,i], 2)*exp(-2*pow(r, 2)*theta + 4*r*theta - 2*theta)/(gamma*pow(r, 4)) + 4.0*beta*pow(eta, 2)*pow(theta, 2)*pow(x[1,i], 4)*exp(-2*pow(r, 2)*theta + 4*r*theta - 2*theta)/(gamma*pow(r, 4)) + 4.0*beta*pow(eta, 2)*theta*pow(x[0,i], 2)*pow(x[1,i], 2)*exp(-2*pow(r, 2)*theta + 4*r*theta - 2*theta)/(gamma*pow(r, 4)) + 4.0*beta*pow(eta, 2)*theta*pow(x[1,i], 4)*exp(-2*pow(r, 2)*theta + 4*r*theta - 2*theta)/(gamma*pow(r, 4)) - 0.5*beta*pow(eta, 2)*pow(x[0,i], 2)*exp(-2*pow(r, 2)*theta + 4*r*theta - 2*theta)/(gamma*pow(r, 4)) - 2.5*beta*pow(eta, 2)*pow(x[1,i], 2)*exp(-2*pow(r, 2)*theta + 4*r*theta - 2*theta)/(gamma*pow(r, 4)) - 5.0*beta*pow(eta, 2)*theta*pow(x[0,i], 2)*pow(x[1,i], 2)*exp(-2*pow(r, 2)*theta + 4*r*theta - 2*theta)/(gamma*pow(r, 5)) - 5.0*beta*pow(eta, 2)*theta*pow(x[1,i], 4)*exp(-2*pow(r, 2)*theta + 4*r*theta - 2*theta)/(gamma*pow(r, 5)) + 2.0*beta*pow(eta, 2)*pow(x[0,i], 2)*pow(x[1,i], 2)*exp(-2*pow(r, 2)*theta + 4*r*theta - 2*theta)/(gamma*pow(r, 6)) + 2.0*beta*pow(eta, 2)*pow(x[1,i], 4)*exp(-2*pow(r, 2)*theta + 4*r*theta - 2*theta)/(gamma*pow(r, 6)) - 2.0*beta*eta*pow(theta, 2)*x[0,i]*pow(x[1,i], 2)*xd[1,i]*exp(-pow(r, 2)*theta + 2*r*theta - theta)/r + 2.0*beta*eta*pow(theta, 2)*xd[0,i]*pow(x[1,i], 3)*exp(-pow(r, 2)*theta + 2*r*theta - theta)/r + beta*eta*theta*x[0,i]*xd[1,i]*exp(-pow(r, 2)*theta + 2*r*theta - theta)/r - 3.0*beta*eta*theta*xd[0,i]*x[1,i]*exp(-pow(r, 2)*theta + 2*r*theta - theta)/r + 4.0*beta*eta*pow(theta, 2)*x[0,i]*pow(x[1,i], 2)*xd[1,i]*exp(-pow(r, 2)*theta + 2*r*theta - theta)/pow(r, 2) - 4.0*beta*eta*pow(theta, 2)*xd[0,i]*pow(x[1,i], 3)*exp(-pow(r, 2)*theta + 2*r*theta - theta)/pow(r, 2) - beta*eta*theta*x[0,i]*xd[1,i]*exp(-pow(r, 2)*theta + 2*r*theta - theta)/pow(r, 2) + 3.0*beta*eta*theta*xd[0,i]*x[1,i]*exp(-pow(r, 2)*theta + 2*r*theta - theta)/pow(r, 2) - 2.0*beta*eta*pow(theta, 2)*x[0,i]*pow(x[1,i], 2)*xd[1,i]*exp(-pow(r, 2)*theta + 2*r*theta - theta)/pow(r, 3) + 2.0*beta*eta*pow(theta, 2)*xd[0,i]*pow(x[1,i], 3)*exp(-pow(r, 2)*theta + 2*r*theta - theta)/pow(r, 3) - 2.0*beta*eta*theta*x[0,i]*pow(x[1,i], 2)*xd[1,i]*exp(-pow(r, 2)*theta + 2*r*theta - theta)/pow(r, 3) + 2.0*beta*eta*theta*xd[0,i]*pow(x[1,i], 3)*exp(-pow(r, 2)*theta + 2*r*theta - theta)/pow(r, 3) + 0.5*beta*eta*x[0,i]*xd[1,i]*exp(-pow(r, 2)*theta + 2*r*theta - theta)/pow(r, 3) - 1.5*beta*eta*xd[0,i]*x[1,i]*exp(-pow(r, 2)*theta + 2*r*theta - theta)/pow(r, 3) + 3.0*beta*eta*theta*x[0,i]*pow(x[1,i], 2)*xd[1,i]*exp(-pow(r, 2)*theta + 2*r*theta - theta)/pow(r, 4) - 3.0*beta*eta*theta*xd[0,i]*pow(x[1,i], 3)*exp(-pow(r, 2)*theta + 2*r*theta - theta)/pow(r, 4) - 1.5*beta*eta*x[0,i]*pow(x[1,i], 2)*xd[1,i]*exp(-pow(r, 2)*theta + 2*r*theta - theta)/pow(r, 5) + 1.5*beta*eta*xd[0,i]*pow(x[1,i], 3)*exp(-pow(r, 2)*theta + 2*r*theta - theta)/pow(r, 5)\n",
      "        L_xd_x[0,0,i] = 3.0*U0*beta*pow(r, 2)*xip + 2.25*U0*beta*r*xim*x[1,i] - 4.5*U0*beta*r*xip + 3.0*U0*beta*r + 6.0*U0*beta*pow(x[0,i], 2)*xip - 3.0*U0*beta*xim*x[1,i] + 1.5*U0*beta*xip - 3.0*U0*beta + 2.25*U0*beta*pow(x[0,i], 2)*xim*x[1,i]/r - 4.5*U0*beta*pow(x[0,i], 2)*xip/r + 3.0*U0*beta*pow(x[0,i], 2)/r + 0.75*U0*beta*xim*x[1,i]/r - 0.75*U0*beta*pow(x[0,i], 2)*xim*x[1,i]/pow(r, 3) - beta*eta*theta*x[0,i]*x[1,i]*exp(-pow(r, 2)*theta + 2*r*theta - theta)/r + beta*eta*theta*x[0,i]*x[1,i]*exp(-pow(r, 2)*theta + 2*r*theta - theta)/pow(r, 2) - 0.5*beta*eta*x[0,i]*x[1,i]*exp(-pow(r, 2)*theta + 2*r*theta - theta)/pow(r, 3)\n",
      "        L_xd_x[0,1,i] = 2.25*U0*beta*r*x[0,i]*xim - 3.0*U0*beta*x[0,i]*xim + 6.0*U0*beta*x[0,i]*xip*x[1,i] + 2.25*U0*beta*x[0,i]*xim*pow(x[1,i], 2)/r + 0.75*U0*beta*x[0,i]*xim/r - 4.5*U0*beta*x[0,i]*xip*x[1,i]/r + 3.0*U0*beta*x[0,i]*x[1,i]/r - 0.75*U0*beta*x[0,i]*xim*pow(x[1,i], 2)/pow(r, 3) - beta*eta*theta*pow(x[1,i], 2)*exp(-pow(r, 2)*theta + 2*r*theta - theta)/r + 0.5*beta*eta*exp(-pow(r, 2)*theta + 2*r*theta - theta)/r + beta*eta*theta*pow(x[1,i], 2)*exp(-pow(r, 2)*theta + 2*r*theta - theta)/pow(r, 2) - 0.5*beta*eta*pow(x[1,i], 2)*exp(-pow(r, 2)*theta + 2*r*theta - theta)/pow(r, 3)\n",
      "        L_xd_x[1,0,i] = 2.25*U0*beta*r*x[0,i]*xim - 3.0*U0*beta*x[0,i]*xim + 6.0*U0*beta*x[0,i]*xip*x[1,i] + 2.25*U0*beta*x[0,i]*xim*pow(x[1,i], 2)/r + 0.75*U0*beta*x[0,i]*xim/r - 4.5*U0*beta*x[0,i]*xip*x[1,i]/r + 3.0*U0*beta*x[0,i]*x[1,i]/r - 0.75*U0*beta*x[0,i]*xim*pow(x[1,i], 2)/pow(r, 3) + beta*eta*theta*pow(x[0,i], 2)*exp(-pow(r, 2)*theta + 2*r*theta - theta)/r - 0.5*beta*eta*exp(-pow(r, 2)*theta + 2*r*theta - theta)/r - beta*eta*theta*pow(x[0,i], 2)*exp(-pow(r, 2)*theta + 2*r*theta - theta)/pow(r, 2) + 0.5*beta*eta*pow(x[0,i], 2)*exp(-pow(r, 2)*theta + 2*r*theta - theta)/pow(r, 3)\n",
      "        L_xd_x[1,1,i] = 3.0*U0*beta*pow(r, 2)*xip + 6.75*U0*beta*r*xim*x[1,i] - 4.5*U0*beta*r*xip + 3.0*U0*beta*r - 9.0*U0*beta*xim*x[1,i] + 6.0*U0*beta*xip*pow(x[1,i], 2) + 1.5*U0*beta*xip - 3.0*U0*beta + 2.25*U0*beta*xim*pow(x[1,i], 3)/r + 2.25*U0*beta*xim*x[1,i]/r - 4.5*U0*beta*xip*pow(x[1,i], 2)/r + 3.0*U0*beta*pow(x[1,i], 2)/r - 0.75*U0*beta*xim*pow(x[1,i], 3)/pow(r, 3) + beta*eta*theta*x[0,i]*x[1,i]*exp(-pow(r, 2)*theta + 2*r*theta - theta)/r - beta*eta*theta*x[0,i]*x[1,i]*exp(-pow(r, 2)*theta + 2*r*theta - theta)/pow(r, 2) + 0.5*beta*eta*x[0,i]*x[1,i]*exp(-pow(r, 2)*theta + 2*r*theta - theta)/pow(r, 3)\n",
      "        L_xd_xd[0,0,i] = 0.5*beta*gamma\n",
      "        L_xd_xd[0,1,i] = 0\n",
      "        L_xd_xd[1,0,i] = 0\n",
      "        L_xd_xd[1,1,i] = 0.5*beta*gamma\n",
      "\n",
      "cdef DTYPE_t _compute_hessL_FW(self, DTYPE_t[:] ts, DTYPE_t[:,:] x, DTYPE_t[:,:] xd, DTYPE_t[:,:,:] L_x_x, DTYPE_t[:,:,:] L_xd_x, DTYPE_t[:,:,:] L_xd_xd):\n",
      "    cdef:\n",
      "        int i\n",
      "        int dim = x.shape[0]\n",
      "        int Nt = x.shape[1]\n",
      "        DTYPE_t beta = self.beta\n",
      "        DTYPE_t gamma = self.gamma\n",
      "        DTYPE_t U0 = self.U0\n",
      "        DTYPE_t xip = self.xip\n",
      "        DTYPE_t xim = self.xim\n",
      "        DTYPE_t eta = self.eta\n",
      "        DTYPE_t theta = self.theta\n",
      "        DTYPE_t r\n",
      "    \n",
      "    for i in range(Nt):\n",
      "        r = sqrt(pow(x[0,i], 2) + pow(x[1,i], 2))\n",
      "        L_x_x[0,0,i] = 0.125*beta*(-2.0*pow(r, 3)*theta*(r - 1.0)*(4.0*pow(0.5*U0*(r - 1.0)*(2.0*x[1,i]*(3.0*r*(r*(xip + 2.0) + xim*x[1,i]) - 2.0*(r - 1.0)*(3.0*r + 1.0)) - (r - 1.0)*(3.0*xim*(-pow(r, 2) + pow(x[1,i], 2)) - 2.0*x[1,i]*(3.0*r*(xip + 2.0) - 6.0*r + 3.0*xim*x[1,i] + 2.0)))*exp(theta*pow(r - 1, 2)) - eta*x[0,i] + gamma*r*xd[1,i]*exp(theta*pow(r - 1, 2)), 2) + 4.0*pow(0.5*U0*x[0,i]*(r - 1.0)*(6.0*r*(r*(xip + 2.0) + xim*x[1,i]) - 4.0*(r - 1.0)*(3.0*r + 1.0) + (r - 1.0)*(6.0*r*(xip + 2.0) - 12.0*r + 3.0*xim*x[1,i] + 4.0))*exp(theta*pow(r - 1, 2)) + eta*x[1,i] + gamma*r*xd[0,i]*exp(theta*pow(r - 1, 2)), 2)) + pow(r, 2)*(8.0*pow(theta, 2)*pow(x[0,i], 2)*pow(r - 1.0, 2)*(4.0*pow(0.5*U0*(r - 1.0)*(2.0*x[1,i]*(3.0*r*(r*(xip + 2.0) + xim*x[1,i]) - 2.0*(r - 1.0)*(3.0*r + 1.0)) - (r - 1.0)*(3.0*xim*(-pow(r, 2) + pow(x[1,i], 2)) - 2.0*x[1,i]*(3.0*r*(xip + 2.0) - 6.0*r + 3.0*xim*x[1,i] + 2.0)))*exp(theta*pow(r - 1, 2)) - eta*x[0,i] + gamma*r*xd[1,i]*exp(theta*pow(r - 1, 2)), 2) + 4.0*pow(0.5*U0*x[0,i]*(r - 1.0)*(6.0*r*(r*(xip + 2.0) + xim*x[1,i]) - 4.0*(r - 1.0)*(3.0*r + 1.0) + (r - 1.0)*(6.0*r*(xip + 2.0) - 12.0*r + 3.0*xim*x[1,i] + 4.0))*exp(theta*pow(r - 1, 2)) + eta*x[1,i] + gamma*r*xd[0,i]*exp(theta*pow(r - 1, 2)), 2)) - 2.0*theta*pow(x[0,i], 2)*(4.0*pow(0.5*U0*(r - 1.0)*(2.0*x[1,i]*(3.0*r*(r*(xip + 2.0) + xim*x[1,i]) - 2.0*(r - 1.0)*(3.0*r + 1.0)) - (r - 1.0)*(3.0*xim*(-pow(r, 2) + pow(x[1,i], 2)) - 2.0*x[1,i]*(3.0*r*(xip + 2.0) - 6.0*r + 3.0*xim*x[1,i] + 2.0)))*exp(theta*pow(r - 1, 2)) - eta*x[0,i] + gamma*r*xd[1,i]*exp(theta*pow(r - 1, 2)), 2) + 4.0*pow(0.5*U0*x[0,i]*(r - 1.0)*(6.0*r*(r*(xip + 2.0) + xim*x[1,i]) - 4.0*(r - 1.0)*(3.0*r + 1.0) + (r - 1.0)*(6.0*r*(xip + 2.0) - 12.0*r + 3.0*xim*x[1,i] + 4.0))*exp(theta*pow(r - 1, 2)) + eta*x[1,i] + gamma*r*xd[0,i]*exp(theta*pow(r - 1, 2)), 2)) - 8.0*theta*x[0,i]*(r - 1.0)*((U0*(r - 1.0)*(2.0*x[1,i]*(3.0*r*(r*(xip + 2.0) + xim*x[1,i]) - 2.0*(r - 1.0)*(3.0*r + 1.0)) - (r - 1.0)*(3.0*xim*(-pow(r, 2) + pow(x[1,i], 2)) - 2.0*x[1,i]*(3.0*r*(xip + 2.0) - 6.0*r + 3.0*xim*x[1,i] + 2.0)))*exp(theta*pow(r - 1, 2)) - 2.0*eta*x[0,i] + 2.0*gamma*r*xd[1,i]*exp(theta*pow(r - 1, 2)))*(2.0*U0*theta*x[0,i]*pow(r - 1.0, 2)*(2.0*x[1,i]*(3.0*r*(r*(xip + 2.0) + xim*x[1,i]) - 2.0*(r - 1.0)*(3.0*r + 1.0)) - (r - 1.0)*(3.0*xim*(-pow(r, 2) + pow(x[1,i], 2)) - 2.0*x[1,i]*(3.0*r*(xip + 2.0) - 6.0*r + 3.0*xim*x[1,i] + 2.0)))*exp(theta*pow(r - 1, 2)) + U0*x[0,i]*(r - 1.0)*(-3.0*xim*(-pow(r, 2) + pow(x[1,i], 2)) + 2.0*x[1,i]*(3.0*r*(xip + 2.0) - 6.0*r + 3.0*xim*x[1,i] + 2.0) + 2.0*x[1,i]*(6.0*r*(xip + 2.0) - 12.0*r + 3.0*xim*x[1,i] + 4.0) + 6.0*(r - 1.0)*(r*xim + xip*x[1,i]))*exp(theta*pow(r - 1, 2)) + U0*x[0,i]*(2.0*x[1,i]*(3.0*r*(r*(xip + 2.0) + xim*x[1,i]) - 2.0*(r - 1.0)*(3.0*r + 1.0)) - (r - 1.0)*(3.0*xim*(-pow(r, 2) + pow(x[1,i], 2)) - 2.0*x[1,i]*(3.0*r*(xip + 2.0) - 6.0*r + 3.0*xim*x[1,i] + 2.0)))*exp(theta*pow(r - 1, 2)) + 2.0*gamma*x[0,i]*xd[1,i]*exp(theta*pow(r - 1, 2)) + 2.0*r*(-eta + 2.0*gamma*theta*x[0,i]*xd[1,i]*(r - 1.0)*exp(theta*pow(r - 1, 2)))) + (U0*x[0,i]*(r - 1.0)*(6.0*r*(r*(xip + 2.0) + xim*x[1,i]) - 4.0*(r - 1.0)*(3.0*r + 1.0) + (r - 1.0)*(6.0*r*(xip + 2.0) - 12.0*r + 3.0*xim*x[1,i] + 4.0))*exp(theta*pow(r - 1, 2)) + 2.0*eta*x[1,i] + 2.0*gamma*r*xd[0,i]*exp(theta*pow(r - 1, 2)))*(2.0*U0*theta*pow(x[0,i], 2)*pow(r - 1.0, 2)*(6.0*r*(r*(xip + 2.0) + xim*x[1,i]) - 4.0*(r - 1.0)*(3.0*r + 1.0) + (r - 1.0)*(6.0*r*(xip + 2.0) - 12.0*r + 3.0*xim*x[1,i] + 4.0)) + 3.0*U0*pow(x[0,i], 2)*(r - 1.0)*(6.0*r*(xip + 2.0) - 12.0*r + 3.0*xim*x[1,i] + 2.0*xip*(r - 1.0) + 4.0) + U0*pow(x[0,i], 2)*(6.0*r*(r*(xip + 2.0) + xim*x[1,i]) - 4.0*(r - 1.0)*(3.0*r + 1.0) + (r - 1.0)*(6.0*r*(xip + 2.0) - 12.0*r + 3.0*xim*x[1,i] + 4.0)) + 2.0*gamma*x[0,i]*xd[0,i] + r*(r - 1.0)*(U0*(6.0*r*(r*(xip + 2.0) + xim*x[1,i]) - 4.0*(r - 1.0)*(3.0*r + 1.0) + (r - 1.0)*(6.0*r*(xip + 2.0) - 12.0*r + 3.0*xim*x[1,i] + 4.0)) + 4.0*gamma*theta*x[0,i]*xd[0,i]))*exp(theta*pow(r - 1, 2))) - 4.0*pow(0.5*U0*(r - 1.0)*(2.0*x[1,i]*(3.0*r*(r*(xip + 2.0) + xim*x[1,i]) - 2.0*(r - 1.0)*(3.0*r + 1.0)) - (r - 1.0)*(3.0*xim*(-pow(r, 2) + pow(x[1,i], 2)) - 2.0*x[1,i]*(3.0*r*(xip + 2.0) - 6.0*r + 3.0*xim*x[1,i] + 2.0)))*exp(theta*pow(r - 1, 2)) - eta*x[0,i] + gamma*r*xd[1,i]*exp(theta*pow(r - 1, 2)), 2) - 4.0*pow(0.5*U0*x[0,i]*(r - 1.0)*(6.0*r*(r*(xip + 2.0) + xim*x[1,i]) - 4.0*(r - 1.0)*(3.0*r + 1.0) + (r - 1.0)*(6.0*r*(xip + 2.0) - 12.0*r + 3.0*xim*x[1,i] + 4.0))*exp(theta*pow(r - 1, 2)) + eta*x[1,i] + gamma*r*xd[0,i]*exp(theta*pow(r - 1, 2)), 2)) + 2.0*r*x[0,i]*(5.0*theta*x[0,i]*(r - 1.0)*(4.0*pow(0.5*U0*(r - 1.0)*(2.0*x[1,i]*(3.0*r*(r*(xip + 2.0) + xim*x[1,i]) - 2.0*(r - 1.0)*(3.0*r + 1.0)) - (r - 1.0)*(3.0*xim*(-pow(r, 2) + pow(x[1,i], 2)) - 2.0*x[1,i]*(3.0*r*(xip + 2.0) - 6.0*r + 3.0*xim*x[1,i] + 2.0)))*exp(theta*pow(r - 1, 2)) - eta*x[0,i] + gamma*r*xd[1,i]*exp(theta*pow(r - 1, 2)), 2) + 4.0*pow(0.5*U0*x[0,i]*(r - 1.0)*(6.0*r*(r*(xip + 2.0) + xim*x[1,i]) - 4.0*(r - 1.0)*(3.0*r + 1.0) + (r - 1.0)*(6.0*r*(xip + 2.0) - 12.0*r + 3.0*xim*x[1,i] + 4.0))*exp(theta*pow(r - 1, 2)) + eta*x[1,i] + gamma*r*xd[0,i]*exp(theta*pow(r - 1, 2)), 2)) - 2.0*(U0*(r - 1.0)*(2.0*x[1,i]*(3.0*r*(r*(xip + 2.0) + xim*x[1,i]) - 2.0*(r - 1.0)*(3.0*r + 1.0)) - (r - 1.0)*(3.0*xim*(-pow(r, 2) + pow(x[1,i], 2)) - 2.0*x[1,i]*(3.0*r*(xip + 2.0) - 6.0*r + 3.0*xim*x[1,i] + 2.0)))*exp(theta*pow(r - 1, 2)) - 2.0*eta*x[0,i] + 2.0*gamma*r*xd[1,i]*exp(theta*pow(r - 1, 2)))*(2.0*U0*theta*x[0,i]*pow(r - 1.0, 2)*(2.0*x[1,i]*(3.0*r*(r*(xip + 2.0) + xim*x[1,i]) - 2.0*(r - 1.0)*(3.0*r + 1.0)) - (r - 1.0)*(3.0*xim*(-pow(r, 2) + pow(x[1,i], 2)) - 2.0*x[1,i]*(3.0*r*(xip + 2.0) - 6.0*r + 3.0*xim*x[1,i] + 2.0)))*exp(theta*pow(r - 1, 2)) + U0*x[0,i]*(r - 1.0)*(-3.0*xim*(-pow(r, 2) + pow(x[1,i], 2)) + 2.0*x[1,i]*(3.0*r*(xip + 2.0) - 6.0*r + 3.0*xim*x[1,i] + 2.0) + 2.0*x[1,i]*(6.0*r*(xip + 2.0) - 12.0*r + 3.0*xim*x[1,i] + 4.0) + 6.0*(r - 1.0)*(r*xim + xip*x[1,i]))*exp(theta*pow(r - 1, 2)) + U0*x[0,i]*(2.0*x[1,i]*(3.0*r*(r*(xip + 2.0) + xim*x[1,i]) - 2.0*(r - 1.0)*(3.0*r + 1.0)) - (r - 1.0)*(3.0*xim*(-pow(r, 2) + pow(x[1,i], 2)) - 2.0*x[1,i]*(3.0*r*(xip + 2.0) - 6.0*r + 3.0*xim*x[1,i] + 2.0)))*exp(theta*pow(r - 1, 2)) + 2.0*gamma*x[0,i]*xd[1,i]*exp(theta*pow(r - 1, 2)) + 2.0*r*(-eta + 2.0*gamma*theta*x[0,i]*xd[1,i]*(r - 1.0)*exp(theta*pow(r - 1, 2)))) - 2.0*(U0*x[0,i]*(r - 1.0)*(6.0*r*(r*(xip + 2.0) + xim*x[1,i]) - 4.0*(r - 1.0)*(3.0*r + 1.0) + (r - 1.0)*(6.0*r*(xip + 2.0) - 12.0*r + 3.0*xim*x[1,i] + 4.0))*exp(theta*pow(r - 1, 2)) + 2.0*eta*x[1,i] + 2.0*gamma*r*xd[0,i]*exp(theta*pow(r - 1, 2)))*(2.0*U0*theta*pow(x[0,i], 2)*pow(r - 1.0, 2)*(6.0*r*(r*(xip + 2.0) + xim*x[1,i]) - 4.0*(r - 1.0)*(3.0*r + 1.0) + (r - 1.0)*(6.0*r*(xip + 2.0) - 12.0*r + 3.0*xim*x[1,i] + 4.0)) + 3.0*U0*pow(x[0,i], 2)*(r - 1.0)*(6.0*r*(xip + 2.0) - 12.0*r + 3.0*xim*x[1,i] + 2.0*xip*(r - 1.0) + 4.0) + U0*pow(x[0,i], 2)*(6.0*r*(r*(xip + 2.0) + xim*x[1,i]) - 4.0*(r - 1.0)*(3.0*r + 1.0) + (r - 1.0)*(6.0*r*(xip + 2.0) - 12.0*r + 3.0*xim*x[1,i] + 4.0)) + 2.0*gamma*x[0,i]*xd[0,i] + r*(r - 1.0)*(U0*(6.0*r*(r*(xip + 2.0) + xim*x[1,i]) - 4.0*(r - 1.0)*(3.0*r + 1.0) + (r - 1.0)*(6.0*r*(xip + 2.0) - 12.0*r + 3.0*xim*x[1,i] + 4.0)) + 4.0*gamma*theta*x[0,i]*xd[0,i]))*exp(theta*pow(r - 1, 2))) + r*(r*(9.0*pow(0.66666666666666663*U0*theta*pow(x[0,i], 2)*pow(r - 1.0, 2)*(6.0*r*(r*(xip + 2.0) + xim*x[1,i]) - 4.0*(r - 1.0)*(3.0*r + 1.0) + (r - 1.0)*(6.0*r*(xip + 2.0) - 12.0*r + 3.0*xim*x[1,i] + 4.0)) + U0*pow(x[0,i], 2)*(r - 1.0)*(6.0*r*(xip + 2.0) - 12.0*r + 3.0*xim*x[1,i] + 2.0*xip*(r - 1.0) + 4.0) + 0.33333333333333331*U0*pow(x[0,i], 2)*(6.0*r*(r*(xip + 2.0) + xim*x[1,i]) - 4.0*(r - 1.0)*(3.0*r + 1.0) + (r - 1.0)*(6.0*r*(xip + 2.0) - 12.0*r + 3.0*xim*x[1,i] + 4.0)) + 0.66666666666666663*gamma*x[0,i]*xd[0,i] + 0.33333333333333331*r*(r - 1.0)*(U0*(6.0*r*(r*(xip + 2.0) + xim*x[1,i]) - 4.0*(r - 1.0)*(3.0*r + 1.0) + (r - 1.0)*(6.0*r*(xip + 2.0) - 12.0*r + 3.0*xim*x[1,i] + 4.0)) + 4.0*gamma*theta*x[0,i]*xd[0,i]), 2)*exp(2*theta*pow(r - 1, 2)) + 4.0*pow(U0*theta*x[0,i]*pow(r - 1.0, 2)*(2.0*x[1,i]*(3.0*r*(r*(xip + 2.0) + xim*x[1,i]) - 2.0*(r - 1.0)*(3.0*r + 1.0)) - (r - 1.0)*(3.0*xim*(-pow(r, 2) + pow(x[1,i], 2)) - 2.0*x[1,i]*(3.0*r*(xip + 2.0) - 6.0*r + 3.0*xim*x[1,i] + 2.0)))*exp(theta*pow(r - 1, 2)) + 0.5*U0*x[0,i]*(r - 1.0)*(-3.0*xim*(-pow(r, 2) + pow(x[1,i], 2)) + 2.0*x[1,i]*(3.0*r*(xip + 2.0) - 6.0*r + 3.0*xim*x[1,i] + 2.0) + 2.0*x[1,i]*(6.0*r*(xip + 2.0) - 12.0*r + 3.0*xim*x[1,i] + 4.0) + 6.0*(r - 1.0)*(r*xim + xip*x[1,i]))*exp(theta*pow(r - 1, 2)) + 0.5*U0*x[0,i]*(2.0*x[1,i]*(3.0*r*(r*(xip + 2.0) + xim*x[1,i]) - 2.0*(r - 1.0)*(3.0*r + 1.0)) - (r - 1.0)*(3.0*xim*(-pow(r, 2) + pow(x[1,i], 2)) - 2.0*x[1,i]*(3.0*r*(xip + 2.0) - 6.0*r + 3.0*xim*x[1,i] + 2.0)))*exp(theta*pow(r - 1, 2)) + gamma*x[0,i]*xd[1,i]*exp(theta*pow(r - 1, 2)) + r*(-eta + 2.0*gamma*theta*x[0,i]*xd[1,i]*(r - 1.0)*exp(theta*pow(r - 1, 2))), 2)) + (U0*(r - 1.0)*(2.0*x[1,i]*(3.0*r*(r*(xip + 2.0) + xim*x[1,i]) - 2.0*(r - 1.0)*(3.0*r + 1.0)) - (r - 1.0)*(3.0*xim*(-pow(r, 2) + pow(x[1,i], 2)) - 2.0*x[1,i]*(3.0*r*(xip + 2.0) - 6.0*r + 3.0*xim*x[1,i] + 2.0)))*exp(theta*pow(r - 1, 2)) - 2.0*eta*x[0,i] + 2.0*gamma*r*xd[1,i]*exp(theta*pow(r - 1, 2)))*(U0*(r - 1.0)*(pow(r, 2)*(-3.0*xim*(-pow(r, 2) + pow(x[1,i], 2)) + 2.0*x[1,i]*(3.0*r*(xip + 2.0) - 6.0*r + 3.0*xim*x[1,i] + 2.0)) + 12.0*r*pow(x[0,i], 2)*(r*xim + xip*x[1,i]) + pow(x[0,i], 2)*(3.0*xim*(-pow(r, 2) + pow(x[1,i], 2)) - 2.0*x[1,i]*(3.0*r*(xip + 2.0) - 6.0*r + 3.0*xim*x[1,i] + 2.0)) + 2.0*x[1,i]*(3.0*pow(r, 3)*(xip + 2.0) + pow(r, 2)*(3.0*r*(xip + 2.0) - 12.0*r + 3.0*xim*x[1,i] + 4.0) + 3.0*r*pow(x[0,i], 2)*(xip - 2.0) + pow(x[0,i], 2)*(-3.0*r*(xip + 2.0) + 12.0*r - 3.0*xim*x[1,i] - 4.0)) + 6.0*(r - 1.0)*(pow(r, 3)*xim - xip*x[1,i]*(-pow(r, 2) + pow(x[0,i], 2)))) + 4.0*gamma*pow(r, 3)*theta*xd[1,i]*(r - 1.0) + pow(r, 2)*(2.0*U0*theta*pow(r - 1.0, 2)*(2.0*x[1,i]*(3.0*r*(r*(xip + 2.0) + xim*x[1,i]) - 2.0*(r - 1.0)*(3.0*r + 1.0)) - (r - 1.0)*(3.0*xim*(-pow(r, 2) + pow(x[1,i], 2)) - 2.0*x[1,i]*(3.0*r*(xip + 2.0) - 6.0*r + 3.0*xim*x[1,i] + 2.0))) + U0*(2.0*x[1,i]*(3.0*r*(r*(xip + 2.0) + xim*x[1,i]) - 2.0*(r - 1.0)*(3.0*r + 1.0)) - (r - 1.0)*(3.0*xim*(-pow(r, 2) + pow(x[1,i], 2)) - 2.0*x[1,i]*(3.0*r*(xip + 2.0) - 6.0*r + 3.0*xim*x[1,i] + 2.0))) + 8.0*gamma*pow(theta, 2)*pow(x[0,i], 2)*xd[1,i]*pow(r - 1.0, 2) + 4.0*gamma*theta*pow(x[0,i], 2)*xd[1,i] + 2.0*gamma*xd[1,i]) + 2.0*r*pow(x[0,i], 2)*(2.0*U0*pow(theta, 2)*pow(r - 1.0, 3)*(2.0*x[1,i]*(3.0*r*(r*(xip + 2.0) + xim*x[1,i]) - 2.0*(r - 1.0)*(3.0*r + 1.0)) - (r - 1.0)*(3.0*xim*(-pow(r, 2) + pow(x[1,i], 2)) - 2.0*x[1,i]*(3.0*r*(xip + 2.0) - 6.0*r + 3.0*xim*x[1,i] + 2.0))) + 2.0*U0*theta*pow(r - 1.0, 2)*(-3.0*xim*(-pow(r, 2) + pow(x[1,i], 2)) + 2.0*x[1,i]*(3.0*r*(xip + 2.0) - 6.0*r + 3.0*xim*x[1,i] + 2.0) + 2.0*x[1,i]*(6.0*r*(xip + 2.0) - 12.0*r + 3.0*xim*x[1,i] + 4.0) + 6.0*(r - 1.0)*(r*xim + xip*x[1,i])) + 3.0*U0*theta*(r - 1.0)*(2.0*x[1,i]*(3.0*r*(r*(xip + 2.0) + xim*x[1,i]) - 2.0*(r - 1.0)*(3.0*r + 1.0)) - (r - 1.0)*(3.0*xim*(-pow(r, 2) + pow(x[1,i], 2)) - 2.0*x[1,i]*(3.0*r*(xip + 2.0) - 6.0*r + 3.0*xim*x[1,i] + 2.0))) + U0*(-3.0*xim*(-pow(r, 2) + pow(x[1,i], 2)) + 2.0*x[1,i]*(3.0*r*(xip + 2.0) - 6.0*r + 3.0*xim*x[1,i] + 2.0) + 2.0*x[1,i]*(6.0*r*(xip + 2.0) - 12.0*r + 3.0*xim*x[1,i] + 4.0) + 6.0*(r - 1.0)*(r*xim + xip*x[1,i])) + 2.0*gamma*theta*xd[1,i]*(r - 1.0)) - pow(x[0,i], 2)*(2.0*U0*theta*pow(r - 1.0, 2)*(2.0*x[1,i]*(3.0*r*(r*(xip + 2.0) + xim*x[1,i]) - 2.0*(r - 1.0)*(3.0*r + 1.0)) - (r - 1.0)*(3.0*xim*(-pow(r, 2) + pow(x[1,i], 2)) - 2.0*x[1,i]*(3.0*r*(xip + 2.0) - 6.0*r + 3.0*xim*x[1,i] + 2.0))) + U0*(2.0*x[1,i]*(3.0*r*(r*(xip + 2.0) + xim*x[1,i]) - 2.0*(r - 1.0)*(3.0*r + 1.0)) - (r - 1.0)*(3.0*xim*(-pow(r, 2) + pow(x[1,i], 2)) - 2.0*x[1,i]*(3.0*r*(xip + 2.0) - 6.0*r + 3.0*xim*x[1,i] + 2.0))) + 2.0*gamma*xd[1,i]))*exp(theta*pow(r - 1, 2)) + (U0*x[0,i]*(r - 1.0)*(6.0*r*(r*(xip + 2.0) + xim*x[1,i]) - 4.0*(r - 1.0)*(3.0*r + 1.0) + (r - 1.0)*(6.0*r*(xip + 2.0) - 12.0*r + 3.0*xim*x[1,i] + 4.0))*exp(theta*pow(r - 1, 2)) + 2.0*eta*x[1,i] + 2.0*gamma*r*xd[0,i]*exp(theta*pow(r - 1, 2)))*(3.0*U0*x[0,i]*(r - 1.0)*(2.0*pow(r, 3)*(xip + 2.0) + pow(r, 2)*(4.0*r*(xip + 2.0) - 12.0*r + 3.0*xim*x[1,i] + 4.0) + 2.0*r*pow(x[0,i], 2)*(3.0*xip - 2.0) + pow(x[0,i], 2)*(-4.0*r*(xip + 2.0) + 12.0*r - 3.0*xim*x[1,i] - 4.0) - 2.0*xip*(r - 1.0)*(-pow(r, 2) + pow(x[0,i], 2))) + 4.0*gamma*pow(r, 3)*theta*xd[0,i]*(r - 1.0) + pow(r, 2)*(6.0*U0*theta*x[0,i]*pow(r - 1.0, 2)*(6.0*r*(r*(xip + 2.0) + xim*x[1,i]) - 4.0*(r - 1.0)*(3.0*r + 1.0) + (r - 1.0)*(6.0*r*(xip + 2.0) - 12.0*r + 3.0*xim*x[1,i] + 4.0)) + 6.0*U0*x[0,i]*(r - 1.0)*(6.0*r*(xip + 2.0) - 12.0*r + 3.0*xim*x[1,i] + 2.0*xip*(r - 1.0) + 4.0) + 3.0*U0*x[0,i]*(6.0*r*(r*(xip + 2.0) + xim*x[1,i]) - 4.0*(r - 1.0)*(3.0*r + 1.0) + (r - 1.0)*(6.0*r*(xip + 2.0) - 12.0*r + 3.0*xim*x[1,i] + 4.0)) + 8.0*gamma*pow(theta, 2)*pow(x[0,i], 2)*xd[0,i]*pow(r - 1.0, 2) + 4.0*gamma*theta*pow(x[0,i], 2)*xd[0,i] + 2.0*gamma*xd[0,i]) + 2.0*r*pow(x[0,i], 2)*(2.0*U0*pow(theta, 2)*x[0,i]*pow(r - 1.0, 3)*(6.0*r*(r*(xip + 2.0) + xim*x[1,i]) - 4.0*(r - 1.0)*(3.0*r + 1.0) + (r - 1.0)*(6.0*r*(xip + 2.0) - 12.0*r + 3.0*xim*x[1,i] + 4.0)) + 6.0*U0*theta*x[0,i]*pow(r - 1.0, 2)*(6.0*r*(xip + 2.0) - 12.0*r + 3.0*xim*x[1,i] + 2.0*xip*(r - 1.0) + 4.0) + 3.0*U0*theta*x[0,i]*(r - 1.0)*(6.0*r*(r*(xip + 2.0) + xim*x[1,i]) - 4.0*(r - 1.0)*(3.0*r + 1.0) + (r - 1.0)*(6.0*r*(xip + 2.0) - 12.0*r + 3.0*xim*x[1,i] + 4.0)) + 3.0*U0*x[0,i]*(6.0*r*(xip + 2.0) - 12.0*r + 3.0*xim*x[1,i] + 2.0*xip*(r - 1.0) + 4.0) + 2.0*gamma*theta*xd[0,i]*(r - 1.0)) - pow(x[0,i], 2)*(2.0*U0*theta*x[0,i]*pow(r - 1.0, 2)*(6.0*r*(r*(xip + 2.0) + xim*x[1,i]) - 4.0*(r - 1.0)*(3.0*r + 1.0) + (r - 1.0)*(6.0*r*(xip + 2.0) - 12.0*r + 3.0*xim*x[1,i] + 4.0)) + U0*x[0,i]*(6.0*r*(r*(xip + 2.0) + xim*x[1,i]) - 4.0*(r - 1.0)*(3.0*r + 1.0) + (r - 1.0)*(6.0*r*(xip + 2.0) - 12.0*r + 3.0*xim*x[1,i] + 4.0)) + 2.0*gamma*xd[0,i]))*exp(theta*pow(r - 1, 2))) + 4.0*pow(x[0,i], 2)*(4.0*pow(0.5*U0*(r - 1.0)*(2.0*x[1,i]*(3.0*r*(r*(xip + 2.0) + xim*x[1,i]) - 2.0*(r - 1.0)*(3.0*r + 1.0)) - (r - 1.0)*(3.0*xim*(-pow(r, 2) + pow(x[1,i], 2)) - 2.0*x[1,i]*(3.0*r*(xip + 2.0) - 6.0*r + 3.0*xim*x[1,i] + 2.0)))*exp(theta*pow(r - 1, 2)) - eta*x[0,i] + gamma*r*xd[1,i]*exp(theta*pow(r - 1, 2)), 2) + 4.0*pow(0.5*U0*x[0,i]*(r - 1.0)*(6.0*r*(r*(xip + 2.0) + xim*x[1,i]) - 4.0*(r - 1.0)*(3.0*r + 1.0) + (r - 1.0)*(6.0*r*(xip + 2.0) - 12.0*r + 3.0*xim*x[1,i] + 4.0))*exp(theta*pow(r - 1, 2)) + eta*x[1,i] + gamma*r*xd[0,i]*exp(theta*pow(r - 1, 2)), 2)))*exp(-2*theta*pow(r - 1, 2))/(gamma*pow(r, 6))\n",
      "        L_x_x[0,1,i] = 49.5*pow(U0, 2)*beta*pow(r, 3)*x[0,i]*xim*xip/gamma + 60.75*pow(U0, 2)*beta*pow(r, 2)*x[0,i]*pow(xim, 2)*x[1,i]/gamma - 139.5*pow(U0, 2)*beta*pow(r, 2)*x[0,i]*xim*xip/gamma + 45.0*pow(U0, 2)*beta*pow(r, 2)*x[0,i]*xim/gamma + 144.0*pow(U0, 2)*beta*pow(r, 2)*x[0,i]*pow(xip, 2)*x[1,i]/gamma + 40.5*pow(U0, 2)*beta*r*pow(x[0,i], 3)*xim*xip/gamma - 155.25*pow(U0, 2)*beta*r*x[0,i]*pow(xim, 2)*x[1,i]/gamma + 270.0*pow(U0, 2)*beta*r*x[0,i]*xim*xip*pow(x[1,i], 2)/gamma + 137.25*pow(U0, 2)*beta*r*x[0,i]*xim*xip/gamma - 103.5*pow(U0, 2)*beta*r*x[0,i]*xim/gamma - 324.0*pow(U0, 2)*beta*r*x[0,i]*pow(xip, 2)*x[1,i]/gamma + 216.0*pow(U0, 2)*beta*r*x[0,i]*xip*x[1,i]/gamma + 20.25*pow(U0, 2)*beta*pow(x[0,i], 3)*pow(xim, 2)*x[1,i]/gamma - 76.5*pow(U0, 2)*beta*pow(x[0,i], 3)*xim*xip/gamma + 27.0*pow(U0, 2)*beta*pow(x[0,i], 3)*xim/gamma + 72.0*pow(U0, 2)*beta*pow(x[0,i], 3)*pow(xip, 2)*x[1,i]/gamma + 87.75*pow(U0, 2)*beta*x[0,i]*pow(xim, 2)*pow(x[1,i], 3)/gamma + 130.5*pow(U0, 2)*beta*x[0,i]*pow(xim, 2)*x[1,i]/gamma - 508.5*pow(U0, 2)*beta*x[0,i]*xim*xip*pow(x[1,i], 2)/gamma - 54.0*pow(U0, 2)*beta*x[0,i]*xim*xip/gamma + 171.0*pow(U0, 2)*beta*x[0,i]*xim*pow(x[1,i], 2)/gamma + 72.0*pow(U0, 2)*beta*x[0,i]*xim/gamma + 72.0*pow(U0, 2)*beta*x[0,i]*pow(xip, 2)*pow(x[1,i], 3)/gamma + 234.0*pow(U0, 2)*beta*x[0,i]*pow(xip, 2)*x[1,i]/gamma - 360.0*pow(U0, 2)*beta*x[0,i]*xip*x[1,i]/gamma + 72.0*pow(U0, 2)*beta*x[0,i]*x[1,i]/gamma - 27.0*pow(U0, 2)*beta*pow(x[0,i], 3)*pow(xim, 2)*x[1,i]/(gamma*r) + 40.5*pow(U0, 2)*beta*pow(x[0,i], 3)*xim*xip*pow(x[1,i], 2)/(gamma*r) + 38.25*pow(U0, 2)*beta*pow(x[0,i], 3)*xim*xip/(gamma*r) - 31.5*pow(U0, 2)*beta*pow(x[0,i], 3)*xim/(gamma*r) - 81.0*pow(U0, 2)*beta*pow(x[0,i], 3)*pow(xip, 2)*x[1,i]/(gamma*r) + 54.0*pow(U0, 2)*beta*pow(x[0,i], 3)*xip*x[1,i]/(gamma*r) - 114.75*pow(U0, 2)*beta*x[0,i]*pow(xim, 2)*pow(x[1,i], 3)/(gamma*r) - 38.25*pow(U0, 2)*beta*x[0,i]*pow(xim, 2)*x[1,i]/(gamma*r) + 40.5*pow(U0, 2)*beta*x[0,i]*pow(x[1,i], 4)*xim*xip/(gamma*r) + 252.0*pow(U0, 2)*beta*x[0,i]*xim*xip*pow(x[1,i], 2)/(gamma*r) + 6.75*pow(U0, 2)*beta*x[0,i]*xim*xip/(gamma*r) - 198.0*pow(U0, 2)*beta*x[0,i]*xim*pow(x[1,i], 2)/(gamma*r) - 13.5*pow(U0, 2)*beta*x[0,i]*xim/(gamma*r) - 81.0*pow(U0, 2)*beta*x[0,i]*pow(xip, 2)*pow(x[1,i], 3)/(gamma*r) - 54.0*pow(U0, 2)*beta*x[0,i]*pow(xip, 2)*x[1,i]/(gamma*r) + 54.0*pow(U0, 2)*beta*x[0,i]*xip*pow(x[1,i], 3)/(gamma*r) + 144.0*pow(U0, 2)*beta*x[0,i]*xip*x[1,i]/(gamma*r) - 72.0*pow(U0, 2)*beta*x[0,i]*x[1,i]/(gamma*r) + 2.25*pow(U0, 2)*beta*x[0,i]*pow(xim, 2)*x[1,i]/(gamma*pow(r, 2)) + 13.5*pow(U0, 2)*beta*pow(x[0,i], 3)*pow(xim, 2)*pow(x[1,i], 3)/(gamma*pow(r, 3)) + 9.0*pow(U0, 2)*beta*pow(x[0,i], 3)*pow(xim, 2)*x[1,i]/(gamma*pow(r, 3)) - 38.25*pow(U0, 2)*beta*pow(x[0,i], 3)*xim*xip*pow(x[1,i], 2)/(gamma*pow(r, 3)) - 2.25*pow(U0, 2)*beta*pow(x[0,i], 3)*xim*xip/(gamma*pow(r, 3)) + 31.5*pow(U0, 2)*beta*pow(x[0,i], 3)*xim*pow(x[1,i], 2)/(gamma*pow(r, 3)) + 4.5*pow(U0, 2)*beta*pow(x[0,i], 3)*xim/(gamma*pow(r, 3)) + 13.5*pow(U0, 2)*beta*pow(x[0,i], 3)*pow(xip, 2)*x[1,i]/(gamma*pow(r, 3)) - 36.0*pow(U0, 2)*beta*pow(x[0,i], 3)*xip*x[1,i]/(gamma*pow(r, 3)) + 18.0*pow(U0, 2)*beta*pow(x[0,i], 3)*x[1,i]/(gamma*pow(r, 3)) + 13.5*pow(U0, 2)*beta*x[0,i]*pow(x[1,i], 5)*pow(xim, 2)/(gamma*pow(r, 3)) + 33.75*pow(U0, 2)*beta*x[0,i]*pow(xim, 2)*pow(x[1,i], 3)/(gamma*pow(r, 3)) - 38.25*pow(U0, 2)*beta*x[0,i]*pow(x[1,i], 4)*xim*xip/(gamma*pow(r, 3)) - 13.5*pow(U0, 2)*beta*x[0,i]*xim*xip*pow(x[1,i], 2)/(gamma*pow(r, 3)) + 31.5*pow(U0, 2)*beta*x[0,i]*pow(x[1,i], 4)*xim/(gamma*pow(r, 3)) + 27.0*pow(U0, 2)*beta*x[0,i]*xim*pow(x[1,i], 2)/(gamma*pow(r, 3)) + 13.5*pow(U0, 2)*beta*x[0,i]*pow(xip, 2)*pow(x[1,i], 3)/(gamma*pow(r, 3)) - 36.0*pow(U0, 2)*beta*x[0,i]*xip*pow(x[1,i], 3)/(gamma*pow(r, 3)) + 18.0*pow(U0, 2)*beta*x[0,i]*pow(x[1,i], 3)/(gamma*pow(r, 3)) - 2.25*pow(U0, 2)*beta*pow(x[0,i], 3)*pow(xim, 2)*x[1,i]/(gamma*pow(r, 4)) - 6.75*pow(U0, 2)*beta*x[0,i]*pow(xim, 2)*pow(x[1,i], 3)/(gamma*pow(r, 4)) - 13.5*pow(U0, 2)*beta*pow(x[0,i], 3)*pow(xim, 2)*pow(x[1,i], 3)/(gamma*pow(r, 5)) + 6.75*pow(U0, 2)*beta*pow(x[0,i], 3)*xim*xip*pow(x[1,i], 2)/(gamma*pow(r, 5)) - 13.5*pow(U0, 2)*beta*pow(x[0,i], 3)*xim*pow(x[1,i], 2)/(gamma*pow(r, 5)) - 13.5*pow(U0, 2)*beta*x[0,i]*pow(x[1,i], 5)*pow(xim, 2)/(gamma*pow(r, 5)) + 6.75*pow(U0, 2)*beta*x[0,i]*pow(x[1,i], 4)*xim*xip/(gamma*pow(r, 5)) - 13.5*pow(U0, 2)*beta*x[0,i]*pow(x[1,i], 4)*xim/(gamma*pow(r, 5)) + 4.5*pow(U0, 2)*beta*pow(x[0,i], 3)*pow(xim, 2)*pow(x[1,i], 3)/(gamma*pow(r, 6)) + 4.5*pow(U0, 2)*beta*x[0,i]*pow(x[1,i], 5)*pow(xim, 2)/(gamma*pow(r, 6)) - 3.0*U0*beta*eta*pow(r, 2)*pow(theta, 2)*pow(x[0,i], 2)*xim*x[1,i]*exp(-pow(r, 2)*theta + 2*r*theta - theta)/gamma + 1.5*U0*beta*eta*pow(r, 2)*theta*xim*x[1,i]*exp(-pow(r, 2)*theta + 2*r*theta - theta)/gamma + 12.0*U0*beta*eta*r*pow(theta, 2)*pow(x[0,i], 2)*xim*x[1,i]*exp(-pow(r, 2)*theta + 2*r*theta - theta)/gamma - 4.5*U0*beta*eta*r*theta*xim*x[1,i]*exp(-pow(r, 2)*theta + 2*r*theta - theta)/gamma - 18.0*U0*beta*eta*pow(theta, 2)*pow(x[0,i], 2)*xim*x[1,i]*exp(-pow(r, 2)*theta + 2*r*theta - theta)/gamma + 6.0*U0*beta*eta*theta*pow(x[0,i], 2)*xim*x[1,i]*exp(-pow(r, 2)*theta + 2*r*theta - theta)/gamma + 4.5*U0*beta*eta*theta*xim*x[1,i]*exp(-pow(r, 2)*theta + 2*r*theta - theta)/gamma - 1.5*U0*beta*eta*xim*x[1,i]*exp(-pow(r, 2)*theta + 2*r*theta - theta)/gamma + 12.0*U0*beta*eta*pow(theta, 2)*pow(x[0,i], 2)*xim*x[1,i]*exp(-pow(r, 2)*theta + 2*r*theta - theta)/(gamma*r) - 10.5*U0*beta*eta*theta*pow(x[0,i], 2)*xim*x[1,i]*exp(-pow(r, 2)*theta + 2*r*theta - theta)/(gamma*r) - 1.5*U0*beta*eta*theta*xim*x[1,i]*exp(-pow(r, 2)*theta + 2*r*theta - theta)/(gamma*r) + 1.5*U0*beta*eta*xim*x[1,i]*exp(-pow(r, 2)*theta + 2*r*theta - theta)/(gamma*r) - 3.0*U0*beta*eta*pow(theta, 2)*pow(x[0,i], 2)*xim*x[1,i]*exp(-pow(r, 2)*theta + 2*r*theta - theta)/(gamma*pow(r, 2)) + 3.0*U0*beta*eta*theta*pow(x[0,i], 2)*xim*x[1,i]*exp(-pow(r, 2)*theta + 2*r*theta - theta)/(gamma*pow(r, 2)) + 1.5*U0*beta*eta*theta*pow(x[0,i], 2)*xim*x[1,i]*exp(-pow(r, 2)*theta + 2*r*theta - theta)/(gamma*pow(r, 3)) - 1.5*U0*beta*eta*pow(x[0,i], 2)*xim*x[1,i]*exp(-pow(r, 2)*theta + 2*r*theta - theta)/(gamma*pow(r, 3)) + 2.25*U0*beta*r*xd[0,i]*xim + 6.0*U0*beta*x[0,i]*xip*xd[1,i] - 3.0*U0*beta*xd[0,i]*xim + 6.0*U0*beta*xd[0,i]*xip*x[1,i] + 2.25*U0*beta*pow(x[0,i], 2)*xd[0,i]*xim/r + 6.75*U0*beta*x[0,i]*xim*x[1,i]*xd[1,i]/r - 4.5*U0*beta*x[0,i]*xip*xd[1,i]/r + 3.0*U0*beta*x[0,i]*xd[1,i]/r + 2.25*U0*beta*xd[0,i]*xim*pow(x[1,i], 2)/r + 0.75*U0*beta*xd[0,i]*xim/r - 4.5*U0*beta*xd[0,i]*xip*x[1,i]/r + 3.0*U0*beta*xd[0,i]*x[1,i]/r - 2.25*U0*beta*pow(x[0,i], 2)*xd[0,i]*xim*pow(x[1,i], 2)/pow(r, 3) - 0.75*U0*beta*pow(x[0,i], 2)*xd[0,i]*xim/pow(r, 3) + 4.5*U0*beta*pow(x[0,i], 2)*xd[0,i]*xip*x[1,i]/pow(r, 3) - 3.0*U0*beta*pow(x[0,i], 2)*xd[0,i]*x[1,i]/pow(r, 3) - 2.25*U0*beta*x[0,i]*xim*pow(x[1,i], 3)*xd[1,i]/pow(r, 3) - 2.25*U0*beta*x[0,i]*xim*x[1,i]*xd[1,i]/pow(r, 3) + 4.5*U0*beta*x[0,i]*xip*pow(x[1,i], 2)*xd[1,i]/pow(r, 3) - 3.0*U0*beta*x[0,i]*pow(x[1,i], 2)*xd[1,i]/pow(r, 3) - 0.75*U0*beta*xd[0,i]*xim*pow(x[1,i], 2)/pow(r, 3) + 2.25*U0*beta*pow(x[0,i], 2)*xd[0,i]*xim*pow(x[1,i], 2)/pow(r, 5) + 2.25*U0*beta*x[0,i]*xim*pow(x[1,i], 3)*xd[1,i]/pow(r, 5) + 4.0*beta*pow(eta, 2)*pow(theta, 2)*pow(x[0,i], 3)*x[1,i]*exp(-2*pow(r, 2)*theta + 4*r*theta - 2*theta)/(gamma*pow(r, 2)) + 4.0*beta*pow(eta, 2)*pow(theta, 2)*x[0,i]*pow(x[1,i], 3)*exp(-2*pow(r, 2)*theta + 4*r*theta - 2*theta)/(gamma*pow(r, 2)) - 4.0*beta*pow(eta, 2)*theta*x[0,i]*x[1,i]*exp(-2*pow(r, 2)*theta + 4*r*theta - 2*theta)/(gamma*pow(r, 2)) - 8.0*beta*pow(eta, 2)*pow(theta, 2)*pow(x[0,i], 3)*x[1,i]*exp(-2*pow(r, 2)*theta + 4*r*theta - 2*theta)/(gamma*pow(r, 3)) - 8.0*beta*pow(eta, 2)*pow(theta, 2)*x[0,i]*pow(x[1,i], 3)*exp(-2*pow(r, 2)*theta + 4*r*theta - 2*theta)/(gamma*pow(r, 3)) + 4.0*beta*pow(eta, 2)*theta*x[0,i]*x[1,i]*exp(-2*pow(r, 2)*theta + 4*r*theta - 2*theta)/(gamma*pow(r, 3)) + 4.0*beta*pow(eta, 2)*pow(theta, 2)*pow(x[0,i], 3)*x[1,i]*exp(-2*pow(r, 2)*theta + 4*r*theta - 2*theta)/(gamma*pow(r, 4)) + 4.0*beta*pow(eta, 2)*pow(theta, 2)*x[0,i]*pow(x[1,i], 3)*exp(-2*pow(r, 2)*theta + 4*r*theta - 2*theta)/(gamma*pow(r, 4)) + 4.0*beta*pow(eta, 2)*theta*pow(x[0,i], 3)*x[1,i]*exp(-2*pow(r, 2)*theta + 4*r*theta - 2*theta)/(gamma*pow(r, 4)) + 4.0*beta*pow(eta, 2)*theta*x[0,i]*pow(x[1,i], 3)*exp(-2*pow(r, 2)*theta + 4*r*theta - 2*theta)/(gamma*pow(r, 4)) - 2.0*beta*pow(eta, 2)*x[0,i]*x[1,i]*exp(-2*pow(r, 2)*theta + 4*r*theta - 2*theta)/(gamma*pow(r, 4)) - 5.0*beta*pow(eta, 2)*theta*pow(x[0,i], 3)*x[1,i]*exp(-2*pow(r, 2)*theta + 4*r*theta - 2*theta)/(gamma*pow(r, 5)) - 5.0*beta*pow(eta, 2)*theta*x[0,i]*pow(x[1,i], 3)*exp(-2*pow(r, 2)*theta + 4*r*theta - 2*theta)/(gamma*pow(r, 5)) + 2.0*beta*pow(eta, 2)*pow(x[0,i], 3)*x[1,i]*exp(-2*pow(r, 2)*theta + 4*r*theta - 2*theta)/(gamma*pow(r, 6)) + 2.0*beta*pow(eta, 2)*x[0,i]*pow(x[1,i], 3)*exp(-2*pow(r, 2)*theta + 4*r*theta - 2*theta)/(gamma*pow(r, 6)) - 2.0*beta*eta*pow(theta, 2)*pow(x[0,i], 2)*x[1,i]*xd[1,i]*exp(-pow(r, 2)*theta + 2*r*theta - theta)/r + 2.0*beta*eta*pow(theta, 2)*x[0,i]*xd[0,i]*pow(x[1,i], 2)*exp(-pow(r, 2)*theta + 2*r*theta - theta)/r - beta*eta*theta*x[0,i]*xd[0,i]*exp(-pow(r, 2)*theta + 2*r*theta - theta)/r + beta*eta*theta*x[1,i]*xd[1,i]*exp(-pow(r, 2)*theta + 2*r*theta - theta)/r + 4.0*beta*eta*pow(theta, 2)*pow(x[0,i], 2)*x[1,i]*xd[1,i]*exp(-pow(r, 2)*theta + 2*r*theta - theta)/pow(r, 2) - 4.0*beta*eta*pow(theta, 2)*x[0,i]*xd[0,i]*pow(x[1,i], 2)*exp(-pow(r, 2)*theta + 2*r*theta - theta)/pow(r, 2) + beta*eta*theta*x[0,i]*xd[0,i]*exp(-pow(r, 2)*theta + 2*r*theta - theta)/pow(r, 2) - beta*eta*theta*x[1,i]*xd[1,i]*exp(-pow(r, 2)*theta + 2*r*theta - theta)/pow(r, 2) - 2.0*beta*eta*pow(theta, 2)*pow(x[0,i], 2)*x[1,i]*xd[1,i]*exp(-pow(r, 2)*theta + 2*r*theta - theta)/pow(r, 3) + 2.0*beta*eta*pow(theta, 2)*x[0,i]*xd[0,i]*pow(x[1,i], 2)*exp(-pow(r, 2)*theta + 2*r*theta - theta)/pow(r, 3) - 2.0*beta*eta*theta*pow(x[0,i], 2)*x[1,i]*xd[1,i]*exp(-pow(r, 2)*theta + 2*r*theta - theta)/pow(r, 3) + 2.0*beta*eta*theta*x[0,i]*xd[0,i]*pow(x[1,i], 2)*exp(-pow(r, 2)*theta + 2*r*theta - theta)/pow(r, 3) - 0.5*beta*eta*x[0,i]*xd[0,i]*exp(-pow(r, 2)*theta + 2*r*theta - theta)/pow(r, 3) + 0.5*beta*eta*x[1,i]*xd[1,i]*exp(-pow(r, 2)*theta + 2*r*theta - theta)/pow(r, 3) + 3.0*beta*eta*theta*pow(x[0,i], 2)*x[1,i]*xd[1,i]*exp(-pow(r, 2)*theta + 2*r*theta - theta)/pow(r, 4) - 3.0*beta*eta*theta*x[0,i]*xd[0,i]*pow(x[1,i], 2)*exp(-pow(r, 2)*theta + 2*r*theta - theta)/pow(r, 4) - 1.5*beta*eta*pow(x[0,i], 2)*x[1,i]*xd[1,i]*exp(-pow(r, 2)*theta + 2*r*theta - theta)/pow(r, 5) + 1.5*beta*eta*x[0,i]*xd[0,i]*pow(x[1,i], 2)*exp(-pow(r, 2)*theta + 2*r*theta - theta)/pow(r, 5)\n",
      "        L_x_x[1,0,i] = 49.5*pow(U0, 2)*beta*pow(r, 3)*x[0,i]*xim*xip/gamma + 60.75*pow(U0, 2)*beta*pow(r, 2)*x[0,i]*pow(xim, 2)*x[1,i]/gamma - 139.5*pow(U0, 2)*beta*pow(r, 2)*x[0,i]*xim*xip/gamma + 45.0*pow(U0, 2)*beta*pow(r, 2)*x[0,i]*xim/gamma + 144.0*pow(U0, 2)*beta*pow(r, 2)*x[0,i]*pow(xip, 2)*x[1,i]/gamma + 40.5*pow(U0, 2)*beta*r*pow(x[0,i], 3)*xim*xip/gamma - 155.25*pow(U0, 2)*beta*r*x[0,i]*pow(xim, 2)*x[1,i]/gamma + 270.0*pow(U0, 2)*beta*r*x[0,i]*xim*xip*pow(x[1,i], 2)/gamma + 137.25*pow(U0, 2)*beta*r*x[0,i]*xim*xip/gamma - 103.5*pow(U0, 2)*beta*r*x[0,i]*xim/gamma - 324.0*pow(U0, 2)*beta*r*x[0,i]*pow(xip, 2)*x[1,i]/gamma + 216.0*pow(U0, 2)*beta*r*x[0,i]*xip*x[1,i]/gamma + 20.25*pow(U0, 2)*beta*pow(x[0,i], 3)*pow(xim, 2)*x[1,i]/gamma - 76.5*pow(U0, 2)*beta*pow(x[0,i], 3)*xim*xip/gamma + 27.0*pow(U0, 2)*beta*pow(x[0,i], 3)*xim/gamma + 72.0*pow(U0, 2)*beta*pow(x[0,i], 3)*pow(xip, 2)*x[1,i]/gamma + 87.75*pow(U0, 2)*beta*x[0,i]*pow(xim, 2)*pow(x[1,i], 3)/gamma + 130.5*pow(U0, 2)*beta*x[0,i]*pow(xim, 2)*x[1,i]/gamma - 508.5*pow(U0, 2)*beta*x[0,i]*xim*xip*pow(x[1,i], 2)/gamma - 54.0*pow(U0, 2)*beta*x[0,i]*xim*xip/gamma + 171.0*pow(U0, 2)*beta*x[0,i]*xim*pow(x[1,i], 2)/gamma + 72.0*pow(U0, 2)*beta*x[0,i]*xim/gamma + 72.0*pow(U0, 2)*beta*x[0,i]*pow(xip, 2)*pow(x[1,i], 3)/gamma + 234.0*pow(U0, 2)*beta*x[0,i]*pow(xip, 2)*x[1,i]/gamma - 360.0*pow(U0, 2)*beta*x[0,i]*xip*x[1,i]/gamma + 72.0*pow(U0, 2)*beta*x[0,i]*x[1,i]/gamma - 27.0*pow(U0, 2)*beta*pow(x[0,i], 3)*pow(xim, 2)*x[1,i]/(gamma*r) + 40.5*pow(U0, 2)*beta*pow(x[0,i], 3)*xim*xip*pow(x[1,i], 2)/(gamma*r) + 38.25*pow(U0, 2)*beta*pow(x[0,i], 3)*xim*xip/(gamma*r) - 31.5*pow(U0, 2)*beta*pow(x[0,i], 3)*xim/(gamma*r) - 81.0*pow(U0, 2)*beta*pow(x[0,i], 3)*pow(xip, 2)*x[1,i]/(gamma*r) + 54.0*pow(U0, 2)*beta*pow(x[0,i], 3)*xip*x[1,i]/(gamma*r) - 114.75*pow(U0, 2)*beta*x[0,i]*pow(xim, 2)*pow(x[1,i], 3)/(gamma*r) - 38.25*pow(U0, 2)*beta*x[0,i]*pow(xim, 2)*x[1,i]/(gamma*r) + 40.5*pow(U0, 2)*beta*x[0,i]*pow(x[1,i], 4)*xim*xip/(gamma*r) + 252.0*pow(U0, 2)*beta*x[0,i]*xim*xip*pow(x[1,i], 2)/(gamma*r) + 6.75*pow(U0, 2)*beta*x[0,i]*xim*xip/(gamma*r) - 198.0*pow(U0, 2)*beta*x[0,i]*xim*pow(x[1,i], 2)/(gamma*r) - 13.5*pow(U0, 2)*beta*x[0,i]*xim/(gamma*r) - 81.0*pow(U0, 2)*beta*x[0,i]*pow(xip, 2)*pow(x[1,i], 3)/(gamma*r) - 54.0*pow(U0, 2)*beta*x[0,i]*pow(xip, 2)*x[1,i]/(gamma*r) + 54.0*pow(U0, 2)*beta*x[0,i]*xip*pow(x[1,i], 3)/(gamma*r) + 144.0*pow(U0, 2)*beta*x[0,i]*xip*x[1,i]/(gamma*r) - 72.0*pow(U0, 2)*beta*x[0,i]*x[1,i]/(gamma*r) + 2.25*pow(U0, 2)*beta*x[0,i]*pow(xim, 2)*x[1,i]/(gamma*pow(r, 2)) + 13.5*pow(U0, 2)*beta*pow(x[0,i], 3)*pow(xim, 2)*pow(x[1,i], 3)/(gamma*pow(r, 3)) + 9.0*pow(U0, 2)*beta*pow(x[0,i], 3)*pow(xim, 2)*x[1,i]/(gamma*pow(r, 3)) - 38.25*pow(U0, 2)*beta*pow(x[0,i], 3)*xim*xip*pow(x[1,i], 2)/(gamma*pow(r, 3)) - 2.25*pow(U0, 2)*beta*pow(x[0,i], 3)*xim*xip/(gamma*pow(r, 3)) + 31.5*pow(U0, 2)*beta*pow(x[0,i], 3)*xim*pow(x[1,i], 2)/(gamma*pow(r, 3)) + 4.5*pow(U0, 2)*beta*pow(x[0,i], 3)*xim/(gamma*pow(r, 3)) + 13.5*pow(U0, 2)*beta*pow(x[0,i], 3)*pow(xip, 2)*x[1,i]/(gamma*pow(r, 3)) - 36.0*pow(U0, 2)*beta*pow(x[0,i], 3)*xip*x[1,i]/(gamma*pow(r, 3)) + 18.0*pow(U0, 2)*beta*pow(x[0,i], 3)*x[1,i]/(gamma*pow(r, 3)) + 13.5*pow(U0, 2)*beta*x[0,i]*pow(x[1,i], 5)*pow(xim, 2)/(gamma*pow(r, 3)) + 33.75*pow(U0, 2)*beta*x[0,i]*pow(xim, 2)*pow(x[1,i], 3)/(gamma*pow(r, 3)) - 38.25*pow(U0, 2)*beta*x[0,i]*pow(x[1,i], 4)*xim*xip/(gamma*pow(r, 3)) - 13.5*pow(U0, 2)*beta*x[0,i]*xim*xip*pow(x[1,i], 2)/(gamma*pow(r, 3)) + 31.5*pow(U0, 2)*beta*x[0,i]*pow(x[1,i], 4)*xim/(gamma*pow(r, 3)) + 27.0*pow(U0, 2)*beta*x[0,i]*xim*pow(x[1,i], 2)/(gamma*pow(r, 3)) + 13.5*pow(U0, 2)*beta*x[0,i]*pow(xip, 2)*pow(x[1,i], 3)/(gamma*pow(r, 3)) - 36.0*pow(U0, 2)*beta*x[0,i]*xip*pow(x[1,i], 3)/(gamma*pow(r, 3)) + 18.0*pow(U0, 2)*beta*x[0,i]*pow(x[1,i], 3)/(gamma*pow(r, 3)) - 2.25*pow(U0, 2)*beta*pow(x[0,i], 3)*pow(xim, 2)*x[1,i]/(gamma*pow(r, 4)) - 6.75*pow(U0, 2)*beta*x[0,i]*pow(xim, 2)*pow(x[1,i], 3)/(gamma*pow(r, 4)) - 13.5*pow(U0, 2)*beta*pow(x[0,i], 3)*pow(xim, 2)*pow(x[1,i], 3)/(gamma*pow(r, 5)) + 6.75*pow(U0, 2)*beta*pow(x[0,i], 3)*xim*xip*pow(x[1,i], 2)/(gamma*pow(r, 5)) - 13.5*pow(U0, 2)*beta*pow(x[0,i], 3)*xim*pow(x[1,i], 2)/(gamma*pow(r, 5)) - 13.5*pow(U0, 2)*beta*x[0,i]*pow(x[1,i], 5)*pow(xim, 2)/(gamma*pow(r, 5)) + 6.75*pow(U0, 2)*beta*x[0,i]*pow(x[1,i], 4)*xim*xip/(gamma*pow(r, 5)) - 13.5*pow(U0, 2)*beta*x[0,i]*pow(x[1,i], 4)*xim/(gamma*pow(r, 5)) + 4.5*pow(U0, 2)*beta*pow(x[0,i], 3)*pow(xim, 2)*pow(x[1,i], 3)/(gamma*pow(r, 6)) + 4.5*pow(U0, 2)*beta*x[0,i]*pow(x[1,i], 5)*pow(xim, 2)/(gamma*pow(r, 6)) - 3.0*U0*beta*eta*pow(r, 2)*pow(theta, 2)*pow(x[0,i], 2)*xim*x[1,i]*exp(-pow(r, 2)*theta + 2*r*theta - theta)/gamma + 1.5*U0*beta*eta*pow(r, 2)*theta*xim*x[1,i]*exp(-pow(r, 2)*theta + 2*r*theta - theta)/gamma + 12.0*U0*beta*eta*r*pow(theta, 2)*pow(x[0,i], 2)*xim*x[1,i]*exp(-pow(r, 2)*theta + 2*r*theta - theta)/gamma - 4.5*U0*beta*eta*r*theta*xim*x[1,i]*exp(-pow(r, 2)*theta + 2*r*theta - theta)/gamma - 18.0*U0*beta*eta*pow(theta, 2)*pow(x[0,i], 2)*xim*x[1,i]*exp(-pow(r, 2)*theta + 2*r*theta - theta)/gamma + 6.0*U0*beta*eta*theta*pow(x[0,i], 2)*xim*x[1,i]*exp(-pow(r, 2)*theta + 2*r*theta - theta)/gamma + 4.5*U0*beta*eta*theta*xim*x[1,i]*exp(-pow(r, 2)*theta + 2*r*theta - theta)/gamma - 1.5*U0*beta*eta*xim*x[1,i]*exp(-pow(r, 2)*theta + 2*r*theta - theta)/gamma + 12.0*U0*beta*eta*pow(theta, 2)*pow(x[0,i], 2)*xim*x[1,i]*exp(-pow(r, 2)*theta + 2*r*theta - theta)/(gamma*r) - 10.5*U0*beta*eta*theta*pow(x[0,i], 2)*xim*x[1,i]*exp(-pow(r, 2)*theta + 2*r*theta - theta)/(gamma*r) - 1.5*U0*beta*eta*theta*xim*x[1,i]*exp(-pow(r, 2)*theta + 2*r*theta - theta)/(gamma*r) + 1.5*U0*beta*eta*xim*x[1,i]*exp(-pow(r, 2)*theta + 2*r*theta - theta)/(gamma*r) - 3.0*U0*beta*eta*pow(theta, 2)*pow(x[0,i], 2)*xim*x[1,i]*exp(-pow(r, 2)*theta + 2*r*theta - theta)/(gamma*pow(r, 2)) + 3.0*U0*beta*eta*theta*pow(x[0,i], 2)*xim*x[1,i]*exp(-pow(r, 2)*theta + 2*r*theta - theta)/(gamma*pow(r, 2)) + 1.5*U0*beta*eta*theta*pow(x[0,i], 2)*xim*x[1,i]*exp(-pow(r, 2)*theta + 2*r*theta - theta)/(gamma*pow(r, 3)) - 1.5*U0*beta*eta*pow(x[0,i], 2)*xim*x[1,i]*exp(-pow(r, 2)*theta + 2*r*theta - theta)/(gamma*pow(r, 3)) + 2.25*U0*beta*r*xd[0,i]*xim + 6.0*U0*beta*x[0,i]*xip*xd[1,i] - 3.0*U0*beta*xd[0,i]*xim + 6.0*U0*beta*xd[0,i]*xip*x[1,i] + 2.25*U0*beta*pow(x[0,i], 2)*xd[0,i]*xim/r + 6.75*U0*beta*x[0,i]*xim*x[1,i]*xd[1,i]/r - 4.5*U0*beta*x[0,i]*xip*xd[1,i]/r + 3.0*U0*beta*x[0,i]*xd[1,i]/r + 2.25*U0*beta*xd[0,i]*xim*pow(x[1,i], 2)/r + 0.75*U0*beta*xd[0,i]*xim/r - 4.5*U0*beta*xd[0,i]*xip*x[1,i]/r + 3.0*U0*beta*xd[0,i]*x[1,i]/r - 2.25*U0*beta*pow(x[0,i], 2)*xd[0,i]*xim*pow(x[1,i], 2)/pow(r, 3) - 0.75*U0*beta*pow(x[0,i], 2)*xd[0,i]*xim/pow(r, 3) + 4.5*U0*beta*pow(x[0,i], 2)*xd[0,i]*xip*x[1,i]/pow(r, 3) - 3.0*U0*beta*pow(x[0,i], 2)*xd[0,i]*x[1,i]/pow(r, 3) - 2.25*U0*beta*x[0,i]*xim*pow(x[1,i], 3)*xd[1,i]/pow(r, 3) - 2.25*U0*beta*x[0,i]*xim*x[1,i]*xd[1,i]/pow(r, 3) + 4.5*U0*beta*x[0,i]*xip*pow(x[1,i], 2)*xd[1,i]/pow(r, 3) - 3.0*U0*beta*x[0,i]*pow(x[1,i], 2)*xd[1,i]/pow(r, 3) - 0.75*U0*beta*xd[0,i]*xim*pow(x[1,i], 2)/pow(r, 3) + 2.25*U0*beta*pow(x[0,i], 2)*xd[0,i]*xim*pow(x[1,i], 2)/pow(r, 5) + 2.25*U0*beta*x[0,i]*xim*pow(x[1,i], 3)*xd[1,i]/pow(r, 5) + 4.0*beta*pow(eta, 2)*pow(theta, 2)*pow(x[0,i], 3)*x[1,i]*exp(-2*pow(r, 2)*theta + 4*r*theta - 2*theta)/(gamma*pow(r, 2)) + 4.0*beta*pow(eta, 2)*pow(theta, 2)*x[0,i]*pow(x[1,i], 3)*exp(-2*pow(r, 2)*theta + 4*r*theta - 2*theta)/(gamma*pow(r, 2)) - 4.0*beta*pow(eta, 2)*theta*x[0,i]*x[1,i]*exp(-2*pow(r, 2)*theta + 4*r*theta - 2*theta)/(gamma*pow(r, 2)) - 8.0*beta*pow(eta, 2)*pow(theta, 2)*pow(x[0,i], 3)*x[1,i]*exp(-2*pow(r, 2)*theta + 4*r*theta - 2*theta)/(gamma*pow(r, 3)) - 8.0*beta*pow(eta, 2)*pow(theta, 2)*x[0,i]*pow(x[1,i], 3)*exp(-2*pow(r, 2)*theta + 4*r*theta - 2*theta)/(gamma*pow(r, 3)) + 4.0*beta*pow(eta, 2)*theta*x[0,i]*x[1,i]*exp(-2*pow(r, 2)*theta + 4*r*theta - 2*theta)/(gamma*pow(r, 3)) + 4.0*beta*pow(eta, 2)*pow(theta, 2)*pow(x[0,i], 3)*x[1,i]*exp(-2*pow(r, 2)*theta + 4*r*theta - 2*theta)/(gamma*pow(r, 4)) + 4.0*beta*pow(eta, 2)*pow(theta, 2)*x[0,i]*pow(x[1,i], 3)*exp(-2*pow(r, 2)*theta + 4*r*theta - 2*theta)/(gamma*pow(r, 4)) + 4.0*beta*pow(eta, 2)*theta*pow(x[0,i], 3)*x[1,i]*exp(-2*pow(r, 2)*theta + 4*r*theta - 2*theta)/(gamma*pow(r, 4)) + 4.0*beta*pow(eta, 2)*theta*x[0,i]*pow(x[1,i], 3)*exp(-2*pow(r, 2)*theta + 4*r*theta - 2*theta)/(gamma*pow(r, 4)) - 2.0*beta*pow(eta, 2)*x[0,i]*x[1,i]*exp(-2*pow(r, 2)*theta + 4*r*theta - 2*theta)/(gamma*pow(r, 4)) - 5.0*beta*pow(eta, 2)*theta*pow(x[0,i], 3)*x[1,i]*exp(-2*pow(r, 2)*theta + 4*r*theta - 2*theta)/(gamma*pow(r, 5)) - 5.0*beta*pow(eta, 2)*theta*x[0,i]*pow(x[1,i], 3)*exp(-2*pow(r, 2)*theta + 4*r*theta - 2*theta)/(gamma*pow(r, 5)) + 2.0*beta*pow(eta, 2)*pow(x[0,i], 3)*x[1,i]*exp(-2*pow(r, 2)*theta + 4*r*theta - 2*theta)/(gamma*pow(r, 6)) + 2.0*beta*pow(eta, 2)*x[0,i]*pow(x[1,i], 3)*exp(-2*pow(r, 2)*theta + 4*r*theta - 2*theta)/(gamma*pow(r, 6)) - 2.0*beta*eta*pow(theta, 2)*pow(x[0,i], 2)*x[1,i]*xd[1,i]*exp(-pow(r, 2)*theta + 2*r*theta - theta)/r + 2.0*beta*eta*pow(theta, 2)*x[0,i]*xd[0,i]*pow(x[1,i], 2)*exp(-pow(r, 2)*theta + 2*r*theta - theta)/r - beta*eta*theta*x[0,i]*xd[0,i]*exp(-pow(r, 2)*theta + 2*r*theta - theta)/r + beta*eta*theta*x[1,i]*xd[1,i]*exp(-pow(r, 2)*theta + 2*r*theta - theta)/r + 4.0*beta*eta*pow(theta, 2)*pow(x[0,i], 2)*x[1,i]*xd[1,i]*exp(-pow(r, 2)*theta + 2*r*theta - theta)/pow(r, 2) - 4.0*beta*eta*pow(theta, 2)*x[0,i]*xd[0,i]*pow(x[1,i], 2)*exp(-pow(r, 2)*theta + 2*r*theta - theta)/pow(r, 2) + beta*eta*theta*x[0,i]*xd[0,i]*exp(-pow(r, 2)*theta + 2*r*theta - theta)/pow(r, 2) - beta*eta*theta*x[1,i]*xd[1,i]*exp(-pow(r, 2)*theta + 2*r*theta - theta)/pow(r, 2) - 2.0*beta*eta*pow(theta, 2)*pow(x[0,i], 2)*x[1,i]*xd[1,i]*exp(-pow(r, 2)*theta + 2*r*theta - theta)/pow(r, 3) + 2.0*beta*eta*pow(theta, 2)*x[0,i]*xd[0,i]*pow(x[1,i], 2)*exp(-pow(r, 2)*theta + 2*r*theta - theta)/pow(r, 3) - 2.0*beta*eta*theta*pow(x[0,i], 2)*x[1,i]*xd[1,i]*exp(-pow(r, 2)*theta + 2*r*theta - theta)/pow(r, 3) + 2.0*beta*eta*theta*x[0,i]*xd[0,i]*pow(x[1,i], 2)*exp(-pow(r, 2)*theta + 2*r*theta - theta)/pow(r, 3) - 0.5*beta*eta*x[0,i]*xd[0,i]*exp(-pow(r, 2)*theta + 2*r*theta - theta)/pow(r, 3) + 0.5*beta*eta*x[1,i]*xd[1,i]*exp(-pow(r, 2)*theta + 2*r*theta - theta)/pow(r, 3) + 3.0*beta*eta*theta*pow(x[0,i], 2)*x[1,i]*xd[1,i]*exp(-pow(r, 2)*theta + 2*r*theta - theta)/pow(r, 4) - 3.0*beta*eta*theta*x[0,i]*xd[0,i]*pow(x[1,i], 2)*exp(-pow(r, 2)*theta + 2*r*theta - theta)/pow(r, 4) - 1.5*beta*eta*pow(x[0,i], 2)*x[1,i]*xd[1,i]*exp(-pow(r, 2)*theta + 2*r*theta - theta)/pow(r, 5) + 1.5*beta*eta*x[0,i]*xd[0,i]*pow(x[1,i], 2)*exp(-pow(r, 2)*theta + 2*r*theta - theta)/pow(r, 5)\n",
      "        L_x_x[1,1,i] = 10.125*pow(U0, 2)*beta*pow(r, 4)*pow(xim, 2)/gamma + 18.0*pow(U0, 2)*beta*pow(r, 4)*pow(xip, 2)/gamma - 33.75*pow(U0, 2)*beta*pow(r, 3)*pow(xim, 2)/gamma + 148.5*pow(U0, 2)*beta*pow(r, 3)*xim*xip*x[1,i]/gamma - 54.0*pow(U0, 2)*beta*pow(r, 3)*pow(xip, 2)/gamma + 36.0*pow(U0, 2)*beta*pow(r, 3)*xip/gamma + 10.125*pow(U0, 2)*beta*pow(r, 2)*pow(x[0,i], 2)*pow(xim, 2)/gamma + 36.0*pow(U0, 2)*beta*pow(r, 2)*pow(x[0,i], 2)*pow(xip, 2)/gamma + 141.75*pow(U0, 2)*beta*pow(r, 2)*pow(xim, 2)*pow(x[1,i], 2)/gamma + 40.5*pow(U0, 2)*beta*pow(r, 2)*pow(xim, 2)/gamma - 418.5*pow(U0, 2)*beta*pow(r, 2)*xim*xip*x[1,i]/gamma + 135.0*pow(U0, 2)*beta*pow(r, 2)*xim*x[1,i]/gamma + 180.0*pow(U0, 2)*beta*pow(r, 2)*pow(xip, 2)*pow(x[1,i], 2)/gamma + 58.5*pow(U0, 2)*beta*pow(r, 2)*pow(xip, 2)/gamma - 90.0*pow(U0, 2)*beta*pow(r, 2)*xip/gamma + 18.0*pow(U0, 2)*beta*pow(r, 2)/gamma - 27.0*pow(U0, 2)*beta*r*pow(x[0,i], 2)*pow(xim, 2)/gamma + 121.5*pow(U0, 2)*beta*r*pow(x[0,i], 2)*xim*xip*x[1,i]/gamma - 81.0*pow(U0, 2)*beta*r*pow(x[0,i], 2)*pow(xip, 2)/gamma + 54.0*pow(U0, 2)*beta*r*pow(x[0,i], 2)*xip/gamma - 364.5*pow(U0, 2)*beta*r*pow(xim, 2)*pow(x[1,i], 2)/gamma - 20.25*pow(U0, 2)*beta*r*pow(xim, 2)/gamma + 351.0*pow(U0, 2)*beta*r*xim*xip*pow(x[1,i], 3)/gamma + 411.75*pow(U0, 2)*beta*r*xim*xip*x[1,i]/gamma - 310.5*pow(U0, 2)*beta*r*xim*x[1,i]/gamma - 405.0*pow(U0, 2)*beta*r*pow(xip, 2)*pow(x[1,i], 2)/gamma - 27.0*pow(U0, 2)*beta*r*pow(xip, 2)/gamma + 270.0*pow(U0, 2)*beta*r*xip*pow(x[1,i], 2)/gamma + 72.0*pow(U0, 2)*beta*r*xip/gamma - 36.0*pow(U0, 2)*beta*r/gamma + 50.625*pow(U0, 2)*beta*pow(x[0,i], 2)*pow(xim, 2)*pow(x[1,i], 2)/gamma + 24.75*pow(U0, 2)*beta*pow(x[0,i], 2)*pow(xim, 2)/gamma - 229.5*pow(U0, 2)*beta*pow(x[0,i], 2)*xim*xip*x[1,i]/gamma + 81.0*pow(U0, 2)*beta*pow(x[0,i], 2)*xim*x[1,i]/gamma + 72.0*pow(U0, 2)*beta*pow(x[0,i], 2)*pow(xip, 2)*pow(x[1,i], 2)/gamma + 58.5*pow(U0, 2)*beta*pow(x[0,i], 2)*pow(xip, 2)/gamma - 90.0*pow(U0, 2)*beta*pow(x[0,i], 2)*xip/gamma + 18.0*pow(U0, 2)*beta*pow(x[0,i], 2)/gamma + 118.125*pow(U0, 2)*beta*pow(x[1,i], 4)*pow(xim, 2)/gamma + 310.5*pow(U0, 2)*beta*pow(xim, 2)*pow(x[1,i], 2)/gamma + 3.375*pow(U0, 2)*beta*pow(xim, 2)/gamma - 661.5*pow(U0, 2)*beta*xim*xip*pow(x[1,i], 3)/gamma - 162.0*pow(U0, 2)*beta*xim*xip*x[1,i]/gamma + 225.0*pow(U0, 2)*beta*xim*pow(x[1,i], 3)/gamma + 216.0*pow(U0, 2)*beta*xim*x[1,i]/gamma + 72.0*pow(U0, 2)*beta*pow(x[1,i], 4)*pow(xip, 2)/gamma + 292.5*pow(U0, 2)*beta*pow(xip, 2)*pow(x[1,i], 2)/gamma + 4.5*pow(U0, 2)*beta*pow(xip, 2)/gamma - 450.0*pow(U0, 2)*beta*xip*pow(x[1,i], 2)/gamma - 18.0*pow(U0, 2)*beta*xip/gamma + 90.0*pow(U0, 2)*beta*pow(x[1,i], 2)/gamma + 18.0*pow(U0, 2)*beta/gamma - 67.5*pow(U0, 2)*beta*pow(x[0,i], 2)*pow(xim, 2)*pow(x[1,i], 2)/(gamma*r) - 9.0*pow(U0, 2)*beta*pow(x[0,i], 2)*pow(xim, 2)/(gamma*r) + 40.5*pow(U0, 2)*beta*pow(x[0,i], 2)*xim*xip*pow(x[1,i], 3)/(gamma*r) + 114.75*pow(U0, 2)*beta*pow(x[0,i], 2)*xim*xip*x[1,i]/(gamma*r) - 94.5*pow(U0, 2)*beta*pow(x[0,i], 2)*xim*x[1,i]/(gamma*r) - 81.0*pow(U0, 2)*beta*pow(x[0,i], 2)*pow(xip, 2)*pow(x[1,i], 2)/(gamma*r) - 13.5*pow(U0, 2)*beta*pow(x[0,i], 2)*pow(xip, 2)/(gamma*r) + 54.0*pow(U0, 2)*beta*pow(x[0,i], 2)*xip*pow(x[1,i], 2)/(gamma*r) + 36.0*pow(U0, 2)*beta*pow(x[0,i], 2)*xip/(gamma*r) - 18.0*pow(U0, 2)*beta*pow(x[0,i], 2)/(gamma*r) - 155.25*pow(U0, 2)*beta*pow(x[1,i], 4)*pow(xim, 2)/(gamma*r) - 94.5*pow(U0, 2)*beta*pow(xim, 2)*pow(x[1,i], 2)/(gamma*r) + 40.5*pow(U0, 2)*beta*pow(x[1,i], 5)*xim*xip/(gamma*r) + 328.5*pow(U0, 2)*beta*xim*xip*pow(x[1,i], 3)/(gamma*r) + 20.25*pow(U0, 2)*beta*xim*xip*x[1,i]/(gamma*r) - 261.0*pow(U0, 2)*beta*xim*pow(x[1,i], 3)/(gamma*r) - 40.5*pow(U0, 2)*beta*xim*x[1,i]/(gamma*r) - 81.0*pow(U0, 2)*beta*pow(x[1,i], 4)*pow(xip, 2)/(gamma*r) - 67.5*pow(U0, 2)*beta*pow(xip, 2)*pow(x[1,i], 2)/(gamma*r) + 54.0*pow(U0, 2)*beta*pow(x[1,i], 4)*xip/(gamma*r) + 180.0*pow(U0, 2)*beta*xip*pow(x[1,i], 2)/(gamma*r) - 90.0*pow(U0, 2)*beta*pow(x[1,i], 2)/(gamma*r) + 1.125*pow(U0, 2)*beta*pow(x[0,i], 2)*pow(xim, 2)/(gamma*pow(r, 2)) + 6.75*pow(U0, 2)*beta*pow(xim, 2)*pow(x[1,i], 2)/(gamma*pow(r, 2)) + 13.5*pow(U0, 2)*beta*pow(x[0,i], 2)*pow(x[1,i], 4)*pow(xim, 2)/(gamma*pow(r, 3)) + 22.5*pow(U0, 2)*beta*pow(x[0,i], 2)*pow(xim, 2)*pow(x[1,i], 2)/(gamma*pow(r, 3)) - 38.25*pow(U0, 2)*beta*pow(x[0,i], 2)*xim*xip*pow(x[1,i], 3)/(gamma*pow(r, 3)) - 6.75*pow(U0, 2)*beta*pow(x[0,i], 2)*xim*xip*x[1,i]/(gamma*pow(r, 3)) + 31.5*pow(U0, 2)*beta*pow(x[0,i], 2)*xim*pow(x[1,i], 3)/(gamma*pow(r, 3)) + 13.5*pow(U0, 2)*beta*pow(x[0,i], 2)*xim*x[1,i]/(gamma*pow(r, 3)) + 13.5*pow(U0, 2)*beta*pow(x[0,i], 2)*pow(xip, 2)*pow(x[1,i], 2)/(gamma*pow(r, 3)) - 36.0*pow(U0, 2)*beta*pow(x[0,i], 2)*xip*pow(x[1,i], 2)/(gamma*pow(r, 3)) + 18.0*pow(U0, 2)*beta*pow(x[0,i], 2)*pow(x[1,i], 2)/(gamma*pow(r, 3)) + 13.5*pow(U0, 2)*beta*pow(x[1,i], 6)*pow(xim, 2)/(gamma*pow(r, 3)) + 47.25*pow(U0, 2)*beta*pow(x[1,i], 4)*pow(xim, 2)/(gamma*pow(r, 3)) - 38.25*pow(U0, 2)*beta*pow(x[1,i], 5)*xim*xip/(gamma*pow(r, 3)) - 18.0*pow(U0, 2)*beta*xim*xip*pow(x[1,i], 3)/(gamma*pow(r, 3)) + 31.5*pow(U0, 2)*beta*pow(x[1,i], 5)*xim/(gamma*pow(r, 3)) + 36.0*pow(U0, 2)*beta*xim*pow(x[1,i], 3)/(gamma*pow(r, 3)) + 13.5*pow(U0, 2)*beta*pow(x[1,i], 4)*pow(xip, 2)/(gamma*pow(r, 3)) - 36.0*pow(U0, 2)*beta*pow(x[1,i], 4)*xip/(gamma*pow(r, 3)) + 18.0*pow(U0, 2)*beta*pow(x[1,i], 4)/(gamma*pow(r, 3)) - 5.625*pow(U0, 2)*beta*pow(x[0,i], 2)*pow(xim, 2)*pow(x[1,i], 2)/(gamma*pow(r, 4)) - 10.125*pow(U0, 2)*beta*pow(x[1,i], 4)*pow(xim, 2)/(gamma*pow(r, 4)) - 13.5*pow(U0, 2)*beta*pow(x[0,i], 2)*pow(x[1,i], 4)*pow(xim, 2)/(gamma*pow(r, 5)) + 6.75*pow(U0, 2)*beta*pow(x[0,i], 2)*xim*xip*pow(x[1,i], 3)/(gamma*pow(r, 5)) - 13.5*pow(U0, 2)*beta*pow(x[0,i], 2)*xim*pow(x[1,i], 3)/(gamma*pow(r, 5)) - 13.5*pow(U0, 2)*beta*pow(x[1,i], 6)*pow(xim, 2)/(gamma*pow(r, 5)) + 6.75*pow(U0, 2)*beta*pow(x[1,i], 5)*xim*xip/(gamma*pow(r, 5)) - 13.5*pow(U0, 2)*beta*pow(x[1,i], 5)*xim/(gamma*pow(r, 5)) + 4.5*pow(U0, 2)*beta*pow(x[0,i], 2)*pow(x[1,i], 4)*pow(xim, 2)/(gamma*pow(r, 6)) + 4.5*pow(U0, 2)*beta*pow(x[1,i], 6)*pow(xim, 2)/(gamma*pow(r, 6)) - 3.0*U0*beta*eta*pow(r, 2)*pow(theta, 2)*x[0,i]*xim*pow(x[1,i], 2)*exp(-pow(r, 2)*theta + 2*r*theta - theta)/gamma + 1.5*U0*beta*eta*pow(r, 2)*theta*x[0,i]*xim*exp(-pow(r, 2)*theta + 2*r*theta - theta)/gamma + 12.0*U0*beta*eta*r*pow(theta, 2)*x[0,i]*xim*pow(x[1,i], 2)*exp(-pow(r, 2)*theta + 2*r*theta - theta)/gamma - 4.5*U0*beta*eta*r*theta*x[0,i]*xim*exp(-pow(r, 2)*theta + 2*r*theta - theta)/gamma - 18.0*U0*beta*eta*pow(theta, 2)*x[0,i]*xim*pow(x[1,i], 2)*exp(-pow(r, 2)*theta + 2*r*theta - theta)/gamma + 6.0*U0*beta*eta*theta*x[0,i]*xim*pow(x[1,i], 2)*exp(-pow(r, 2)*theta + 2*r*theta - theta)/gamma + 4.5*U0*beta*eta*theta*x[0,i]*xim*exp(-pow(r, 2)*theta + 2*r*theta - theta)/gamma - 1.5*U0*beta*eta*x[0,i]*xim*exp(-pow(r, 2)*theta + 2*r*theta - theta)/gamma + 12.0*U0*beta*eta*pow(theta, 2)*x[0,i]*xim*pow(x[1,i], 2)*exp(-pow(r, 2)*theta + 2*r*theta - theta)/(gamma*r) - 10.5*U0*beta*eta*theta*x[0,i]*xim*pow(x[1,i], 2)*exp(-pow(r, 2)*theta + 2*r*theta - theta)/(gamma*r) - 1.5*U0*beta*eta*theta*x[0,i]*xim*exp(-pow(r, 2)*theta + 2*r*theta - theta)/(gamma*r) + 1.5*U0*beta*eta*x[0,i]*xim*exp(-pow(r, 2)*theta + 2*r*theta - theta)/(gamma*r) - 3.0*U0*beta*eta*pow(theta, 2)*x[0,i]*xim*pow(x[1,i], 2)*exp(-pow(r, 2)*theta + 2*r*theta - theta)/(gamma*pow(r, 2)) + 3.0*U0*beta*eta*theta*x[0,i]*xim*pow(x[1,i], 2)*exp(-pow(r, 2)*theta + 2*r*theta - theta)/(gamma*pow(r, 2)) + 1.5*U0*beta*eta*theta*x[0,i]*xim*pow(x[1,i], 2)*exp(-pow(r, 2)*theta + 2*r*theta - theta)/(gamma*pow(r, 3)) - 1.5*U0*beta*eta*x[0,i]*xim*pow(x[1,i], 2)*exp(-pow(r, 2)*theta + 2*r*theta - theta)/(gamma*pow(r, 3)) + 6.75*U0*beta*r*xim*xd[1,i] + 6.0*U0*beta*x[0,i]*xd[0,i]*xip - 9.0*U0*beta*xim*xd[1,i] + 18.0*U0*beta*xip*x[1,i]*xd[1,i] + 6.75*U0*beta*x[0,i]*xd[0,i]*xim*x[1,i]/r - 4.5*U0*beta*x[0,i]*xd[0,i]*xip/r + 3.0*U0*beta*x[0,i]*xd[0,i]/r + 13.5*U0*beta*xim*pow(x[1,i], 2)*xd[1,i]/r + 2.25*U0*beta*xim*xd[1,i]/r - 13.5*U0*beta*xip*x[1,i]*xd[1,i]/r + 9.0*U0*beta*x[1,i]*xd[1,i]/r - 2.25*U0*beta*x[0,i]*xd[0,i]*xim*pow(x[1,i], 3)/pow(r, 3) - 2.25*U0*beta*x[0,i]*xd[0,i]*xim*x[1,i]/pow(r, 3) + 4.5*U0*beta*x[0,i]*xd[0,i]*xip*pow(x[1,i], 2)/pow(r, 3) - 3.0*U0*beta*x[0,i]*xd[0,i]*pow(x[1,i], 2)/pow(r, 3) - 2.25*U0*beta*pow(x[1,i], 4)*xim*xd[1,i]/pow(r, 3) - 4.5*U0*beta*xim*pow(x[1,i], 2)*xd[1,i]/pow(r, 3) + 4.5*U0*beta*xip*pow(x[1,i], 3)*xd[1,i]/pow(r, 3) - 3.0*U0*beta*pow(x[1,i], 3)*xd[1,i]/pow(r, 3) + 2.25*U0*beta*x[0,i]*xd[0,i]*xim*pow(x[1,i], 3)/pow(r, 5) + 2.25*U0*beta*pow(x[1,i], 4)*xim*xd[1,i]/pow(r, 5) + 4.0*beta*pow(eta, 2)*pow(theta, 2)*pow(x[0,i], 2)*pow(x[1,i], 2)*exp(-2*pow(r, 2)*theta + 4*r*theta - 2*theta)/(gamma*pow(r, 2)) + 4.0*beta*pow(eta, 2)*pow(theta, 2)*pow(x[1,i], 4)*exp(-2*pow(r, 2)*theta + 4*r*theta - 2*theta)/(gamma*pow(r, 2)) - beta*pow(eta, 2)*theta*pow(x[0,i], 2)*exp(-2*pow(r, 2)*theta + 4*r*theta - 2*theta)/(gamma*pow(r, 2)) - 5.0*beta*pow(eta, 2)*theta*pow(x[1,i], 2)*exp(-2*pow(r, 2)*theta + 4*r*theta - 2*theta)/(gamma*pow(r, 2)) + 0.5*beta*pow(eta, 2)*exp(-2*pow(r, 2)*theta + 4*r*theta - 2*theta)/(gamma*pow(r, 2)) - 8.0*beta*pow(eta, 2)*pow(theta, 2)*pow(x[0,i], 2)*pow(x[1,i], 2)*exp(-2*pow(r, 2)*theta + 4*r*theta - 2*theta)/(gamma*pow(r, 3)) - 8.0*beta*pow(eta, 2)*pow(theta, 2)*pow(x[1,i], 4)*exp(-2*pow(r, 2)*theta + 4*r*theta - 2*theta)/(gamma*pow(r, 3)) + beta*pow(eta, 2)*theta*pow(x[0,i], 2)*exp(-2*pow(r, 2)*theta + 4*r*theta - 2*theta)/(gamma*pow(r, 3)) + 5.0*beta*pow(eta, 2)*theta*pow(x[1,i], 2)*exp(-2*pow(r, 2)*theta + 4*r*theta - 2*theta)/(gamma*pow(r, 3)) + 4.0*beta*pow(eta, 2)*pow(theta, 2)*pow(x[0,i], 2)*pow(x[1,i], 2)*exp(-2*pow(r, 2)*theta + 4*r*theta - 2*theta)/(gamma*pow(r, 4)) + 4.0*beta*pow(eta, 2)*pow(theta, 2)*pow(x[1,i], 4)*exp(-2*pow(r, 2)*theta + 4*r*theta - 2*theta)/(gamma*pow(r, 4)) + 4.0*beta*pow(eta, 2)*theta*pow(x[0,i], 2)*pow(x[1,i], 2)*exp(-2*pow(r, 2)*theta + 4*r*theta - 2*theta)/(gamma*pow(r, 4)) + 4.0*beta*pow(eta, 2)*theta*pow(x[1,i], 4)*exp(-2*pow(r, 2)*theta + 4*r*theta - 2*theta)/(gamma*pow(r, 4)) - 0.5*beta*pow(eta, 2)*pow(x[0,i], 2)*exp(-2*pow(r, 2)*theta + 4*r*theta - 2*theta)/(gamma*pow(r, 4)) - 2.5*beta*pow(eta, 2)*pow(x[1,i], 2)*exp(-2*pow(r, 2)*theta + 4*r*theta - 2*theta)/(gamma*pow(r, 4)) - 5.0*beta*pow(eta, 2)*theta*pow(x[0,i], 2)*pow(x[1,i], 2)*exp(-2*pow(r, 2)*theta + 4*r*theta - 2*theta)/(gamma*pow(r, 5)) - 5.0*beta*pow(eta, 2)*theta*pow(x[1,i], 4)*exp(-2*pow(r, 2)*theta + 4*r*theta - 2*theta)/(gamma*pow(r, 5)) + 2.0*beta*pow(eta, 2)*pow(x[0,i], 2)*pow(x[1,i], 2)*exp(-2*pow(r, 2)*theta + 4*r*theta - 2*theta)/(gamma*pow(r, 6)) + 2.0*beta*pow(eta, 2)*pow(x[1,i], 4)*exp(-2*pow(r, 2)*theta + 4*r*theta - 2*theta)/(gamma*pow(r, 6)) - 2.0*beta*eta*pow(theta, 2)*x[0,i]*pow(x[1,i], 2)*xd[1,i]*exp(-pow(r, 2)*theta + 2*r*theta - theta)/r + 2.0*beta*eta*pow(theta, 2)*xd[0,i]*pow(x[1,i], 3)*exp(-pow(r, 2)*theta + 2*r*theta - theta)/r + beta*eta*theta*x[0,i]*xd[1,i]*exp(-pow(r, 2)*theta + 2*r*theta - theta)/r - 3.0*beta*eta*theta*xd[0,i]*x[1,i]*exp(-pow(r, 2)*theta + 2*r*theta - theta)/r + 4.0*beta*eta*pow(theta, 2)*x[0,i]*pow(x[1,i], 2)*xd[1,i]*exp(-pow(r, 2)*theta + 2*r*theta - theta)/pow(r, 2) - 4.0*beta*eta*pow(theta, 2)*xd[0,i]*pow(x[1,i], 3)*exp(-pow(r, 2)*theta + 2*r*theta - theta)/pow(r, 2) - beta*eta*theta*x[0,i]*xd[1,i]*exp(-pow(r, 2)*theta + 2*r*theta - theta)/pow(r, 2) + 3.0*beta*eta*theta*xd[0,i]*x[1,i]*exp(-pow(r, 2)*theta + 2*r*theta - theta)/pow(r, 2) - 2.0*beta*eta*pow(theta, 2)*x[0,i]*pow(x[1,i], 2)*xd[1,i]*exp(-pow(r, 2)*theta + 2*r*theta - theta)/pow(r, 3) + 2.0*beta*eta*pow(theta, 2)*xd[0,i]*pow(x[1,i], 3)*exp(-pow(r, 2)*theta + 2*r*theta - theta)/pow(r, 3) - 2.0*beta*eta*theta*x[0,i]*pow(x[1,i], 2)*xd[1,i]*exp(-pow(r, 2)*theta + 2*r*theta - theta)/pow(r, 3) + 2.0*beta*eta*theta*xd[0,i]*pow(x[1,i], 3)*exp(-pow(r, 2)*theta + 2*r*theta - theta)/pow(r, 3) + 0.5*beta*eta*x[0,i]*xd[1,i]*exp(-pow(r, 2)*theta + 2*r*theta - theta)/pow(r, 3) - 1.5*beta*eta*xd[0,i]*x[1,i]*exp(-pow(r, 2)*theta + 2*r*theta - theta)/pow(r, 3) + 3.0*beta*eta*theta*x[0,i]*pow(x[1,i], 2)*xd[1,i]*exp(-pow(r, 2)*theta + 2*r*theta - theta)/pow(r, 4) - 3.0*beta*eta*theta*xd[0,i]*pow(x[1,i], 3)*exp(-pow(r, 2)*theta + 2*r*theta - theta)/pow(r, 4) - 1.5*beta*eta*x[0,i]*pow(x[1,i], 2)*xd[1,i]*exp(-pow(r, 2)*theta + 2*r*theta - theta)/pow(r, 5) + 1.5*beta*eta*xd[0,i]*pow(x[1,i], 3)*exp(-pow(r, 2)*theta + 2*r*theta - theta)/pow(r, 5)\n",
      "        L_xd_x[0,0,i] = 3.0*U0*beta*pow(r, 2)*xip + 2.25*U0*beta*r*xim*x[1,i] - 4.5*U0*beta*r*xip + 3.0*U0*beta*r + 6.0*U0*beta*pow(x[0,i], 2)*xip - 3.0*U0*beta*xim*x[1,i] + 1.5*U0*beta*xip - 3.0*U0*beta + 2.25*U0*beta*pow(x[0,i], 2)*xim*x[1,i]/r - 4.5*U0*beta*pow(x[0,i], 2)*xip/r + 3.0*U0*beta*pow(x[0,i], 2)/r + 0.75*U0*beta*xim*x[1,i]/r - 0.75*U0*beta*pow(x[0,i], 2)*xim*x[1,i]/pow(r, 3) - beta*eta*theta*x[0,i]*x[1,i]*exp(-pow(r, 2)*theta + 2*r*theta - theta)/r + beta*eta*theta*x[0,i]*x[1,i]*exp(-pow(r, 2)*theta + 2*r*theta - theta)/pow(r, 2) - 0.5*beta*eta*x[0,i]*x[1,i]*exp(-pow(r, 2)*theta + 2*r*theta - theta)/pow(r, 3)\n",
      "        L_xd_x[0,1,i] = 2.25*U0*beta*r*x[0,i]*xim - 3.0*U0*beta*x[0,i]*xim + 6.0*U0*beta*x[0,i]*xip*x[1,i] + 2.25*U0*beta*x[0,i]*xim*pow(x[1,i], 2)/r + 0.75*U0*beta*x[0,i]*xim/r - 4.5*U0*beta*x[0,i]*xip*x[1,i]/r + 3.0*U0*beta*x[0,i]*x[1,i]/r - 0.75*U0*beta*x[0,i]*xim*pow(x[1,i], 2)/pow(r, 3) - beta*eta*theta*pow(x[1,i], 2)*exp(-pow(r, 2)*theta + 2*r*theta - theta)/r + 0.5*beta*eta*exp(-pow(r, 2)*theta + 2*r*theta - theta)/r + beta*eta*theta*pow(x[1,i], 2)*exp(-pow(r, 2)*theta + 2*r*theta - theta)/pow(r, 2) - 0.5*beta*eta*pow(x[1,i], 2)*exp(-pow(r, 2)*theta + 2*r*theta - theta)/pow(r, 3)\n",
      "        L_xd_x[1,0,i] = 2.25*U0*beta*r*x[0,i]*xim - 3.0*U0*beta*x[0,i]*xim + 6.0*U0*beta*x[0,i]*xip*x[1,i] + 2.25*U0*beta*x[0,i]*xim*pow(x[1,i], 2)/r + 0.75*U0*beta*x[0,i]*xim/r - 4.5*U0*beta*x[0,i]*xip*x[1,i]/r + 3.0*U0*beta*x[0,i]*x[1,i]/r - 0.75*U0*beta*x[0,i]*xim*pow(x[1,i], 2)/pow(r, 3) + beta*eta*theta*pow(x[0,i], 2)*exp(-pow(r, 2)*theta + 2*r*theta - theta)/r - 0.5*beta*eta*exp(-pow(r, 2)*theta + 2*r*theta - theta)/r - beta*eta*theta*pow(x[0,i], 2)*exp(-pow(r, 2)*theta + 2*r*theta - theta)/pow(r, 2) + 0.5*beta*eta*pow(x[0,i], 2)*exp(-pow(r, 2)*theta + 2*r*theta - theta)/pow(r, 3)\n",
      "        L_xd_x[1,1,i] = 3.0*U0*beta*pow(r, 2)*xip + 6.75*U0*beta*r*xim*x[1,i] - 4.5*U0*beta*r*xip + 3.0*U0*beta*r - 9.0*U0*beta*xim*x[1,i] + 6.0*U0*beta*xip*pow(x[1,i], 2) + 1.5*U0*beta*xip - 3.0*U0*beta + 2.25*U0*beta*xim*pow(x[1,i], 3)/r + 2.25*U0*beta*xim*x[1,i]/r - 4.5*U0*beta*xip*pow(x[1,i], 2)/r + 3.0*U0*beta*pow(x[1,i], 2)/r - 0.75*U0*beta*xim*pow(x[1,i], 3)/pow(r, 3) + beta*eta*theta*x[0,i]*x[1,i]*exp(-pow(r, 2)*theta + 2*r*theta - theta)/r - beta*eta*theta*x[0,i]*x[1,i]*exp(-pow(r, 2)*theta + 2*r*theta - theta)/pow(r, 2) + 0.5*beta*eta*x[0,i]*x[1,i]*exp(-pow(r, 2)*theta + 2*r*theta - theta)/pow(r, 3)\n",
      "        L_xd_xd[0,0,i] = 0.5*beta*gamma\n",
      "        L_xd_xd[0,1,i] = 0\n",
      "        L_xd_xd[1,0,i] = 0\n",
      "        L_xd_xd[1,1,i] = 0.5*beta*gamma\n",
      "\n",
      "cdef DTYPE_t _compute_dot_L_xd_x_OM(self, DTYPE_t[:] ts, DTYPE_t[:,:] x, DTYPE_t[:,:] xd, DTYPE_t[:,:,:] dot_L_dx_x):\n",
      "    cdef:\n",
      "        int i\n",
      "        int dim = x.shape[0]\n",
      "        int Nt = x.shape[1]\n",
      "        DTYPE_t beta = self.beta\n",
      "        DTYPE_t gamma = self.gamma\n",
      "        DTYPE_t U0 = self.U0\n",
      "        DTYPE_t xip = self.xip\n",
      "        DTYPE_t xim = self.xim\n",
      "        DTYPE_t eta = self.eta\n",
      "        DTYPE_t theta = self.theta\n",
      "        DTYPE_t r\n",
      "    \n",
      "    for i in range(Nt):\n",
      "        r = sqrt(pow(x[0,i], 2) + pow(x[1,i], 2))\n",
      "        dot_L_dx_x[0,0,i] = 0.25*beta*(3.0*U0*pow(r, 5)*(3.0*r*xim*xd[1,i] + 16.0*x[0,i]*xd[0,i]*xip - 4.0*xim*xd[1,i] + 8.0*xip*(x[0,i]*xd[0,i] + x[1,i]*xd[1,i])) + 4.0*eta*pow(r, 3)*theta*(2.0*theta*x[0,i]*x[1,i]*(r - 1.0)*(x[0,i]*xd[0,i] + x[1,i]*xd[1,i]) + x[0,i]*xd[1,i] + xd[0,i]*x[1,i])*exp(theta*(-pow(r, 2) + 2*r - 1)) + 4.0*eta*r*theta*x[0,i]*x[1,i]*(r - 3.0)*(x[0,i]*xd[0,i] + x[1,i]*xd[1,i])*exp(theta*(-pow(r, 2) + 2*r - 1)) + pow(r, 4)*(9.0*U0*pow(x[0,i], 2)*xim*xd[1,i] + 18.0*U0*x[0,i]*xd[0,i]*xim*x[1,i] - 36.0*U0*x[0,i]*xd[0,i]*xip + 24.0*U0*x[0,i]*xd[0,i] + 9.0*U0*xim*x[1,i]*(x[0,i]*xd[0,i] + x[1,i]*xd[1,i]) + 3.0*U0*xim*xd[1,i] - 18.0*U0*xip*(x[0,i]*xd[0,i] + x[1,i]*xd[1,i]) + 12.0*U0*(x[0,i]*xd[0,i] + x[1,i]*xd[1,i]) - 4.0*eta*theta*x[0,i]*xd[1,i]*exp(theta*(-pow(r, 2) + 2*r - 1)) - 4.0*eta*theta*xd[0,i]*x[1,i]*exp(theta*(-pow(r, 2) + 2*r - 1))) + pow(r, 2)*(-9.0*U0*pow(x[0,i], 2)*xim*x[1,i]*(x[0,i]*xd[0,i] + x[1,i]*xd[1,i]) - 3.0*U0*pow(x[0,i], 2)*xim*xd[1,i] + 18.0*U0*pow(x[0,i], 2)*xip*(x[0,i]*xd[0,i] + x[1,i]*xd[1,i]) - 12.0*U0*pow(x[0,i], 2)*(x[0,i]*xd[0,i] + x[1,i]*xd[1,i]) - 6.0*U0*x[0,i]*xd[0,i]*xim*x[1,i] - 3.0*U0*xim*x[1,i]*(x[0,i]*xd[0,i] + x[1,i]*xd[1,i]) - 8.0*eta*pow(theta, 2)*x[0,i]*x[1,i]*(r - 1.0)*(x[0,i]*xd[0,i] + x[1,i]*xd[1,i])*exp(theta*(-pow(r, 2) + 2*r - 1)) + 4.0*eta*theta*x[0,i]*x[1,i]*(x[0,i]*xd[0,i] + x[1,i]*xd[1,i])*exp(theta*(-pow(r, 2) + 2*r - 1)) - 2.0*eta*x[0,i]*xd[1,i]*exp(theta*(-pow(r, 2) + 2*r - 1)) - 2.0*eta*xd[0,i]*x[1,i]*exp(theta*(-pow(r, 2) + 2*r - 1))) + 3.0*x[0,i]*x[1,i]*(x[0,i]*xd[0,i] + x[1,i]*xd[1,i])*(3.0*U0*x[0,i]*xim + 2.0*eta*exp(theta*(-pow(r, 2) + 2*r - 1))))/pow(r, 5)\n",
      "        dot_L_dx_x[0,1,i] = 0.25*beta*(3.0*U0*pow(r, 5)*(3.0*r*xd[0,i]*xim + 8.0*x[0,i]*xip*xd[1,i] - 4.0*xd[0,i]*xim + 8.0*xd[0,i]*xip*x[1,i]) + 4.0*eta*pow(r, 3)*theta*(2.0*theta*pow(x[1,i], 2)*(r - 1.0)*(x[0,i]*xd[0,i] + x[1,i]*xd[1,i]) + 2.0*x[1,i]*xd[1,i] - (r - 1.0)*(x[0,i]*xd[0,i] + x[1,i]*xd[1,i]))*exp(theta*(-pow(r, 2) + 2*r - 1)) + 4.0*eta*r*theta*pow(x[1,i], 2)*(r - 3.0)*(x[0,i]*xd[0,i] + x[1,i]*xd[1,i])*exp(theta*(-pow(r, 2) + 2*r - 1)) + pow(r, 4)*(18.0*U0*x[0,i]*xim*x[1,i]*xd[1,i] + 9.0*U0*x[0,i]*xim*(x[0,i]*xd[0,i] + x[1,i]*xd[1,i]) - 18.0*U0*x[0,i]*xip*xd[1,i] + 12.0*U0*x[0,i]*xd[1,i] + 9.0*U0*xd[0,i]*xim*pow(x[1,i], 2) + 3.0*U0*xd[0,i]*xim - 18.0*U0*xd[0,i]*xip*x[1,i] + 12.0*U0*xd[0,i]*x[1,i] - 8.0*eta*theta*x[1,i]*xd[1,i]*exp(theta*(-pow(r, 2) + 2*r - 1))) + pow(r, 2)*(-9.0*U0*x[0,i]*xim*pow(x[1,i], 2)*(x[0,i]*xd[0,i] + x[1,i]*xd[1,i]) - 6.0*U0*x[0,i]*xim*x[1,i]*xd[1,i] - 3.0*U0*x[0,i]*xim*(x[0,i]*xd[0,i] + x[1,i]*xd[1,i]) + 18.0*U0*x[0,i]*xip*x[1,i]*(x[0,i]*xd[0,i] + x[1,i]*xd[1,i]) - 12.0*U0*x[0,i]*x[1,i]*(x[0,i]*xd[0,i] + x[1,i]*xd[1,i]) - 3.0*U0*xd[0,i]*xim*pow(x[1,i], 2) - 8.0*eta*pow(theta, 2)*pow(x[1,i], 2)*(r - 1.0)*(x[0,i]*xd[0,i] + x[1,i]*xd[1,i])*exp(theta*(-pow(r, 2) + 2*r - 1)) + 4.0*eta*theta*pow(x[1,i], 2)*(x[0,i]*xd[0,i] + x[1,i]*xd[1,i])*exp(theta*(-pow(r, 2) + 2*r - 1)) - 4.0*eta*x[1,i]*xd[1,i]*exp(theta*(-pow(r, 2) + 2*r - 1)) - 2.0*eta*(x[0,i]*xd[0,i] + x[1,i]*xd[1,i])*exp(theta*(-pow(r, 2) + 2*r - 1))) + 3.0*pow(x[1,i], 2)*(x[0,i]*xd[0,i] + x[1,i]*xd[1,i])*(3.0*U0*x[0,i]*xim + 2.0*eta*exp(theta*(-pow(r, 2) + 2*r - 1))))/pow(r, 5)\n",
      "        dot_L_dx_x[1,0,i] = 0.25*beta*(3.0*U0*pow(r, 5)*(3.0*r*xd[0,i]*xim + 8.0*x[0,i]*xip*xd[1,i] - 4.0*xd[0,i]*xim + 8.0*xd[0,i]*xip*x[1,i]) + 4.0*eta*pow(r, 3)*theta*(-2.0*theta*pow(x[0,i], 2)*(r - 1.0)*(x[0,i]*xd[0,i] + x[1,i]*xd[1,i]) - 2.0*x[0,i]*xd[0,i] + (r - 1.0)*(x[0,i]*xd[0,i] + x[1,i]*xd[1,i]))*exp(theta*(-pow(r, 2) + 2*r - 1)) + 4.0*eta*r*theta*pow(x[0,i], 2)*(3.0 - r)*(x[0,i]*xd[0,i] + x[1,i]*xd[1,i])*exp(theta*(-pow(r, 2) + 2*r - 1)) + pow(r, 4)*(18.0*U0*x[0,i]*xim*x[1,i]*xd[1,i] + 9.0*U0*x[0,i]*xim*(x[0,i]*xd[0,i] + x[1,i]*xd[1,i]) - 18.0*U0*x[0,i]*xip*xd[1,i] + 12.0*U0*x[0,i]*xd[1,i] + 9.0*U0*xd[0,i]*xim*pow(x[1,i], 2) + 3.0*U0*xd[0,i]*xim - 18.0*U0*xd[0,i]*xip*x[1,i] + 12.0*U0*xd[0,i]*x[1,i] + 8.0*eta*theta*x[0,i]*xd[0,i]*exp(theta*(-pow(r, 2) + 2*r - 1))) + pow(r, 2)*(-9.0*U0*x[0,i]*xim*pow(x[1,i], 2)*(x[0,i]*xd[0,i] + x[1,i]*xd[1,i]) - 6.0*U0*x[0,i]*xim*x[1,i]*xd[1,i] - 3.0*U0*x[0,i]*xim*(x[0,i]*xd[0,i] + x[1,i]*xd[1,i]) + 18.0*U0*x[0,i]*xip*x[1,i]*(x[0,i]*xd[0,i] + x[1,i]*xd[1,i]) - 12.0*U0*x[0,i]*x[1,i]*(x[0,i]*xd[0,i] + x[1,i]*xd[1,i]) - 3.0*U0*xd[0,i]*xim*pow(x[1,i], 2) + 8.0*eta*pow(theta, 2)*pow(x[0,i], 2)*(r - 1.0)*(x[0,i]*xd[0,i] + x[1,i]*xd[1,i])*exp(theta*(-pow(r, 2) + 2*r - 1)) - 4.0*eta*theta*pow(x[0,i], 2)*(x[0,i]*xd[0,i] + x[1,i]*xd[1,i])*exp(theta*(-pow(r, 2) + 2*r - 1)) + 4.0*eta*x[0,i]*xd[0,i]*exp(theta*(-pow(r, 2) + 2*r - 1)) + 2.0*eta*(x[0,i]*xd[0,i] + x[1,i]*xd[1,i])*exp(theta*(-pow(r, 2) + 2*r - 1))) + 3.0*x[0,i]*(x[0,i]*xd[0,i] + x[1,i]*xd[1,i])*(3.0*U0*xim*pow(x[1,i], 2) - 2.0*eta*x[0,i]*exp(theta*(-pow(r, 2) + 2*r - 1))))/pow(r, 5)\n",
      "        dot_L_dx_x[1,1,i] = 0.25*beta*(3.0*U0*pow(r, 5)*(9.0*r*xim*xd[1,i] - 12.0*xim*xd[1,i] + 16.0*xip*x[1,i]*xd[1,i] + 8.0*xip*(x[0,i]*xd[0,i] + x[1,i]*xd[1,i])) - 4.0*eta*pow(r, 3)*theta*(2.0*theta*x[0,i]*x[1,i]*(r - 1.0)*(x[0,i]*xd[0,i] + x[1,i]*xd[1,i]) + x[0,i]*xd[1,i] + xd[0,i]*x[1,i])*exp(theta*(-pow(r, 2) + 2*r - 1)) + 4.0*eta*r*theta*x[0,i]*x[1,i]*(3.0 - r)*(x[0,i]*xd[0,i] + x[1,i]*xd[1,i])*exp(theta*(-pow(r, 2) + 2*r - 1)) + pow(r, 4)*(27.0*U0*xim*pow(x[1,i], 2)*xd[1,i] + 27.0*U0*xim*x[1,i]*(x[0,i]*xd[0,i] + x[1,i]*xd[1,i]) + 9.0*U0*xim*xd[1,i] - 36.0*U0*xip*x[1,i]*xd[1,i] - 18.0*U0*xip*(x[0,i]*xd[0,i] + x[1,i]*xd[1,i]) + 24.0*U0*x[1,i]*xd[1,i] + 12.0*U0*(x[0,i]*xd[0,i] + x[1,i]*xd[1,i]) + 4.0*eta*theta*x[0,i]*xd[1,i]*exp(theta*(-pow(r, 2) + 2*r - 1)) + 4.0*eta*theta*xd[0,i]*x[1,i]*exp(theta*(-pow(r, 2) + 2*r - 1))) + pow(r, 2)*(-9.0*U0*xim*pow(x[1,i], 3)*(x[0,i]*xd[0,i] + x[1,i]*xd[1,i]) - 9.0*U0*xim*pow(x[1,i], 2)*xd[1,i] - 9.0*U0*xim*x[1,i]*(x[0,i]*xd[0,i] + x[1,i]*xd[1,i]) + 18.0*U0*xip*pow(x[1,i], 2)*(x[0,i]*xd[0,i] + x[1,i]*xd[1,i]) - 12.0*U0*pow(x[1,i], 2)*(x[0,i]*xd[0,i] + x[1,i]*xd[1,i]) + 8.0*eta*pow(theta, 2)*x[0,i]*x[1,i]*(r - 1.0)*(x[0,i]*xd[0,i] + x[1,i]*xd[1,i])*exp(theta*(-pow(r, 2) + 2*r - 1)) - 4.0*eta*theta*x[0,i]*x[1,i]*(x[0,i]*xd[0,i] + x[1,i]*xd[1,i])*exp(theta*(-pow(r, 2) + 2*r - 1)) + 2.0*eta*x[0,i]*xd[1,i]*exp(theta*(-pow(r, 2) + 2*r - 1)) + 2.0*eta*xd[0,i]*x[1,i]*exp(theta*(-pow(r, 2) + 2*r - 1))) + 3.0*x[1,i]*(x[0,i]*xd[0,i] + x[1,i]*xd[1,i])*(3.0*U0*xim*pow(x[1,i], 2) - 2.0*eta*x[0,i]*exp(theta*(-pow(r, 2) + 2*r - 1))))/pow(r, 5)\n",
      "\n",
      "cdef DTYPE_t _compute_dot_L_xd_x_FW(self, DTYPE_t[:] ts, DTYPE_t[:,:] x, DTYPE_t[:,:] xd, DTYPE_t[:,:,:] dot_L_dx_x):\n",
      "    cdef:\n",
      "        int i\n",
      "        int dim = x.shape[0]\n",
      "        int Nt = x.shape[1]\n",
      "        DTYPE_t beta = self.beta\n",
      "        DTYPE_t gamma = self.gamma\n",
      "        DTYPE_t U0 = self.U0\n",
      "        DTYPE_t xip = self.xip\n",
      "        DTYPE_t xim = self.xim\n",
      "        DTYPE_t eta = self.eta\n",
      "        DTYPE_t theta = self.theta\n",
      "        DTYPE_t r\n",
      "    \n",
      "    for i in range(Nt):\n",
      "        r = sqrt(pow(x[0,i], 2) + pow(x[1,i], 2))\n",
      "        dot_L_dx_x[0,0,i] = 0.25*beta*(3.0*U0*pow(r, 5)*(3.0*r*xim*xd[1,i] + 16.0*x[0,i]*xd[0,i]*xip - 4.0*xim*xd[1,i] + 8.0*xip*(x[0,i]*xd[0,i] + x[1,i]*xd[1,i])) + 4.0*eta*pow(r, 3)*theta*(2.0*theta*x[0,i]*x[1,i]*(r - 1.0)*(x[0,i]*xd[0,i] + x[1,i]*xd[1,i]) + x[0,i]*xd[1,i] + xd[0,i]*x[1,i])*exp(theta*(-pow(r, 2) + 2*r - 1)) + 4.0*eta*r*theta*x[0,i]*x[1,i]*(r - 3.0)*(x[0,i]*xd[0,i] + x[1,i]*xd[1,i])*exp(theta*(-pow(r, 2) + 2*r - 1)) + pow(r, 4)*(9.0*U0*pow(x[0,i], 2)*xim*xd[1,i] + 18.0*U0*x[0,i]*xd[0,i]*xim*x[1,i] - 36.0*U0*x[0,i]*xd[0,i]*xip + 24.0*U0*x[0,i]*xd[0,i] + 9.0*U0*xim*x[1,i]*(x[0,i]*xd[0,i] + x[1,i]*xd[1,i]) + 3.0*U0*xim*xd[1,i] - 18.0*U0*xip*(x[0,i]*xd[0,i] + x[1,i]*xd[1,i]) + 12.0*U0*(x[0,i]*xd[0,i] + x[1,i]*xd[1,i]) - 4.0*eta*theta*x[0,i]*xd[1,i]*exp(theta*(-pow(r, 2) + 2*r - 1)) - 4.0*eta*theta*xd[0,i]*x[1,i]*exp(theta*(-pow(r, 2) + 2*r - 1))) + pow(r, 2)*(-9.0*U0*pow(x[0,i], 2)*xim*x[1,i]*(x[0,i]*xd[0,i] + x[1,i]*xd[1,i]) - 3.0*U0*pow(x[0,i], 2)*xim*xd[1,i] + 18.0*U0*pow(x[0,i], 2)*xip*(x[0,i]*xd[0,i] + x[1,i]*xd[1,i]) - 12.0*U0*pow(x[0,i], 2)*(x[0,i]*xd[0,i] + x[1,i]*xd[1,i]) - 6.0*U0*x[0,i]*xd[0,i]*xim*x[1,i] - 3.0*U0*xim*x[1,i]*(x[0,i]*xd[0,i] + x[1,i]*xd[1,i]) - 8.0*eta*pow(theta, 2)*x[0,i]*x[1,i]*(r - 1.0)*(x[0,i]*xd[0,i] + x[1,i]*xd[1,i])*exp(theta*(-pow(r, 2) + 2*r - 1)) + 4.0*eta*theta*x[0,i]*x[1,i]*(x[0,i]*xd[0,i] + x[1,i]*xd[1,i])*exp(theta*(-pow(r, 2) + 2*r - 1)) - 2.0*eta*x[0,i]*xd[1,i]*exp(theta*(-pow(r, 2) + 2*r - 1)) - 2.0*eta*xd[0,i]*x[1,i]*exp(theta*(-pow(r, 2) + 2*r - 1))) + 3.0*x[0,i]*x[1,i]*(x[0,i]*xd[0,i] + x[1,i]*xd[1,i])*(3.0*U0*x[0,i]*xim + 2.0*eta*exp(theta*(-pow(r, 2) + 2*r - 1))))/pow(r, 5)\n",
      "        dot_L_dx_x[0,1,i] = 0.25*beta*(3.0*U0*pow(r, 5)*(3.0*r*xd[0,i]*xim + 8.0*x[0,i]*xip*xd[1,i] - 4.0*xd[0,i]*xim + 8.0*xd[0,i]*xip*x[1,i]) + 4.0*eta*pow(r, 3)*theta*(2.0*theta*pow(x[1,i], 2)*(r - 1.0)*(x[0,i]*xd[0,i] + x[1,i]*xd[1,i]) + 2.0*x[1,i]*xd[1,i] - (r - 1.0)*(x[0,i]*xd[0,i] + x[1,i]*xd[1,i]))*exp(theta*(-pow(r, 2) + 2*r - 1)) + 4.0*eta*r*theta*pow(x[1,i], 2)*(r - 3.0)*(x[0,i]*xd[0,i] + x[1,i]*xd[1,i])*exp(theta*(-pow(r, 2) + 2*r - 1)) + pow(r, 4)*(18.0*U0*x[0,i]*xim*x[1,i]*xd[1,i] + 9.0*U0*x[0,i]*xim*(x[0,i]*xd[0,i] + x[1,i]*xd[1,i]) - 18.0*U0*x[0,i]*xip*xd[1,i] + 12.0*U0*x[0,i]*xd[1,i] + 9.0*U0*xd[0,i]*xim*pow(x[1,i], 2) + 3.0*U0*xd[0,i]*xim - 18.0*U0*xd[0,i]*xip*x[1,i] + 12.0*U0*xd[0,i]*x[1,i] - 8.0*eta*theta*x[1,i]*xd[1,i]*exp(theta*(-pow(r, 2) + 2*r - 1))) + pow(r, 2)*(-9.0*U0*x[0,i]*xim*pow(x[1,i], 2)*(x[0,i]*xd[0,i] + x[1,i]*xd[1,i]) - 6.0*U0*x[0,i]*xim*x[1,i]*xd[1,i] - 3.0*U0*x[0,i]*xim*(x[0,i]*xd[0,i] + x[1,i]*xd[1,i]) + 18.0*U0*x[0,i]*xip*x[1,i]*(x[0,i]*xd[0,i] + x[1,i]*xd[1,i]) - 12.0*U0*x[0,i]*x[1,i]*(x[0,i]*xd[0,i] + x[1,i]*xd[1,i]) - 3.0*U0*xd[0,i]*xim*pow(x[1,i], 2) - 8.0*eta*pow(theta, 2)*pow(x[1,i], 2)*(r - 1.0)*(x[0,i]*xd[0,i] + x[1,i]*xd[1,i])*exp(theta*(-pow(r, 2) + 2*r - 1)) + 4.0*eta*theta*pow(x[1,i], 2)*(x[0,i]*xd[0,i] + x[1,i]*xd[1,i])*exp(theta*(-pow(r, 2) + 2*r - 1)) - 4.0*eta*x[1,i]*xd[1,i]*exp(theta*(-pow(r, 2) + 2*r - 1)) - 2.0*eta*(x[0,i]*xd[0,i] + x[1,i]*xd[1,i])*exp(theta*(-pow(r, 2) + 2*r - 1))) + 3.0*pow(x[1,i], 2)*(x[0,i]*xd[0,i] + x[1,i]*xd[1,i])*(3.0*U0*x[0,i]*xim + 2.0*eta*exp(theta*(-pow(r, 2) + 2*r - 1))))/pow(r, 5)\n",
      "        dot_L_dx_x[1,0,i] = 0.25*beta*(3.0*U0*pow(r, 5)*(3.0*r*xd[0,i]*xim + 8.0*x[0,i]*xip*xd[1,i] - 4.0*xd[0,i]*xim + 8.0*xd[0,i]*xip*x[1,i]) + 4.0*eta*pow(r, 3)*theta*(-2.0*theta*pow(x[0,i], 2)*(r - 1.0)*(x[0,i]*xd[0,i] + x[1,i]*xd[1,i]) - 2.0*x[0,i]*xd[0,i] + (r - 1.0)*(x[0,i]*xd[0,i] + x[1,i]*xd[1,i]))*exp(theta*(-pow(r, 2) + 2*r - 1)) + 4.0*eta*r*theta*pow(x[0,i], 2)*(3.0 - r)*(x[0,i]*xd[0,i] + x[1,i]*xd[1,i])*exp(theta*(-pow(r, 2) + 2*r - 1)) + pow(r, 4)*(18.0*U0*x[0,i]*xim*x[1,i]*xd[1,i] + 9.0*U0*x[0,i]*xim*(x[0,i]*xd[0,i] + x[1,i]*xd[1,i]) - 18.0*U0*x[0,i]*xip*xd[1,i] + 12.0*U0*x[0,i]*xd[1,i] + 9.0*U0*xd[0,i]*xim*pow(x[1,i], 2) + 3.0*U0*xd[0,i]*xim - 18.0*U0*xd[0,i]*xip*x[1,i] + 12.0*U0*xd[0,i]*x[1,i] + 8.0*eta*theta*x[0,i]*xd[0,i]*exp(theta*(-pow(r, 2) + 2*r - 1))) + pow(r, 2)*(-9.0*U0*x[0,i]*xim*pow(x[1,i], 2)*(x[0,i]*xd[0,i] + x[1,i]*xd[1,i]) - 6.0*U0*x[0,i]*xim*x[1,i]*xd[1,i] - 3.0*U0*x[0,i]*xim*(x[0,i]*xd[0,i] + x[1,i]*xd[1,i]) + 18.0*U0*x[0,i]*xip*x[1,i]*(x[0,i]*xd[0,i] + x[1,i]*xd[1,i]) - 12.0*U0*x[0,i]*x[1,i]*(x[0,i]*xd[0,i] + x[1,i]*xd[1,i]) - 3.0*U0*xd[0,i]*xim*pow(x[1,i], 2) + 8.0*eta*pow(theta, 2)*pow(x[0,i], 2)*(r - 1.0)*(x[0,i]*xd[0,i] + x[1,i]*xd[1,i])*exp(theta*(-pow(r, 2) + 2*r - 1)) - 4.0*eta*theta*pow(x[0,i], 2)*(x[0,i]*xd[0,i] + x[1,i]*xd[1,i])*exp(theta*(-pow(r, 2) + 2*r - 1)) + 4.0*eta*x[0,i]*xd[0,i]*exp(theta*(-pow(r, 2) + 2*r - 1)) + 2.0*eta*(x[0,i]*xd[0,i] + x[1,i]*xd[1,i])*exp(theta*(-pow(r, 2) + 2*r - 1))) + 3.0*x[0,i]*(x[0,i]*xd[0,i] + x[1,i]*xd[1,i])*(3.0*U0*xim*pow(x[1,i], 2) - 2.0*eta*x[0,i]*exp(theta*(-pow(r, 2) + 2*r - 1))))/pow(r, 5)\n",
      "        dot_L_dx_x[1,1,i] = 0.25*beta*(3.0*U0*pow(r, 5)*(9.0*r*xim*xd[1,i] - 12.0*xim*xd[1,i] + 16.0*xip*x[1,i]*xd[1,i] + 8.0*xip*(x[0,i]*xd[0,i] + x[1,i]*xd[1,i])) - 4.0*eta*pow(r, 3)*theta*(2.0*theta*x[0,i]*x[1,i]*(r - 1.0)*(x[0,i]*xd[0,i] + x[1,i]*xd[1,i]) + x[0,i]*xd[1,i] + xd[0,i]*x[1,i])*exp(theta*(-pow(r, 2) + 2*r - 1)) + 4.0*eta*r*theta*x[0,i]*x[1,i]*(3.0 - r)*(x[0,i]*xd[0,i] + x[1,i]*xd[1,i])*exp(theta*(-pow(r, 2) + 2*r - 1)) + pow(r, 4)*(27.0*U0*xim*pow(x[1,i], 2)*xd[1,i] + 27.0*U0*xim*x[1,i]*(x[0,i]*xd[0,i] + x[1,i]*xd[1,i]) + 9.0*U0*xim*xd[1,i] - 36.0*U0*xip*x[1,i]*xd[1,i] - 18.0*U0*xip*(x[0,i]*xd[0,i] + x[1,i]*xd[1,i]) + 24.0*U0*x[1,i]*xd[1,i] + 12.0*U0*(x[0,i]*xd[0,i] + x[1,i]*xd[1,i]) + 4.0*eta*theta*x[0,i]*xd[1,i]*exp(theta*(-pow(r, 2) + 2*r - 1)) + 4.0*eta*theta*xd[0,i]*x[1,i]*exp(theta*(-pow(r, 2) + 2*r - 1))) + pow(r, 2)*(-9.0*U0*xim*pow(x[1,i], 3)*(x[0,i]*xd[0,i] + x[1,i]*xd[1,i]) - 9.0*U0*xim*pow(x[1,i], 2)*xd[1,i] - 9.0*U0*xim*x[1,i]*(x[0,i]*xd[0,i] + x[1,i]*xd[1,i]) + 18.0*U0*xip*pow(x[1,i], 2)*(x[0,i]*xd[0,i] + x[1,i]*xd[1,i]) - 12.0*U0*pow(x[1,i], 2)*(x[0,i]*xd[0,i] + x[1,i]*xd[1,i]) + 8.0*eta*pow(theta, 2)*x[0,i]*x[1,i]*(r - 1.0)*(x[0,i]*xd[0,i] + x[1,i]*xd[1,i])*exp(theta*(-pow(r, 2) + 2*r - 1)) - 4.0*eta*theta*x[0,i]*x[1,i]*(x[0,i]*xd[0,i] + x[1,i]*xd[1,i])*exp(theta*(-pow(r, 2) + 2*r - 1)) + 2.0*eta*x[0,i]*xd[1,i]*exp(theta*(-pow(r, 2) + 2*r - 1)) + 2.0*eta*xd[0,i]*x[1,i]*exp(theta*(-pow(r, 2) + 2*r - 1))) + 3.0*x[1,i]*(x[0,i]*xd[0,i] + x[1,i]*xd[1,i])*(3.0*U0*xim*pow(x[1,i], 2) - 2.0*eta*x[0,i]*exp(theta*(-pow(r, 2) + 2*r - 1))))/pow(r, 5)\n"
     ]
    }
   ],
   "source": [
    "print('\\n\\n'.join([\n",
    "    _compute_potential,\n",
    "    _compute_force,\n",
    "    _compute_force_and_div_force,\n",
    "    _compute_gradL_OM,\n",
    "    _compute_gradL_FW,\n",
    "    _compute_hessL_OM,\n",
    "    _compute_hessL_FW,\n",
    "    _compute_dot_L_xd_x_OM,\n",
    "    _compute_dot_L_xd_x_FW,\n",
    "]))"
   ]
  },
  {
   "cell_type": "code",
   "execution_count": null,
   "id": "38ac9839-79a4-4c9e-9a6c-4456c9aa42fb",
   "metadata": {},
   "outputs": [],
   "source": []
  },
  {
   "cell_type": "code",
   "execution_count": null,
   "id": "0f732818-33b5-4980-ae4c-276621402377",
   "metadata": {},
   "outputs": [],
   "source": []
  }
 ],
 "metadata": {
  "kernelspec": {
   "display_name": "Python 3 (ipykernel)",
   "language": "python",
   "name": "python3"
  },
  "language_info": {
   "codemirror_mode": {
    "name": "ipython",
    "version": 3
   },
   "file_extension": ".py",
   "mimetype": "text/x-python",
   "name": "python",
   "nbconvert_exporter": "python",
   "pygments_lexer": "ipython3",
   "version": "3.9.6"
  }
 },
 "nbformat": 4,
 "nbformat_minor": 5
}
